{
 "cells": [
  {
   "cell_type": "code",
   "execution_count": 56,
   "metadata": {
    "collapsed": false
   },
   "outputs": [],
   "source": [
    "import numpy as np\n",
    "import matplotlib.pyplot as plt\n",
    "from matplotlib import cm\n",
    "%matplotlib inline\n",
    "from astropy.time import Time\n",
    "import palettable\n",
    "# added by Arash: These are to compile tick labels and axis labels with Latex\n",
    "from matplotlib import rc\n",
    "rc('text', usetex=True)\n",
    "font = {'family' : 'serif',\n",
    "        'weight' : 'bold',\n",
    "        'size'   : '14'}\n",
    "rc('font', **font)\n",
    "\n",
    "from astroquery.vizier import Vizier\n",
    "from astroquery.simbad import Simbad\n",
    "from astropy import units as u\n",
    "from astropy.coordinates import SkyCoord\n",
    "import pyregion\n",
    "from astropy.coordinates import ICRS, Galactic, FK4, FK5  # Low-level frames\n",
    "import matplotlib.gridspec as gridspec\n",
    "import  mpl_toolkits.axisartist.angle_helper as angle_helper\n",
    "import matplotlib.cm as cmap\n",
    "from matplotlib.projections import PolarAxes\n",
    "from matplotlib.transforms import Affine2D\n",
    "\n",
    "from mpl_toolkits.axisartist import SubplotHost\n",
    "\n",
    "from mpl_toolkits.axisartist import GridHelperCurveLinear\n",
    "\n",
    "import matplotlib.pyplot as plt\n",
    "import matplotlib.cbook as cbook\n",
    "\n",
    "from mpl_toolkits.axisartist import Subplot\n",
    "from mpl_toolkits.axisartist import SubplotHost, \\\n",
    "    ParasiteAxesAuxTrans\n",
    "from mpl_toolkits.axisartist.grid_helper_curvelinear import \\\n",
    "    GridHelperCurveLinear\n",
    "from astropy.io import ascii\n",
    "import astropy.table as Table\n",
    "import sys"
   ]
  },
  {
   "cell_type": "code",
   "execution_count": null,
   "metadata": {
    "collapsed": false
   },
   "outputs": [],
   "source": []
  },
  {
   "cell_type": "code",
   "execution_count": null,
   "metadata": {
    "collapsed": false
   },
   "outputs": [],
   "source": []
  },
  {
   "cell_type": "code",
   "execution_count": 57,
   "metadata": {
    "collapsed": false
   },
   "outputs": [],
   "source": [
    "#c = SkyCoord('00 42 30 +41 12 00', unit=(u.hourangle, u.deg))"
   ]
  },
  {
   "cell_type": "code",
   "execution_count": 58,
   "metadata": {
    "collapsed": false
   },
   "outputs": [],
   "source": [
    "#ra, dec = c.ra.to_string(u.hour), c.dec.to_string(u.hour)"
   ]
  },
  {
   "cell_type": "code",
   "execution_count": 59,
   "metadata": {
    "collapsed": false
   },
   "outputs": [
    {
     "name": "stdout",
     "output_type": "stream",
     "text": [
      "fk5\n"
     ]
    }
   ],
   "source": [
    "region_name=\"../regions/wavdetect_00321.reg\"\n",
    "r = pyregion.open(region_name)\n",
    "print r[0].coord_format"
   ]
  },
  {
   "cell_type": "code",
   "execution_count": 60,
   "metadata": {
    "collapsed": false
   },
   "outputs": [
    {
     "name": "stdout",
     "output_type": "stream",
     "text": [
      "[187.4058625, 7.825780555555555, 0.00025930666666666664, 0.0, 90.0]\n"
     ]
    }
   ],
   "source": [
    "print r[0].coord_list\n",
    "xcor=[]\n",
    "ycor=[]\n",
    "rad1_0=[]\n",
    "rad2_0=[]\n",
    "deg_0=[]"
   ]
  },
  {
   "cell_type": "code",
   "execution_count": 61,
   "metadata": {
    "collapsed": false
   },
   "outputs": [],
   "source": [
    "for i in range(len(r)):\n",
    "\n",
    "    x=r[i].coord_list[0]\n",
    "    y=r[i].coord_list[1]\n",
    "    rad1=r[i].coord_list[2]\n",
    "    rad2=r[i].coord_list[3]\n",
    "    deg=r[i].coord_list[4]\n",
    "    \n",
    "    if np.size(xcor)<1:\n",
    "        xcor=x\n",
    "        ycor=y\n",
    "        rad1_0=rad1\n",
    "        rad2_0=rad2\n",
    "        deg_0=deg\n",
    "    else:\n",
    "        xcor=np.vstack((xcor, x))\n",
    "        ycor=np.vstack((ycor, y))\n",
    "        rad1_0=np.vstack((rad1_0, rad1))\n",
    "        rad2_0=np.vstack((rad2_0, rad2))\n",
    "        deg_0=np.vstack((deg_0, deg))\n",
    "        "
   ]
  },
  {
   "cell_type": "code",
   "execution_count": 62,
   "metadata": {
    "collapsed": false
   },
   "outputs": [],
   "source": [
    "#c = SkyCoord(xcor, ycor, frame='fk5', unit='deg')"
   ]
  },
  {
   "cell_type": "code",
   "execution_count": 63,
   "metadata": {
    "collapsed": true
   },
   "outputs": [],
   "source": [
    "#ra, dec = c.ra.to_string(u.hour), c.dec.to_string(u.degree)"
   ]
  },
  {
   "cell_type": "code",
   "execution_count": 64,
   "metadata": {
    "collapsed": false
   },
   "outputs": [],
   "source": [
    "#print ra[0], dec[0]"
   ]
  },
  {
   "cell_type": "code",
   "execution_count": 65,
   "metadata": {
    "collapsed": false
   },
   "outputs": [],
   "source": [
    "#print len(r)"
   ]
  },
  {
   "cell_type": "code",
   "execution_count": 66,
   "metadata": {
    "collapsed": false
   },
   "outputs": [
    {
     "name": "stdout",
     "output_type": "stream",
     "text": [
      "[ 3.2708497] [ 7.82578056]\n",
      "[ 187.4058625]\n",
      "0.0170169602069\n"
     ]
    }
   ],
   "source": [
    "##convert to radians\n",
    "ra_rad=xcor\n",
    "dec_rad=ycor\n",
    "ra_rad = [j / 180.0 * 3.141593 for j in ra_rad]\n",
    "dec_rad = [k / 180.0 * 3.141593 for k in dec_rad]\n",
    "\n",
    "print ra_rad[0], ycor[0]\n",
    "print xcor[0]\n",
    "print 0.975000000*(np.pi/180)"
   ]
  },
  {
   "cell_type": "code",
   "execution_count": 67,
   "metadata": {
    "collapsed": false
   },
   "outputs": [
    {
     "data": {
      "text/plain": [
       "<matplotlib.collections.PathCollection at 0x7fb904cefc10>"
      ]
     },
     "execution_count": 67,
     "metadata": {},
     "output_type": "execute_result"
    },
    {
     "data": {
      "image/png": "[encoded data removed]",
      "text/plain": [
       "<matplotlib.figure.Figure at 0x7fb906f7a2d0>"
      ]
     },
     "metadata": {},
     "output_type": "display_data"
    }
   ],
   "source": [
    "##https://stackoverflow.com/questions/29525356/produce-a-ra-vs-dec-equatorial-coordinates-plot-with-python\n",
    "# Make plot.\n",
    "fig = plt.figure(figsize=(50, 50))\n",
    "gs = gridspec.GridSpec(4, 2)\n",
    "# Position plot in figure using gridspec.\n",
    "ax = plt.subplot(gs[0], polar=True)\n",
    "ax.set_ylim(-90, -0)\n",
    "\n",
    "# Set x,y ticks\n",
    "angs = np.array([ 0., 15., 30., 45., 60., 75., 90., 105., 120., 135., 150., 165., 180, 195, 210, 225, 240, 255, 270, 285, 300, 315, 330, 345 ])\n",
    "plt.xticks(angs * np.pi / 180., fontsize=8)\n",
    "plt.yticks(np.arange(-90, -5, 10), fontsize=8)\n",
    "ax.set_rlabel_position(320)\n",
    "ax.set_xticklabels(['$0^h$', '$1^h$', '$2^h$', '$3^h$',\n",
    "    '$4^h$', '$5^h$', '$6^h$', '$7^h$', '$8^h$', '$9^h$', '$10^h$', '$11^h$', '$12^h$', '$13^h$', '$14^h$', '$15^h$', '$16^h$', '$17^h$', '$18^h$', '$19^h$', '$20^h$', '$21^h$', '$22^h$', '$23^h$'  ], fontsize=10)\n",
    "ax.set_yticklabels(['$90^{\\circ}$','$80^{\\circ}$', '$70^{\\circ}$', '$60^{\\circ}$', '$50^{\\circ}$', '$40^{\\circ}$', '$30^{\\circ}$', '$20^{\\circ}$', '$10^{\\circ}$',  '$0^{\\circ}$'],\n",
    "    fontsize=10)\n",
    "\n",
    "\n",
    "# Plot points.\n",
    "#ax.scatter(xcor, ycor, marker='o', c='m', s=6, lw=0.)\n",
    "ax.scatter(xcor*(np.pi/180),-ycor)"
   ]
  },
  {
   "cell_type": "code",
   "execution_count": null,
   "metadata": {
    "collapsed": false
   },
   "outputs": [],
   "source": []
  },
  {
   "cell_type": "code",
   "execution_count": 68,
   "metadata": {
    "collapsed": false
   },
   "outputs": [
    {
     "data": {
      "image/png": "[encoded data removed]",
      "text/plain": [
       "<matplotlib.figure.Figure at 0x7fb9050c92d0>"
      ]
     },
     "metadata": {},
     "output_type": "display_data"
    }
   ],
   "source": [
    "def curvelinear_test2(fig):\n",
    "    \"\"\"\n",
    "    polar projection, but in a rectangular box.\n",
    "    \"\"\"\n",
    "\n",
    "    # PolarAxes.PolarTransform takes radian. However, we want our coordinate\n",
    "    # system in degree\n",
    "    tr = Affine2D().scale(np.pi/180., 1.) + PolarAxes.PolarTransform()\n",
    "\n",
    "    # polar projection, which involves cycle, and also has limits in\n",
    "    # its coordinates, needs a special method to find the extremes\n",
    "    # (min, max of the coordinate within the view).\n",
    "\n",
    "    # 20, 20 : number of sampling points along x, y direction\n",
    "    extreme_finder = angle_helper.ExtremeFinderCycle(20, 20,\n",
    "                                                     lon_cycle=360,\n",
    "                                                     lat_cycle=None,\n",
    "                                                     lon_minmax=None,\n",
    "                                                     lat_minmax=(0, np.inf),\n",
    "                                                     )\n",
    "\n",
    "    grid_locator1 = angle_helper.LocatorDMS(12)\n",
    "    # Find a grid values appropriate for the coordinate (degree,\n",
    "    # minute, second).\n",
    "\n",
    "    tick_formatter1 = angle_helper.FormatterDMS()\n",
    "    # And also uses an appropriate formatter.  Note that,the\n",
    "    # acceptable Locator and Formatter class is a bit different than\n",
    "    # that of mpl's, and you cannot directly use mpl's Locator and\n",
    "    # Formatter here (but may be possible in the future).\n",
    "\n",
    "    grid_helper = GridHelperCurveLinear(tr,\n",
    "                                        extreme_finder=extreme_finder,\n",
    "                                        grid_locator1=grid_locator1,\n",
    "                                        tick_formatter1=tick_formatter1\n",
    "                                        )\n",
    "\n",
    "    ax1 = SubplotHost(fig, 1, 2, 2, grid_helper=grid_helper)\n",
    "\n",
    "    # make ticklabels of right and top axis visible.\n",
    "    ax1.axis[\"right\"].major_ticklabels.set_visible(True)\n",
    "    ax1.axis[\"top\"].major_ticklabels.set_visible(True)\n",
    "\n",
    "    # let right axis shows ticklabels for 1st coordinate (angle)\n",
    "    ax1.axis[\"right\"].get_helper().nth_coord_ticks = 0\n",
    "    # let bottom axis shows ticklabels for 2nd coordinate (radius)\n",
    "    ax1.axis[\"bottom\"].get_helper().nth_coord_ticks = 1\n",
    "\n",
    "    fig.add_subplot(ax1)\n",
    "\n",
    "    # A parasite axes with given transform\n",
    "    ax2 = ParasiteAxesAuxTrans(ax1, tr, \"equal\")\n",
    "    # note that ax2.transData == tr + ax1.transData\n",
    "    # Anything you draw in ax2 will match the ticks and grids of ax1.\n",
    "    ax1.parasites.append(ax2)\n",
    "    intp = cbook.simple_linear_interpolation\n",
    "    #ax2.plot(intp(np.array([0, 30]), 50),\n",
    "             #intp(np.array([10., 10.]), 50),\n",
    "             #linewidth=2.0)\n",
    "    angs = np.array([ 0., 15., 30., 45., 60., 75., 90., 105., 120., 135., 150., 165., 180, 195, 210, 225, 240, 255, 270, 285, 300, 315, 330, 345 ])\n",
    "    plt.xticks(angs * np.pi / 180., fontsize=8)\n",
    "    plt.yticks(np.arange(-90, -5, 10), fontsize=8)\n",
    "    #ax1.set_rlabel_position(320)\n",
    "    ax1.set_xticklabels(['$0^h$', '$1^h$', '$2^h$', '$3^h$',\n",
    "    '$4^h$', '$5^h$', '$6^h$', '$7^h$', '$8^h$', '$9^h$', '$10^h$', '$11^h$', '$12^h$', '$13^h$', '$14^h$', '$15^h$', '$16^h$', '$17^h$', '$18^h$', '$19^h$', '$20^h$', '$21^h$', '$22^h$', '$23^h$'  ], fontsize=10)\n",
    "    ax1.set_yticklabels(['$90^{\\circ}$','$80^{\\circ}$', '$70^{\\circ}$', '$60^{\\circ}$', '$50^{\\circ}$', '$40^{\\circ}$', '$30^{\\circ}$', '$20^{\\circ}$', '$10^{\\circ}$',  '$0^{\\circ}$'],\n",
    "    fontsize=10)\n",
    "    ax1.set_aspect(1.)\n",
    "    ax1.set_xlim(-187.65, -187.1)\n",
    "    ax1.set_ylim(-8.3, -7.6)\n",
    "\n",
    "    ax1.scatter(-xcor,-ycor, marker='.')\n",
    "    ax1.grid(True, zorder=0)\n",
    "    \n",
    "\n",
    "fig = plt.figure(1, figsize=(15, 15))\n",
    "fig.clf()\n",
    "\n",
    "   \n",
    "curvelinear_test2(fig)"
   ]
  },
  {
   "cell_type": "code",
   "execution_count": 69,
   "metadata": {
    "collapsed": false
   },
   "outputs": [],
   "source": [
    "region_name322=\"../regions/wavdetect_00322.reg\"\n",
    "r322 = pyregion.open(region_name322)\n",
    "xcor322=[]\n",
    "ycor322=[]\n",
    "for i in range(len(r322)):\n",
    "\n",
    "    x322=r322[i].coord_list[0]\n",
    "    y322=r322[i].coord_list[1]\n",
    "\n",
    "    if np.size(xcor322)<1:\n",
    "     \n",
    "        xcor322=x322\n",
    "        ycor322=y322\n",
    "       \n",
    "    else:\n",
    "        xcor322=np.vstack((xcor322, x322))\n",
    "        ycor322=np.vstack((ycor322, y322))\n",
    "      \n"
   ]
  },
  {
   "cell_type": "code",
   "execution_count": 70,
   "metadata": {
    "collapsed": true
   },
   "outputs": [],
   "source": [
    "region_name12978=\"../regions/wavdetect_12978.reg\"\n",
    "r12978 = pyregion.open(region_name12978)\n",
    "xcor12978=[]\n",
    "ycor12978=[]\n",
    "for i in range(len(r12978)):\n",
    "\n",
    "    x12978=r12978[i].coord_list[0]\n",
    "    y12978=r12978[i].coord_list[1]\n",
    "\n",
    "    if np.size(xcor12978)<1:\n",
    "     \n",
    "        xcor12978=x12978\n",
    "        ycor12978=y12978\n",
    "       \n",
    "    else:\n",
    "        xcor12978=np.vstack((xcor12978, x12978))\n",
    "        ycor12978=np.vstack((ycor12978, y12978))\n",
    "      \n"
   ]
  },
  {
   "cell_type": "code",
   "execution_count": 71,
   "metadata": {
    "collapsed": true
   },
   "outputs": [],
   "source": [
    "region_name12888=\"../regions/wavdetect_12888.reg\"\n",
    "r12888 = pyregion.open(region_name12888)\n",
    "xcor12888=[]\n",
    "ycor12888=[]\n",
    "for i in range(len(r12888)):\n",
    "\n",
    "    x12888=r12888[i].coord_list[0]\n",
    "    y12888=r12888[i].coord_list[1]\n",
    "\n",
    "    if np.size(xcor12888)<1:\n",
    "     \n",
    "        xcor12888=x12888\n",
    "        ycor12888=y12888\n",
    "       \n",
    "    else:\n",
    "        xcor12888=np.vstack((xcor12888, x12888))\n",
    "        ycor12888=np.vstack((ycor12888, y12888))\n",
    "      \n"
   ]
  },
  {
   "cell_type": "code",
   "execution_count": 72,
   "metadata": {
    "collapsed": true
   },
   "outputs": [],
   "source": [
    "region_name11274=\"../regions/wavdetect_11274.reg\"\n",
    "r11274 = pyregion.open(region_name11274)\n",
    "xcor11274=[]\n",
    "ycor11274=[]\n",
    "for i in range(len(r11274)):\n",
    "\n",
    "    x11274=r11274[i].coord_list[0]\n",
    "    y11274=r11274[i].coord_list[1]\n",
    "\n",
    "    if np.size(xcor11274)<1:\n",
    "     \n",
    "        xcor11274=x11274\n",
    "        ycor11274=y11274\n",
    "       \n",
    "    else:\n",
    "        xcor11274=np.vstack((xcor11274, x11274))\n",
    "        ycor11274=np.vstack((ycor11274, y11274))\n",
    "      \n"
   ]
  },
  {
   "cell_type": "code",
   "execution_count": 73,
   "metadata": {
    "collapsed": true
   },
   "outputs": [],
   "source": [
    "region_name12889=\"../regions/wavdetect_12889.reg\"\n",
    "r12889 = pyregion.open(region_name12889)\n",
    "xcor12889=[]\n",
    "ycor12889=[]\n",
    "for i in range(len(r12889)):\n",
    "\n",
    "    x12889=r12889[i].coord_list[0]\n",
    "    y12889=r12889[i].coord_list[1]\n",
    "\n",
    "    if np.size(xcor12889)<1:\n",
    "     \n",
    "        xcor12889=x12889\n",
    "        ycor12889=y12889\n",
    "       \n",
    "    else:\n",
    "        xcor12889=np.vstack((xcor12889, x12889))\n",
    "        ycor12889=np.vstack((ycor12889, y12889))\n",
    "      \n"
   ]
  },
  {
   "cell_type": "code",
   "execution_count": 74,
   "metadata": {
    "collapsed": true
   },
   "outputs": [],
   "source": [
    "region_name16260=\"../regions/wavdetect_16260.reg\"\n",
    "r16260 = pyregion.open(region_name16260)\n",
    "xcor16260=[]\n",
    "ycor16260=[]\n",
    "for i in range(len(r16260)):\n",
    "\n",
    "    x16260=r16260[i].coord_list[0]\n",
    "    y16260=r16260[i].coord_list[1]\n",
    "\n",
    "    if np.size(xcor16260)<1:\n",
    "     \n",
    "        xcor16260=x16260\n",
    "        ycor16260=y16260\n",
    "       \n",
    "    else:\n",
    "        xcor16260=np.vstack((xcor16260, x16260))\n",
    "        ycor16260=np.vstack((ycor16260, y16260))\n",
    "      \n"
   ]
  },
  {
   "cell_type": "code",
   "execution_count": 75,
   "metadata": {
    "collapsed": true
   },
   "outputs": [],
   "source": [
    "region_name16261=\"../regions/wavdetect_16261.reg\"\n",
    "r16261 = pyregion.open(region_name16261)\n",
    "xcor16261=[]\n",
    "ycor16261=[]\n",
    "for i in range(len(r16261)):\n",
    "\n",
    "    x16261=r16261[i].coord_list[0]\n",
    "    y16261=r16261[i].coord_list[1]\n",
    "\n",
    "    if np.size(xcor16261)<1:\n",
    "     \n",
    "        xcor16261=x16261\n",
    "        ycor16261=y16261\n",
    "       \n",
    "    else:\n",
    "        xcor16261=np.vstack((xcor16261, x16261))\n",
    "        ycor16261=np.vstack((ycor16261, y16261))\n",
    "      \n"
   ]
  },
  {
   "cell_type": "code",
   "execution_count": 76,
   "metadata": {
    "collapsed": true
   },
   "outputs": [],
   "source": [
    "region_name16262=\"../regions/wavdetect_16262.reg\"\n",
    "r16262 = pyregion.open(region_name16262)\n",
    "xcor16262=[]\n",
    "ycor16262=[]\n",
    "for i in range(len(r16262)):\n",
    "\n",
    "    x16262=r16262[i].coord_list[0]\n",
    "    y16262=r16262[i].coord_list[1]\n",
    "\n",
    "    if np.size(xcor16262)<1:\n",
    "     \n",
    "        xcor16262=x16262\n",
    "        ycor16262=y16262\n",
    "       \n",
    "    else:\n",
    "        xcor16262=np.vstack((xcor16262, x16262))\n",
    "        ycor16262=np.vstack((ycor16262, y16262))\n",
    "      \n"
   ]
  },
  {
   "cell_type": "code",
   "execution_count": null,
   "metadata": {
    "collapsed": false
   },
   "outputs": [],
   "source": []
  },
  {
   "cell_type": "code",
   "execution_count": 77,
   "metadata": {
    "collapsed": false
   },
   "outputs": [
    {
     "name": "stdout",
     "output_type": "stream",
     "text": [
      "[ 187.4058625] [ 187.42488333] [ 7.82578056] [ 7.98015278]\n"
     ]
    }
   ],
   "source": [
    "print xcor[0], xcor322[0], ycor[0], ycor322[0]"
   ]
  },
  {
   "cell_type": "code",
   "execution_count": 78,
   "metadata": {
    "collapsed": false,
    "scrolled": true
   },
   "outputs": [
    {
     "data": {
      "image/png": "[encoded data removed]",
      "text/plain": [
       "<matplotlib.figure.Figure at 0x7fb9051aefd0>"
      ]
     },
     "metadata": {},
     "output_type": "display_data"
    }
   ],
   "source": [
    "plt.figure(1, figsize=(15, 15))\n",
    "plt.scatter(xcor, ycor, marker='.',  color=palettable.cubehelix.cubehelix3_16.mpl_colors[0], label='321', zorder=9)\n",
    "plt.scatter(xcor322, ycor322, marker='.',  color=palettable.cubehelix.cubehelix3_16.mpl_colors[2], label='322')\n",
    "plt.scatter(xcor12978, ycor12978, marker='.',  color=palettable.cubehelix.cubehelix3_16.mpl_colors[4], label='12978')\n",
    "plt.scatter(xcor12888, ycor12888, marker='.',  color=palettable.cubehelix.cubehelix3_16.mpl_colors[6], label='12888', zorder=10)\n",
    "plt.scatter(xcor12889, ycor12889,marker='.', color=palettable.cubehelix.cubehelix3_16.mpl_colors[8], label='12889')\n",
    "plt.scatter(xcor11274, ycor11274,marker='.',  color=palettable.cubehelix.cubehelix3_16.mpl_colors[10], label='11274')\n",
    "plt.scatter(xcor16260, ycor16260, marker='.', color=palettable.cubehelix.cubehelix3_16.mpl_colors[12], label='16260')\n",
    "plt.scatter(xcor16261, ycor16261,marker='.',  color=palettable.cubehelix.cubehelix3_16.mpl_colors[7], label='16261')\n",
    "plt.scatter(xcor16262, ycor16262,marker='.',  color=palettable.cubehelix.cubehelix3_16.mpl_colors[8], label='16262')\n",
    "plt.legend(loc=2,numpoints=1,fontsize=12)\n",
    "plt.xlabel('RA (deg)')\n",
    "plt.ylabel('Dec (deg)')\n",
    "plt.savefig('../wavdetect_regplot.png')"
   ]
  },
  {
   "cell_type": "code",
   "execution_count": 79,
   "metadata": {
    "collapsed": false
   },
   "outputs": [],
   "source": [
    "# works only for ICRS coordinates?\n",
    "##test for one region in my list\n",
    "test =SkyCoord(\"12h29m56.755s +07d57m28.36s\", frame='icrs')\n",
    "dist = 1 * u.arcsecond\n",
    "Simbad.ROW_LIMIT = 15 # now any query fetches at most 15 rows"
   ]
  },
  {
   "cell_type": "code",
   "execution_count": 80,
   "metadata": {
    "collapsed": false
   },
   "outputs": [],
   "source": [
    "result_table = Simbad.query_region(test, radius=dist)"
   ]
  },
  {
   "cell_type": "code",
   "execution_count": 81,
   "metadata": {
    "collapsed": false
   },
   "outputs": [
    {
     "name": "stdout",
     "output_type": "stream",
     "text": [
      "       MAIN_ID             RA      ... COO_WAVELENGTH     COO_BIBCODE    \n",
      "                        \"h:m:s\"    ...                                   \n",
      "--------------------- ------------ ... -------------- -------------------\n",
      "2XMM J122956.8+075728 12 29 56.755 ...              N 2003yCat.2246....0C\n"
     ]
    }
   ],
   "source": [
    "result_table.pprint(show_unit=True)"
   ]
  },
  {
   "cell_type": "code",
   "execution_count": 82,
   "metadata": {
    "collapsed": false
   },
   "outputs": [
    {
     "name": "stdout",
     "output_type": "stream",
     "text": [
      "[u'12h29m56.759s'] [u'7d57m28.19s']\n",
      "[ 187.48649583] [ 7.95783056]\n",
      "<SkyCoord (ICRS): (ra, dec) in deg\n",
      "    ( 187.48649583,  7.95783056)>\n"
     ]
    }
   ],
   "source": [
    "c1 = SkyCoord(xcor,ycor, unit=(u.deg, u.deg))\n",
    "ra1, dec1 = c1.ra.to_string(u.hour), c1.dec.to_string(u.deg)\n",
    "print ra1[6], dec1[6]\n",
    "print xcor[6], ycor[6]\n",
    "print c1[6]"
   ]
  },
  {
   "cell_type": "code",
   "execution_count": 83,
   "metadata": {
    "collapsed": true
   },
   "outputs": [],
   "source": [
    "#test1 =SkyCoord(ra1[6], dec1[6], frame='icrs')"
   ]
  },
  {
   "cell_type": "code",
   "execution_count": 84,
   "metadata": {
    "collapsed": false
   },
   "outputs": [
    {
     "name": "stdout",
     "output_type": "stream",
     "text": [
      "[u'12h29m43.79s'] [u'7d57m15.59s']\n"
     ]
    }
   ],
   "source": [
    "\n",
    "result_table = Simbad.query_region(SkyCoord(xcor[4],ycor[4], unit=(u.deg, u.deg), frame='fk5'), radius=dist)\n",
    "c1 = SkyCoord(xcor[4],ycor[4], unit=(u.deg, u.deg))\n",
    "ra1, dec1 = c1.ra.to_string(u.hour), c1.dec.to_string(u.deg)\n",
    "print ra1, dec1"
   ]
  },
  {
   "cell_type": "code",
   "execution_count": 85,
   "metadata": {
    "collapsed": false
   },
   "outputs": [
    {
     "name": "stdout",
     "output_type": "stream",
     "text": [
      "         MAIN_ID               RA     ... COO_WAVELENGTH     COO_BIBCODE    \n",
      "                            \"h:m:s\"   ...                                   \n",
      "-------------------------- ---------- ... -------------- -------------------\n",
      "        [MKZ2003] OID  277 12 29 43.8 ...              O 2003ApJ...586..814M\n",
      "        [MKZ2003] OID  273 12 29 43.8 ...              O 2003ApJ...586..814M\n",
      "[CHP2004] J122943.8+075715 12 29 43.8 ...              X 2004ApJ...602..231C\n"
     ]
    }
   ],
   "source": [
    "result_table.pprint(show_unit=True)"
   ]
  },
  {
   "cell_type": "code",
   "execution_count": 86,
   "metadata": {
    "collapsed": false
   },
   "outputs": [],
   "source": [
    "##customize it\n",
    "customSimbad = Simbad()\n",
    "customSimbad.get_votable_fields()\n",
    "customSimbad.add_votable_fields('otype')\n",
    "customSimbad.add_votable_fields('coo_bibcode')\n"
   ]
  },
  {
   "cell_type": "code",
   "execution_count": 87,
   "metadata": {
    "collapsed": false
   },
   "outputs": [
    {
     "data": {
      "text/plain": [
       "['main_id', 'coordinates', 'otype', 'coo_bibcode']"
      ]
     },
     "execution_count": 87,
     "metadata": {},
     "output_type": "execute_result"
    }
   ],
   "source": [
    "customSimbad.get_votable_fields()"
   ]
  },
  {
   "cell_type": "code",
   "execution_count": 88,
   "metadata": {
    "collapsed": false
   },
   "outputs": [
    {
     "data": {
      "text/html": [
       "&lt;Table masked=True length=4&gt;\n",
       "<table id=\"table140432630126544\" class=\"table-striped table-bordered table-condensed\">\n",
       "<thead><tr><th>MAIN_ID</th><th>RA</th><th>DEC</th><th>RA_PREC</th><th>DEC_PREC</th><th>COO_ERR_MAJA</th><th>COO_ERR_MINA</th><th>COO_ERR_ANGLE</th><th>COO_QUAL</th><th>COO_WAVELENGTH</th><th>COO_BIBCODE</th><th>OTYPE</th><th>COO_BIBCODE_2</th></tr></thead>\n",
       "<thead><tr><th></th><th>&quot;h:m:s&quot;</th><th>&quot;d:m:s&quot;</th><th></th><th></th><th>mas</th><th>mas</th><th>deg</th><th></th><th></th><th></th><th></th><th></th></tr></thead>\n",
       "<thead><tr><th>object</th><th>unicode13</th><th>unicode13</th><th>int16</th><th>int16</th><th>float32</th><th>float32</th><th>int16</th><th>unicode1</th><th>unicode1</th><th>object</th><th>object</th><th>object</th></tr></thead>\n",
       "<tr><td>[MKZ2003] OID  277</td><td>12 29 43.8</td><td>+07 57 16</td><td>5</td><td>5</td><td>--</td><td>--</td><td>0</td><td>D</td><td>O</td><td>2003ApJ...586..814M</td><td>GlCl</td><td>2003ApJ...586..814M</td></tr>\n",
       "<tr><td>[MKZ2003] OID  273</td><td>12 29 43.8</td><td>+07 57 16</td><td>5</td><td>5</td><td>--</td><td>--</td><td>0</td><td>D</td><td>O</td><td>2003ApJ...586..814M</td><td>GlCl</td><td>2003ApJ...586..814M</td></tr>\n",
       "<tr><td>[CHP2004] J122943.8+075715</td><td>12 29 43.8</td><td>+07 57 15</td><td>5</td><td>5</td><td>--</td><td>--</td><td>0</td><td>D</td><td>X</td><td>2004ApJ...602..231C</td><td>XB</td><td>2004ApJ...602..231C</td></tr>\n",
       "<tr><td>2XMM J122956.8+075728</td><td>12 29 56.755</td><td>+07 57 28.36</td><td>7</td><td>7</td><td>120.000</td><td>70.000</td><td>1</td><td>B</td><td>N</td><td>2003yCat.2246....0C</td><td>XB</td><td>2003yCat.2246....0C</td></tr>\n",
       "</table>"
      ],
      "text/plain": [
       "<Table masked=True length=4>\n",
       "         MAIN_ID                RA      ... OTYPE     COO_BIBCODE_2   \n",
       "                             \"h:m:s\"    ...                           \n",
       "          object            unicode13   ... object        object      \n",
       "-------------------------- ------------ ... ------ -------------------\n",
       "        [MKZ2003] OID  277   12 29 43.8 ...   GlCl 2003ApJ...586..814M\n",
       "        [MKZ2003] OID  273   12 29 43.8 ...   GlCl 2003ApJ...586..814M\n",
       "[CHP2004] J122943.8+075715   12 29 43.8 ...     XB 2004ApJ...602..231C\n",
       "     2XMM J122956.8+075728 12 29 56.755 ...     XB 2003yCat.2246....0C"
      ]
     },
     "execution_count": 88,
     "metadata": {},
     "output_type": "execute_result"
    }
   ],
   "source": [
    "result_table_1 = customSimbad.query_region(SkyCoord(xcor[4],ycor[4], unit=(u.deg, u.deg), frame='fk5'), radius=dist)\n",
    "result_table_2 = customSimbad.query_region(SkyCoord(xcor[6],ycor[6], unit=(u.deg, u.deg), frame='fk5'), radius=dist)\n",
    "\n",
    "\n",
    "Table.vstack([result_table_1, result_table_2], join_type ='exact')\n",
    "\n",
    "#print result_table_1, result_table_2"
   ]
  },
  {
   "cell_type": "code",
   "execution_count": null,
   "metadata": {
    "collapsed": false
   },
   "outputs": [],
   "source": []
  },
  {
   "cell_type": "code",
   "execution_count": 89,
   "metadata": {
    "collapsed": false
   },
   "outputs": [],
   "source": [
    "null_ra=[]\n",
    "null_dec=[]\n",
    "stacked_table=[]"
   ]
  },
  {
   "cell_type": "code",
   "execution_count": 90,
   "metadata": {
    "collapsed": false
   },
   "outputs": [],
   "source": [
    "#ascii.write(result_table, \"test.dat\")"
   ]
  },
  {
   "cell_type": "code",
   "execution_count": 91,
   "metadata": {
    "collapsed": false
   },
   "outputs": [
    {
     "name": "stdout",
     "output_type": "stream",
     "text": [
      "<SkyCoord (ICRS): (ra, dec) in deg\n",
      "    ( 187.4058625,  7.82578056)>\n",
      "No catalog item found for this within 1 arcsecond, saving coordinates [u'12h29m37.407s'] [u'7d49m32.81s']\n",
      "<SkyCoord (ICRS): (ra, dec) in deg\n",
      "    ( 187.46643333,  7.95493056)>\n",
      "No catalog item found for this within 1 arcsecond, saving coordinates [u'12h29m51.944s'] [u'7d57m17.75s']\n",
      "<SkyCoord (ICRS): (ra, dec) in deg\n",
      "    ( 187.4905125,  7.95820833)>\n",
      "No catalog item found for this within 1 arcsecond, saving coordinates [u'12h29m57.723s'] [u'7d57m29.55s']\n",
      "<SkyCoord (ICRS): (ra, dec) in deg\n",
      "    ( 187.43907917,  7.98786667)>\n",
      "No catalog item found for this within 1 arcsecond, saving coordinates [u'12h29m45.379s'] [u'7d59m16.32s']\n",
      "<SkyCoord (ICRS): (ra, dec) in deg\n",
      "    ( 187.45429167,  7.99196667)>\n",
      "No catalog item found for this within 1 arcsecond, saving coordinates [u'12h29m49.03s'] [u'7d59m31.08s']\n",
      "<SkyCoord (ICRS): (ra, dec) in deg\n",
      "    ( 187.42164167,  7.99194722)>\n",
      "No catalog item found for this within 1 arcsecond, saving coordinates [u'12h29m41.194s'] [u'7d59m31.01s']\n",
      "<SkyCoord (ICRS): (ra, dec) in deg\n",
      "    ( 187.45250833,  7.99545278)>\n",
      "No catalog item found for this within 1 arcsecond, saving coordinates [u'12h29m48.602s'] [u'7d59m43.63s']\n",
      "<SkyCoord (ICRS): (ra, dec) in deg\n",
      "    ( 187.4494625,  7.99558056)>\n",
      "No catalog item found for this within 1 arcsecond, saving coordinates [u'12h29m47.871s'] [u'7d59m44.09s']\n",
      "<SkyCoord (ICRS): (ra, dec) in deg\n",
      "    ( 187.4476625,  7.99876667)>\n",
      "No catalog item found for this within 1 arcsecond, saving coordinates [u'12h29m47.439s'] [u'7d59m55.56s']\n",
      "<SkyCoord (ICRS): (ra, dec) in deg\n",
      "    ( 187.43725833,  8.01016111)>\n",
      "No catalog item found for this within 1 arcsecond, saving coordinates [u'12h29m44.942s'] [u'8d00m36.58s']\n",
      "<SkyCoord (ICRS): (ra, dec) in deg\n",
      "    ( 187.39094167,  8.03556111)>\n",
      "No catalog item found for this within 1 arcsecond, saving coordinates [u'12h29m33.826s'] [u'8d02m08.02s']\n",
      "<SkyCoord (ICRS): (ra, dec) in deg\n",
      "    ( 187.484625,  8.03908056)>\n",
      "No catalog item found for this within 1 arcsecond, saving coordinates [u'12h29m56.31s'] [u'8d02m20.69s']\n",
      "<SkyCoord (ICRS): (ra, dec) in deg\n",
      "    ( 187.43055417,  8.04335278)>\n",
      "No catalog item found for this within 1 arcsecond, saving coordinates [u'12h29m43.333s'] [u'8d02m36.07s']\n",
      "<SkyCoord (ICRS): (ra, dec) in deg\n",
      "    ( 187.41561667,  7.89266944)>\n",
      "No catalog item found for this within 1 arcsecond, saving coordinates [u'12h29m39.748s'] [u'7d53m33.61s']\n",
      "<SkyCoord (ICRS): (ra, dec) in deg\n",
      "    ( 187.3479375,  7.89969722)>\n",
      "No catalog item found for this within 1 arcsecond, saving coordinates [u'12h29m23.505s'] [u'7d53m58.91s']\n",
      "<SkyCoord (ICRS): (ra, dec) in deg\n",
      "    ( 187.34917083,  7.89995278)>\n",
      "No catalog item found for this within 1 arcsecond, saving coordinates [u'12h29m23.801s'] [u'7d53m59.83s']\n",
      "<SkyCoord (ICRS): (ra, dec) in deg\n",
      "    ( 187.44334167,  7.96204722)>\n",
      "No catalog item found for this within 1 arcsecond, saving coordinates [u'12h29m46.402s'] [u'7d57m43.37s']\n",
      "<SkyCoord (ICRS): (ra, dec) in deg\n",
      "    ( 187.5107875,  7.977125)>\n",
      "No catalog item found for this within 1 arcsecond, saving coordinates [u'12h30m02.589s'] [u'7d58m37.65s']\n",
      "<SkyCoord (ICRS): (ra, dec) in deg\n",
      "    ( 187.37502083,  7.97735278)>\n",
      "No catalog item found for this within 1 arcsecond, saving coordinates [u'12h29m30.005s'] [u'7d58m38.47s']\n",
      "<SkyCoord (ICRS): (ra, dec) in deg\n",
      "    ( 187.44828333,  7.97872778)>\n",
      "No catalog item found for this within 1 arcsecond, saving coordinates [u'12h29m47.588s'] [u'7d58m43.42s']\n",
      "<SkyCoord (ICRS): (ra, dec) in deg\n",
      "    ( 187.35129167,  7.98176389)>\n",
      "No catalog item found for this within 1 arcsecond, saving coordinates [u'12h29m24.31s'] [u'7d58m54.35s']\n",
      "<SkyCoord (ICRS): (ra, dec) in deg\n",
      "    ( 187.44144167,  7.99339167)>\n",
      "No catalog item found for this within 1 arcsecond, saving coordinates [u'12h29m45.946s'] [u'7d59m36.21s']\n",
      "<SkyCoord (ICRS): (ra, dec) in deg\n",
      "    ( 187.44490417,  8.00097778)>\n",
      "No catalog item found for this within 1 arcsecond, saving coordinates [u'12h29m46.777s'] [u'8d00m03.52s']\n",
      "<SkyCoord (ICRS): (ra, dec) in deg\n",
      "    ( 187.23112917,  8.00558056)>\n",
      "No catalog item found for this within 1 arcsecond, saving coordinates [u'12h28m55.471s'] [u'8d00m20.09s']\n",
      "<SkyCoord (ICRS): (ra, dec) in deg\n",
      "    ( 187.281675,  8.00710833)>\n",
      "No catalog item found for this within 1 arcsecond, saving coordinates [u'12h29m07.602s'] [u'8d00m25.59s']\n",
      "<SkyCoord (ICRS): (ra, dec) in deg\n",
      "    ( 187.50864583,  8.01415)>\n",
      "No catalog item found for this within 1 arcsecond, saving coordinates [u'12h30m02.075s'] [u'8d00m50.94s']\n",
      "<SkyCoord (ICRS): (ra, dec) in deg\n",
      "    ( 187.47234583,  8.01485278)>\n",
      "No catalog item found for this within 1 arcsecond, saving coordinates [u'12h29m53.363s'] [u'8d00m53.47s']\n",
      "<SkyCoord (ICRS): (ra, dec) in deg\n",
      "    ( 187.4435125,  8.01895833)>\n",
      "No catalog item found for this within 1 arcsecond, saving coordinates [u'12h29m46.443s'] [u'8d01m08.25s']\n",
      "<SkyCoord (ICRS): (ra, dec) in deg\n",
      "    ( 187.42475833,  8.02172222)>\n",
      "No catalog item found for this within 1 arcsecond, saving coordinates [u'12h29m41.942s'] [u'8d01m18.2s']\n",
      "<SkyCoord (ICRS): (ra, dec) in deg\n",
      "    ( 187.30565,  8.02228611)>\n",
      "No catalog item found for this within 1 arcsecond, saving coordinates [u'12h29m13.356s'] [u'8d01m20.23s']\n",
      "<SkyCoord (ICRS): (ra, dec) in deg\n",
      "    ( 187.46197083,  8.03661389)>\n",
      "No catalog item found for this within 1 arcsecond, saving coordinates [u'12h29m50.873s'] [u'8d02m11.81s']\n",
      "<SkyCoord (ICRS): (ra, dec) in deg\n",
      "    ( 187.28369583,  8.04523889)>\n",
      "No catalog item found for this within 1 arcsecond, saving coordinates [u'12h29m08.087s'] [u'8d02m42.86s']\n",
      "<SkyCoord (ICRS): (ra, dec) in deg\n",
      "    ( 187.45587083,  8.05592778)>\n",
      "No catalog item found for this within 1 arcsecond, saving coordinates [u'12h29m49.409s'] [u'8d03m21.34s']\n",
      "<SkyCoord (ICRS): (ra, dec) in deg\n",
      "    ( 187.29585417,  8.05641667)>\n",
      "No catalog item found for this within 1 arcsecond, saving coordinates [u'12h29m11.005s'] [u'8d03m23.1s']\n",
      "<SkyCoord (ICRS): (ra, dec) in deg\n",
      "    ( 187.47682917,  8.06971944)>\n",
      "No catalog item found for this within 1 arcsecond, saving coordinates [u'12h29m54.439s'] [u'8d04m10.99s']\n",
      "<SkyCoord (ICRS): (ra, dec) in deg\n",
      "    ( 187.561,  8.09315)>\n",
      "No catalog item found for this within 1 arcsecond, saving coordinates [u'12h30m14.64s'] [u'8d05m35.34s']\n",
      "<SkyCoord (ICRS): (ra, dec) in deg\n",
      "    ( 187.36584167,  8.10878056)>\n",
      "No catalog item found for this within 1 arcsecond, saving coordinates [u'12h29m27.802s'] [u'8d06m31.61s']\n",
      "<SkyCoord (ICRS): (ra, dec) in deg\n",
      "    ( 187.3954625,  8.15910833)>\n",
      "No catalog item found for this within 1 arcsecond, saving coordinates [u'12h29m34.911s'] [u'8d09m32.79s']\n",
      "<SkyCoord (ICRS): (ra, dec) in deg\n",
      "    ( 187.57745833,  8.18600833)>\n",
      "No catalog item found for this within 1 arcsecond, saving coordinates [u'12h30m18.59s'] [u'8d11m09.63s']\n",
      "<SkyCoord (ICRS): (ra, dec) in deg\n",
      "    ( 187.47204167,  8.18637222)>\n",
      "No catalog item found for this within 1 arcsecond, saving coordinates [u'12h29m53.29s'] [u'8d11m10.94s']\n",
      "<SkyCoord (ICRS): (ra, dec) in deg\n",
      "    ( 187.31929583,  7.89491667)>\n",
      "No catalog item found for this within 1 arcsecond, saving coordinates [u'12h29m16.631s'] [u'7d53m41.7s']\n",
      "<SkyCoord (ICRS): (ra, dec) in deg\n",
      "    ( 187.40974583,  7.92105)>\n",
      "No catalog item found for this within 1 arcsecond, saving coordinates [u'12h29m38.339s'] [u'7d55m15.78s']\n",
      "<SkyCoord (ICRS): (ra, dec) in deg\n",
      "    ( 187.3893,  7.92742222)>\n",
      "No catalog item found for this within 1 arcsecond, saving coordinates [u'12h29m33.432s'] [u'7d55m38.72s']\n",
      "<SkyCoord (ICRS): (ra, dec) in deg\n",
      "    ( 187.39799167,  7.93442778)>\n",
      "No catalog item found for this within 1 arcsecond, saving coordinates [u'12h29m35.518s'] [u'7d56m03.94s']\n",
      "<SkyCoord (ICRS): (ra, dec) in deg\n",
      "    ( 187.4507,  7.94030833)>\n",
      "No catalog item found for this within 1 arcsecond, saving coordinates [u'12h29m48.168s'] [u'7d56m25.11s']\n",
      "<SkyCoord (ICRS): (ra, dec) in deg\n",
      "    ( 187.3726,  7.94481111)>\n",
      "No catalog item found for this within 1 arcsecond, saving coordinates [u'12h29m29.424s'] [u'7d56m41.32s']\n",
      "<SkyCoord (ICRS): (ra, dec) in deg\n",
      "    ( 187.35810833,  7.953675)>\n",
      "No catalog item found for this within 1 arcsecond, saving coordinates [u'12h29m25.946s'] [u'7d57m13.23s']\n",
      "<SkyCoord (ICRS): (ra, dec) in deg\n",
      "    ( 187.36565417,  7.96264444)>\n",
      "No catalog item found for this within 1 arcsecond, saving coordinates [u'12h29m27.757s'] [u'7d57m45.52s']\n",
      "<SkyCoord (ICRS): (ra, dec) in deg\n",
      "    ( 187.16488333,  8.00686389)>\n",
      "No catalog item found for this within 1 arcsecond, saving coordinates [u'12h28m39.572s'] [u'8d00m24.71s']\n",
      "<SkyCoord (ICRS): (ra, dec) in deg\n",
      "    ( 187.43014583,  8.00918611)>\n",
      "No catalog item found for this within 1 arcsecond, saving coordinates [u'12h29m43.235s'] [u'8d00m33.07s']\n",
      "<SkyCoord (ICRS): (ra, dec) in deg\n",
      "    ( 187.30984583,  8.04117778)>\n",
      "No catalog item found for this within 1 arcsecond, saving coordinates [u'12h29m14.363s'] [u'8d02m28.24s']\n",
      "<SkyCoord (ICRS): (ra, dec) in deg\n",
      "    ( 187.45495417,  8.05490833)>\n",
      "No catalog item found for this within 1 arcsecond, saving coordinates [u'12h29m49.189s'] [u'8d03m17.67s']\n",
      "<SkyCoord (ICRS): (ra, dec) in deg\n",
      "    ( 187.540675,  8.05956667)>\n",
      "No catalog item found for this within 1 arcsecond, saving coordinates [u'12h30m09.762s'] [u'8d03m34.44s']\n",
      "<SkyCoord (ICRS): (ra, dec) in deg\n",
      "    ( 187.43065,  8.060625)>\n",
      "No catalog item found for this within 1 arcsecond, saving coordinates [u'12h29m43.356s'] [u'8d03m38.25s']\n",
      "<SkyCoord (ICRS): (ra, dec) in deg\n",
      "    ( 187.42239583,  8.06078611)>\n",
      "No catalog item found for this within 1 arcsecond, saving coordinates [u'12h29m41.375s'] [u'8d03m38.83s']\n",
      "<SkyCoord (ICRS): (ra, dec) in deg\n",
      "    ( 187.48505833,  8.07314444)>\n",
      "No catalog item found for this within 1 arcsecond, saving coordinates [u'12h29m56.414s'] [u'8d04m23.32s']\n",
      "<SkyCoord (ICRS): (ra, dec) in deg\n",
      "    ( 187.4944,  8.075025)>\n",
      "No catalog item found for this within 1 arcsecond, saving coordinates [u'12h29m58.656s'] [u'8d04m30.09s']\n",
      "<SkyCoord (ICRS): (ra, dec) in deg\n",
      "    ( 187.34124167,  8.08498056)>\n",
      "No catalog item found for this within 1 arcsecond, saving coordinates [u'12h29m21.898s'] [u'8d05m05.93s']\n",
      "<SkyCoord (ICRS): (ra, dec) in deg\n",
      "    ( 187.44624167,  8.089275)>\n",
      "No catalog item found for this within 1 arcsecond, saving coordinates [u'12h29m47.098s'] [u'8d05m21.39s']\n",
      "<SkyCoord (ICRS): (ra, dec) in deg\n",
      "    ( 187.57432083,  8.09376111)>\n",
      "No catalog item found for this within 1 arcsecond, saving coordinates [u'12h30m17.837s'] [u'8d05m37.54s']\n",
      "<SkyCoord (ICRS): (ra, dec) in deg\n",
      "    ( 187.35916667,  8.13112222)>\n",
      "No catalog item found for this within 1 arcsecond, saving coordinates [u'12h29m26.2s'] [u'8d07m52.04s']\n",
      "<SkyCoord (ICRS): (ra, dec) in deg\n",
      "    ( 187.36532917,  8.14721389)>\n",
      "No catalog item found for this within 1 arcsecond, saving coordinates [u'12h29m27.679s'] [u'8d08m49.97s']\n",
      "<SkyCoord (ICRS): (ra, dec) in deg\n",
      "    ( 187.40855417,  7.82543889)>\n",
      "No catalog item found for this within 1 arcsecond, saving coordinates [u'12h29m38.053s'] [u'7d49m31.58s']\n",
      "<SkyCoord (ICRS): (ra, dec) in deg\n",
      "    ( 187.43828333,  7.87692778)>\n",
      "No catalog item found for this within 1 arcsecond, saving coordinates [u'12h29m45.188s'] [u'7d52m36.94s']\n",
      "<SkyCoord (ICRS): (ra, dec) in deg\n",
      "    ( 187.268075,  7.93473611)>\n",
      "No catalog item found for this within 1 arcsecond, saving coordinates [u'12h29m04.338s'] [u'7d56m05.05s']\n",
      "<SkyCoord (ICRS): (ra, dec) in deg\n",
      "    ( 187.44730833,  7.93658889)>\n",
      "No catalog item found for this within 1 arcsecond, saving coordinates [u'12h29m47.354s'] [u'7d56m11.72s']\n",
      "<SkyCoord (ICRS): (ra, dec) in deg\n",
      "    ( 187.23464167,  7.94989167)>\n",
      "No catalog item found for this within 1 arcsecond, saving coordinates [u'12h28m56.314s'] [u'7d56m59.61s']\n",
      "<SkyCoord (ICRS): (ra, dec) in deg\n",
      "    ( 187.242,  8.020325)>\n",
      "No catalog item found for this within 1 arcsecond, saving coordinates [u'12h28m58.08s'] [u'8d01m13.17s']\n",
      "<SkyCoord (ICRS): (ra, dec) in deg\n",
      "    ( 187.52797083,  8.02186389)>\n",
      "No catalog item found for this within 1 arcsecond, saving coordinates [u'12h30m06.713s'] [u'8d01m18.71s']\n",
      "<SkyCoord (ICRS): (ra, dec) in deg\n",
      "    ( 187.32206667,  8.04456667)>\n",
      "No catalog item found for this within 1 arcsecond, saving coordinates [u'12h29m17.296s'] [u'8d02m40.44s']\n",
      "<SkyCoord (ICRS): (ra, dec) in deg\n",
      "    ( 187.3553875,  8.09029167)>\n",
      "No catalog item found for this within 1 arcsecond, saving coordinates [u'12h29m25.293s'] [u'8d05m25.05s']\n",
      "<SkyCoord (ICRS): (ra, dec) in deg\n",
      "    ( 187.44925833,  8.09265556)>\n",
      "No catalog item found for this within 1 arcsecond, saving coordinates [u'12h29m47.822s'] [u'8d05m33.56s']\n",
      "<SkyCoord (ICRS): (ra, dec) in deg\n",
      "    ( 187.3447375,  8.09299722)>\n",
      "No catalog item found for this within 1 arcsecond, saving coordinates [u'12h29m22.737s'] [u'8d05m34.79s']\n",
      "<SkyCoord (ICRS): (ra, dec) in deg\n",
      "    ( 187.47514167,  8.10280278)>\n",
      "No catalog item found for this within 1 arcsecond, saving coordinates [u'12h29m54.034s'] [u'8d06m10.09s']\n",
      "<SkyCoord (ICRS): (ra, dec) in deg\n",
      "    ( 187.54805417,  8.11625)>\n",
      "No catalog item found for this within 1 arcsecond, saving coordinates [u'12h30m11.533s'] [u'8d06m58.5s']\n",
      "<SkyCoord (ICRS): (ra, dec) in deg\n",
      "    ( 187.46699583,  8.1218)>\n",
      "No catalog item found for this within 1 arcsecond, saving coordinates [u'12h29m52.079s'] [u'8d07m18.48s']\n",
      "<SkyCoord (ICRS): (ra, dec) in deg\n",
      "    ( 187.50979167,  8.12261389)>\n",
      "No catalog item found for this within 1 arcsecond, saving coordinates [u'12h30m02.35s'] [u'8d07m21.41s']\n",
      "<SkyCoord (ICRS): (ra, dec) in deg\n",
      "    ( 187.52925833,  8.12652778)>\n",
      "No catalog item found for this within 1 arcsecond, saving coordinates [u'12h30m07.022s'] [u'8d07m35.5s']\n",
      "<SkyCoord (ICRS): (ra, dec) in deg\n",
      "    ( 187.590975,  8.14596111)>\n",
      "No catalog item found for this within 1 arcsecond, saving coordinates [u'12h30m21.834s'] [u'8d08m45.46s']\n",
      "<SkyCoord (ICRS): (ra, dec) in deg\n",
      "    ( 187.37533333,  7.80336389)>\n",
      "No catalog item found for this within 1 arcsecond, saving coordinates [u'12h29m30.08s'] [u'7d48m12.11s']\n",
      "<SkyCoord (ICRS): (ra, dec) in deg\n",
      "    ( 187.30081667,  8.02173889)>\n",
      "No catalog item found for this within 1 arcsecond, saving coordinates [u'12h29m12.196s'] [u'8d01m18.26s']\n",
      "<SkyCoord (ICRS): (ra, dec) in deg\n",
      "    ( 187.29306667,  8.07995556)>\n",
      "No catalog item found for this within 1 arcsecond, saving coordinates [u'12h29m10.336s'] [u'8d04m47.84s']\n",
      "<SkyCoord (ICRS): (ra, dec) in deg\n",
      "    ( 187.26035,  8.08759444)>\n",
      "No catalog item found for this within 1 arcsecond, saving coordinates [u'12h29m02.484s'] [u'8d05m15.34s']\n",
      "<SkyCoord (ICRS): (ra, dec) in deg\n",
      "    ( 187.54512917,  8.09609444)>\n",
      "No catalog item found for this within 1 arcsecond, saving coordinates [u'12h30m10.831s'] [u'8d05m45.94s']\n",
      "<SkyCoord (ICRS): (ra, dec) in deg\n",
      "    ( 187.33908333,  8.15684167)>\n",
      "No catalog item found for this within 1 arcsecond, saving coordinates [u'12h29m21.38s'] [u'8d09m24.63s']\n",
      "<SkyCoord (ICRS): (ra, dec) in deg\n",
      "    ( 187.54542083,  8.16374167)>\n",
      "No catalog item found for this within 1 arcsecond, saving coordinates [u'12h30m10.901s'] [u'8d09m49.47s']\n"
     ]
    }
   ],
   "source": [
    "for i in range(len(xcor)):\n",
    "        item=customSimbad.query_region(SkyCoord(xcor[i],ycor[i], unit=(u.deg, u.deg), frame='fk5'), radius=dist)\n",
    "        if item is None:\n",
    "            co = SkyCoord(xcor[i],ycor[i], unit=(u.deg, u.deg))\n",
    "            print co\n",
    "            ra_not_found, dec_not_found = co.ra.to_string(u.hour), co.dec.to_string(u.deg)\n",
    "            print \"No catalog item found for this within 1 arcsecond, saving coordinates\", ra_not_found, dec_not_found\n",
    "\n",
    "            if np.size(null_ra)<1:\n",
    "                null_ra=ra_not_found\n",
    "                null_dec=dec_not_found\n",
    "            else:\n",
    "                null_ra=np.vstack((null_ra, ra_not_found))\n",
    "                null_dec=np.vstack((null_dec, dec_not_found))\n",
    "        else:\n",
    "            if len(stacked_table)<1:\n",
    "                stacked_table=item\n",
    "            else:\n",
    "                stacked_table=Table.vstack([stacked_table, item], join_type ='exact') \n",
    "                \n",
    "        \n",
    "\n",
    "    "
   ]
  },
  {
   "cell_type": "code",
   "execution_count": 92,
   "metadata": {
    "collapsed": false
   },
   "outputs": [
    {
     "name": "stdout",
     "output_type": "stream",
     "text": [
      "            MAIN_ID                   RA      ...    COO_BIBCODE_2   \n",
      "                                   \"h:m:s\"    ...                    \n",
      "------------------------------- ------------- ... -------------------\n",
      "          2XMM J122954.3+075613   12 29 54.36 ... 2012ApJ...756...27L\n",
      "     [CHP2004] J122942.2+075702    12 29 42.2 ... 2004ApJ...602..231C\n",
      "             [MKZ2003] OID  129    12 29 42.3 ... 2003ApJ...586..814M\n",
      "          2XMM J122942.2+075701   12 29 42.29 ... 2012ApJ...756...27L\n",
      "     [CHP2004] J122942.2+075702    12 29 42.2 ... 2004ApJ...602..231C\n",
      "             [MKZ2003] OID  277    12 29 43.8 ... 2003ApJ...586..814M\n",
      "             [MKZ2003] OID  273    12 29 43.8 ... 2003ApJ...586..814M\n",
      "     [CHP2004] J122943.8+075715    12 29 43.8 ... 2004ApJ...602..231C\n",
      "          2XMM J122956.8+075728  12 29 56.755 ... 2003yCat.2246....0C\n",
      "          CXOU J122941.0+075744    12 29 41.0 ... 2011MNRAS.410.1655M\n",
      "                            ...           ... ...                 ...\n",
      "         CXOMKZ J1229579+075928    12 29 57.9 ... 2003ApJ...586..814M\n",
      "[JPB2009] 187.3762703+7.9927313 12 29 30.3049 ... 2009ApJS..180...54J\n",
      "        2MASS J12293026+0759340   12 29 30.26 ... 2003yCat.2246....0C\n",
      "                      NGC  4467  12 29 30.267 ... 2006AJ....131.1163S\n",
      "         CXOMKZ J1230031+080018    12 30 03.1 ... 2003ApJ...586..814M\n",
      "     [CHP2004] J122951.3+080328    12 29 51.3 ... 2004ApJ...602..231C\n",
      "          2XMM J122956.8+080911  12 29 56.820 ... 2009yCat.2294....0A\n",
      "          2XMM J122935.6+075327  12 29 35.654 ... 2009yCat.2294....0A\n",
      "         CXOMKZ J1229488+080431    12 29 48.8 ... 2003ApJ...586..814M\n",
      "          2XMM J122859.0+075653  12 28 59.075 ... 2009yCat.2294....0A\n",
      "Length = 215 rows\n"
     ]
    }
   ],
   "source": [
    "print (stacked_table)"
   ]
  },
  {
   "cell_type": "code",
   "execution_count": 93,
   "metadata": {
    "collapsed": false
   },
   "outputs": [
    {
     "name": "stdout",
     "output_type": "stream",
     "text": [
      "237\n"
     ]
    }
   ],
   "source": [
    "print len(xcor)"
   ]
  },
  {
   "cell_type": "code",
   "execution_count": 94,
   "metadata": {
    "collapsed": false
   },
   "outputs": [],
   "source": [
    "#ascii.write(stacked_table, \"321_src_cat.dat\")"
   ]
  },
  {
   "cell_type": "code",
   "execution_count": 95,
   "metadata": {
    "collapsed": false
   },
   "outputs": [],
   "source": [
    "null_coords= np.asarray(np.hstack((null_ra, null_dec)))\n"
   ]
  },
  {
   "cell_type": "code",
   "execution_count": 96,
   "metadata": {
    "collapsed": false
   },
   "outputs": [
    {
     "name": "stderr",
     "output_type": "stream",
     "text": [
      "WARNING: AstropyDeprecationWarning: 321_no_cat_val.dat already exists. Automatically overwriting ASCII files is deprecated. Use the argument 'overwrite=True' in the future. [astropy.io.ascii.ui]\n"
     ]
    }
   ],
   "source": [
    "ascii.write(null_coords, \"321_no_cat_val.dat\")"
   ]
  },
  {
   "cell_type": "code",
   "execution_count": null,
   "metadata": {
    "collapsed": false
   },
   "outputs": [],
   "source": []
  },
  {
   "cell_type": "code",
   "execution_count": 116,
   "metadata": {
    "collapsed": false
   },
   "outputs": [],
   "source": [
    "ascii.write(stacked_table, 'out_321.txt', format='csv')"
   ]
  },
  {
   "cell_type": "code",
   "execution_count": 98,
   "metadata": {
    "collapsed": false
   },
   "outputs": [],
   "source": [
    "stacked_table.remove_column('DEC_PREC')\n",
    "stacked_table.remove_column('RA_PREC')\n",
    "stacked_table.remove_column('COO_ERR_MAJA')\n",
    "stacked_table.remove_column('COO_ERR_MINA')\n",
    "stacked_table.remove_column('COO_ERR_ANGLE')\n",
    "stacked_table.remove_column('COO_QUAL')\n"
   ]
  },
  {
   "cell_type": "code",
   "execution_count": 99,
   "metadata": {
    "collapsed": true
   },
   "outputs": [],
   "source": [
    "#ascii.write(stacked_table, 'out.txt', Writer = ascii.Latex, latexdict = {'tabletype': 'table*'})"
   ]
  },
  {
   "cell_type": "code",
   "execution_count": 100,
   "metadata": {
    "collapsed": false
   },
   "outputs": [
    {
     "name": "stdout",
     "output_type": "stream",
     "text": [
      "<SkyCoord (ICRS): (ra, dec) in deg\n",
      "    ( 187.4480125,  7.99787778)>\n",
      "No catalog item found for this within 1 arcsecond, saving coordinates [u'12h29m47.523s'] [u'7d59m52.36s']\n",
      "<SkyCoord (ICRS): (ra, dec) in deg\n",
      "    ( 187.46195417,  8.03643611)>\n",
      "No catalog item found for this within 1 arcsecond, saving coordinates [u'12h29m50.869s'] [u'8d02m11.17s']\n",
      "<SkyCoord (ICRS): (ra, dec) in deg\n",
      "    ( 187.231125,  7.96755)>\n",
      "No catalog item found for this within 1 arcsecond, saving coordinates [u'12h28m55.47s'] [u'7d58m03.18s']\n",
      "<SkyCoord (ICRS): (ra, dec) in deg\n",
      "    ( 187.49735,  7.99854167)>\n",
      "No catalog item found for this within 1 arcsecond, saving coordinates [u'12h29m59.364s'] [u'7d59m54.75s']\n",
      "<SkyCoord (ICRS): (ra, dec) in deg\n",
      "    ( 187.47222083,  8.05259167)>\n",
      "No catalog item found for this within 1 arcsecond, saving coordinates [u'12h29m53.333s'] [u'8d03m09.33s']\n",
      "<SkyCoord (ICRS): (ra, dec) in deg\n",
      "    ( 187.57717083,  8.08188056)>\n",
      "No catalog item found for this within 1 arcsecond, saving coordinates [u'12h30m18.521s'] [u'8d04m54.77s']\n",
      "<SkyCoord (ICRS): (ra, dec) in deg\n",
      "    ( 187.48719583,  7.91022222)>\n",
      "No catalog item found for this within 1 arcsecond, saving coordinates [u'12h29m56.927s'] [u'7d54m36.8s']\n",
      "<SkyCoord (ICRS): (ra, dec) in deg\n",
      "    ( 187.40965,  7.92112222)>\n",
      "No catalog item found for this within 1 arcsecond, saving coordinates [u'12h29m38.316s'] [u'7d55m16.04s']\n",
      "<SkyCoord (ICRS): (ra, dec) in deg\n",
      "    ( 187.52781667,  7.95032778)>\n",
      "No catalog item found for this within 1 arcsecond, saving coordinates [u'12h30m06.676s'] [u'7d57m01.18s']\n",
      "<SkyCoord (ICRS): (ra, dec) in deg\n",
      "    ( 187.35757917,  7.95379167)>\n",
      "No catalog item found for this within 1 arcsecond, saving coordinates [u'12h29m25.819s'] [u'7d57m13.65s']\n",
      "<SkyCoord (ICRS): (ra, dec) in deg\n",
      "    ( 187.5826625,  7.96247778)>\n",
      "No catalog item found for this within 1 arcsecond, saving coordinates [u'12h30m19.839s'] [u'7d57m44.92s']\n",
      "<SkyCoord (ICRS): (ra, dec) in deg\n",
      "    ( 187.51132083,  7.9777)>\n",
      "No catalog item found for this within 1 arcsecond, saving coordinates [u'12h30m02.717s'] [u'7d58m39.72s']\n",
      "<SkyCoord (ICRS): (ra, dec) in deg\n",
      "    ( 187.351325,  7.98173333)>\n",
      "No catalog item found for this within 1 arcsecond, saving coordinates [u'12h29m24.318s'] [u'7d58m54.24s']\n",
      "<SkyCoord (ICRS): (ra, dec) in deg\n",
      "    ( 187.444425,  8.00090278)>\n",
      "No catalog item found for this within 1 arcsecond, saving coordinates [u'12h29m46.662s'] [u'8d00m03.25s']\n",
      "<SkyCoord (ICRS): (ra, dec) in deg\n",
      "    ( 187.409975,  8.008475)>\n",
      "No catalog item found for this within 1 arcsecond, saving coordinates [u'12h29m38.394s'] [u'8d00m30.51s']\n",
      "<SkyCoord (ICRS): (ra, dec) in deg\n",
      "    ( 187.39560417,  8.01343611)>\n",
      "No catalog item found for this within 1 arcsecond, saving coordinates [u'12h29m34.945s'] [u'8d00m48.37s']\n",
      "<SkyCoord (ICRS): (ra, dec) in deg\n",
      "    ( 187.4223375,  8.06103611)>\n",
      "No catalog item found for this within 1 arcsecond, saving coordinates [u'12h29m41.361s'] [u'8d03m39.73s']\n",
      "<SkyCoord (ICRS): (ra, dec) in deg\n",
      "    ( 187.536775,  8.09223333)>\n",
      "No catalog item found for this within 1 arcsecond, saving coordinates [u'12h30m08.826s'] [u'8d05m32.04s']\n",
      "<SkyCoord (ICRS): (ra, dec) in deg\n",
      "    ( 187.4987875,  7.91671389)>\n",
      "No catalog item found for this within 1 arcsecond, saving coordinates [u'12h29m59.709s'] [u'7d55m00.17s']\n",
      "<SkyCoord (ICRS): (ra, dec) in deg\n",
      "    ( 187.5390875,  7.94800278)>\n",
      "No catalog item found for this within 1 arcsecond, saving coordinates [u'12h30m09.381s'] [u'7d56m52.81s']\n",
      "<SkyCoord (ICRS): (ra, dec) in deg\n",
      "    ( 187.5400125,  7.98226111)>\n",
      "No catalog item found for this within 1 arcsecond, saving coordinates [u'12h30m09.603s'] [u'7d58m56.14s']\n",
      "<SkyCoord (ICRS): (ra, dec) in deg\n",
      "    ( 187.48472917,  8.07340278)>\n",
      "No catalog item found for this within 1 arcsecond, saving coordinates [u'12h29m56.335s'] [u'8d04m24.25s']\n",
      "<SkyCoord (ICRS): (ra, dec) in deg\n",
      "    ( 187.3593125,  8.13025)>\n",
      "No catalog item found for this within 1 arcsecond, saving coordinates [u'12h29m26.235s'] [u'8d07m48.9s']\n",
      "<SkyCoord (ICRS): (ra, dec) in deg\n",
      "    ( 187.36562917,  7.96208333)>\n",
      "No catalog item found for this within 1 arcsecond, saving coordinates [u'12h29m27.751s'] [u'7d57m43.5s']\n",
      "<SkyCoord (ICRS): (ra, dec) in deg\n",
      "    ( 187.46713333,  8.12164722)>\n",
      "No catalog item found for this within 1 arcsecond, saving coordinates [u'12h29m52.112s'] [u'8d07m17.93s']\n"
     ]
    }
   ],
   "source": [
    "### now let's do this for everything.\n",
    "\n",
    "null_ra_322=[]\n",
    "null_dec_322=[]\n",
    "stacked_table_322=[]\n",
    "for i in range(len(xcor322)):\n",
    "        item322=customSimbad.query_region(SkyCoord(xcor322[i],ycor322[i], unit=(u.deg, u.deg), frame='fk5'), radius=dist)\n",
    "        if item322 is None:\n",
    "            co322 = SkyCoord(xcor322[i],ycor322[i], unit=(u.deg, u.deg))\n",
    "            print co322\n",
    "            ra_not_found322, dec_not_found322 = co322.ra.to_string(u.hour), co322.dec.to_string(u.deg)\n",
    "            print \"No catalog item found for this within 1 arcsecond, saving coordinates\", ra_not_found322, dec_not_found322\n",
    "\n",
    "            if np.size(null_ra_322)<1:\n",
    "                null_ra_322=ra_not_found322\n",
    "                null_dec_322=dec_not_found322\n",
    "            else:\n",
    "                null_ra_322=np.vstack((null_ra_322, ra_not_found322))\n",
    "                null_dec_322=np.vstack((null_dec_322, dec_not_found322))\n",
    "        else:\n",
    "            if len(stacked_table_322)<1:\n",
    "                stacked_table_322=item322\n",
    "            else:\n",
    "                stacked_table_322=Table.vstack([stacked_table_322, item322], join_type ='exact') \n",
    "                \n",
    "        \n",
    "\n",
    "    "
   ]
  },
  {
   "cell_type": "code",
   "execution_count": 101,
   "metadata": {
    "collapsed": true
   },
   "outputs": [],
   "source": [
    "stacked_table_322.remove_column('DEC_PREC')\n",
    "stacked_table_322.remove_column('RA_PREC')\n",
    "stacked_table_322.remove_column('COO_ERR_MAJA')\n",
    "stacked_table_322.remove_column('COO_ERR_MINA')\n",
    "stacked_table_322.remove_column('COO_ERR_ANGLE')\n",
    "stacked_table_322.remove_column('COO_QUAL')\n",
    "\n",
    "null_coords322= np.asarray(np.hstack((null_ra_322, null_dec_322)))\n",
    "\n",
    "ascii.write(null_coords322, \"322_no_cat_val.dat\")\n",
    "ascii.write(stacked_table_322, 'out_322.txt', format='csv')"
   ]
  },
  {
   "cell_type": "code",
   "execution_count": 102,
   "metadata": {
    "collapsed": false
   },
   "outputs": [
    {
     "name": "stderr",
     "output_type": "stream",
     "text": [
      "/home/kcdage/anaconda/lib/python2.7/site-packages/astroquery/simbad/core.py:136: UserWarning: Warning: The script line number 3 raised an error (recorded in the `errors` attribute of the result table): '12:30:25.947 +7:56:23.93': No astronomical object found :\n",
      "  (error.line, error.msg))\n"
     ]
    },
    {
     "name": "stdout",
     "output_type": "stream",
     "text": [
      "<SkyCoord (ICRS): (ra, dec) in deg\n",
      "    ( 187.6081125,  7.93998056)>\n",
      "No catalog item found for this within 1 arcsecond, saving coordinates [u'12h30m25.947s'] [u'7d56m23.93s']\n"
     ]
    },
    {
     "name": "stderr",
     "output_type": "stream",
     "text": [
      "/home/kcdage/anaconda/lib/python2.7/site-packages/astroquery/simbad/core.py:136: UserWarning: Warning: The script line number 3 raised an error (recorded in the `errors` attribute of the result table): '12:29:54.081 +7:57:17.96': No astronomical object found :\n",
      "  (error.line, error.msg))\n"
     ]
    },
    {
     "name": "stdout",
     "output_type": "stream",
     "text": [
      "<SkyCoord (ICRS): (ra, dec) in deg\n",
      "    ( 187.4753375,  7.95498889)>\n",
      "No catalog item found for this within 1 arcsecond, saving coordinates [u'12h29m54.081s'] [u'7d57m17.96s']\n"
     ]
    },
    {
     "name": "stderr",
     "output_type": "stream",
     "text": [
      "WARNING: MergeConflictWarning: Cannot merge meta key u'description' types <type 'unicode'> and <type 'unicode'>, choosing description=u'Simbad script executed on 2017.10.05CEST21:21:53' [astropy.utils.metadata]\n",
      "WARNING: MergeConflictWarning: Cannot merge meta key u'description' types <type 'unicode'> and <type 'unicode'>, choosing description=u'Simbad script executed on 2017.10.05CEST21:21:54' [astropy.utils.metadata]\n",
      "WARNING: MergeConflictWarning: Cannot merge meta key u'description' types <type 'unicode'> and <type 'unicode'>, choosing description=u'Simbad script executed on 2017.10.05CEST21:21:55' [astropy.utils.metadata]\n",
      "WARNING: MergeConflictWarning: Cannot merge meta key u'description' types <type 'unicode'> and <type 'unicode'>, choosing description=u'Simbad script executed on 2017.10.05CEST21:21:56' [astropy.utils.metadata]\n",
      "WARNING: MergeConflictWarning: Cannot merge meta key u'description' types <type 'unicode'> and <type 'unicode'>, choosing description=u'Simbad script executed on 2017.10.05CEST21:21:57' [astropy.utils.metadata]\n",
      "WARNING: MergeConflictWarning: Cannot merge meta key u'description' types <type 'unicode'> and <type 'unicode'>, choosing description=u'Simbad script executed on 2017.10.05CEST21:21:58' [astropy.utils.metadata]\n",
      "/home/kcdage/anaconda/lib/python2.7/site-packages/astroquery/simbad/core.py:136: UserWarning: Warning: The script line number 3 raised an error (recorded in the `errors` attribute of the result table): '12:29:32.75 +7:58:57.2': No astronomical object found :\n",
      "  (error.line, error.msg))\n"
     ]
    },
    {
     "name": "stdout",
     "output_type": "stream",
     "text": [
      "<SkyCoord (ICRS): (ra, dec) in deg\n",
      "    ( 187.38645833,  7.98255556)>\n",
      "No catalog item found for this within 1 arcsecond, saving coordinates [u'12h29m32.75s'] [u'7d58m57.2s']\n"
     ]
    },
    {
     "name": "stderr",
     "output_type": "stream",
     "text": [
      "/home/kcdage/anaconda/lib/python2.7/site-packages/astroquery/simbad/core.py:136: UserWarning: Warning: The script line number 3 raised an error (recorded in the `errors` attribute of the result table): '12:29:46.837 +7:58:58.47': No astronomical object found :\n",
      "  (error.line, error.msg))\n"
     ]
    },
    {
     "name": "stdout",
     "output_type": "stream",
     "text": [
      "<SkyCoord (ICRS): (ra, dec) in deg\n",
      "    ( 187.44515417,  7.98290833)>\n",
      "No catalog item found for this within 1 arcsecond, saving coordinates [u'12h29m46.837s'] [u'7d58m58.47s']\n"
     ]
    },
    {
     "name": "stderr",
     "output_type": "stream",
     "text": [
      "/home/kcdage/anaconda/lib/python2.7/site-packages/astroquery/simbad/core.py:136: UserWarning: Warning: The script line number 3 raised an error (recorded in the `errors` attribute of the result table): '12:29:47.722 +7:58:58.98': No astronomical object found :\n",
      "  (error.line, error.msg))\n"
     ]
    },
    {
     "name": "stdout",
     "output_type": "stream",
     "text": [
      "<SkyCoord (ICRS): (ra, dec) in deg\n",
      "    ( 187.44884167,  7.98305)>\n",
      "No catalog item found for this within 1 arcsecond, saving coordinates [u'12h29m47.722s'] [u'7d58m58.98s']\n"
     ]
    },
    {
     "name": "stderr",
     "output_type": "stream",
     "text": [
      "WARNING: MergeConflictWarning: Cannot merge meta key u'description' types <type 'unicode'> and <type 'unicode'>, choosing description=u'Simbad script executed on 2017.10.05CEST21:21:59' [astropy.utils.metadata]\n",
      "WARNING: MergeConflictWarning: Cannot merge meta key u'description' types <type 'unicode'> and <type 'unicode'>, choosing description=u'Simbad script executed on 2017.10.05CEST21:22:00' [astropy.utils.metadata]\n",
      "WARNING: MergeConflictWarning: Cannot merge meta key u'description' types <type 'unicode'> and <type 'unicode'>, choosing description=u'Simbad script executed on 2017.10.05CEST21:22:01' [astropy.utils.metadata]\n",
      "WARNING: MergeConflictWarning: Cannot merge meta key u'description' types <type 'unicode'> and <type 'unicode'>, choosing description=u'Simbad script executed on 2017.10.05CEST21:22:02' [astropy.utils.metadata]\n",
      "/home/kcdage/anaconda/lib/python2.7/site-packages/astroquery/simbad/core.py:136: UserWarning: Warning: The script line number 3 raised an error (recorded in the `errors` attribute of the result table): '12:29:57.638 +7:59:32.45': No astronomical object found :\n",
      "  (error.line, error.msg))\n"
     ]
    },
    {
     "name": "stdout",
     "output_type": "stream",
     "text": [
      "<SkyCoord (ICRS): (ra, dec) in deg\n",
      "    ( 187.49015833,  7.99234722)>\n",
      "No catalog item found for this within 1 arcsecond, saving coordinates [u'12h29m57.638s'] [u'7d59m32.45s']\n"
     ]
    },
    {
     "name": "stderr",
     "output_type": "stream",
     "text": [
      "WARNING: MergeConflictWarning: Cannot merge meta key u'description' types <type 'unicode'> and <type 'unicode'>, choosing description=u'Simbad script executed on 2017.10.05CEST21:22:03' [astropy.utils.metadata]\n",
      "WARNING: MergeConflictWarning: Cannot merge meta key u'description' types <type 'unicode'> and <type 'unicode'>, choosing description=u'Simbad script executed on 2017.10.05CEST21:22:04' [astropy.utils.metadata]\n",
      "WARNING: MergeConflictWarning: Cannot merge meta key u'description' types <type 'unicode'> and <type 'unicode'>, choosing description=u'Simbad script executed on 2017.10.05CEST21:22:05' [astropy.utils.metadata]\n",
      "WARNING: MergeConflictWarning: Cannot merge meta key u'description' types <type 'unicode'> and <type 'unicode'>, choosing description=u'Simbad script executed on 2017.10.05CEST21:22:06' [astropy.utils.metadata]\n",
      "WARNING: MergeConflictWarning: Cannot merge meta key u'description' types <type 'unicode'> and <type 'unicode'>, choosing description=u'Simbad script executed on 2017.10.05CEST21:22:07' [astropy.utils.metadata]\n",
      "/home/kcdage/anaconda/lib/python2.7/site-packages/astroquery/simbad/core.py:136: UserWarning: Warning: The script line number 3 raised an error (recorded in the `errors` attribute of the result table): '12:29:46.314 +7:59:55.98': No astronomical object found :\n",
      "  (error.line, error.msg))\n"
     ]
    },
    {
     "name": "stdout",
     "output_type": "stream",
     "text": [
      "<SkyCoord (ICRS): (ra, dec) in deg\n",
      "    ( 187.442975,  7.99888333)>\n",
      "No catalog item found for this within 1 arcsecond, saving coordinates [u'12h29m46.314s'] [u'7d59m55.98s']\n"
     ]
    },
    {
     "name": "stderr",
     "output_type": "stream",
     "text": [
      "WARNING: MergeConflictWarning: Cannot merge meta key u'description' types <type 'unicode'> and <type 'unicode'>, choosing description=u'Simbad script executed on 2017.10.05CEST21:22:08' [astropy.utils.metadata]\n",
      "WARNING: MergeConflictWarning: Cannot merge meta key u'description' types <type 'unicode'> and <type 'unicode'>, choosing description=u'Simbad script executed on 2017.10.05CEST21:22:09' [astropy.utils.metadata]\n",
      "WARNING: MergeConflictWarning: Cannot merge meta key u'description' types <type 'unicode'> and <type 'unicode'>, choosing description=u'Simbad script executed on 2017.10.05CEST21:22:11' [astropy.utils.metadata]\n",
      "WARNING: MergeConflictWarning: Cannot merge meta key u'description' types <type 'unicode'> and <type 'unicode'>, choosing description=u'Simbad script executed on 2017.10.05CEST21:22:12' [astropy.utils.metadata]\n",
      "WARNING: MergeConflictWarning: Cannot merge meta key u'description' types <type 'unicode'> and <type 'unicode'>, choosing description=u'Simbad script executed on 2017.10.05CEST21:22:13' [astropy.utils.metadata]\n",
      "/home/kcdage/anaconda/lib/python2.7/site-packages/astroquery/simbad/core.py:136: UserWarning: Warning: The script line number 3 raised an error (recorded in the `errors` attribute of the result table): '12:29:49.327 +8:00:13.05': No astronomical object found :\n",
      "  (error.line, error.msg))\n"
     ]
    },
    {
     "name": "stdout",
     "output_type": "stream",
     "text": [
      "<SkyCoord (ICRS): (ra, dec) in deg\n",
      "    ( 187.45552917,  8.003625)>\n",
      "No catalog item found for this within 1 arcsecond, saving coordinates [u'12h29m49.327s'] [u'8d00m13.05s']\n"
     ]
    },
    {
     "name": "stderr",
     "output_type": "stream",
     "text": [
      "WARNING: MergeConflictWarning: Cannot merge meta key u'description' types <type 'unicode'> and <type 'unicode'>, choosing description=u'Simbad script executed on 2017.10.05CEST21:22:14' [astropy.utils.metadata]\n",
      "/home/kcdage/anaconda/lib/python2.7/site-packages/astroquery/simbad/core.py:136: UserWarning: Warning: The script line number 3 raised an error (recorded in the `errors` attribute of the result table): '12:29:48.264 +8:00:16.32': No astronomical object found :\n",
      "  (error.line, error.msg))\n"
     ]
    },
    {
     "name": "stdout",
     "output_type": "stream",
     "text": [
      "<SkyCoord (ICRS): (ra, dec) in deg\n",
      "    ( 187.4511,  8.00453333)>\n",
      "No catalog item found for this within 1 arcsecond, saving coordinates [u'12h29m48.264s'] [u'8d00m16.32s']\n"
     ]
    },
    {
     "name": "stderr",
     "output_type": "stream",
     "text": [
      "WARNING: MergeConflictWarning: Cannot merge meta key u'description' types <type 'unicode'> and <type 'unicode'>, choosing description=u'Simbad script executed on 2017.10.05CEST21:22:15' [astropy.utils.metadata]\n",
      "WARNING: MergeConflictWarning: Cannot merge meta key u'description' types <type 'unicode'> and <type 'unicode'>, choosing description=u'Simbad script executed on 2017.10.05CEST21:22:16' [astropy.utils.metadata]\n",
      "/home/kcdage/anaconda/lib/python2.7/site-packages/astroquery/simbad/core.py:136: UserWarning: Warning: The script line number 3 raised an error (recorded in the `errors` attribute of the result table): '12:29:47.874 +8:00:36.89': No astronomical object found :\n",
      "  (error.line, error.msg))\n"
     ]
    },
    {
     "name": "stdout",
     "output_type": "stream",
     "text": [
      "<SkyCoord (ICRS): (ra, dec) in deg\n",
      "    ( 187.449475,  8.01024722)>\n",
      "No catalog item found for this within 1 arcsecond, saving coordinates [u'12h29m47.874s'] [u'8d00m36.89s']\n"
     ]
    },
    {
     "name": "stderr",
     "output_type": "stream",
     "text": [
      "WARNING: MergeConflictWarning: Cannot merge meta key u'description' types <type 'unicode'> and <type 'unicode'>, choosing description=u'Simbad script executed on 2017.10.05CEST21:22:17' [astropy.utils.metadata]\n",
      "WARNING: MergeConflictWarning: Cannot merge meta key u'description' types <type 'unicode'> and <type 'unicode'>, choosing description=u'Simbad script executed on 2017.10.05CEST21:22:18' [astropy.utils.metadata]\n",
      "/home/kcdage/anaconda/lib/python2.7/site-packages/astroquery/simbad/core.py:136: UserWarning: Warning: The script line number 3 raised an error (recorded in the `errors` attribute of the result table): '12:29:59.381 +8:00:47.82': No astronomical object found :\n",
      "  (error.line, error.msg))\n"
     ]
    },
    {
     "name": "stdout",
     "output_type": "stream",
     "text": [
      "<SkyCoord (ICRS): (ra, dec) in deg\n",
      "    ( 187.49742083,  8.01328333)>\n",
      "No catalog item found for this within 1 arcsecond, saving coordinates [u'12h29m59.381s'] [u'8d00m47.82s']\n"
     ]
    },
    {
     "name": "stderr",
     "output_type": "stream",
     "text": [
      "WARNING: MergeConflictWarning: Cannot merge meta key u'description' types <type 'unicode'> and <type 'unicode'>, choosing description=u'Simbad script executed on 2017.10.05CEST21:22:19' [astropy.utils.metadata]\n",
      "WARNING: MergeConflictWarning: Cannot merge meta key u'description' types <type 'unicode'> and <type 'unicode'>, choosing description=u'Simbad script executed on 2017.10.05CEST21:22:20' [astropy.utils.metadata]\n",
      "/home/kcdage/anaconda/lib/python2.7/site-packages/astroquery/simbad/core.py:136: UserWarning: Warning: The script line number 3 raised an error (recorded in the `errors` attribute of the result table): '12:29:41.667 +8:01:02.06': No astronomical object found :\n",
      "  (error.line, error.msg))\n"
     ]
    },
    {
     "name": "stdout",
     "output_type": "stream",
     "text": [
      "<SkyCoord (ICRS): (ra, dec) in deg\n",
      "    ( 187.4236125,  8.01723889)>\n",
      "No catalog item found for this within 1 arcsecond, saving coordinates [u'12h29m41.667s'] [u'8d01m02.06s']\n"
     ]
    },
    {
     "name": "stderr",
     "output_type": "stream",
     "text": [
      "/home/kcdage/anaconda/lib/python2.7/site-packages/astroquery/simbad/core.py:136: UserWarning: Warning: The script line number 3 raised an error (recorded in the `errors` attribute of the result table): '12:29:48.757 +8:01:17.15': No astronomical object found :\n",
      "  (error.line, error.msg))\n"
     ]
    },
    {
     "name": "stdout",
     "output_type": "stream",
     "text": [
      "<SkyCoord (ICRS): (ra, dec) in deg\n",
      "    ( 187.45315417,  8.02143056)>\n",
      "No catalog item found for this within 1 arcsecond, saving coordinates [u'12h29m48.757s'] [u'8d01m17.15s']\n"
     ]
    },
    {
     "name": "stderr",
     "output_type": "stream",
     "text": [
      "WARNING: MergeConflictWarning: Cannot merge meta key u'description' types <type 'unicode'> and <type 'unicode'>, choosing description=u'Simbad script executed on 2017.10.05CEST21:22:21' [astropy.utils.metadata]\n",
      "/home/kcdage/anaconda/lib/python2.7/site-packages/astroquery/simbad/core.py:136: UserWarning: Warning: The script line number 3 raised an error (recorded in the `errors` attribute of the result table): '12:29:43.446 +8:01:58.25': No astronomical object found :\n",
      "  (error.line, error.msg))\n"
     ]
    },
    {
     "name": "stdout",
     "output_type": "stream",
     "text": [
      "<SkyCoord (ICRS): (ra, dec) in deg\n",
      "    ( 187.431025,  8.03284722)>\n",
      "No catalog item found for this within 1 arcsecond, saving coordinates [u'12h29m43.446s'] [u'8d01m58.25s']\n"
     ]
    },
    {
     "name": "stderr",
     "output_type": "stream",
     "text": [
      "WARNING: MergeConflictWarning: Cannot merge meta key u'description' types <type 'unicode'> and <type 'unicode'>, choosing description=u'Simbad script executed on 2017.10.05CEST21:22:22' [astropy.utils.metadata]\n",
      "/home/kcdage/anaconda/lib/python2.7/site-packages/astroquery/simbad/core.py:136: UserWarning: Warning: The script line number 3 raised an error (recorded in the `errors` attribute of the result table): '12:29:49.751 +8:05:06.63': No astronomical object found :\n",
      "  (error.line, error.msg))\n"
     ]
    },
    {
     "name": "stdout",
     "output_type": "stream",
     "text": [
      "<SkyCoord (ICRS): (ra, dec) in deg\n",
      "    ( 187.45729583,  8.085175)>\n",
      "No catalog item found for this within 1 arcsecond, saving coordinates [u'12h29m49.751s'] [u'8d05m06.63s']\n"
     ]
    },
    {
     "name": "stderr",
     "output_type": "stream",
     "text": [
      "/home/kcdage/anaconda/lib/python2.7/site-packages/astroquery/simbad/core.py:136: UserWarning: Warning: The script line number 3 raised an error (recorded in the `errors` attribute of the result table): '12:30:03.368 +8:06:17.33': No astronomical object found :\n",
      "  (error.line, error.msg))\n"
     ]
    },
    {
     "name": "stdout",
     "output_type": "stream",
     "text": [
      "<SkyCoord (ICRS): (ra, dec) in deg\n",
      "    ( 187.51403333,  8.10481389)>\n",
      "No catalog item found for this within 1 arcsecond, saving coordinates [u'12h30m03.368s'] [u'8d06m17.33s']\n"
     ]
    },
    {
     "name": "stderr",
     "output_type": "stream",
     "text": [
      "/home/kcdage/anaconda/lib/python2.7/site-packages/astroquery/simbad/core.py:136: UserWarning: Warning: The script line number 3 raised an error (recorded in the `errors` attribute of the result table): '12:29:51.889 +7:53:53.08': No astronomical object found :\n",
      "  (error.line, error.msg))\n"
     ]
    },
    {
     "name": "stdout",
     "output_type": "stream",
     "text": [
      "<SkyCoord (ICRS): (ra, dec) in deg\n",
      "    ( 187.46620417,  7.89807778)>\n",
      "No catalog item found for this within 1 arcsecond, saving coordinates [u'12h29m51.889s'] [u'7d53m53.08s']\n"
     ]
    },
    {
     "name": "stderr",
     "output_type": "stream",
     "text": [
      "/home/kcdage/anaconda/lib/python2.7/site-packages/astroquery/simbad/core.py:136: UserWarning: Warning: The script line number 3 raised an error (recorded in the `errors` attribute of the result table): '12:30:45.994 +7:53:57.49': No astronomical object found :\n",
      "  (error.line, error.msg))\n"
     ]
    },
    {
     "name": "stdout",
     "output_type": "stream",
     "text": [
      "<SkyCoord (ICRS): (ra, dec) in deg\n",
      "    ( 187.69164167,  7.89930278)>\n",
      "No catalog item found for this within 1 arcsecond, saving coordinates [u'12h30m45.994s'] [u'7d53m57.49s']\n"
     ]
    },
    {
     "name": "stderr",
     "output_type": "stream",
     "text": [
      "/home/kcdage/anaconda/lib/python2.7/site-packages/astroquery/simbad/core.py:136: UserWarning: Warning: The script line number 3 raised an error (recorded in the `errors` attribute of the result table): '12:29:31.989 +7:54:26.36': No astronomical object found :\n",
      "  (error.line, error.msg))\n"
     ]
    },
    {
     "name": "stdout",
     "output_type": "stream",
     "text": [
      "<SkyCoord (ICRS): (ra, dec) in deg\n",
      "    ( 187.3832875,  7.90732222)>\n",
      "No catalog item found for this within 1 arcsecond, saving coordinates [u'12h29m31.989s'] [u'7d54m26.36s']\n"
     ]
    },
    {
     "name": "stderr",
     "output_type": "stream",
     "text": [
      "/home/kcdage/anaconda/lib/python2.7/site-packages/astroquery/simbad/core.py:136: UserWarning: Warning: The script line number 3 raised an error (recorded in the `errors` attribute of the result table): '12:29:38.255 +7:55:15.7': No astronomical object found :\n",
      "  (error.line, error.msg))\n"
     ]
    },
    {
     "name": "stdout",
     "output_type": "stream",
     "text": [
      "<SkyCoord (ICRS): (ra, dec) in deg\n",
      "    ( 187.40939583,  7.92102778)>\n",
      "No catalog item found for this within 1 arcsecond, saving coordinates [u'12h29m38.255s'] [u'7d55m15.7s']\n"
     ]
    },
    {
     "name": "stderr",
     "output_type": "stream",
     "text": [
      "/home/kcdage/anaconda/lib/python2.7/site-packages/astroquery/simbad/core.py:136: UserWarning: Warning: The script line number 3 raised an error (recorded in the `errors` attribute of the result table): '12:29:44.074 +7:55:30.92': No astronomical object found :\n",
      "  (error.line, error.msg))\n"
     ]
    },
    {
     "name": "stdout",
     "output_type": "stream",
     "text": [
      "<SkyCoord (ICRS): (ra, dec) in deg\n",
      "    ( 187.43364167,  7.92525556)>\n",
      "No catalog item found for this within 1 arcsecond, saving coordinates [u'12h29m44.074s'] [u'7d55m30.92s']\n"
     ]
    },
    {
     "name": "stderr",
     "output_type": "stream",
     "text": [
      "WARNING: MergeConflictWarning: Cannot merge meta key u'description' types <type 'unicode'> and <type 'unicode'>, choosing description=u'Simbad script executed on 2017.10.05CEST21:22:24' [astropy.utils.metadata]\n",
      "/home/kcdage/anaconda/lib/python2.7/site-packages/astroquery/simbad/core.py:136: UserWarning: Warning: The script line number 3 raised an error (recorded in the `errors` attribute of the result table): '12:29:30.791 +7:55:48.85': No astronomical object found :\n",
      "  (error.line, error.msg))\n"
     ]
    },
    {
     "name": "stdout",
     "output_type": "stream",
     "text": [
      "<SkyCoord (ICRS): (ra, dec) in deg\n",
      "    ( 187.37829583,  7.93023611)>\n",
      "No catalog item found for this within 1 arcsecond, saving coordinates [u'12h29m30.791s'] [u'7d55m48.85s']\n"
     ]
    },
    {
     "name": "stderr",
     "output_type": "stream",
     "text": [
      "/home/kcdage/anaconda/lib/python2.7/site-packages/astroquery/simbad/core.py:136: UserWarning: Warning: The script line number 3 raised an error (recorded in the `errors` attribute of the result table): '12:29:33.887 +7:55:55.09': No astronomical object found :\n",
      "  (error.line, error.msg))\n"
     ]
    },
    {
     "name": "stdout",
     "output_type": "stream",
     "text": [
      "<SkyCoord (ICRS): (ra, dec) in deg\n",
      "    ( 187.39119583,  7.93196944)>\n",
      "No catalog item found for this within 1 arcsecond, saving coordinates [u'12h29m33.887s'] [u'7d55m55.09s']\n"
     ]
    },
    {
     "name": "stderr",
     "output_type": "stream",
     "text": [
      "/home/kcdage/anaconda/lib/python2.7/site-packages/astroquery/simbad/core.py:136: UserWarning: Warning: The script line number 3 raised an error (recorded in the `errors` attribute of the result table): '12:29:54.341 +7:56:11.97': No astronomical object found :\n",
      "  (error.line, error.msg))\n"
     ]
    },
    {
     "name": "stdout",
     "output_type": "stream",
     "text": [
      "<SkyCoord (ICRS): (ra, dec) in deg\n",
      "    ( 187.47642083,  7.93665833)>\n",
      "No catalog item found for this within 1 arcsecond, saving coordinates [u'12h29m54.341s'] [u'7d56m11.97s']\n"
     ]
    },
    {
     "name": "stderr",
     "output_type": "stream",
     "text": [
      "/home/kcdage/anaconda/lib/python2.7/site-packages/astroquery/simbad/core.py:136: UserWarning: Warning: The script line number 3 raised an error (recorded in the `errors` attribute of the result table): '12:29:47.359 +7:56:12.19': No astronomical object found :\n",
      "  (error.line, error.msg))\n"
     ]
    },
    {
     "name": "stdout",
     "output_type": "stream",
     "text": [
      "<SkyCoord (ICRS): (ra, dec) in deg\n",
      "    ( 187.44732917,  7.93671944)>\n",
      "No catalog item found for this within 1 arcsecond, saving coordinates [u'12h29m47.359s'] [u'7d56m12.19s']\n"
     ]
    },
    {
     "name": "stderr",
     "output_type": "stream",
     "text": [
      "/home/kcdage/anaconda/lib/python2.7/site-packages/astroquery/simbad/core.py:136: UserWarning: Warning: The script line number 3 raised an error (recorded in the `errors` attribute of the result table): '12:29:54.978 +7:56:19.27': No astronomical object found :\n",
      "  (error.line, error.msg))\n"
     ]
    },
    {
     "name": "stdout",
     "output_type": "stream",
     "text": [
      "<SkyCoord (ICRS): (ra, dec) in deg\n",
      "    ( 187.479075,  7.93868611)>\n",
      "No catalog item found for this within 1 arcsecond, saving coordinates [u'12h29m54.978s'] [u'7d56m19.27s']\n"
     ]
    },
    {
     "name": "stderr",
     "output_type": "stream",
     "text": [
      "/home/kcdage/anaconda/lib/python2.7/site-packages/astroquery/simbad/core.py:136: UserWarning: Warning: The script line number 3 raised an error (recorded in the `errors` attribute of the result table): '12:29:52.972 +7:56:30.95': No astronomical object found :\n",
      "  (error.line, error.msg))\n"
     ]
    },
    {
     "name": "stdout",
     "output_type": "stream",
     "text": [
      "<SkyCoord (ICRS): (ra, dec) in deg\n",
      "    ( 187.47071667,  7.94193056)>\n",
      "No catalog item found for this within 1 arcsecond, saving coordinates [u'12h29m52.972s'] [u'7d56m30.95s']\n"
     ]
    },
    {
     "name": "stderr",
     "output_type": "stream",
     "text": [
      "WARNING: MergeConflictWarning: Cannot merge meta key u'description' types <type 'unicode'> and <type 'unicode'>, choosing description=u'Simbad script executed on 2017.10.05CEST21:22:27' [astropy.utils.metadata]\n",
      "/home/kcdage/anaconda/lib/python2.7/site-packages/astroquery/simbad/core.py:136: UserWarning: Warning: The script line number 3 raised an error (recorded in the `errors` attribute of the result table): '12:30:01.882 +7:57:19.17': No astronomical object found :\n",
      "  (error.line, error.msg))\n"
     ]
    },
    {
     "name": "stdout",
     "output_type": "stream",
     "text": [
      "<SkyCoord (ICRS): (ra, dec) in deg\n",
      "    ( 187.50784167,  7.955325)>\n",
      "No catalog item found for this within 1 arcsecond, saving coordinates [u'12h30m01.882s'] [u'7d57m19.17s']\n"
     ]
    },
    {
     "name": "stderr",
     "output_type": "stream",
     "text": [
      "WARNING: MergeConflictWarning: Cannot merge meta key u'description' types <type 'unicode'> and <type 'unicode'>, choosing description=u'Simbad script executed on 2017.10.05CEST21:22:28' [astropy.utils.metadata]\n",
      "/home/kcdage/anaconda/lib/python2.7/site-packages/astroquery/simbad/core.py:136: UserWarning: Warning: The script line number 3 raised an error (recorded in the `errors` attribute of the result table): '12:29:43.019 +7:57:28.18': No astronomical object found :\n",
      "  (error.line, error.msg))\n"
     ]
    },
    {
     "name": "stdout",
     "output_type": "stream",
     "text": [
      "<SkyCoord (ICRS): (ra, dec) in deg\n",
      "    ( 187.42924583,  7.95782778)>\n",
      "No catalog item found for this within 1 arcsecond, saving coordinates [u'12h29m43.019s'] [u'7d57m28.18s']\n"
     ]
    },
    {
     "name": "stderr",
     "output_type": "stream",
     "text": [
      "WARNING: MergeConflictWarning: Cannot merge meta key u'description' types <type 'unicode'> and <type 'unicode'>, choosing description=u'Simbad script executed on 2017.10.05CEST21:22:29' [astropy.utils.metadata]\n",
      "WARNING: MergeConflictWarning: Cannot merge meta key u'description' types <type 'unicode'> and <type 'unicode'>, choosing description=u'Simbad script executed on 2017.10.05CEST21:22:30' [astropy.utils.metadata]\n",
      "/home/kcdage/anaconda/lib/python2.7/site-packages/astroquery/simbad/core.py:136: UserWarning: Warning: The script line number 3 raised an error (recorded in the `errors` attribute of the result table): '12:29:47.625 +7:58:43.32': No astronomical object found :\n",
      "  (error.line, error.msg))\n"
     ]
    },
    {
     "name": "stdout",
     "output_type": "stream",
     "text": [
      "<SkyCoord (ICRS): (ra, dec) in deg\n",
      "    ( 187.4484375,  7.9787)>\n",
      "No catalog item found for this within 1 arcsecond, saving coordinates [u'12h29m47.625s'] [u'7d58m43.32s']\n"
     ]
    },
    {
     "name": "stderr",
     "output_type": "stream",
     "text": [
      "/home/kcdage/anaconda/lib/python2.7/site-packages/astroquery/simbad/core.py:136: UserWarning: Warning: The script line number 3 raised an error (recorded in the `errors` attribute of the result table): '12:29:49.555 +7:59:10.52': No astronomical object found :\n",
      "  (error.line, error.msg))\n"
     ]
    },
    {
     "name": "stdout",
     "output_type": "stream",
     "text": [
      "<SkyCoord (ICRS): (ra, dec) in deg\n",
      "    ( 187.45647917,  7.98625556)>\n",
      "No catalog item found for this within 1 arcsecond, saving coordinates [u'12h29m49.555s'] [u'7d59m10.52s']\n"
     ]
    },
    {
     "name": "stderr",
     "output_type": "stream",
     "text": [
      "WARNING: MergeConflictWarning: Cannot merge meta key u'description' types <type 'unicode'> and <type 'unicode'>, choosing description=u'Simbad script executed on 2017.10.05CEST21:22:31' [astropy.utils.metadata]\n",
      "/home/kcdage/anaconda/lib/python2.7/site-packages/astroquery/simbad/core.py:136: UserWarning: Warning: The script line number 3 raised an error (recorded in the `errors` attribute of the result table): '12:29:46.524 +7:59:20.69': No astronomical object found :\n",
      "  (error.line, error.msg))\n"
     ]
    },
    {
     "name": "stdout",
     "output_type": "stream",
     "text": [
      "<SkyCoord (ICRS): (ra, dec) in deg\n",
      "    ( 187.44385,  7.98908056)>\n",
      "No catalog item found for this within 1 arcsecond, saving coordinates [u'12h29m46.524s'] [u'7d59m20.69s']\n"
     ]
    },
    {
     "name": "stderr",
     "output_type": "stream",
     "text": [
      "WARNING: MergeConflictWarning: Cannot merge meta key u'description' types <type 'unicode'> and <type 'unicode'>, choosing description=u'Simbad script executed on 2017.10.05CEST21:22:32' [astropy.utils.metadata]\n",
      "/home/kcdage/anaconda/lib/python2.7/site-packages/astroquery/simbad/core.py:136: UserWarning: Warning: The script line number 3 raised an error (recorded in the `errors` attribute of the result table): '12:29:32.39 +7:59:34.59': No astronomical object found :\n",
      "  (error.line, error.msg))\n"
     ]
    },
    {
     "name": "stdout",
     "output_type": "stream",
     "text": [
      "<SkyCoord (ICRS): (ra, dec) in deg\n",
      "    ( 187.38495833,  7.99294167)>\n",
      "No catalog item found for this within 1 arcsecond, saving coordinates [u'12h29m32.39s'] [u'7d59m34.59s']\n"
     ]
    },
    {
     "name": "stderr",
     "output_type": "stream",
     "text": [
      "WARNING: MergeConflictWarning: Cannot merge meta key u'description' types <type 'unicode'> and <type 'unicode'>, choosing description=u'Simbad script executed on 2017.10.05CEST21:22:33' [astropy.utils.metadata]\n",
      "/home/kcdage/anaconda/lib/python2.7/site-packages/astroquery/simbad/core.py:136: UserWarning: Warning: The script line number 3 raised an error (recorded in the `errors` attribute of the result table): '12:29:47.892 +7:59:52.22': No astronomical object found :\n",
      "  (error.line, error.msg))\n"
     ]
    },
    {
     "name": "stdout",
     "output_type": "stream",
     "text": [
      "<SkyCoord (ICRS): (ra, dec) in deg\n",
      "    ( 187.44955,  7.99783889)>\n",
      "No catalog item found for this within 1 arcsecond, saving coordinates [u'12h29m47.892s'] [u'7d59m52.22s']\n"
     ]
    },
    {
     "name": "stderr",
     "output_type": "stream",
     "text": [
      "/home/kcdage/anaconda/lib/python2.7/site-packages/astroquery/simbad/core.py:136: UserWarning: Warning: The script line number 3 raised an error (recorded in the `errors` attribute of the result table): '12:29:46.212 +7:59:53.2': No astronomical object found :\n",
      "  (error.line, error.msg))\n"
     ]
    },
    {
     "name": "stdout",
     "output_type": "stream",
     "text": [
      "<SkyCoord (ICRS): (ra, dec) in deg\n",
      "    ( 187.44255,  7.99811111)>\n",
      "No catalog item found for this within 1 arcsecond, saving coordinates [u'12h29m46.212s'] [u'7d59m53.2s']\n"
     ]
    },
    {
     "name": "stderr",
     "output_type": "stream",
     "text": [
      "/home/kcdage/anaconda/lib/python2.7/site-packages/astroquery/simbad/core.py:136: UserWarning: Warning: The script line number 3 raised an error (recorded in the `errors` attribute of the result table): '12:29:48.591 +7:59:53.72': No astronomical object found :\n",
      "  (error.line, error.msg))\n"
     ]
    },
    {
     "name": "stdout",
     "output_type": "stream",
     "text": [
      "<SkyCoord (ICRS): (ra, dec) in deg\n",
      "    ( 187.4524625,  7.99825556)>\n",
      "No catalog item found for this within 1 arcsecond, saving coordinates [u'12h29m48.591s'] [u'7d59m53.72s']\n"
     ]
    },
    {
     "name": "stderr",
     "output_type": "stream",
     "text": [
      "WARNING: MergeConflictWarning: Cannot merge meta key u'description' types <type 'unicode'> and <type 'unicode'>, choosing description=u'Simbad script executed on 2017.10.05CEST21:22:34' [astropy.utils.metadata]\n",
      "/home/kcdage/anaconda/lib/python2.7/site-packages/astroquery/simbad/core.py:136: UserWarning: Warning: The script line number 3 raised an error (recorded in the `errors` attribute of the result table): '12:29:35.153 +7:59:59.96': No astronomical object found :\n",
      "  (error.line, error.msg))\n"
     ]
    },
    {
     "name": "stdout",
     "output_type": "stream",
     "text": [
      "<SkyCoord (ICRS): (ra, dec) in deg\n",
      "    ( 187.39647083,  7.99998889)>\n",
      "No catalog item found for this within 1 arcsecond, saving coordinates [u'12h29m35.153s'] [u'7d59m59.96s']\n"
     ]
    },
    {
     "name": "stderr",
     "output_type": "stream",
     "text": [
      "/home/kcdage/anaconda/lib/python2.7/site-packages/astroquery/simbad/core.py:136: UserWarning: Warning: The script line number 3 raised an error (recorded in the `errors` attribute of the result table): '12:29:46.741 +8:00:03.03': No astronomical object found :\n",
      "  (error.line, error.msg))\n"
     ]
    },
    {
     "name": "stdout",
     "output_type": "stream",
     "text": [
      "<SkyCoord (ICRS): (ra, dec) in deg\n",
      "    ( 187.44475417,  8.00084167)>\n",
      "No catalog item found for this within 1 arcsecond, saving coordinates [u'12h29m46.741s'] [u'8d00m03.03s']\n"
     ]
    },
    {
     "name": "stderr",
     "output_type": "stream",
     "text": [
      "WARNING: MergeConflictWarning: Cannot merge meta key u'description' types <type 'unicode'> and <type 'unicode'>, choosing description=u'Simbad script executed on 2017.10.05CEST21:22:35' [astropy.utils.metadata]\n",
      "WARNING: MergeConflictWarning: Cannot merge meta key u'description' types <type 'unicode'> and <type 'unicode'>, choosing description=u'Simbad script executed on 2017.10.05CEST21:22:36' [astropy.utils.metadata]\n",
      "/home/kcdage/anaconda/lib/python2.7/site-packages/astroquery/simbad/core.py:136: UserWarning: Warning: The script line number 3 raised an error (recorded in the `errors` attribute of the result table): '12:29:46.78 +8:00:22.77': No astronomical object found :\n",
      "  (error.line, error.msg))\n"
     ]
    },
    {
     "name": "stdout",
     "output_type": "stream",
     "text": [
      "<SkyCoord (ICRS): (ra, dec) in deg\n",
      "    ( 187.44491667,  8.006325)>\n",
      "No catalog item found for this within 1 arcsecond, saving coordinates [u'12h29m46.78s'] [u'8d00m22.77s']\n"
     ]
    },
    {
     "name": "stderr",
     "output_type": "stream",
     "text": [
      "/home/kcdage/anaconda/lib/python2.7/site-packages/astroquery/simbad/core.py:136: UserWarning: Warning: The script line number 3 raised an error (recorded in the `errors` attribute of the result table): '12:29:55.1 +8:00:31.04': No astronomical object found :\n",
      "  (error.line, error.msg))\n"
     ]
    },
    {
     "name": "stdout",
     "output_type": "stream",
     "text": [
      "<SkyCoord (ICRS): (ra, dec) in deg\n",
      "    ( 187.47958333,  8.00862222)>\n",
      "No catalog item found for this within 1 arcsecond, saving coordinates [u'12h29m55.1s'] [u'8d00m31.04s']\n"
     ]
    },
    {
     "name": "stderr",
     "output_type": "stream",
     "text": [
      "/home/kcdage/anaconda/lib/python2.7/site-packages/astroquery/simbad/core.py:136: UserWarning: Warning: The script line number 3 raised an error (recorded in the `errors` attribute of the result table): '12:29:39.438 +8:00:37.24': No astronomical object found :\n",
      "  (error.line, error.msg))\n"
     ]
    },
    {
     "name": "stdout",
     "output_type": "stream",
     "text": [
      "<SkyCoord (ICRS): (ra, dec) in deg\n",
      "    ( 187.414325,  8.01034444)>\n",
      "No catalog item found for this within 1 arcsecond, saving coordinates [u'12h29m39.438s'] [u'8d00m37.24s']\n"
     ]
    },
    {
     "name": "stderr",
     "output_type": "stream",
     "text": [
      "WARNING: MergeConflictWarning: Cannot merge meta key u'description' types <type 'unicode'> and <type 'unicode'>, choosing description=u'Simbad script executed on 2017.10.05CEST21:22:37' [astropy.utils.metadata]\n",
      "WARNING: MergeConflictWarning: Cannot merge meta key u'description' types <type 'unicode'> and <type 'unicode'>, choosing description=u'Simbad script executed on 2017.10.05CEST21:22:38' [astropy.utils.metadata]\n",
      "/home/kcdage/anaconda/lib/python2.7/site-packages/astroquery/simbad/core.py:136: UserWarning: Warning: The script line number 3 raised an error (recorded in the `errors` attribute of the result table): '12:29:55.51 +8:00:53.61': No astronomical object found :\n",
      "  (error.line, error.msg))\n"
     ]
    },
    {
     "name": "stdout",
     "output_type": "stream",
     "text": [
      "<SkyCoord (ICRS): (ra, dec) in deg\n",
      "    ( 187.48129167,  8.01489167)>\n",
      "No catalog item found for this within 1 arcsecond, saving coordinates [u'12h29m55.51s'] [u'8d00m53.61s']\n"
     ]
    },
    {
     "name": "stderr",
     "output_type": "stream",
     "text": [
      "WARNING: MergeConflictWarning: Cannot merge meta key u'description' types <type 'unicode'> and <type 'unicode'>, choosing description=u'Simbad script executed on 2017.10.05CEST21:22:39' [astropy.utils.metadata]\n",
      "WARNING: MergeConflictWarning: Cannot merge meta key u'description' types <type 'unicode'> and <type 'unicode'>, choosing description=u'Simbad script executed on 2017.10.05CEST21:22:40' [astropy.utils.metadata]\n",
      "/home/kcdage/anaconda/lib/python2.7/site-packages/astroquery/simbad/core.py:136: UserWarning: Warning: The script line number 3 raised an error (recorded in the `errors` attribute of the result table): '12:29:30.472 +8:03:03': No astronomical object found :\n",
      "  (error.line, error.msg))\n"
     ]
    },
    {
     "name": "stdout",
     "output_type": "stream",
     "text": [
      "<SkyCoord (ICRS): (ra, dec) in deg\n",
      "    ( 187.37696667,  8.05083333)>\n",
      "No catalog item found for this within 1 arcsecond, saving coordinates [u'12h29m30.472s'] [u'8d03m03s']\n"
     ]
    },
    {
     "name": "stderr",
     "output_type": "stream",
     "text": [
      "/home/kcdage/anaconda/lib/python2.7/site-packages/astroquery/simbad/core.py:136: UserWarning: Warning: The script line number 3 raised an error (recorded in the `errors` attribute of the result table): '12:30:25.95 +8:04:53.72': No astronomical object found :\n",
      "  (error.line, error.msg))\n"
     ]
    },
    {
     "name": "stdout",
     "output_type": "stream",
     "text": [
      "<SkyCoord (ICRS): (ra, dec) in deg\n",
      "    ( 187.608125,  8.08158889)>\n",
      "No catalog item found for this within 1 arcsecond, saving coordinates [u'12h30m25.95s'] [u'8d04m53.72s']\n"
     ]
    },
    {
     "name": "stderr",
     "output_type": "stream",
     "text": [
      "/home/kcdage/anaconda/lib/python2.7/site-packages/astroquery/simbad/core.py:136: UserWarning: Warning: The script line number 3 raised an error (recorded in the `errors` attribute of the result table): '12:30:34.497 +8:05:26.76': No astronomical object found :\n",
      "  (error.line, error.msg))\n"
     ]
    },
    {
     "name": "stdout",
     "output_type": "stream",
     "text": [
      "<SkyCoord (ICRS): (ra, dec) in deg\n",
      "    ( 187.6437375,  8.09076667)>\n",
      "No catalog item found for this within 1 arcsecond, saving coordinates [u'12h30m34.497s'] [u'8d05m26.76s']\n"
     ]
    },
    {
     "name": "stderr",
     "output_type": "stream",
     "text": [
      "/home/kcdage/anaconda/lib/python2.7/site-packages/astroquery/simbad/core.py:136: UserWarning: Warning: The script line number 3 raised an error (recorded in the `errors` attribute of the result table): '12:30:20.53 +8:06:20.59': No astronomical object found :\n",
      "  (error.line, error.msg))\n"
     ]
    },
    {
     "name": "stdout",
     "output_type": "stream",
     "text": [
      "<SkyCoord (ICRS): (ra, dec) in deg\n",
      "    ( 187.58554167,  8.10571944)>\n",
      "No catalog item found for this within 1 arcsecond, saving coordinates [u'12h30m20.53s'] [u'8d06m20.59s']\n"
     ]
    },
    {
     "name": "stderr",
     "output_type": "stream",
     "text": [
      "/home/kcdage/anaconda/lib/python2.7/site-packages/astroquery/simbad/core.py:136: UserWarning: Warning: The script line number 3 raised an error (recorded in the `errors` attribute of the result table): '12:29:37.939 +8:10:20.27': No astronomical object found :\n",
      "  (error.line, error.msg))\n"
     ]
    },
    {
     "name": "stdout",
     "output_type": "stream",
     "text": [
      "<SkyCoord (ICRS): (ra, dec) in deg\n",
      "    ( 187.40807917,  8.17229722)>\n",
      "No catalog item found for this within 1 arcsecond, saving coordinates [u'12h29m37.939s'] [u'8d10m20.27s']\n"
     ]
    },
    {
     "name": "stderr",
     "output_type": "stream",
     "text": [
      "/home/kcdage/anaconda/lib/python2.7/site-packages/astroquery/simbad/core.py:136: UserWarning: Warning: The script line number 3 raised an error (recorded in the `errors` attribute of the result table): '12:30:23.482 +7:53:03.15': No astronomical object found :\n",
      "  (error.line, error.msg))\n"
     ]
    },
    {
     "name": "stdout",
     "output_type": "stream",
     "text": [
      "<SkyCoord (ICRS): (ra, dec) in deg\n",
      "    ( 187.59784167,  7.88420833)>\n",
      "No catalog item found for this within 1 arcsecond, saving coordinates [u'12h30m23.482s'] [u'7d53m03.15s']\n"
     ]
    },
    {
     "name": "stderr",
     "output_type": "stream",
     "text": [
      "WARNING: MergeConflictWarning: Cannot merge meta key u'description' types <type 'unicode'> and <type 'unicode'>, choosing description=u'Simbad script executed on 2017.10.05CEST21:22:42' [astropy.utils.metadata]\n",
      "/home/kcdage/anaconda/lib/python2.7/site-packages/astroquery/simbad/core.py:136: UserWarning: Warning: The script line number 3 raised an error (recorded in the `errors` attribute of the result table): '12:29:40.908 +7:53:35.94': No astronomical object found :\n",
      "  (error.line, error.msg))\n"
     ]
    },
    {
     "name": "stdout",
     "output_type": "stream",
     "text": [
      "<SkyCoord (ICRS): (ra, dec) in deg\n",
      "    ( 187.42045,  7.89331667)>\n",
      "No catalog item found for this within 1 arcsecond, saving coordinates [u'12h29m40.908s'] [u'7d53m35.94s']\n"
     ]
    },
    {
     "name": "stderr",
     "output_type": "stream",
     "text": [
      "/home/kcdage/anaconda/lib/python2.7/site-packages/astroquery/simbad/core.py:136: UserWarning: Warning: The script line number 3 raised an error (recorded in the `errors` attribute of the result table): '12:29:46.763 +7:54:42.72': No astronomical object found :\n",
      "  (error.line, error.msg))\n"
     ]
    },
    {
     "name": "stdout",
     "output_type": "stream",
     "text": [
      "<SkyCoord (ICRS): (ra, dec) in deg\n",
      "    ( 187.44484583,  7.91186667)>\n",
      "No catalog item found for this within 1 arcsecond, saving coordinates [u'12h29m46.763s'] [u'7d54m42.72s']\n"
     ]
    },
    {
     "name": "stderr",
     "output_type": "stream",
     "text": [
      "/home/kcdage/anaconda/lib/python2.7/site-packages/astroquery/simbad/core.py:136: UserWarning: Warning: The script line number 3 raised an error (recorded in the `errors` attribute of the result table): '12:29:42.615 +7:54:48.51': No astronomical object found :\n",
      "  (error.line, error.msg))\n"
     ]
    },
    {
     "name": "stdout",
     "output_type": "stream",
     "text": [
      "<SkyCoord (ICRS): (ra, dec) in deg\n",
      "    ( 187.4275625,  7.913475)>\n",
      "No catalog item found for this within 1 arcsecond, saving coordinates [u'12h29m42.615s'] [u'7d54m48.51s']\n"
     ]
    },
    {
     "name": "stderr",
     "output_type": "stream",
     "text": [
      "/home/kcdage/anaconda/lib/python2.7/site-packages/astroquery/simbad/core.py:136: UserWarning: Warning: The script line number 3 raised an error (recorded in the `errors` attribute of the result table): '12:29:59.661 +7:54:59.24': No astronomical object found :\n",
      "  (error.line, error.msg))\n"
     ]
    },
    {
     "name": "stdout",
     "output_type": "stream",
     "text": [
      "<SkyCoord (ICRS): (ra, dec) in deg\n",
      "    ( 187.4985875,  7.91645556)>\n",
      "No catalog item found for this within 1 arcsecond, saving coordinates [u'12h29m59.661s'] [u'7d54m59.24s']\n"
     ]
    },
    {
     "name": "stderr",
     "output_type": "stream",
     "text": [
      "/home/kcdage/anaconda/lib/python2.7/site-packages/astroquery/simbad/core.py:136: UserWarning: Warning: The script line number 3 raised an error (recorded in the `errors` attribute of the result table): '12:29:38.507 +7:55:06.04': No astronomical object found :\n",
      "  (error.line, error.msg))\n"
     ]
    },
    {
     "name": "stdout",
     "output_type": "stream",
     "text": [
      "<SkyCoord (ICRS): (ra, dec) in deg\n",
      "    ( 187.41044583,  7.91834444)>\n",
      "No catalog item found for this within 1 arcsecond, saving coordinates [u'12h29m38.507s'] [u'7d55m06.04s']\n"
     ]
    },
    {
     "name": "stderr",
     "output_type": "stream",
     "text": [
      "/home/kcdage/anaconda/lib/python2.7/site-packages/astroquery/simbad/core.py:136: UserWarning: Warning: The script line number 3 raised an error (recorded in the `errors` attribute of the result table): '12:29:41.715 +7:55:09.34': No astronomical object found :\n",
      "  (error.line, error.msg))\n"
     ]
    },
    {
     "name": "stdout",
     "output_type": "stream",
     "text": [
      "<SkyCoord (ICRS): (ra, dec) in deg\n",
      "    ( 187.4238125,  7.91926111)>\n",
      "No catalog item found for this within 1 arcsecond, saving coordinates [u'12h29m41.715s'] [u'7d55m09.34s']\n"
     ]
    },
    {
     "name": "stderr",
     "output_type": "stream",
     "text": [
      "/home/kcdage/anaconda/lib/python2.7/site-packages/astroquery/simbad/core.py:136: UserWarning: Warning: The script line number 3 raised an error (recorded in the `errors` attribute of the result table): '12:29:50.336 +7:55:35.47': No astronomical object found :\n",
      "  (error.line, error.msg))\n"
     ]
    },
    {
     "name": "stdout",
     "output_type": "stream",
     "text": [
      "<SkyCoord (ICRS): (ra, dec) in deg\n",
      "    ( 187.45973333,  7.92651944)>\n",
      "No catalog item found for this within 1 arcsecond, saving coordinates [u'12h29m50.336s'] [u'7d55m35.47s']\n"
     ]
    },
    {
     "name": "stderr",
     "output_type": "stream",
     "text": [
      "/home/kcdage/anaconda/lib/python2.7/site-packages/astroquery/simbad/core.py:136: UserWarning: Warning: The script line number 3 raised an error (recorded in the `errors` attribute of the result table): '12:29:35.482 +7:56:04.44': No astronomical object found :\n",
      "  (error.line, error.msg))\n"
     ]
    },
    {
     "name": "stdout",
     "output_type": "stream",
     "text": [
      "<SkyCoord (ICRS): (ra, dec) in deg\n",
      "    ( 187.39784167,  7.93456667)>\n",
      "No catalog item found for this within 1 arcsecond, saving coordinates [u'12h29m35.482s'] [u'7d56m04.44s']\n"
     ]
    },
    {
     "name": "stderr",
     "output_type": "stream",
     "text": [
      "/home/kcdage/anaconda/lib/python2.7/site-packages/astroquery/simbad/core.py:136: UserWarning: Warning: The script line number 3 raised an error (recorded in the `errors` attribute of the result table): '12:29:29.332 +7:56:41.28': No astronomical object found :\n",
      "  (error.line, error.msg))\n"
     ]
    },
    {
     "name": "stdout",
     "output_type": "stream",
     "text": [
      "<SkyCoord (ICRS): (ra, dec) in deg\n",
      "    ( 187.37221667,  7.9448)>\n",
      "No catalog item found for this within 1 arcsecond, saving coordinates [u'12h29m29.332s'] [u'7d56m41.28s']\n"
     ]
    },
    {
     "name": "stderr",
     "output_type": "stream",
     "text": [
      "WARNING: MergeConflictWarning: Cannot merge meta key u'description' types <type 'unicode'> and <type 'unicode'>, choosing description=u'Simbad script executed on 2017.10.05CEST21:22:46' [astropy.utils.metadata]\n",
      "/home/kcdage/anaconda/lib/python2.7/site-packages/astroquery/simbad/core.py:136: UserWarning: Warning: The script line number 3 raised an error (recorded in the `errors` attribute of the result table): '12:29:43.727 +7:57:30.78': No astronomical object found :\n",
      "  (error.line, error.msg))\n"
     ]
    },
    {
     "name": "stdout",
     "output_type": "stream",
     "text": [
      "<SkyCoord (ICRS): (ra, dec) in deg\n",
      "    ( 187.43219583,  7.95855)>\n",
      "No catalog item found for this within 1 arcsecond, saving coordinates [u'12h29m43.727s'] [u'7d57m30.78s']\n"
     ]
    },
    {
     "name": "stderr",
     "output_type": "stream",
     "text": [
      "WARNING: MergeConflictWarning: Cannot merge meta key u'description' types <type 'unicode'> and <type 'unicode'>, choosing description=u'Simbad script executed on 2017.10.05CEST21:22:47' [astropy.utils.metadata]\n",
      "/home/kcdage/anaconda/lib/python2.7/site-packages/astroquery/simbad/core.py:136: UserWarning: Warning: The script line number 3 raised an error (recorded in the `errors` attribute of the result table): '12:30:19.836 +7:57:45.59': No astronomical object found :\n",
      "  (error.line, error.msg))\n"
     ]
    },
    {
     "name": "stdout",
     "output_type": "stream",
     "text": [
      "<SkyCoord (ICRS): (ra, dec) in deg\n",
      "    ( 187.58265,  7.96266389)>\n",
      "No catalog item found for this within 1 arcsecond, saving coordinates [u'12h30m19.836s'] [u'7d57m45.59s']\n"
     ]
    },
    {
     "name": "stderr",
     "output_type": "stream",
     "text": [
      "/home/kcdage/anaconda/lib/python2.7/site-packages/astroquery/simbad/core.py:136: UserWarning: Warning: The script line number 3 raised an error (recorded in the `errors` attribute of the result table): '12:29:32.881 +7:58:15.3': No astronomical object found :\n",
      "  (error.line, error.msg))\n"
     ]
    },
    {
     "name": "stdout",
     "output_type": "stream",
     "text": [
      "<SkyCoord (ICRS): (ra, dec) in deg\n",
      "    ( 187.38700417,  7.97091667)>\n",
      "No catalog item found for this within 1 arcsecond, saving coordinates [u'12h29m32.881s'] [u'7d58m15.3s']\n"
     ]
    },
    {
     "name": "stderr",
     "output_type": "stream",
     "text": [
      "/home/kcdage/anaconda/lib/python2.7/site-packages/astroquery/simbad/core.py:136: UserWarning: Warning: The script line number 3 raised an error (recorded in the `errors` attribute of the result table): '12:29:52.836 +7:58:19.34': No astronomical object found :\n",
      "  (error.line, error.msg))\n"
     ]
    },
    {
     "name": "stdout",
     "output_type": "stream",
     "text": [
      "<SkyCoord (ICRS): (ra, dec) in deg\n",
      "    ( 187.47015,  7.97203889)>\n",
      "No catalog item found for this within 1 arcsecond, saving coordinates [u'12h29m52.836s'] [u'7d58m19.34s']\n"
     ]
    },
    {
     "name": "stderr",
     "output_type": "stream",
     "text": [
      "/home/kcdage/anaconda/lib/python2.7/site-packages/astroquery/simbad/core.py:136: UserWarning: Warning: The script line number 3 raised an error (recorded in the `errors` attribute of the result table): '12:29:29.97 +7:58:38.75': No astronomical object found :\n",
      "  (error.line, error.msg))\n"
     ]
    },
    {
     "name": "stdout",
     "output_type": "stream",
     "text": [
      "<SkyCoord (ICRS): (ra, dec) in deg\n",
      "    ( 187.374875,  7.97743056)>\n",
      "No catalog item found for this within 1 arcsecond, saving coordinates [u'12h29m29.97s'] [u'7d58m38.75s']\n"
     ]
    },
    {
     "name": "stderr",
     "output_type": "stream",
     "text": [
      "WARNING: MergeConflictWarning: Cannot merge meta key u'description' types <type 'unicode'> and <type 'unicode'>, choosing description=u'Simbad script executed on 2017.10.05CEST21:22:48' [astropy.utils.metadata]\n",
      "WARNING: MergeConflictWarning: Cannot merge meta key u'description' types <type 'unicode'> and <type 'unicode'>, choosing description=u'Simbad script executed on 2017.10.05CEST21:22:49' [astropy.utils.metadata]\n",
      "WARNING: MergeConflictWarning: Cannot merge meta key u'description' types <type 'unicode'> and <type 'unicode'>, choosing description=u'Simbad script executed on 2017.10.05CEST21:22:50' [astropy.utils.metadata]\n",
      "/home/kcdage/anaconda/lib/python2.7/site-packages/astroquery/simbad/core.py:136: UserWarning: Warning: The script line number 3 raised an error (recorded in the `errors` attribute of the result table): '12:29:56.278 +8:04:22.96': No astronomical object found :\n",
      "  (error.line, error.msg))\n"
     ]
    },
    {
     "name": "stdout",
     "output_type": "stream",
     "text": [
      "<SkyCoord (ICRS): (ra, dec) in deg\n",
      "    ( 187.48449167,  8.07304444)>\n",
      "No catalog item found for this within 1 arcsecond, saving coordinates [u'12h29m56.278s'] [u'8d04m22.96s']\n"
     ]
    },
    {
     "name": "stderr",
     "output_type": "stream",
     "text": [
      "/home/kcdage/anaconda/lib/python2.7/site-packages/astroquery/simbad/core.py:136: UserWarning: Warning: The script line number 3 raised an error (recorded in the `errors` attribute of the result table): '12:29:58.116 +8:04:44.97': No astronomical object found :\n",
      "  (error.line, error.msg))\n"
     ]
    },
    {
     "name": "stdout",
     "output_type": "stream",
     "text": [
      "<SkyCoord (ICRS): (ra, dec) in deg\n",
      "    ( 187.49215,  8.07915833)>\n",
      "No catalog item found for this within 1 arcsecond, saving coordinates [u'12h29m58.116s'] [u'8d04m44.97s']\n"
     ]
    },
    {
     "name": "stderr",
     "output_type": "stream",
     "text": [
      "/home/kcdage/anaconda/lib/python2.7/site-packages/astroquery/simbad/core.py:136: UserWarning: Warning: The script line number 3 raised an error (recorded in the `errors` attribute of the result table): '12:29:33.896 +8:05:14.44': No astronomical object found :\n",
      "  (error.line, error.msg))\n"
     ]
    },
    {
     "name": "stdout",
     "output_type": "stream",
     "text": [
      "<SkyCoord (ICRS): (ra, dec) in deg\n",
      "    ( 187.39123333,  8.08734444)>\n",
      "No catalog item found for this within 1 arcsecond, saving coordinates [u'12h29m33.896s'] [u'8d05m14.44s']\n"
     ]
    },
    {
     "name": "stderr",
     "output_type": "stream",
     "text": [
      "/home/kcdage/anaconda/lib/python2.7/site-packages/astroquery/simbad/core.py:136: UserWarning: Warning: The script line number 3 raised an error (recorded in the `errors` attribute of the result table): '12:29:38.632 +8:06:38.2': No astronomical object found :\n",
      "  (error.line, error.msg))\n"
     ]
    },
    {
     "name": "stdout",
     "output_type": "stream",
     "text": [
      "<SkyCoord (ICRS): (ra, dec) in deg\n",
      "    ( 187.41096667,  8.11061111)>\n",
      "No catalog item found for this within 1 arcsecond, saving coordinates [u'12h29m38.632s'] [u'8d06m38.2s']\n"
     ]
    },
    {
     "name": "stderr",
     "output_type": "stream",
     "text": [
      "/home/kcdage/anaconda/lib/python2.7/site-packages/astroquery/simbad/core.py:136: UserWarning: Warning: The script line number 3 raised an error (recorded in the `errors` attribute of the result table): '12:29:53.292 +7:49:28.22': No astronomical object found :\n",
      "  (error.line, error.msg))\n"
     ]
    },
    {
     "name": "stdout",
     "output_type": "stream",
     "text": [
      "<SkyCoord (ICRS): (ra, dec) in deg\n",
      "    ( 187.47205,  7.82450556)>\n",
      "No catalog item found for this within 1 arcsecond, saving coordinates [u'12h29m53.292s'] [u'7d49m28.22s']\n"
     ]
    },
    {
     "name": "stderr",
     "output_type": "stream",
     "text": [
      "/home/kcdage/anaconda/lib/python2.7/site-packages/astroquery/simbad/core.py:136: UserWarning: Warning: The script line number 3 raised an error (recorded in the `errors` attribute of the result table): '12:29:50.047 +7:50:15.62': No astronomical object found :\n",
      "  (error.line, error.msg))\n"
     ]
    },
    {
     "name": "stdout",
     "output_type": "stream",
     "text": [
      "<SkyCoord (ICRS): (ra, dec) in deg\n",
      "    ( 187.45852917,  7.83767222)>\n",
      "No catalog item found for this within 1 arcsecond, saving coordinates [u'12h29m50.047s'] [u'7d50m15.62s']\n"
     ]
    },
    {
     "name": "stderr",
     "output_type": "stream",
     "text": [
      "/home/kcdage/anaconda/lib/python2.7/site-packages/astroquery/simbad/core.py:136: UserWarning: Warning: The script line number 3 raised an error (recorded in the `errors` attribute of the result table): '12:30:01.523 +7:50:23.67': No astronomical object found :\n",
      "  (error.line, error.msg))\n"
     ]
    },
    {
     "name": "stdout",
     "output_type": "stream",
     "text": [
      "<SkyCoord (ICRS): (ra, dec) in deg\n",
      "    ( 187.50634583,  7.83990833)>\n",
      "No catalog item found for this within 1 arcsecond, saving coordinates [u'12h30m01.523s'] [u'7d50m23.67s']\n"
     ]
    },
    {
     "name": "stderr",
     "output_type": "stream",
     "text": [
      "/home/kcdage/anaconda/lib/python2.7/site-packages/astroquery/simbad/core.py:136: UserWarning: Warning: The script line number 3 raised an error (recorded in the `errors` attribute of the result table): '12:29:57.398 +7:51:18.59': No astronomical object found :\n",
      "  (error.line, error.msg))\n"
     ]
    },
    {
     "name": "stdout",
     "output_type": "stream",
     "text": [
      "<SkyCoord (ICRS): (ra, dec) in deg\n",
      "    ( 187.48915833,  7.85516389)>\n",
      "No catalog item found for this within 1 arcsecond, saving coordinates [u'12h29m57.398s'] [u'7d51m18.59s']\n"
     ]
    },
    {
     "name": "stderr",
     "output_type": "stream",
     "text": [
      "/home/kcdage/anaconda/lib/python2.7/site-packages/astroquery/simbad/core.py:136: UserWarning: Warning: The script line number 3 raised an error (recorded in the `errors` attribute of the result table): '12:29:50.834 +7:51:48.11': No astronomical object found :\n",
      "  (error.line, error.msg))\n"
     ]
    },
    {
     "name": "stdout",
     "output_type": "stream",
     "text": [
      "<SkyCoord (ICRS): (ra, dec) in deg\n",
      "    ( 187.46180833,  7.86336389)>\n",
      "No catalog item found for this within 1 arcsecond, saving coordinates [u'12h29m50.834s'] [u'7d51m48.11s']\n"
     ]
    },
    {
     "name": "stderr",
     "output_type": "stream",
     "text": [
      "/home/kcdage/anaconda/lib/python2.7/site-packages/astroquery/simbad/core.py:136: UserWarning: Warning: The script line number 3 raised an error (recorded in the `errors` attribute of the result table): '12:29:44.871 +7:52:39.94': No astronomical object found :\n",
      "  (error.line, error.msg))\n"
     ]
    },
    {
     "name": "stdout",
     "output_type": "stream",
     "text": [
      "<SkyCoord (ICRS): (ra, dec) in deg\n",
      "    ( 187.4369625,  7.87776111)>\n",
      "No catalog item found for this within 1 arcsecond, saving coordinates [u'12h29m44.871s'] [u'7d52m39.94s']\n"
     ]
    },
    {
     "name": "stderr",
     "output_type": "stream",
     "text": [
      "/home/kcdage/anaconda/lib/python2.7/site-packages/astroquery/simbad/core.py:136: UserWarning: Warning: The script line number 3 raised an error (recorded in the `errors` attribute of the result table): '12:29:38.524 +7:54:06.85': No astronomical object found :\n",
      "  (error.line, error.msg))\n"
     ]
    },
    {
     "name": "stdout",
     "output_type": "stream",
     "text": [
      "<SkyCoord (ICRS): (ra, dec) in deg\n",
      "    ( 187.41051667,  7.90190278)>\n",
      "No catalog item found for this within 1 arcsecond, saving coordinates [u'12h29m38.524s'] [u'7d54m06.85s']\n"
     ]
    },
    {
     "name": "stderr",
     "output_type": "stream",
     "text": [
      "/home/kcdage/anaconda/lib/python2.7/site-packages/astroquery/simbad/core.py:136: UserWarning: Warning: The script line number 3 raised an error (recorded in the `errors` attribute of the result table): '12:29:56.571 +7:54:07.47': No astronomical object found :\n",
      "  (error.line, error.msg))\n"
     ]
    },
    {
     "name": "stdout",
     "output_type": "stream",
     "text": [
      "<SkyCoord (ICRS): (ra, dec) in deg\n",
      "    ( 187.4857125,  7.902075)>\n",
      "No catalog item found for this within 1 arcsecond, saving coordinates [u'12h29m56.571s'] [u'7d54m07.47s']\n"
     ]
    },
    {
     "name": "stderr",
     "output_type": "stream",
     "text": [
      "WARNING: MergeConflictWarning: Cannot merge meta key u'description' types <type 'unicode'> and <type 'unicode'>, choosing description=u'Simbad script executed on 2017.10.05CEST21:22:54' [astropy.utils.metadata]\n",
      "/home/kcdage/anaconda/lib/python2.7/site-packages/astroquery/simbad/core.py:136: UserWarning: Warning: The script line number 3 raised an error (recorded in the `errors` attribute of the result table): '12:29:36.129 +7:54:24.56': No astronomical object found :\n",
      "  (error.line, error.msg))\n"
     ]
    },
    {
     "name": "stdout",
     "output_type": "stream",
     "text": [
      "<SkyCoord (ICRS): (ra, dec) in deg\n",
      "    ( 187.4005375,  7.90682222)>\n",
      "No catalog item found for this within 1 arcsecond, saving coordinates [u'12h29m36.129s'] [u'7d54m24.56s']\n"
     ]
    },
    {
     "name": "stderr",
     "output_type": "stream",
     "text": [
      "/home/kcdage/anaconda/lib/python2.7/site-packages/astroquery/simbad/core.py:136: UserWarning: Warning: The script line number 3 raised an error (recorded in the `errors` attribute of the result table): '12:29:59.801 +7:55:29.5': No astronomical object found :\n",
      "  (error.line, error.msg))\n"
     ]
    },
    {
     "name": "stdout",
     "output_type": "stream",
     "text": [
      "<SkyCoord (ICRS): (ra, dec) in deg\n",
      "    ( 187.49917083,  7.92486111)>\n",
      "No catalog item found for this within 1 arcsecond, saving coordinates [u'12h29m59.801s'] [u'7d55m29.5s']\n"
     ]
    },
    {
     "name": "stderr",
     "output_type": "stream",
     "text": [
      "/home/kcdage/anaconda/lib/python2.7/site-packages/astroquery/simbad/core.py:136: UserWarning: Warning: The script line number 3 raised an error (recorded in the `errors` attribute of the result table): '12:29:38.971 +7:55:39.1': No astronomical object found :\n",
      "  (error.line, error.msg))\n"
     ]
    },
    {
     "name": "stdout",
     "output_type": "stream",
     "text": [
      "<SkyCoord (ICRS): (ra, dec) in deg\n",
      "    ( 187.41237917,  7.92752778)>\n",
      "No catalog item found for this within 1 arcsecond, saving coordinates [u'12h29m38.971s'] [u'7d55m39.1s']\n"
     ]
    },
    {
     "name": "stderr",
     "output_type": "stream",
     "text": [
      "/home/kcdage/anaconda/lib/python2.7/site-packages/astroquery/simbad/core.py:136: UserWarning: Warning: The script line number 3 raised an error (recorded in the `errors` attribute of the result table): '12:30:01.313 +7:56:01.72': No astronomical object found :\n",
      "  (error.line, error.msg))\n"
     ]
    },
    {
     "name": "stdout",
     "output_type": "stream",
     "text": [
      "<SkyCoord (ICRS): (ra, dec) in deg\n",
      "    ( 187.50547083,  7.93381111)>\n",
      "No catalog item found for this within 1 arcsecond, saving coordinates [u'12h30m01.313s'] [u'7d56m01.72s']\n"
     ]
    },
    {
     "name": "stderr",
     "output_type": "stream",
     "text": [
      "WARNING: MergeConflictWarning: Cannot merge meta key u'description' types <type 'unicode'> and <type 'unicode'>, choosing description=u'Simbad script executed on 2017.10.05CEST21:22:55' [astropy.utils.metadata]\n",
      "/home/kcdage/anaconda/lib/python2.7/site-packages/astroquery/simbad/core.py:136: UserWarning: Warning: The script line number 3 raised an error (recorded in the `errors` attribute of the result table): '12:29:33.092 +8:06:44.77': No astronomical object found :\n",
      "  (error.line, error.msg))\n"
     ]
    },
    {
     "name": "stdout",
     "output_type": "stream",
     "text": [
      "<SkyCoord (ICRS): (ra, dec) in deg\n",
      "    ( 187.38788333,  8.11243611)>\n",
      "No catalog item found for this within 1 arcsecond, saving coordinates [u'12h29m33.092s'] [u'8d06m44.77s']\n"
     ]
    },
    {
     "name": "stderr",
     "output_type": "stream",
     "text": [
      "/home/kcdage/anaconda/lib/python2.7/site-packages/astroquery/simbad/core.py:136: UserWarning: Warning: The script line number 3 raised an error (recorded in the `errors` attribute of the result table): '12:29:56.75 +8:09:11.05': No astronomical object found :\n",
      "  (error.line, error.msg))\n"
     ]
    },
    {
     "name": "stdout",
     "output_type": "stream",
     "text": [
      "<SkyCoord (ICRS): (ra, dec) in deg\n",
      "    ( 187.48645833,  8.15306944)>\n",
      "No catalog item found for this within 1 arcsecond, saving coordinates [u'12h29m56.75s'] [u'8d09m11.05s']\n"
     ]
    },
    {
     "name": "stderr",
     "output_type": "stream",
     "text": [
      "WARNING: MergeConflictWarning: Cannot merge meta key u'description' types <type 'unicode'> and <type 'unicode'>, choosing description=u'Simbad script executed on 2017.10.05CEST21:22:56' [astropy.utils.metadata]\n",
      "/home/kcdage/anaconda/lib/python2.7/site-packages/astroquery/simbad/core.py:136: UserWarning: Warning: The script line number 3 raised an error (recorded in the `errors` attribute of the result table): '12:29:37.764 +7:49:32.81': No astronomical object found :\n",
      "  (error.line, error.msg))\n"
     ]
    },
    {
     "name": "stdout",
     "output_type": "stream",
     "text": [
      "<SkyCoord (ICRS): (ra, dec) in deg\n",
      "    ( 187.40735,  7.82578056)>\n",
      "No catalog item found for this within 1 arcsecond, saving coordinates [u'12h29m37.764s'] [u'7d49m32.81s']\n"
     ]
    },
    {
     "name": "stderr",
     "output_type": "stream",
     "text": [
      "/home/kcdage/anaconda/lib/python2.7/site-packages/astroquery/simbad/core.py:136: UserWarning: Warning: The script line number 3 raised an error (recorded in the `errors` attribute of the result table): '12:30:17.001 +8:01:07.94': No astronomical object found :\n",
      "  (error.line, error.msg))\n"
     ]
    },
    {
     "name": "stdout",
     "output_type": "stream",
     "text": [
      "<SkyCoord (ICRS): (ra, dec) in deg\n",
      "    ( 187.5708375,  8.01887222)>\n",
      "No catalog item found for this within 1 arcsecond, saving coordinates [u'12h30m17.001s'] [u'8d01m07.94s']\n",
      "<SkyCoord (ICRS): (ra, dec) in deg\n",
      "    ( 187.4666875,  8.12152778)>\n",
      "No catalog item found for this within 1 arcsecond, saving coordinates [u'12h29m52.005s'] [u'8d07m17.5s']\n"
     ]
    },
    {
     "name": "stderr",
     "output_type": "stream",
     "text": [
      "/home/kcdage/anaconda/lib/python2.7/site-packages/astroquery/simbad/core.py:136: UserWarning: Warning: The script line number 3 raised an error (recorded in the `errors` attribute of the result table): '12:29:52.005 +8:07:17.5': No astronomical object found :\n",
      "  (error.line, error.msg))\n"
     ]
    }
   ],
   "source": [
    "### now let's do this for everything.\n",
    "\n",
    "null_ra_11274=[]\n",
    "null_dec_11274=[]\n",
    "stacked_table_11274=[]\n",
    "for i in range(len(xcor11274)):\n",
    "        item11274=customSimbad.query_region(SkyCoord(xcor11274[i],ycor11274[i], unit=(u.deg, u.deg), frame='fk5'), radius=dist)\n",
    "        if item11274 is None:\n",
    "            co11274 = SkyCoord(xcor11274[i],ycor11274[i], unit=(u.deg, u.deg))\n",
    "            print co11274\n",
    "            ra_not_found11274, dec_not_found11274 = co11274.ra.to_string(u.hour), co11274.dec.to_string(u.deg)\n",
    "            print \"No catalog item found for this within 1 arcsecond, saving coordinates\", ra_not_found11274, dec_not_found11274\n",
    "\n",
    "            if np.size(null_ra_11274)<1:\n",
    "                null_ra_11274=ra_not_found11274\n",
    "                null_dec_11274=dec_not_found11274\n",
    "            else:\n",
    "                null_ra_11274=np.vstack((null_ra_11274, ra_not_found11274))\n",
    "                null_dec_11274=np.vstack((null_dec_11274, dec_not_found11274))\n",
    "        else:\n",
    "            if len(stacked_table_11274)<1:\n",
    "                stacked_table_11274=item11274\n",
    "            else:\n",
    "                stacked_table_11274=Table.vstack([stacked_table_11274, item11274], join_type ='exact') \n",
    "                \n",
    "        \n",
    "\n",
    "    "
   ]
  },
  {
   "cell_type": "code",
   "execution_count": 103,
   "metadata": {
    "collapsed": true
   },
   "outputs": [],
   "source": [
    "\n",
    "\n",
    "stacked_table_11274.remove_column('DEC_PREC')\n",
    "stacked_table_11274.remove_column('RA_PREC')\n",
    "stacked_table_11274.remove_column('COO_ERR_MAJA')\n",
    "stacked_table_11274.remove_column('COO_ERR_MINA')\n",
    "stacked_table_11274.remove_column('COO_ERR_ANGLE')\n",
    "stacked_table_11274.remove_column('COO_QUAL')\n",
    "\n",
    "null_coords11274= np.asarray(np.hstack((null_ra_11274, null_dec_11274)))\n",
    "\n",
    "ascii.write(null_coords11274, \"11274_no_cat_val.dat\")\n",
    "ascii.write(stacked_table_11274, 'out_11274.txt', format='csv')"
   ]
  },
  {
   "cell_type": "code",
   "execution_count": 104,
   "metadata": {
    "collapsed": false
   },
   "outputs": [
    {
     "name": "stderr",
     "output_type": "stream",
     "text": [
      "/home/kcdage/anaconda/lib/python2.7/site-packages/astroquery/simbad/core.py:136: UserWarning: Warning: The script line number 3 raised an error (recorded in the `errors` attribute of the result table): '12:29:44.996 +7:52:38.31': No astronomical object found :\n",
      "  (error.line, error.msg))\n"
     ]
    },
    {
     "name": "stdout",
     "output_type": "stream",
     "text": [
      "<SkyCoord (ICRS): (ra, dec) in deg\n",
      "    ( 187.43748333,  7.87730833)>\n",
      "No catalog item found for this within 1 arcsecond, saving coordinates [u'12h29m44.996s'] [u'7d52m38.31s']\n"
     ]
    },
    {
     "name": "stderr",
     "output_type": "stream",
     "text": [
      "/home/kcdage/anaconda/lib/python2.7/site-packages/astroquery/simbad/core.py:136: UserWarning: Warning: The script line number 3 raised an error (recorded in the `errors` attribute of the result table): '12:29:32.458 +7:53:15.77': No astronomical object found :\n",
      "  (error.line, error.msg))\n"
     ]
    },
    {
     "name": "stdout",
     "output_type": "stream",
     "text": [
      "<SkyCoord (ICRS): (ra, dec) in deg\n",
      "    ( 187.38524167,  7.88771389)>\n",
      "No catalog item found for this within 1 arcsecond, saving coordinates [u'12h29m32.458s'] [u'7d53m15.77s']\n"
     ]
    },
    {
     "name": "stderr",
     "output_type": "stream",
     "text": [
      "WARNING: MergeConflictWarning: Cannot merge meta key u'description' types <type 'unicode'> and <type 'unicode'>, choosing description=u'Simbad script executed on 2017.10.05CEST21:22:59' [astropy.utils.metadata]\n",
      "/home/kcdage/anaconda/lib/python2.7/site-packages/astroquery/simbad/core.py:136: UserWarning: Warning: The script line number 3 raised an error (recorded in the `errors` attribute of the result table): '12:29:40.976 +7:53:35.54': No astronomical object found :\n",
      "  (error.line, error.msg))\n"
     ]
    },
    {
     "name": "stdout",
     "output_type": "stream",
     "text": [
      "<SkyCoord (ICRS): (ra, dec) in deg\n",
      "    ( 187.42073333,  7.89320556)>\n",
      "No catalog item found for this within 1 arcsecond, saving coordinates [u'12h29m40.976s'] [u'7d53m35.54s']\n"
     ]
    },
    {
     "name": "stderr",
     "output_type": "stream",
     "text": [
      "WARNING: MergeConflictWarning: Cannot merge meta key u'description' types <type 'unicode'> and <type 'unicode'>, choosing description=u'Simbad script executed on 2017.10.05CEST21:23:00' [astropy.utils.metadata]\n",
      "/home/kcdage/anaconda/lib/python2.7/site-packages/astroquery/simbad/core.py:136: UserWarning: Warning: The script line number 3 raised an error (recorded in the `errors` attribute of the result table): '12:29:38.511 +7:54:07.03': No astronomical object found :\n",
      "  (error.line, error.msg))\n"
     ]
    },
    {
     "name": "stdout",
     "output_type": "stream",
     "text": [
      "<SkyCoord (ICRS): (ra, dec) in deg\n",
      "    ( 187.4104625,  7.90195278)>\n",
      "No catalog item found for this within 1 arcsecond, saving coordinates [u'12h29m38.511s'] [u'7d54m07.03s']\n"
     ]
    },
    {
     "name": "stderr",
     "output_type": "stream",
     "text": [
      "WARNING: MergeConflictWarning: Cannot merge meta key u'description' types <type 'unicode'> and <type 'unicode'>, choosing description=u'Simbad script executed on 2017.10.05CEST21:23:01' [astropy.utils.metadata]\n",
      "/home/kcdage/anaconda/lib/python2.7/site-packages/astroquery/simbad/core.py:136: UserWarning: Warning: The script line number 3 raised an error (recorded in the `errors` attribute of the result table): '12:29:38.301 +7:55:15': No astronomical object found :\n",
      "  (error.line, error.msg))\n"
     ]
    },
    {
     "name": "stdout",
     "output_type": "stream",
     "text": [
      "<SkyCoord (ICRS): (ra, dec) in deg\n",
      "    ( 187.4095875,  7.92083333)>\n",
      "No catalog item found for this within 1 arcsecond, saving coordinates [u'12h29m38.301s'] [u'7d55m15s']\n"
     ]
    },
    {
     "name": "stderr",
     "output_type": "stream",
     "text": [
      "/home/kcdage/anaconda/lib/python2.7/site-packages/astroquery/simbad/core.py:136: UserWarning: Warning: The script line number 3 raised an error (recorded in the `errors` attribute of the result table): '12:29:29.984 +7:48:14.43': No astronomical object found :\n",
      "  (error.line, error.msg))\n"
     ]
    },
    {
     "name": "stdout",
     "output_type": "stream",
     "text": [
      "<SkyCoord (ICRS): (ra, dec) in deg\n",
      "    ( 187.37493333,  7.80400833)>\n",
      "No catalog item found for this within 1 arcsecond, saving coordinates [u'12h29m29.984s'] [u'7d48m14.43s']\n"
     ]
    },
    {
     "name": "stderr",
     "output_type": "stream",
     "text": [
      "/home/kcdage/anaconda/lib/python2.7/site-packages/astroquery/simbad/core.py:136: UserWarning: Warning: The script line number 3 raised an error (recorded in the `errors` attribute of the result table): '12:29:37.97 +7:49:31.94': No astronomical object found :\n",
      "  (error.line, error.msg))\n"
     ]
    },
    {
     "name": "stdout",
     "output_type": "stream",
     "text": [
      "<SkyCoord (ICRS): (ra, dec) in deg\n",
      "    ( 187.40820833,  7.82553889)>\n",
      "No catalog item found for this within 1 arcsecond, saving coordinates [u'12h29m37.97s'] [u'7d49m31.94s']\n"
     ]
    },
    {
     "name": "stderr",
     "output_type": "stream",
     "text": [
      "/home/kcdage/anaconda/lib/python2.7/site-packages/astroquery/simbad/core.py:136: UserWarning: Warning: The script line number 3 raised an error (recorded in the `errors` attribute of the result table): '12:30:32.506 +7:50:45.59': No astronomical object found :\n",
      "  (error.line, error.msg))\n"
     ]
    },
    {
     "name": "stdout",
     "output_type": "stream",
     "text": [
      "<SkyCoord (ICRS): (ra, dec) in deg\n",
      "    ( 187.63544167,  7.84599722)>\n",
      "No catalog item found for this within 1 arcsecond, saving coordinates [u'12h30m32.506s'] [u'7d50m45.59s']\n"
     ]
    },
    {
     "name": "stderr",
     "output_type": "stream",
     "text": [
      "/home/kcdage/anaconda/lib/python2.7/site-packages/astroquery/simbad/core.py:136: UserWarning: Warning: The script line number 3 raised an error (recorded in the `errors` attribute of the result table): '12:29:50.848 +7:51:48.09': No astronomical object found :\n",
      "  (error.line, error.msg))\n"
     ]
    },
    {
     "name": "stdout",
     "output_type": "stream",
     "text": [
      "<SkyCoord (ICRS): (ra, dec) in deg\n",
      "    ( 187.46186667,  7.86335833)>\n",
      "No catalog item found for this within 1 arcsecond, saving coordinates [u'12h29m50.848s'] [u'7d51m48.09s']\n"
     ]
    },
    {
     "name": "stderr",
     "output_type": "stream",
     "text": [
      "/home/kcdage/anaconda/lib/python2.7/site-packages/astroquery/simbad/core.py:136: UserWarning: Warning: The script line number 3 raised an error (recorded in the `errors` attribute of the result table): '12:29:43.768 +7:53:20.2': No astronomical object found :\n",
      "  (error.line, error.msg))\n"
     ]
    },
    {
     "name": "stdout",
     "output_type": "stream",
     "text": [
      "<SkyCoord (ICRS): (ra, dec) in deg\n",
      "    ( 187.43236667,  7.88894444)>\n",
      "No catalog item found for this within 1 arcsecond, saving coordinates [u'12h29m43.768s'] [u'7d53m20.2s']\n"
     ]
    },
    {
     "name": "stderr",
     "output_type": "stream",
     "text": [
      "/home/kcdage/anaconda/lib/python2.7/site-packages/astroquery/simbad/core.py:136: UserWarning: Warning: The script line number 3 raised an error (recorded in the `errors` attribute of the result table): '12:29:48.38 +7:53:53.98': No astronomical object found :\n",
      "  (error.line, error.msg))\n"
     ]
    },
    {
     "name": "stdout",
     "output_type": "stream",
     "text": [
      "<SkyCoord (ICRS): (ra, dec) in deg\n",
      "    ( 187.45158333,  7.89832778)>\n",
      "No catalog item found for this within 1 arcsecond, saving coordinates [u'12h29m48.38s'] [u'7d53m53.98s']\n"
     ]
    },
    {
     "name": "stderr",
     "output_type": "stream",
     "text": [
      "/home/kcdage/anaconda/lib/python2.7/site-packages/astroquery/simbad/core.py:136: UserWarning: Warning: The script line number 3 raised an error (recorded in the `errors` attribute of the result table): '12:29:33.851 +7:54:06.04': No astronomical object found :\n",
      "  (error.line, error.msg))\n"
     ]
    },
    {
     "name": "stdout",
     "output_type": "stream",
     "text": [
      "<SkyCoord (ICRS): (ra, dec) in deg\n",
      "    ( 187.39104583,  7.90167778)>\n",
      "No catalog item found for this within 1 arcsecond, saving coordinates [u'12h29m33.851s'] [u'7d54m06.04s']\n"
     ]
    },
    {
     "name": "stderr",
     "output_type": "stream",
     "text": [
      "/home/kcdage/anaconda/lib/python2.7/site-packages/astroquery/simbad/core.py:136: UserWarning: Warning: The script line number 3 raised an error (recorded in the `errors` attribute of the result table): '12:29:36.223 +7:54:23.26': No astronomical object found :\n",
      "  (error.line, error.msg))\n"
     ]
    },
    {
     "name": "stdout",
     "output_type": "stream",
     "text": [
      "<SkyCoord (ICRS): (ra, dec) in deg\n",
      "    ( 187.40092917,  7.90646111)>\n",
      "No catalog item found for this within 1 arcsecond, saving coordinates [u'12h29m36.223s'] [u'7d54m23.26s']\n"
     ]
    },
    {
     "name": "stderr",
     "output_type": "stream",
     "text": [
      "/home/kcdage/anaconda/lib/python2.7/site-packages/astroquery/simbad/core.py:136: UserWarning: Warning: The script line number 3 raised an error (recorded in the `errors` attribute of the result table): '12:29:50.51 +7:54:31.12': No astronomical object found :\n",
      "  (error.line, error.msg))\n"
     ]
    },
    {
     "name": "stdout",
     "output_type": "stream",
     "text": [
      "<SkyCoord (ICRS): (ra, dec) in deg\n",
      "    ( 187.46045833,  7.90864444)>\n",
      "No catalog item found for this within 1 arcsecond, saving coordinates [u'12h29m50.51s'] [u'7d54m31.12s']\n"
     ]
    },
    {
     "name": "stderr",
     "output_type": "stream",
     "text": [
      "/home/kcdage/anaconda/lib/python2.7/site-packages/astroquery/simbad/core.py:136: UserWarning: Warning: The script line number 3 raised an error (recorded in the `errors` attribute of the result table): '12:29:38.437 +7:55:06.49': No astronomical object found :\n",
      "  (error.line, error.msg))\n"
     ]
    },
    {
     "name": "stdout",
     "output_type": "stream",
     "text": [
      "<SkyCoord (ICRS): (ra, dec) in deg\n",
      "    ( 187.41015417,  7.91846944)>\n",
      "No catalog item found for this within 1 arcsecond, saving coordinates [u'12h29m38.437s'] [u'7d55m06.49s']\n"
     ]
    },
    {
     "name": "stderr",
     "output_type": "stream",
     "text": [
      "/home/kcdage/anaconda/lib/python2.7/site-packages/astroquery/simbad/core.py:136: UserWarning: Warning: The script line number 3 raised an error (recorded in the `errors` attribute of the result table): '12:29:46.895 +7:55:30.76': No astronomical object found :\n",
      "  (error.line, error.msg))\n"
     ]
    },
    {
     "name": "stdout",
     "output_type": "stream",
     "text": [
      "<SkyCoord (ICRS): (ra, dec) in deg\n",
      "    ( 187.44539583,  7.92521111)>\n",
      "No catalog item found for this within 1 arcsecond, saving coordinates [u'12h29m46.895s'] [u'7d55m30.76s']\n"
     ]
    },
    {
     "name": "stderr",
     "output_type": "stream",
     "text": [
      "/home/kcdage/anaconda/lib/python2.7/site-packages/astroquery/simbad/core.py:136: UserWarning: Warning: The script line number 3 raised an error (recorded in the `errors` attribute of the result table): '12:29:50.69 +7:55:37.54': No astronomical object found :\n",
      "  (error.line, error.msg))\n"
     ]
    },
    {
     "name": "stdout",
     "output_type": "stream",
     "text": [
      "<SkyCoord (ICRS): (ra, dec) in deg\n",
      "    ( 187.46120833,  7.92709444)>\n",
      "No catalog item found for this within 1 arcsecond, saving coordinates [u'12h29m50.69s'] [u'7d55m37.54s']\n"
     ]
    },
    {
     "name": "stderr",
     "output_type": "stream",
     "text": [
      "WARNING: MergeConflictWarning: Cannot merge meta key u'description' types <type 'unicode'> and <type 'unicode'>, choosing description=u'Simbad script executed on 2017.10.05CEST21:23:05' [astropy.utils.metadata]\n",
      "/home/kcdage/anaconda/lib/python2.7/site-packages/astroquery/simbad/core.py:136: UserWarning: Warning: The script line number 3 raised an error (recorded in the `errors` attribute of the result table): '12:29:36.635 +7:55:39.73': No astronomical object found :\n",
      "  (error.line, error.msg))\n"
     ]
    },
    {
     "name": "stdout",
     "output_type": "stream",
     "text": [
      "<SkyCoord (ICRS): (ra, dec) in deg\n",
      "    ( 187.40264583,  7.92770278)>\n",
      "No catalog item found for this within 1 arcsecond, saving coordinates [u'12h29m36.635s'] [u'7d55m39.73s']\n"
     ]
    },
    {
     "name": "stderr",
     "output_type": "stream",
     "text": [
      "/home/kcdage/anaconda/lib/python2.7/site-packages/astroquery/simbad/core.py:136: UserWarning: Warning: The script line number 3 raised an error (recorded in the `errors` attribute of the result table): '12:29:35.542 +7:56:03.77': No astronomical object found :\n",
      "  (error.line, error.msg))\n"
     ]
    },
    {
     "name": "stdout",
     "output_type": "stream",
     "text": [
      "<SkyCoord (ICRS): (ra, dec) in deg\n",
      "    ( 187.39809167,  7.93438056)>\n",
      "No catalog item found for this within 1 arcsecond, saving coordinates [u'12h29m35.542s'] [u'7d56m03.77s']\n"
     ]
    },
    {
     "name": "stderr",
     "output_type": "stream",
     "text": [
      "/home/kcdage/anaconda/lib/python2.7/site-packages/astroquery/simbad/core.py:136: UserWarning: Warning: The script line number 3 raised an error (recorded in the `errors` attribute of the result table): '12:29:54.255 +7:56:12.12': No astronomical object found :\n",
      "  (error.line, error.msg))\n"
     ]
    },
    {
     "name": "stdout",
     "output_type": "stream",
     "text": [
      "<SkyCoord (ICRS): (ra, dec) in deg\n",
      "    ( 187.4760625,  7.9367)>\n",
      "No catalog item found for this within 1 arcsecond, saving coordinates [u'12h29m54.255s'] [u'7d56m12.12s']\n"
     ]
    },
    {
     "name": "stderr",
     "output_type": "stream",
     "text": [
      "/home/kcdage/anaconda/lib/python2.7/site-packages/astroquery/simbad/core.py:136: UserWarning: Warning: The script line number 3 raised an error (recorded in the `errors` attribute of the result table): '12:29:54.913 +7:56:18.31': No astronomical object found :\n",
      "  (error.line, error.msg))\n"
     ]
    },
    {
     "name": "stdout",
     "output_type": "stream",
     "text": [
      "<SkyCoord (ICRS): (ra, dec) in deg\n",
      "    ( 187.47880417,  7.93841944)>\n",
      "No catalog item found for this within 1 arcsecond, saving coordinates [u'12h29m54.913s'] [u'7d56m18.31s']\n"
     ]
    },
    {
     "name": "stderr",
     "output_type": "stream",
     "text": [
      "WARNING: MergeConflictWarning: Cannot merge meta key u'description' types <type 'unicode'> and <type 'unicode'>, choosing description=u'Simbad script executed on 2017.10.05CEST21:23:07' [astropy.utils.metadata]\n",
      "/home/kcdage/anaconda/lib/python2.7/site-packages/astroquery/simbad/core.py:136: UserWarning: Warning: The script line number 3 raised an error (recorded in the `errors` attribute of the result table): '12:29:59.779 +8:00:25.18': No astronomical object found :\n",
      "  (error.line, error.msg))\n"
     ]
    },
    {
     "name": "stdout",
     "output_type": "stream",
     "text": [
      "<SkyCoord (ICRS): (ra, dec) in deg\n",
      "    ( 187.49907917,  8.00699444)>\n",
      "No catalog item found for this within 1 arcsecond, saving coordinates [u'12h29m59.779s'] [u'8d00m25.18s']\n"
     ]
    },
    {
     "name": "stderr",
     "output_type": "stream",
     "text": [
      "WARNING: MergeConflictWarning: Cannot merge meta key u'description' types <type 'unicode'> and <type 'unicode'>, choosing description=u'Simbad script executed on 2017.10.05CEST21:23:08' [astropy.utils.metadata]\n",
      "/home/kcdage/anaconda/lib/python2.7/site-packages/astroquery/simbad/core.py:136: UserWarning: Warning: The script line number 3 raised an error (recorded in the `errors` attribute of the result table): '12:30:33.474 +7:47:04.92': No astronomical object found :\n",
      "  (error.line, error.msg))\n"
     ]
    },
    {
     "name": "stdout",
     "output_type": "stream",
     "text": [
      "<SkyCoord (ICRS): (ra, dec) in deg\n",
      "    ( 187.639475,  7.7847)>\n",
      "No catalog item found for this within 1 arcsecond, saving coordinates [u'12h30m33.474s'] [u'7d47m04.92s']\n"
     ]
    },
    {
     "name": "stderr",
     "output_type": "stream",
     "text": [
      "/home/kcdage/anaconda/lib/python2.7/site-packages/astroquery/simbad/core.py:136: UserWarning: Warning: The script line number 3 raised an error (recorded in the `errors` attribute of the result table): '12:29:35.334 +7:48:53.01': No astronomical object found :\n",
      "  (error.line, error.msg))\n"
     ]
    },
    {
     "name": "stdout",
     "output_type": "stream",
     "text": [
      "<SkyCoord (ICRS): (ra, dec) in deg\n",
      "    ( 187.397225,  7.814725)>\n",
      "No catalog item found for this within 1 arcsecond, saving coordinates [u'12h29m35.334s'] [u'7d48m53.01s']\n"
     ]
    },
    {
     "name": "stderr",
     "output_type": "stream",
     "text": [
      "/home/kcdage/anaconda/lib/python2.7/site-packages/astroquery/simbad/core.py:136: UserWarning: Warning: The script line number 3 raised an error (recorded in the `errors` attribute of the result table): '12:29:50.125 +7:50:11.49': No astronomical object found :\n",
      "  (error.line, error.msg))\n"
     ]
    },
    {
     "name": "stdout",
     "output_type": "stream",
     "text": [
      "<SkyCoord (ICRS): (ra, dec) in deg\n",
      "    ( 187.45885417,  7.836525)>\n",
      "No catalog item found for this within 1 arcsecond, saving coordinates [u'12h29m50.125s'] [u'7d50m11.49s']\n"
     ]
    },
    {
     "name": "stderr",
     "output_type": "stream",
     "text": [
      "/home/kcdage/anaconda/lib/python2.7/site-packages/astroquery/simbad/core.py:136: UserWarning: Warning: The script line number 3 raised an error (recorded in the `errors` attribute of the result table): '12:29:42.259 +7:50:31.53': No astronomical object found :\n",
      "  (error.line, error.msg))\n"
     ]
    },
    {
     "name": "stdout",
     "output_type": "stream",
     "text": [
      "<SkyCoord (ICRS): (ra, dec) in deg\n",
      "    ( 187.42607917,  7.84209167)>\n",
      "No catalog item found for this within 1 arcsecond, saving coordinates [u'12h29m42.259s'] [u'7d50m31.53s']\n"
     ]
    },
    {
     "name": "stderr",
     "output_type": "stream",
     "text": [
      "WARNING: MergeConflictWarning: Cannot merge meta key u'description' types <type 'unicode'> and <type 'unicode'>, choosing description=u'Simbad script executed on 2017.10.05CEST21:23:09' [astropy.utils.metadata]\n",
      "/home/kcdage/anaconda/lib/python2.7/site-packages/astroquery/simbad/core.py:136: UserWarning: Warning: The script line number 3 raised an error (recorded in the `errors` attribute of the result table): '12:29:54.298 +7:51:59.58': No astronomical object found :\n",
      "  (error.line, error.msg))\n"
     ]
    },
    {
     "name": "stdout",
     "output_type": "stream",
     "text": [
      "<SkyCoord (ICRS): (ra, dec) in deg\n",
      "    ( 187.47624167,  7.86655)>\n",
      "No catalog item found for this within 1 arcsecond, saving coordinates [u'12h29m54.298s'] [u'7d51m59.58s']\n"
     ]
    },
    {
     "name": "stderr",
     "output_type": "stream",
     "text": [
      "/home/kcdage/anaconda/lib/python2.7/site-packages/astroquery/simbad/core.py:136: UserWarning: Warning: The script line number 3 raised an error (recorded in the `errors` attribute of the result table): '12:29:24.132 +7:54:11.83': No astronomical object found :\n",
      "  (error.line, error.msg))\n"
     ]
    },
    {
     "name": "stdout",
     "output_type": "stream",
     "text": [
      "<SkyCoord (ICRS): (ra, dec) in deg\n",
      "    ( 187.35055,  7.90328611)>\n",
      "No catalog item found for this within 1 arcsecond, saving coordinates [u'12h29m24.132s'] [u'7d54m11.83s']\n"
     ]
    },
    {
     "name": "stderr",
     "output_type": "stream",
     "text": [
      "/home/kcdage/anaconda/lib/python2.7/site-packages/astroquery/simbad/core.py:136: UserWarning: Warning: The script line number 3 raised an error (recorded in the `errors` attribute of the result table): '12:29:47.392 +7:56:11.79': No astronomical object found :\n",
      "  (error.line, error.msg))\n"
     ]
    },
    {
     "name": "stdout",
     "output_type": "stream",
     "text": [
      "<SkyCoord (ICRS): (ra, dec) in deg\n",
      "    ( 187.44746667,  7.93660833)>\n",
      "No catalog item found for this within 1 arcsecond, saving coordinates [u'12h29m47.392s'] [u'7d56m11.79s']\n"
     ]
    },
    {
     "name": "stderr",
     "output_type": "stream",
     "text": [
      "/home/kcdage/anaconda/lib/python2.7/site-packages/astroquery/simbad/core.py:136: UserWarning: Warning: The script line number 3 raised an error (recorded in the `errors` attribute of the result table): '12:29:29.283 +7:56:40.13': No astronomical object found :\n",
      "  (error.line, error.msg))\n"
     ]
    },
    {
     "name": "stdout",
     "output_type": "stream",
     "text": [
      "<SkyCoord (ICRS): (ra, dec) in deg\n",
      "    ( 187.3720125,  7.94448056)>\n",
      "No catalog item found for this within 1 arcsecond, saving coordinates [u'12h29m29.283s'] [u'7d56m40.13s']\n"
     ]
    },
    {
     "name": "stderr",
     "output_type": "stream",
     "text": [
      "WARNING: MergeConflictWarning: Cannot merge meta key u'description' types <type 'unicode'> and <type 'unicode'>, choosing description=u'Simbad script executed on 2017.10.05CEST21:23:11' [astropy.utils.metadata]\n",
      "/home/kcdage/anaconda/lib/python2.7/site-packages/astroquery/simbad/core.py:136: UserWarning: Warning: The script line number 3 raised an error (recorded in the `errors` attribute of the result table): '12:29:32.84 +7:57:38.78': No astronomical object found :\n",
      "  (error.line, error.msg))\n"
     ]
    },
    {
     "name": "stdout",
     "output_type": "stream",
     "text": [
      "<SkyCoord (ICRS): (ra, dec) in deg\n",
      "    ( 187.38683333,  7.96077222)>\n",
      "No catalog item found for this within 1 arcsecond, saving coordinates [u'12h29m32.84s'] [u'7d57m38.78s']\n"
     ]
    },
    {
     "name": "stderr",
     "output_type": "stream",
     "text": [
      "WARNING: MergeConflictWarning: Cannot merge meta key u'description' types <type 'unicode'> and <type 'unicode'>, choosing description=u'Simbad script executed on 2017.10.05CEST21:23:12' [astropy.utils.metadata]\n",
      "/home/kcdage/anaconda/lib/python2.7/site-packages/astroquery/simbad/core.py:136: UserWarning: Warning: The script line number 3 raised an error (recorded in the `errors` attribute of the result table): '12:29:41.574 +7:58:20.41': No astronomical object found :\n",
      "  (error.line, error.msg))\n"
     ]
    },
    {
     "name": "stdout",
     "output_type": "stream",
     "text": [
      "<SkyCoord (ICRS): (ra, dec) in deg\n",
      "    ( 187.423225,  7.97233611)>\n",
      "No catalog item found for this within 1 arcsecond, saving coordinates [u'12h29m41.574s'] [u'7d58m20.41s']\n"
     ]
    },
    {
     "name": "stderr",
     "output_type": "stream",
     "text": [
      "/home/kcdage/anaconda/lib/python2.7/site-packages/astroquery/simbad/core.py:136: UserWarning: Warning: The script line number 3 raised an error (recorded in the `errors` attribute of the result table): '12:29:41.918 +7:58:46.26': No astronomical object found :\n",
      "  (error.line, error.msg))\n"
     ]
    },
    {
     "name": "stdout",
     "output_type": "stream",
     "text": [
      "<SkyCoord (ICRS): (ra, dec) in deg\n",
      "    ( 187.42465833,  7.97951667)>\n",
      "No catalog item found for this within 1 arcsecond, saving coordinates [u'12h29m41.918s'] [u'7d58m46.26s']\n"
     ]
    },
    {
     "name": "stderr",
     "output_type": "stream",
     "text": [
      "WARNING: MergeConflictWarning: Cannot merge meta key u'description' types <type 'unicode'> and <type 'unicode'>, choosing description=u'Simbad script executed on 2017.10.05CEST21:23:13' [astropy.utils.metadata]\n",
      "/home/kcdage/anaconda/lib/python2.7/site-packages/astroquery/simbad/core.py:136: UserWarning: Warning: The script line number 3 raised an error (recorded in the `errors` attribute of the result table): '12:29:46.82 +8:00:03.22': No astronomical object found :\n",
      "  (error.line, error.msg))\n"
     ]
    },
    {
     "name": "stdout",
     "output_type": "stream",
     "text": [
      "<SkyCoord (ICRS): (ra, dec) in deg\n",
      "    ( 187.44508333,  8.00089444)>\n",
      "No catalog item found for this within 1 arcsecond, saving coordinates [u'12h29m46.82s'] [u'8d00m03.22s']\n"
     ]
    },
    {
     "name": "stderr",
     "output_type": "stream",
     "text": [
      "/home/kcdage/anaconda/lib/python2.7/site-packages/astroquery/simbad/core.py:136: UserWarning: Warning: The script line number 3 raised an error (recorded in the `errors` attribute of the result table): '12:29:18.973 +7:45:15.2': No astronomical object found :\n",
      "  (error.line, error.msg))\n"
     ]
    },
    {
     "name": "stdout",
     "output_type": "stream",
     "text": [
      "<SkyCoord (ICRS): (ra, dec) in deg\n",
      "    ( 187.32905417,  7.75422222)>\n",
      "No catalog item found for this within 1 arcsecond, saving coordinates [u'12h29m18.973s'] [u'7d45m15.2s']\n"
     ]
    },
    {
     "name": "stderr",
     "output_type": "stream",
     "text": [
      "/home/kcdage/anaconda/lib/python2.7/site-packages/astroquery/simbad/core.py:136: UserWarning: Warning: The script line number 3 raised an error (recorded in the `errors` attribute of the result table): '12:29:32.869 +7:48:45.65': No astronomical object found :\n",
      "  (error.line, error.msg))\n"
     ]
    },
    {
     "name": "stdout",
     "output_type": "stream",
     "text": [
      "<SkyCoord (ICRS): (ra, dec) in deg\n",
      "    ( 187.38695417,  7.81268056)>\n",
      "No catalog item found for this within 1 arcsecond, saving coordinates [u'12h29m32.869s'] [u'7d48m45.65s']\n"
     ]
    },
    {
     "name": "stderr",
     "output_type": "stream",
     "text": [
      "WARNING: MergeConflictWarning: Cannot merge meta key u'description' types <type 'unicode'> and <type 'unicode'>, choosing description=u'Simbad script executed on 2017.10.05CEST21:23:14' [astropy.utils.metadata]\n",
      "/home/kcdage/anaconda/lib/python2.7/site-packages/astroquery/simbad/core.py:136: UserWarning: Warning: The script line number 3 raised an error (recorded in the `errors` attribute of the result table): '12:29:45.781 +7:58:08.23': No astronomical object found :\n",
      "  (error.line, error.msg))\n"
     ]
    },
    {
     "name": "stdout",
     "output_type": "stream",
     "text": [
      "<SkyCoord (ICRS): (ra, dec) in deg\n",
      "    ( 187.44075417,  7.96895278)>\n",
      "No catalog item found for this within 1 arcsecond, saving coordinates [u'12h29m45.781s'] [u'7d58m08.23s']\n"
     ]
    },
    {
     "name": "stderr",
     "output_type": "stream",
     "text": [
      "/home/kcdage/anaconda/lib/python2.7/site-packages/astroquery/simbad/core.py:136: UserWarning: Warning: The script line number 3 raised an error (recorded in the `errors` attribute of the result table): '12:29:49.279 +8:00:11.43': No astronomical object found :\n",
      "  (error.line, error.msg))\n"
     ]
    },
    {
     "name": "stdout",
     "output_type": "stream",
     "text": [
      "<SkyCoord (ICRS): (ra, dec) in deg\n",
      "    ( 187.45532917,  8.003175)>\n",
      "No catalog item found for this within 1 arcsecond, saving coordinates [u'12h29m49.279s'] [u'8d00m11.43s']\n"
     ]
    },
    {
     "name": "stderr",
     "output_type": "stream",
     "text": [
      "/home/kcdage/anaconda/lib/python2.7/site-packages/astroquery/simbad/core.py:136: UserWarning: Warning: The script line number 3 raised an error (recorded in the `errors` attribute of the result table): '12:29:28.135 +7:44:57.21': No astronomical object found :\n",
      "  (error.line, error.msg))\n"
     ]
    },
    {
     "name": "stdout",
     "output_type": "stream",
     "text": [
      "<SkyCoord (ICRS): (ra, dec) in deg\n",
      "    ( 187.36722917,  7.749225)>\n",
      "No catalog item found for this within 1 arcsecond, saving coordinates [u'12h29m28.135s'] [u'7d44m57.21s']\n",
      "<SkyCoord (ICRS): (ra, dec) in deg\n",
      "    ( 187.46917917,  8.03200833)>\n",
      "No catalog item found for this within 1 arcsecond, saving coordinates [u'12h29m52.603s'] [u'8d01m55.23s']\n"
     ]
    },
    {
     "name": "stderr",
     "output_type": "stream",
     "text": [
      "/home/kcdage/anaconda/lib/python2.7/site-packages/astroquery/simbad/core.py:136: UserWarning: Warning: The script line number 3 raised an error (recorded in the `errors` attribute of the result table): '12:29:52.603 +8:01:55.23': No astronomical object found :\n",
      "  (error.line, error.msg))\n"
     ]
    }
   ],
   "source": [
    "\n",
    "null_ra_12978=[]\n",
    "null_dec_12978=[]\n",
    "stacked_table_12978=[]\n",
    "for i in range(len(xcor12978)):\n",
    "        item12978=customSimbad.query_region(SkyCoord(xcor12978[i],ycor12978[i], unit=(u.deg, u.deg), frame='fk5'), radius=dist)\n",
    "        if item12978 is None:\n",
    "            co12978 = SkyCoord(xcor12978[i],ycor12978[i], unit=(u.deg, u.deg))\n",
    "            print co12978\n",
    "            ra_not_found12978, dec_not_found12978 = co12978.ra.to_string(u.hour), co12978.dec.to_string(u.deg)\n",
    "            print \"No catalog item found for this within 1 arcsecond, saving coordinates\", ra_not_found12978, dec_not_found12978\n",
    "\n",
    "            if np.size(null_ra_12978)<1:\n",
    "                null_ra_12978=ra_not_found12978\n",
    "                null_dec_12978=dec_not_found12978\n",
    "            else:\n",
    "                null_ra_12978=np.vstack((null_ra_12978, ra_not_found12978))\n",
    "                null_dec_12978=np.vstack((null_dec_12978, dec_not_found12978))\n",
    "        else:\n",
    "            if len(stacked_table_12978)<1:\n",
    "                stacked_table_12978=item12978\n",
    "            else:\n",
    "                stacked_table_12978=Table.vstack([stacked_table_12978, item12978], join_type ='exact') \n",
    "                \n",
    "        \n",
    "\n"
   ]
  },
  {
   "cell_type": "code",
   "execution_count": 105,
   "metadata": {
    "collapsed": true
   },
   "outputs": [],
   "source": [
    "stacked_table_12978.remove_column('DEC_PREC')\n",
    "stacked_table_12978.remove_column('RA_PREC')\n",
    "stacked_table_12978.remove_column('COO_ERR_MAJA')\n",
    "stacked_table_12978.remove_column('COO_ERR_MINA')\n",
    "stacked_table_12978.remove_column('COO_ERR_ANGLE')\n",
    "stacked_table_12978.remove_column('COO_QUAL')\n",
    "\n",
    "null_coords12978= np.asarray(np.hstack((null_ra_12978, null_dec_12978)))\n",
    "\n",
    "ascii.write(null_coords12978, \"12978_no_cat_val.dat\")\n",
    "ascii.write(stacked_table_12978, 'out_12978.txt', format='csv')"
   ]
  },
  {
   "cell_type": "code",
   "execution_count": 106,
   "metadata": {
    "collapsed": false
   },
   "outputs": [
    {
     "name": "stderr",
     "output_type": "stream",
     "text": [
      "/home/kcdage/anaconda/lib/python2.7/site-packages/astroquery/simbad/core.py:136: UserWarning: Warning: The script line number 3 raised an error (recorded in the `errors` attribute of the result table): '12:30:24.131 +7:51:39.93': No astronomical object found :\n",
      "  (error.line, error.msg))\n"
     ]
    },
    {
     "name": "stdout",
     "output_type": "stream",
     "text": [
      "<SkyCoord (ICRS): (ra, dec) in deg\n",
      "    ( 187.60054583,  7.86109167)>\n",
      "No catalog item found for this within 1 arcsecond, saving coordinates [u'12h30m24.131s'] [u'7d51m39.93s']\n"
     ]
    },
    {
     "name": "stderr",
     "output_type": "stream",
     "text": [
      "/home/kcdage/anaconda/lib/python2.7/site-packages/astroquery/simbad/core.py:136: UserWarning: Warning: The script line number 3 raised an error (recorded in the `errors` attribute of the result table): '12:30:27.606 +7:54:39.07': No astronomical object found :\n",
      "  (error.line, error.msg))\n"
     ]
    },
    {
     "name": "stdout",
     "output_type": "stream",
     "text": [
      "<SkyCoord (ICRS): (ra, dec) in deg\n",
      "    ( 187.615025,  7.91085278)>\n",
      "No catalog item found for this within 1 arcsecond, saving coordinates [u'12h30m27.606s'] [u'7d54m39.07s']\n"
     ]
    },
    {
     "name": "stderr",
     "output_type": "stream",
     "text": [
      "/home/kcdage/anaconda/lib/python2.7/site-packages/astroquery/simbad/core.py:136: UserWarning: Warning: The script line number 3 raised an error (recorded in the `errors` attribute of the result table): '12:29:54.303 +7:56:12.18': No astronomical object found :\n",
      "  (error.line, error.msg))\n"
     ]
    },
    {
     "name": "stdout",
     "output_type": "stream",
     "text": [
      "<SkyCoord (ICRS): (ra, dec) in deg\n",
      "    ( 187.4762625,  7.93671667)>\n",
      "No catalog item found for this within 1 arcsecond, saving coordinates [u'12h29m54.303s'] [u'7d56m12.18s']\n"
     ]
    },
    {
     "name": "stderr",
     "output_type": "stream",
     "text": [
      "WARNING: MergeConflictWarning: Cannot merge meta key u'description' types <type 'unicode'> and <type 'unicode'>, choosing description=u'Simbad script executed on 2017.10.05CEST21:23:18' [astropy.utils.metadata]\n",
      "WARNING: MergeConflictWarning: Cannot merge meta key u'description' types <type 'unicode'> and <type 'unicode'>, choosing description=u'Simbad script executed on 2017.10.05CEST21:23:19' [astropy.utils.metadata]\n",
      "/home/kcdage/anaconda/lib/python2.7/site-packages/astroquery/simbad/core.py:136: UserWarning: Warning: The script line number 3 raised an error (recorded in the `errors` attribute of the result table): '12:29:53.138 +7:57:24.04': No astronomical object found :\n",
      "  (error.line, error.msg))\n"
     ]
    },
    {
     "name": "stdout",
     "output_type": "stream",
     "text": [
      "<SkyCoord (ICRS): (ra, dec) in deg\n",
      "    ( 187.47140833,  7.95667778)>\n",
      "No catalog item found for this within 1 arcsecond, saving coordinates [u'12h29m53.138s'] [u'7d57m24.04s']\n"
     ]
    },
    {
     "name": "stderr",
     "output_type": "stream",
     "text": [
      "WARNING: MergeConflictWarning: Cannot merge meta key u'description' types <type 'unicode'> and <type 'unicode'>, choosing description=u'Simbad script executed on 2017.10.05CEST21:23:20' [astropy.utils.metadata]\n",
      "/home/kcdage/anaconda/lib/python2.7/site-packages/astroquery/simbad/core.py:136: UserWarning: Warning: The script line number 3 raised an error (recorded in the `errors` attribute of the result table): '12:29:50.692 +7:57:50.25': No astronomical object found :\n",
      "  (error.line, error.msg))\n"
     ]
    },
    {
     "name": "stdout",
     "output_type": "stream",
     "text": [
      "<SkyCoord (ICRS): (ra, dec) in deg\n",
      "    ( 187.46121667,  7.96395833)>\n",
      "No catalog item found for this within 1 arcsecond, saving coordinates [u'12h29m50.692s'] [u'7d57m50.25s']\n"
     ]
    },
    {
     "name": "stderr",
     "output_type": "stream",
     "text": [
      "WARNING: MergeConflictWarning: Cannot merge meta key u'description' types <type 'unicode'> and <type 'unicode'>, choosing description=u'Simbad script executed on 2017.10.05CEST21:23:21' [astropy.utils.metadata]\n",
      "WARNING: MergeConflictWarning: Cannot merge meta key u'description' types <type 'unicode'> and <type 'unicode'>, choosing description=u'Simbad script executed on 2017.10.05CEST21:23:22' [astropy.utils.metadata]\n",
      "WARNING: MergeConflictWarning: Cannot merge meta key u'description' types <type 'unicode'> and <type 'unicode'>, choosing description=u'Simbad script executed on 2017.10.05CEST21:23:23' [astropy.utils.metadata]\n",
      "/home/kcdage/anaconda/lib/python2.7/site-packages/astroquery/simbad/core.py:136: UserWarning: Warning: The script line number 3 raised an error (recorded in the `errors` attribute of the result table): '12:29:50.859 +7:58:17.59': No astronomical object found :\n",
      "  (error.line, error.msg))\n"
     ]
    },
    {
     "name": "stdout",
     "output_type": "stream",
     "text": [
      "<SkyCoord (ICRS): (ra, dec) in deg\n",
      "    ( 187.4619125,  7.97155278)>\n",
      "No catalog item found for this within 1 arcsecond, saving coordinates [u'12h29m50.859s'] [u'7d58m17.59s']\n"
     ]
    },
    {
     "name": "stderr",
     "output_type": "stream",
     "text": [
      "/home/kcdage/anaconda/lib/python2.7/site-packages/astroquery/simbad/core.py:136: UserWarning: Warning: The script line number 3 raised an error (recorded in the `errors` attribute of the result table): '12:29:52.817 +7:58:19.31': No astronomical object found :\n",
      "  (error.line, error.msg))\n"
     ]
    },
    {
     "name": "stdout",
     "output_type": "stream",
     "text": [
      "<SkyCoord (ICRS): (ra, dec) in deg\n",
      "    ( 187.47007083,  7.97203056)>\n",
      "No catalog item found for this within 1 arcsecond, saving coordinates [u'12h29m52.817s'] [u'7d58m19.31s']\n"
     ]
    },
    {
     "name": "stderr",
     "output_type": "stream",
     "text": [
      "WARNING: MergeConflictWarning: Cannot merge meta key u'description' types <type 'unicode'> and <type 'unicode'>, choosing description=u'Simbad script executed on 2017.10.05CEST21:23:24' [astropy.utils.metadata]\n",
      "WARNING: MergeConflictWarning: Cannot merge meta key u'description' types <type 'unicode'> and <type 'unicode'>, choosing description=u'Simbad script executed on 2017.10.05CEST21:23:25' [astropy.utils.metadata]\n",
      "/home/kcdage/anaconda/lib/python2.7/site-packages/astroquery/simbad/core.py:136: UserWarning: Warning: The script line number 3 raised an error (recorded in the `errors` attribute of the result table): '12:29:51.176 +7:58:26.87': No astronomical object found :\n",
      "  (error.line, error.msg))\n"
     ]
    },
    {
     "name": "stdout",
     "output_type": "stream",
     "text": [
      "<SkyCoord (ICRS): (ra, dec) in deg\n",
      "    ( 187.46323333,  7.97413056)>\n",
      "No catalog item found for this within 1 arcsecond, saving coordinates [u'12h29m51.176s'] [u'7d58m26.87s']\n"
     ]
    },
    {
     "name": "stderr",
     "output_type": "stream",
     "text": [
      "WARNING: MergeConflictWarning: Cannot merge meta key u'description' types <type 'unicode'> and <type 'unicode'>, choosing description=u'Simbad script executed on 2017.10.05CEST21:23:26' [astropy.utils.metadata]\n",
      "/home/kcdage/anaconda/lib/python2.7/site-packages/astroquery/simbad/core.py:136: UserWarning: Warning: The script line number 3 raised an error (recorded in the `errors` attribute of the result table): '12:29:44.043 +7:58:36.76': No astronomical object found :\n",
      "  (error.line, error.msg))\n"
     ]
    },
    {
     "name": "stdout",
     "output_type": "stream",
     "text": [
      "<SkyCoord (ICRS): (ra, dec) in deg\n",
      "    ( 187.4335125,  7.97687778)>\n",
      "No catalog item found for this within 1 arcsecond, saving coordinates [u'12h29m44.043s'] [u'7d58m36.76s']\n"
     ]
    },
    {
     "name": "stderr",
     "output_type": "stream",
     "text": [
      "WARNING: MergeConflictWarning: Cannot merge meta key u'description' types <type 'unicode'> and <type 'unicode'>, choosing description=u'Simbad script executed on 2017.10.05CEST21:23:27' [astropy.utils.metadata]\n",
      "/home/kcdage/anaconda/lib/python2.7/site-packages/astroquery/simbad/core.py:136: UserWarning: Warning: The script line number 3 raised an error (recorded in the `errors` attribute of the result table): '12:29:49.394 +7:58:44.18': No astronomical object found :\n",
      "  (error.line, error.msg))\n"
     ]
    },
    {
     "name": "stdout",
     "output_type": "stream",
     "text": [
      "<SkyCoord (ICRS): (ra, dec) in deg\n",
      "    ( 187.45580833,  7.97893889)>\n",
      "No catalog item found for this within 1 arcsecond, saving coordinates [u'12h29m49.394s'] [u'7d58m44.18s']\n"
     ]
    },
    {
     "name": "stderr",
     "output_type": "stream",
     "text": [
      "WARNING: MergeConflictWarning: Cannot merge meta key u'description' types <type 'unicode'> and <type 'unicode'>, choosing description=u'Simbad script executed on 2017.10.05CEST21:23:28' [astropy.utils.metadata]\n",
      "WARNING: MergeConflictWarning: Cannot merge meta key u'description' types <type 'unicode'> and <type 'unicode'>, choosing description=u'Simbad script executed on 2017.10.05CEST21:23:29' [astropy.utils.metadata]\n",
      "WARNING: MergeConflictWarning: Cannot merge meta key u'description' types <type 'unicode'> and <type 'unicode'>, choosing description=u'Simbad script executed on 2017.10.05CEST21:23:30' [astropy.utils.metadata]\n",
      "/home/kcdage/anaconda/lib/python2.7/site-packages/astroquery/simbad/core.py:136: UserWarning: Warning: The script line number 3 raised an error (recorded in the `errors` attribute of the result table): '12:29:43.553 +7:58:54.62': No astronomical object found :\n",
      "  (error.line, error.msg))\n"
     ]
    },
    {
     "name": "stdout",
     "output_type": "stream",
     "text": [
      "<SkyCoord (ICRS): (ra, dec) in deg\n",
      "    ( 187.43147083,  7.98183889)>\n",
      "No catalog item found for this within 1 arcsecond, saving coordinates [u'12h29m43.553s'] [u'7d58m54.62s']\n"
     ]
    },
    {
     "name": "stderr",
     "output_type": "stream",
     "text": [
      "WARNING: MergeConflictWarning: Cannot merge meta key u'description' types <type 'unicode'> and <type 'unicode'>, choosing description=u'Simbad script executed on 2017.10.05CEST21:23:31' [astropy.utils.metadata]\n",
      "/home/kcdage/anaconda/lib/python2.7/site-packages/astroquery/simbad/core.py:136: UserWarning: Warning: The script line number 3 raised an error (recorded in the `errors` attribute of the result table): '12:29:32.747 +7:58:57.21': No astronomical object found :\n",
      "  (error.line, error.msg))\n"
     ]
    },
    {
     "name": "stdout",
     "output_type": "stream",
     "text": [
      "<SkyCoord (ICRS): (ra, dec) in deg\n",
      "    ( 187.38644583,  7.98255833)>\n",
      "No catalog item found for this within 1 arcsecond, saving coordinates [u'12h29m32.747s'] [u'7d58m57.21s']\n",
      "<SkyCoord (ICRS): (ra, dec) in deg\n",
      "    ( 187.44515417,  7.98288889)>\n",
      "No catalog item found for this within 1 arcsecond, saving coordinates [u'12h29m46.837s'] [u'7d58m58.4s']\n"
     ]
    },
    {
     "name": "stderr",
     "output_type": "stream",
     "text": [
      "/home/kcdage/anaconda/lib/python2.7/site-packages/astroquery/simbad/core.py:136: UserWarning: Warning: The script line number 3 raised an error (recorded in the `errors` attribute of the result table): '12:29:46.837 +7:58:58.4': No astronomical object found :\n",
      "  (error.line, error.msg))\n",
      "WARNING: MergeConflictWarning: Cannot merge meta key u'description' types <type 'unicode'> and <type 'unicode'>, choosing description=u'Simbad script executed on 2017.10.05CEST21:23:32' [astropy.utils.metadata]\n",
      "/home/kcdage/anaconda/lib/python2.7/site-packages/astroquery/simbad/core.py:136: UserWarning: Warning: The script line number 3 raised an error (recorded in the `errors` attribute of the result table): '12:29:47.718 +7:58:58.51': No astronomical object found :\n",
      "  (error.line, error.msg))\n"
     ]
    },
    {
     "name": "stdout",
     "output_type": "stream",
     "text": [
      "<SkyCoord (ICRS): (ra, dec) in deg\n",
      "    ( 187.448825,  7.98291944)>\n",
      "No catalog item found for this within 1 arcsecond, saving coordinates [u'12h29m47.718s'] [u'7d58m58.51s']\n"
     ]
    },
    {
     "name": "stderr",
     "output_type": "stream",
     "text": [
      "WARNING: MergeConflictWarning: Cannot merge meta key u'description' types <type 'unicode'> and <type 'unicode'>, choosing description=u'Simbad script executed on 2017.10.05CEST21:23:33' [astropy.utils.metadata]\n",
      "/home/kcdage/anaconda/lib/python2.7/site-packages/astroquery/simbad/core.py:136: UserWarning: Warning: The script line number 3 raised an error (recorded in the `errors` attribute of the result table): '12:29:45.367 +7:59:08.68': No astronomical object found :\n",
      "  (error.line, error.msg))\n"
     ]
    },
    {
     "name": "stdout",
     "output_type": "stream",
     "text": [
      "<SkyCoord (ICRS): (ra, dec) in deg\n",
      "    ( 187.43902917,  7.98574444)>\n",
      "No catalog item found for this within 1 arcsecond, saving coordinates [u'12h29m45.367s'] [u'7d59m08.68s']\n"
     ]
    },
    {
     "name": "stderr",
     "output_type": "stream",
     "text": [
      "/home/kcdage/anaconda/lib/python2.7/site-packages/astroquery/simbad/core.py:136: UserWarning: Warning: The script line number 3 raised an error (recorded in the `errors` attribute of the result table): '12:29:49.537 +7:59:10.6': No astronomical object found :\n",
      "  (error.line, error.msg))\n"
     ]
    },
    {
     "name": "stdout",
     "output_type": "stream",
     "text": [
      "<SkyCoord (ICRS): (ra, dec) in deg\n",
      "    ( 187.45640417,  7.98627778)>\n",
      "No catalog item found for this within 1 arcsecond, saving coordinates [u'12h29m49.537s'] [u'7d59m10.6s']\n",
      "<SkyCoord (ICRS): (ra, dec) in deg\n",
      "    ( 187.44764167,  7.98685833)>\n",
      "No catalog item found for this within 1 arcsecond, saving coordinates [u'12h29m47.434s'] [u'7d59m12.69s']\n"
     ]
    },
    {
     "name": "stderr",
     "output_type": "stream",
     "text": [
      "/home/kcdage/anaconda/lib/python2.7/site-packages/astroquery/simbad/core.py:136: UserWarning: Warning: The script line number 3 raised an error (recorded in the `errors` attribute of the result table): '12:29:47.434 +7:59:12.69': No astronomical object found :\n",
      "  (error.line, error.msg))\n",
      "WARNING: MergeConflictWarning: Cannot merge meta key u'description' types <type 'unicode'> and <type 'unicode'>, choosing description=u'Simbad script executed on 2017.10.05CEST21:23:34' [astropy.utils.metadata]\n",
      "WARNING: MergeConflictWarning: Cannot merge meta key u'description' types <type 'unicode'> and <type 'unicode'>, choosing description=u'Simbad script executed on 2017.10.05CEST21:23:35' [astropy.utils.metadata]\n",
      "WARNING: MergeConflictWarning: Cannot merge meta key u'description' types <type 'unicode'> and <type 'unicode'>, choosing description=u'Simbad script executed on 2017.10.05CEST21:23:36' [astropy.utils.metadata]\n",
      "WARNING: MergeConflictWarning: Cannot merge meta key u'description' types <type 'unicode'> and <type 'unicode'>, choosing description=u'Simbad script executed on 2017.10.05CEST21:23:37' [astropy.utils.metadata]\n",
      "WARNING: MergeConflictWarning: Cannot merge meta key u'description' types <type 'unicode'> and <type 'unicode'>, choosing description=u'Simbad script executed on 2017.10.05CEST21:23:38' [astropy.utils.metadata]\n",
      "/home/kcdage/anaconda/lib/python2.7/site-packages/astroquery/simbad/core.py:136: UserWarning: Warning: The script line number 3 raised an error (recorded in the `errors` attribute of the result table): '12:29:45.09 +7:59:24.44': No astronomical object found :\n",
      "  (error.line, error.msg))\n"
     ]
    },
    {
     "name": "stdout",
     "output_type": "stream",
     "text": [
      "<SkyCoord (ICRS): (ra, dec) in deg\n",
      "    ( 187.437875,  7.99012222)>\n",
      "No catalog item found for this within 1 arcsecond, saving coordinates [u'12h29m45.09s'] [u'7d59m24.44s']\n"
     ]
    },
    {
     "name": "stderr",
     "output_type": "stream",
     "text": [
      "WARNING: MergeConflictWarning: Cannot merge meta key u'description' types <type 'unicode'> and <type 'unicode'>, choosing description=u'Simbad script executed on 2017.10.05CEST21:23:39' [astropy.utils.metadata]\n",
      "WARNING: MergeConflictWarning: Cannot merge meta key u'description' types <type 'unicode'> and <type 'unicode'>, choosing description=u'Simbad script executed on 2017.10.05CEST21:23:40' [astropy.utils.metadata]\n",
      "/home/kcdage/anaconda/lib/python2.7/site-packages/astroquery/simbad/core.py:136: UserWarning: Warning: The script line number 3 raised an error (recorded in the `errors` attribute of the result table): '12:29:45.469 +7:59:30.36': No astronomical object found :\n",
      "  (error.line, error.msg))\n"
     ]
    },
    {
     "name": "stdout",
     "output_type": "stream",
     "text": [
      "<SkyCoord (ICRS): (ra, dec) in deg\n",
      "    ( 187.43945417,  7.99176667)>\n",
      "No catalog item found for this within 1 arcsecond, saving coordinates [u'12h29m45.469s'] [u'7d59m30.36s']\n"
     ]
    },
    {
     "name": "stderr",
     "output_type": "stream",
     "text": [
      "/home/kcdage/anaconda/lib/python2.7/site-packages/astroquery/simbad/core.py:136: UserWarning: Warning: The script line number 3 raised an error (recorded in the `errors` attribute of the result table): '12:29:41.2 +7:59:30.78': No astronomical object found :\n",
      "  (error.line, error.msg))\n"
     ]
    },
    {
     "name": "stdout",
     "output_type": "stream",
     "text": [
      "<SkyCoord (ICRS): (ra, dec) in deg\n",
      "    ( 187.42166667,  7.99188333)>\n",
      "No catalog item found for this within 1 arcsecond, saving coordinates [u'12h29m41.2s'] [u'7d59m30.78s']\n"
     ]
    },
    {
     "name": "stderr",
     "output_type": "stream",
     "text": [
      "WARNING: MergeConflictWarning: Cannot merge meta key u'description' types <type 'unicode'> and <type 'unicode'>, choosing description=u'Simbad script executed on 2017.10.05CEST21:23:41' [astropy.utils.metadata]\n",
      "/home/kcdage/anaconda/lib/python2.7/site-packages/astroquery/simbad/core.py:136: UserWarning: Warning: The script line number 3 raised an error (recorded in the `errors` attribute of the result table): '12:29:49.057 +7:59:30.88': No astronomical object found :\n",
      "  (error.line, error.msg))\n"
     ]
    },
    {
     "name": "stdout",
     "output_type": "stream",
     "text": [
      "<SkyCoord (ICRS): (ra, dec) in deg\n",
      "    ( 187.45440417,  7.99191111)>\n",
      "No catalog item found for this within 1 arcsecond, saving coordinates [u'12h29m49.057s'] [u'7d59m30.88s']\n"
     ]
    },
    {
     "name": "stderr",
     "output_type": "stream",
     "text": [
      "/home/kcdage/anaconda/lib/python2.7/site-packages/astroquery/simbad/core.py:136: UserWarning: Warning: The script line number 3 raised an error (recorded in the `errors` attribute of the result table): '12:29:36.216 +7:59:31.89': No astronomical object found :\n",
      "  (error.line, error.msg))\n"
     ]
    },
    {
     "name": "stdout",
     "output_type": "stream",
     "text": [
      "<SkyCoord (ICRS): (ra, dec) in deg\n",
      "    ( 187.4009,  7.99219167)>\n",
      "No catalog item found for this within 1 arcsecond, saving coordinates [u'12h29m36.216s'] [u'7d59m31.89s']\n"
     ]
    },
    {
     "name": "stderr",
     "output_type": "stream",
     "text": [
      "/home/kcdage/anaconda/lib/python2.7/site-packages/astroquery/simbad/core.py:136: UserWarning: Warning: The script line number 3 raised an error (recorded in the `errors` attribute of the result table): '12:29:48.323 +7:59:32.31': No astronomical object found :\n",
      "  (error.line, error.msg))\n"
     ]
    },
    {
     "name": "stdout",
     "output_type": "stream",
     "text": [
      "<SkyCoord (ICRS): (ra, dec) in deg\n",
      "    ( 187.45134583,  7.99230833)>\n",
      "No catalog item found for this within 1 arcsecond, saving coordinates [u'12h29m48.323s'] [u'7d59m32.31s']\n"
     ]
    },
    {
     "name": "stderr",
     "output_type": "stream",
     "text": [
      "WARNING: MergeConflictWarning: Cannot merge meta key u'description' types <type 'unicode'> and <type 'unicode'>, choosing description=u'Simbad script executed on 2017.10.05CEST21:23:43' [astropy.utils.metadata]\n",
      "/home/kcdage/anaconda/lib/python2.7/site-packages/astroquery/simbad/core.py:136: UserWarning: Warning: The script line number 3 raised an error (recorded in the `errors` attribute of the result table): '12:29:47.87 +7:59:34.21': No astronomical object found :\n",
      "  (error.line, error.msg))\n"
     ]
    },
    {
     "name": "stdout",
     "output_type": "stream",
     "text": [
      "<SkyCoord (ICRS): (ra, dec) in deg\n",
      "    ( 187.44945833,  7.99283611)>\n",
      "No catalog item found for this within 1 arcsecond, saving coordinates [u'12h29m47.87s'] [u'7d59m34.21s']\n"
     ]
    },
    {
     "name": "stderr",
     "output_type": "stream",
     "text": [
      "/home/kcdage/anaconda/lib/python2.7/site-packages/astroquery/simbad/core.py:136: UserWarning: Warning: The script line number 3 raised an error (recorded in the `errors` attribute of the result table): '12:29:46.813 +7:59:34.95': No astronomical object found :\n",
      "  (error.line, error.msg))\n"
     ]
    },
    {
     "name": "stdout",
     "output_type": "stream",
     "text": [
      "<SkyCoord (ICRS): (ra, dec) in deg\n",
      "    ( 187.44505417,  7.99304167)>\n",
      "No catalog item found for this within 1 arcsecond, saving coordinates [u'12h29m46.813s'] [u'7d59m34.95s']\n"
     ]
    },
    {
     "name": "stderr",
     "output_type": "stream",
     "text": [
      "WARNING: MergeConflictWarning: Cannot merge meta key u'description' types <type 'unicode'> and <type 'unicode'>, choosing description=u'Simbad script executed on 2017.10.05CEST21:23:44' [astropy.utils.metadata]\n",
      "WARNING: MergeConflictWarning: Cannot merge meta key u'description' types <type 'unicode'> and <type 'unicode'>, choosing description=u'Simbad script executed on 2017.10.05CEST21:23:45' [astropy.utils.metadata]\n",
      "/home/kcdage/anaconda/lib/python2.7/site-packages/astroquery/simbad/core.py:136: UserWarning: Warning: The script line number 3 raised an error (recorded in the `errors` attribute of the result table): '12:29:46.467 +7:59:39.72': No astronomical object found :\n",
      "  (error.line, error.msg))\n"
     ]
    },
    {
     "name": "stdout",
     "output_type": "stream",
     "text": [
      "<SkyCoord (ICRS): (ra, dec) in deg\n",
      "    ( 187.4436125,  7.99436667)>\n",
      "No catalog item found for this within 1 arcsecond, saving coordinates [u'12h29m46.467s'] [u'7d59m39.72s']\n"
     ]
    },
    {
     "name": "stderr",
     "output_type": "stream",
     "text": [
      "WARNING: MergeConflictWarning: Cannot merge meta key u'description' types <type 'unicode'> and <type 'unicode'>, choosing description=u'Simbad script executed on 2017.10.05CEST21:23:46' [astropy.utils.metadata]\n",
      "WARNING: MergeConflictWarning: Cannot merge meta key u'description' types <type 'unicode'> and <type 'unicode'>, choosing description=u'Simbad script executed on 2017.10.05CEST21:23:47' [astropy.utils.metadata]\n",
      "/home/kcdage/anaconda/lib/python2.7/site-packages/astroquery/simbad/core.py:136: UserWarning: Warning: The script line number 3 raised an error (recorded in the `errors` attribute of the result table): '12:29:48.606 +7:59:43.44': No astronomical object found :\n",
      "  (error.line, error.msg))\n"
     ]
    },
    {
     "name": "stdout",
     "output_type": "stream",
     "text": [
      "<SkyCoord (ICRS): (ra, dec) in deg\n",
      "    ( 187.452525,  7.9954)>\n",
      "No catalog item found for this within 1 arcsecond, saving coordinates [u'12h29m48.606s'] [u'7d59m43.44s']\n"
     ]
    },
    {
     "name": "stderr",
     "output_type": "stream",
     "text": [
      "/home/kcdage/anaconda/lib/python2.7/site-packages/astroquery/simbad/core.py:136: UserWarning: Warning: The script line number 3 raised an error (recorded in the `errors` attribute of the result table): '12:29:47.038 +7:59:43.16': No astronomical object found :\n",
      "  (error.line, error.msg))\n"
     ]
    },
    {
     "name": "stdout",
     "output_type": "stream",
     "text": [
      "<SkyCoord (ICRS): (ra, dec) in deg\n",
      "    ( 187.44599167,  7.99532222)>\n",
      "No catalog item found for this within 1 arcsecond, saving coordinates [u'12h29m47.038s'] [u'7d59m43.16s']\n"
     ]
    },
    {
     "name": "stderr",
     "output_type": "stream",
     "text": [
      "/home/kcdage/anaconda/lib/python2.7/site-packages/astroquery/simbad/core.py:136: UserWarning: Warning: The script line number 3 raised an error (recorded in the `errors` attribute of the result table): '12:29:47.855 +7:59:44.04': No astronomical object found :\n",
      "  (error.line, error.msg))\n"
     ]
    },
    {
     "name": "stdout",
     "output_type": "stream",
     "text": [
      "<SkyCoord (ICRS): (ra, dec) in deg\n",
      "    ( 187.44939583,  7.99556667)>\n",
      "No catalog item found for this within 1 arcsecond, saving coordinates [u'12h29m47.855s'] [u'7d59m44.04s']\n"
     ]
    },
    {
     "name": "stderr",
     "output_type": "stream",
     "text": [
      "WARNING: MergeConflictWarning: Cannot merge meta key u'description' types <type 'unicode'> and <type 'unicode'>, choosing description=u'Simbad script executed on 2017.10.05CEST21:23:48' [astropy.utils.metadata]\n",
      "WARNING: MergeConflictWarning: Cannot merge meta key u'description' types <type 'unicode'> and <type 'unicode'>, choosing description=u'Simbad script executed on 2017.10.05CEST21:23:49' [astropy.utils.metadata]\n",
      "WARNING: MergeConflictWarning: Cannot merge meta key u'description' types <type 'unicode'> and <type 'unicode'>, choosing description=u'Simbad script executed on 2017.10.05CEST21:23:50' [astropy.utils.metadata]\n",
      "/home/kcdage/anaconda/lib/python2.7/site-packages/astroquery/simbad/core.py:136: UserWarning: Warning: The script line number 3 raised an error (recorded in the `errors` attribute of the result table): '12:29:47.873 +7:59:51.79': No astronomical object found :\n",
      "  (error.line, error.msg))\n"
     ]
    },
    {
     "name": "stdout",
     "output_type": "stream",
     "text": [
      "<SkyCoord (ICRS): (ra, dec) in deg\n",
      "    ( 187.44947083,  7.99771944)>\n",
      "No catalog item found for this within 1 arcsecond, saving coordinates [u'12h29m47.873s'] [u'7d59m51.79s']\n"
     ]
    },
    {
     "name": "stderr",
     "output_type": "stream",
     "text": [
      "WARNING: MergeConflictWarning: Cannot merge meta key u'description' types <type 'unicode'> and <type 'unicode'>, choosing description=u'Simbad script executed on 2017.10.05CEST21:23:51' [astropy.utils.metadata]\n",
      "/home/kcdage/anaconda/lib/python2.7/site-packages/astroquery/simbad/core.py:136: UserWarning: Warning: The script line number 3 raised an error (recorded in the `errors` attribute of the result table): '12:29:46.317 +7:59:52.03': No astronomical object found :\n",
      "  (error.line, error.msg))\n"
     ]
    },
    {
     "name": "stdout",
     "output_type": "stream",
     "text": [
      "<SkyCoord (ICRS): (ra, dec) in deg\n",
      "    ( 187.4429875,  7.99778611)>\n",
      "No catalog item found for this within 1 arcsecond, saving coordinates [u'12h29m46.317s'] [u'7d59m52.03s']\n"
     ]
    },
    {
     "name": "stderr",
     "output_type": "stream",
     "text": [
      "/home/kcdage/anaconda/lib/python2.7/site-packages/astroquery/simbad/core.py:136: UserWarning: Warning: The script line number 3 raised an error (recorded in the `errors` attribute of the result table): '12:29:46.23 +7:59:52.88': No astronomical object found :\n",
      "  (error.line, error.msg))\n"
     ]
    },
    {
     "name": "stdout",
     "output_type": "stream",
     "text": [
      "<SkyCoord (ICRS): (ra, dec) in deg\n",
      "    ( 187.442625,  7.99802222)>\n",
      "No catalog item found for this within 1 arcsecond, saving coordinates [u'12h29m46.23s'] [u'7d59m52.88s']\n"
     ]
    },
    {
     "name": "stderr",
     "output_type": "stream",
     "text": [
      "/home/kcdage/anaconda/lib/python2.7/site-packages/astroquery/simbad/core.py:136: UserWarning: Warning: The script line number 3 raised an error (recorded in the `errors` attribute of the result table): '12:29:48.593 +7:59:53.94': No astronomical object found :\n",
      "  (error.line, error.msg))\n"
     ]
    },
    {
     "name": "stdout",
     "output_type": "stream",
     "text": [
      "<SkyCoord (ICRS): (ra, dec) in deg\n",
      "    ( 187.45247083,  7.99831667)>\n",
      "No catalog item found for this within 1 arcsecond, saving coordinates [u'12h29m48.593s'] [u'7d59m53.94s']\n"
     ]
    },
    {
     "name": "stderr",
     "output_type": "stream",
     "text": [
      "/home/kcdage/anaconda/lib/python2.7/site-packages/astroquery/simbad/core.py:136: UserWarning: Warning: The script line number 3 raised an error (recorded in the `errors` attribute of the result table): '12:29:47.141 +7:59:54.49': No astronomical object found :\n",
      "  (error.line, error.msg))\n"
     ]
    },
    {
     "name": "stdout",
     "output_type": "stream",
     "text": [
      "<SkyCoord (ICRS): (ra, dec) in deg\n",
      "    ( 187.44642083,  7.99846944)>\n",
      "No catalog item found for this within 1 arcsecond, saving coordinates [u'12h29m47.141s'] [u'7d59m54.49s']\n"
     ]
    },
    {
     "name": "stderr",
     "output_type": "stream",
     "text": [
      "WARNING: MergeConflictWarning: Cannot merge meta key u'description' types <type 'unicode'> and <type 'unicode'>, choosing description=u'Simbad script executed on 2017.10.05CEST21:23:52' [astropy.utils.metadata]\n",
      "WARNING: MergeConflictWarning: Cannot merge meta key u'description' types <type 'unicode'> and <type 'unicode'>, choosing description=u'Simbad script executed on 2017.10.05CEST21:23:53' [astropy.utils.metadata]\n",
      "WARNING: MergeConflictWarning: Cannot merge meta key u'description' types <type 'unicode'> and <type 'unicode'>, choosing description=u'Simbad script executed on 2017.10.05CEST21:23:54' [astropy.utils.metadata]\n",
      "WARNING: MergeConflictWarning: Cannot merge meta key u'description' types <type 'unicode'> and <type 'unicode'>, choosing description=u'Simbad script executed on 2017.10.05CEST21:23:55' [astropy.utils.metadata]\n",
      "/home/kcdage/anaconda/lib/python2.7/site-packages/astroquery/simbad/core.py:136: UserWarning: Warning: The script line number 3 raised an error (recorded in the `errors` attribute of the result table): '12:29:47.045 +8:00:01.75': No astronomical object found :\n",
      "  (error.line, error.msg))\n"
     ]
    },
    {
     "name": "stdout",
     "output_type": "stream",
     "text": [
      "<SkyCoord (ICRS): (ra, dec) in deg\n",
      "    ( 187.44602083,  8.00048611)>\n",
      "No catalog item found for this within 1 arcsecond, saving coordinates [u'12h29m47.045s'] [u'8d00m01.75s']\n"
     ]
    },
    {
     "name": "stderr",
     "output_type": "stream",
     "text": [
      "WARNING: MergeConflictWarning: Cannot merge meta key u'description' types <type 'unicode'> and <type 'unicode'>, choosing description=u'Simbad script executed on 2017.10.05CEST21:23:56' [astropy.utils.metadata]\n",
      "/home/kcdage/anaconda/lib/python2.7/site-packages/astroquery/simbad/core.py:136: UserWarning: Warning: The script line number 3 raised an error (recorded in the `errors` attribute of the result table): '12:29:44.832 +8:00:04.69': No astronomical object found :\n",
      "  (error.line, error.msg))\n"
     ]
    },
    {
     "name": "stdout",
     "output_type": "stream",
     "text": [
      "<SkyCoord (ICRS): (ra, dec) in deg\n",
      "    ( 187.4368,  8.00130278)>\n",
      "No catalog item found for this within 1 arcsecond, saving coordinates [u'12h29m44.832s'] [u'8d00m04.69s']\n"
     ]
    },
    {
     "name": "stderr",
     "output_type": "stream",
     "text": [
      "WARNING: MergeConflictWarning: Cannot merge meta key u'description' types <type 'unicode'> and <type 'unicode'>, choosing description=u'Simbad script executed on 2017.10.05CEST21:23:57' [astropy.utils.metadata]\n",
      "WARNING: MergeConflictWarning: Cannot merge meta key u'description' types <type 'unicode'> and <type 'unicode'>, choosing description=u'Simbad script executed on 2017.10.05CEST21:23:58' [astropy.utils.metadata]\n",
      "/home/kcdage/anaconda/lib/python2.7/site-packages/astroquery/simbad/core.py:136: UserWarning: Warning: The script line number 3 raised an error (recorded in the `errors` attribute of the result table): '12:29:46.744 +8:00:08.62': No astronomical object found :\n",
      "  (error.line, error.msg))\n"
     ]
    },
    {
     "name": "stdout",
     "output_type": "stream",
     "text": [
      "<SkyCoord (ICRS): (ra, dec) in deg\n",
      "    ( 187.44476667,  8.00239444)>\n",
      "No catalog item found for this within 1 arcsecond, saving coordinates [u'12h29m46.744s'] [u'8d00m08.62s']\n"
     ]
    },
    {
     "name": "stderr",
     "output_type": "stream",
     "text": [
      "WARNING: MergeConflictWarning: Cannot merge meta key u'description' types <type 'unicode'> and <type 'unicode'>, choosing description=u'Simbad script executed on 2017.10.05CEST21:23:59' [astropy.utils.metadata]\n",
      "WARNING: MergeConflictWarning: Cannot merge meta key u'description' types <type 'unicode'> and <type 'unicode'>, choosing description=u'Simbad script executed on 2017.10.05CEST21:24:00' [astropy.utils.metadata]\n",
      "/home/kcdage/anaconda/lib/python2.7/site-packages/astroquery/simbad/core.py:136: UserWarning: Warning: The script line number 3 raised an error (recorded in the `errors` attribute of the result table): '12:29:45.457 +8:00:12.08': No astronomical object found :\n",
      "  (error.line, error.msg))\n"
     ]
    },
    {
     "name": "stdout",
     "output_type": "stream",
     "text": [
      "<SkyCoord (ICRS): (ra, dec) in deg\n",
      "    ( 187.43940417,  8.00335556)>\n",
      "No catalog item found for this within 1 arcsecond, saving coordinates [u'12h29m45.457s'] [u'8d00m12.08s']\n"
     ]
    },
    {
     "name": "stderr",
     "output_type": "stream",
     "text": [
      "/home/kcdage/anaconda/lib/python2.7/site-packages/astroquery/simbad/core.py:136: UserWarning: Warning: The script line number 3 raised an error (recorded in the `errors` attribute of the result table): '12:29:49.326 +8:00:12.96': No astronomical object found :\n",
      "  (error.line, error.msg))\n"
     ]
    },
    {
     "name": "stdout",
     "output_type": "stream",
     "text": [
      "<SkyCoord (ICRS): (ra, dec) in deg\n",
      "    ( 187.455525,  8.0036)>\n",
      "No catalog item found for this within 1 arcsecond, saving coordinates [u'12h29m49.326s'] [u'8d00m12.96s']\n"
     ]
    },
    {
     "name": "stderr",
     "output_type": "stream",
     "text": [
      "WARNING: MergeConflictWarning: Cannot merge meta key u'description' types <type 'unicode'> and <type 'unicode'>, choosing description=u'Simbad script executed on 2017.10.05CEST21:24:01' [astropy.utils.metadata]\n",
      "WARNING: MergeConflictWarning: Cannot merge meta key u'description' types <type 'unicode'> and <type 'unicode'>, choosing description=u'Simbad script executed on 2017.10.05CEST21:24:02' [astropy.utils.metadata]\n",
      "/home/kcdage/anaconda/lib/python2.7/site-packages/astroquery/simbad/core.py:136: UserWarning: Warning: The script line number 3 raised an error (recorded in the `errors` attribute of the result table): '12:29:45.821 +8:00:17.36': No astronomical object found :\n",
      "  (error.line, error.msg))\n"
     ]
    },
    {
     "name": "stdout",
     "output_type": "stream",
     "text": [
      "<SkyCoord (ICRS): (ra, dec) in deg\n",
      "    ( 187.44092083,  8.00482222)>\n",
      "No catalog item found for this within 1 arcsecond, saving coordinates [u'12h29m45.821s'] [u'8d00m17.36s']\n"
     ]
    },
    {
     "name": "stderr",
     "output_type": "stream",
     "text": [
      "/home/kcdage/anaconda/lib/python2.7/site-packages/astroquery/simbad/core.py:136: UserWarning: Warning: The script line number 3 raised an error (recorded in the `errors` attribute of the result table): '12:29:48.194 +8:00:19.53': No astronomical object found :\n",
      "  (error.line, error.msg))\n"
     ]
    },
    {
     "name": "stdout",
     "output_type": "stream",
     "text": [
      "<SkyCoord (ICRS): (ra, dec) in deg\n",
      "    ( 187.45080833,  8.005425)>\n",
      "No catalog item found for this within 1 arcsecond, saving coordinates [u'12h29m48.194s'] [u'8d00m19.53s']\n"
     ]
    },
    {
     "name": "stderr",
     "output_type": "stream",
     "text": [
      "/home/kcdage/anaconda/lib/python2.7/site-packages/astroquery/simbad/core.py:136: UserWarning: Warning: The script line number 3 raised an error (recorded in the `errors` attribute of the result table): '12:29:48.372 +8:00:19.95': No astronomical object found :\n",
      "  (error.line, error.msg))\n"
     ]
    },
    {
     "name": "stdout",
     "output_type": "stream",
     "text": [
      "<SkyCoord (ICRS): (ra, dec) in deg\n",
      "    ( 187.45155,  8.00554167)>\n",
      "No catalog item found for this within 1 arcsecond, saving coordinates [u'12h29m48.372s'] [u'8d00m19.95s']\n"
     ]
    },
    {
     "name": "stderr",
     "output_type": "stream",
     "text": [
      "/home/kcdage/anaconda/lib/python2.7/site-packages/astroquery/simbad/core.py:136: UserWarning: Warning: The script line number 3 raised an error (recorded in the `errors` attribute of the result table): '12:29:50.657 +8:00:23.4': No astronomical object found :\n",
      "  (error.line, error.msg))\n"
     ]
    },
    {
     "name": "stdout",
     "output_type": "stream",
     "text": [
      "<SkyCoord (ICRS): (ra, dec) in deg\n",
      "    ( 187.46107083,  8.0065)>\n",
      "No catalog item found for this within 1 arcsecond, saving coordinates [u'12h29m50.657s'] [u'8d00m23.4s']\n"
     ]
    },
    {
     "name": "stderr",
     "output_type": "stream",
     "text": [
      "WARNING: MergeConflictWarning: Cannot merge meta key u'description' types <type 'unicode'> and <type 'unicode'>, choosing description=u'Simbad script executed on 2017.10.05CEST21:24:03' [astropy.utils.metadata]\n",
      "WARNING: MergeConflictWarning: Cannot merge meta key u'description' types <type 'unicode'> and <type 'unicode'>, choosing description=u'Simbad script executed on 2017.10.05CEST21:24:04' [astropy.utils.metadata]\n",
      "WARNING: MergeConflictWarning: Cannot merge meta key u'description' types <type 'unicode'> and <type 'unicode'>, choosing description=u'Simbad script executed on 2017.10.05CEST21:24:05' [astropy.utils.metadata]\n",
      "WARNING: MergeConflictWarning: Cannot merge meta key u'description' types <type 'unicode'> and <type 'unicode'>, choosing description=u'Simbad script executed on 2017.10.05CEST21:24:06' [astropy.utils.metadata]\n",
      "WARNING: MergeConflictWarning: Cannot merge meta key u'description' types <type 'unicode'> and <type 'unicode'>, choosing description=u'Simbad script executed on 2017.10.05CEST21:24:07' [astropy.utils.metadata]\n",
      "/home/kcdage/anaconda/lib/python2.7/site-packages/astroquery/simbad/core.py:136: UserWarning: Warning: The script line number 3 raised an error (recorded in the `errors` attribute of the result table): '12:29:47.872 +8:00:36.74': No astronomical object found :\n",
      "  (error.line, error.msg))\n"
     ]
    },
    {
     "name": "stdout",
     "output_type": "stream",
     "text": [
      "<SkyCoord (ICRS): (ra, dec) in deg\n",
      "    ( 187.44946667,  8.01020556)>\n",
      "No catalog item found for this within 1 arcsecond, saving coordinates [u'12h29m47.872s'] [u'8d00m36.74s']\n"
     ]
    },
    {
     "name": "stderr",
     "output_type": "stream",
     "text": [
      "/home/kcdage/anaconda/lib/python2.7/site-packages/astroquery/simbad/core.py:136: UserWarning: Warning: The script line number 3 raised an error (recorded in the `errors` attribute of the result table): '12:29:44.987 +8:00:36.5': No astronomical object found :\n",
      "  (error.line, error.msg))\n"
     ]
    },
    {
     "name": "stdout",
     "output_type": "stream",
     "text": [
      "<SkyCoord (ICRS): (ra, dec) in deg\n",
      "    ( 187.43744583,  8.01013889)>\n",
      "No catalog item found for this within 1 arcsecond, saving coordinates [u'12h29m44.987s'] [u'8d00m36.5s']\n"
     ]
    },
    {
     "name": "stderr",
     "output_type": "stream",
     "text": [
      "/home/kcdage/anaconda/lib/python2.7/site-packages/astroquery/simbad/core.py:136: UserWarning: Warning: The script line number 3 raised an error (recorded in the `errors` attribute of the result table): '12:29:39.44 +8:00:37.21': No astronomical object found :\n",
      "  (error.line, error.msg))\n"
     ]
    },
    {
     "name": "stdout",
     "output_type": "stream",
     "text": [
      "<SkyCoord (ICRS): (ra, dec) in deg\n",
      "    ( 187.41433333,  8.01033611)>\n",
      "No catalog item found for this within 1 arcsecond, saving coordinates [u'12h29m39.44s'] [u'8d00m37.21s']\n"
     ]
    },
    {
     "name": "stderr",
     "output_type": "stream",
     "text": [
      "WARNING: MergeConflictWarning: Cannot merge meta key u'description' types <type 'unicode'> and <type 'unicode'>, choosing description=u'Simbad script executed on 2017.10.05CEST21:24:08' [astropy.utils.metadata]\n",
      "WARNING: MergeConflictWarning: Cannot merge meta key u'description' types <type 'unicode'> and <type 'unicode'>, choosing description=u'Simbad script executed on 2017.10.05CEST21:24:09' [astropy.utils.metadata]\n",
      "/home/kcdage/anaconda/lib/python2.7/site-packages/astroquery/simbad/core.py:136: UserWarning: Warning: The script line number 3 raised an error (recorded in the `errors` attribute of the result table): '12:29:46.791 +8:00:45.58': No astronomical object found :\n",
      "  (error.line, error.msg))\n"
     ]
    },
    {
     "name": "stdout",
     "output_type": "stream",
     "text": [
      "<SkyCoord (ICRS): (ra, dec) in deg\n",
      "    ( 187.4449625,  8.01266111)>\n",
      "No catalog item found for this within 1 arcsecond, saving coordinates [u'12h29m46.791s'] [u'8d00m45.58s']\n"
     ]
    },
    {
     "name": "stderr",
     "output_type": "stream",
     "text": [
      "WARNING: MergeConflictWarning: Cannot merge meta key u'description' types <type 'unicode'> and <type 'unicode'>, choosing description=u'Simbad script executed on 2017.10.05CEST21:24:10' [astropy.utils.metadata]\n",
      "WARNING: MergeConflictWarning: Cannot merge meta key u'description' types <type 'unicode'> and <type 'unicode'>, choosing description=u'Simbad script executed on 2017.10.05CEST21:24:11' [astropy.utils.metadata]\n",
      "/home/kcdage/anaconda/lib/python2.7/site-packages/astroquery/simbad/core.py:136: UserWarning: Warning: The script line number 3 raised an error (recorded in the `errors` attribute of the result table): '12:29:53.381 +8:00:53.25': No astronomical object found :\n",
      "  (error.line, error.msg))\n"
     ]
    },
    {
     "name": "stdout",
     "output_type": "stream",
     "text": [
      "<SkyCoord (ICRS): (ra, dec) in deg\n",
      "    ( 187.47242083,  8.01479167)>\n",
      "No catalog item found for this within 1 arcsecond, saving coordinates [u'12h29m53.381s'] [u'8d00m53.25s']\n"
     ]
    },
    {
     "name": "stderr",
     "output_type": "stream",
     "text": [
      "WARNING: MergeConflictWarning: Cannot merge meta key u'description' types <type 'unicode'> and <type 'unicode'>, choosing description=u'Simbad script executed on 2017.10.05CEST21:24:12' [astropy.utils.metadata]\n",
      "WARNING: MergeConflictWarning: Cannot merge meta key u'description' types <type 'unicode'> and <type 'unicode'>, choosing description=u'Simbad script executed on 2017.10.05CEST21:24:13' [astropy.utils.metadata]\n",
      "/home/kcdage/anaconda/lib/python2.7/site-packages/astroquery/simbad/core.py:136: UserWarning: Warning: The script line number 3 raised an error (recorded in the `errors` attribute of the result table): '12:29:48.898 +8:00:58.2': No astronomical object found :\n",
      "  (error.line, error.msg))\n"
     ]
    },
    {
     "name": "stdout",
     "output_type": "stream",
     "text": [
      "<SkyCoord (ICRS): (ra, dec) in deg\n",
      "    ( 187.45374167,  8.01616667)>\n",
      "No catalog item found for this within 1 arcsecond, saving coordinates [u'12h29m48.898s'] [u'8d00m58.2s']\n"
     ]
    },
    {
     "name": "stderr",
     "output_type": "stream",
     "text": [
      "WARNING: MergeConflictWarning: Cannot merge meta key u'description' types <type 'unicode'> and <type 'unicode'>, choosing description=u'Simbad script executed on 2017.10.05CEST21:24:14' [astropy.utils.metadata]\n",
      "WARNING: MergeConflictWarning: Cannot merge meta key u'description' types <type 'unicode'> and <type 'unicode'>, choosing description=u'Simbad script executed on 2017.10.05CEST21:24:15' [astropy.utils.metadata]\n",
      "/home/kcdage/anaconda/lib/python2.7/site-packages/astroquery/simbad/core.py:136: UserWarning: Warning: The script line number 3 raised an error (recorded in the `errors` attribute of the result table): '12:29:59.943 +8:01:14.28': No astronomical object found :\n",
      "  (error.line, error.msg))\n"
     ]
    },
    {
     "name": "stdout",
     "output_type": "stream",
     "text": [
      "<SkyCoord (ICRS): (ra, dec) in deg\n",
      "    ( 187.4997625,  8.02063333)>\n",
      "No catalog item found for this within 1 arcsecond, saving coordinates [u'12h29m59.943s'] [u'8d01m14.28s']\n"
     ]
    },
    {
     "name": "stderr",
     "output_type": "stream",
     "text": [
      "/home/kcdage/anaconda/lib/python2.7/site-packages/astroquery/simbad/core.py:136: UserWarning: Warning: The script line number 3 raised an error (recorded in the `errors` attribute of the result table): '12:29:48.749 +8:01:17.85': No astronomical object found :\n",
      "  (error.line, error.msg))\n"
     ]
    },
    {
     "name": "stdout",
     "output_type": "stream",
     "text": [
      "<SkyCoord (ICRS): (ra, dec) in deg\n",
      "    ( 187.45312083,  8.021625)>\n",
      "No catalog item found for this within 1 arcsecond, saving coordinates [u'12h29m48.749s'] [u'8d01m17.85s']\n"
     ]
    },
    {
     "name": "stderr",
     "output_type": "stream",
     "text": [
      "WARNING: MergeConflictWarning: Cannot merge meta key u'description' types <type 'unicode'> and <type 'unicode'>, choosing description=u'Simbad script executed on 2017.10.05CEST21:24:16' [astropy.utils.metadata]\n",
      "/home/kcdage/anaconda/lib/python2.7/site-packages/astroquery/simbad/core.py:136: UserWarning: Warning: The script line number 3 raised an error (recorded in the `errors` attribute of the result table): '12:29:47.688 +8:01:19.29': No astronomical object found :\n",
      "  (error.line, error.msg))\n"
     ]
    },
    {
     "name": "stdout",
     "output_type": "stream",
     "text": [
      "<SkyCoord (ICRS): (ra, dec) in deg\n",
      "    ( 187.4487,  8.022025)>\n",
      "No catalog item found for this within 1 arcsecond, saving coordinates [u'12h29m47.688s'] [u'8d01m19.29s']\n"
     ]
    },
    {
     "name": "stderr",
     "output_type": "stream",
     "text": [
      "WARNING: MergeConflictWarning: Cannot merge meta key u'description' types <type 'unicode'> and <type 'unicode'>, choosing description=u'Simbad script executed on 2017.10.05CEST21:24:17' [astropy.utils.metadata]\n",
      "WARNING: MergeConflictWarning: Cannot merge meta key u'description' types <type 'unicode'> and <type 'unicode'>, choosing description=u'Simbad script executed on 2017.10.05CEST21:24:18' [astropy.utils.metadata]\n",
      "WARNING: MergeConflictWarning: Cannot merge meta key u'description' types <type 'unicode'> and <type 'unicode'>, choosing description=u'Simbad script executed on 2017.10.05CEST21:24:19' [astropy.utils.metadata]\n",
      "/home/kcdage/anaconda/lib/python2.7/site-packages/astroquery/simbad/core.py:136: UserWarning: Warning: The script line number 3 raised an error (recorded in the `errors` attribute of the result table): '12:29:47.69 +8:01:42.79': No astronomical object found :\n",
      "  (error.line, error.msg))\n"
     ]
    },
    {
     "name": "stdout",
     "output_type": "stream",
     "text": [
      "<SkyCoord (ICRS): (ra, dec) in deg\n",
      "    ( 187.44870833,  8.02855278)>\n",
      "No catalog item found for this within 1 arcsecond, saving coordinates [u'12h29m47.69s'] [u'8d01m42.79s']\n"
     ]
    },
    {
     "name": "stderr",
     "output_type": "stream",
     "text": [
      "WARNING: MergeConflictWarning: Cannot merge meta key u'description' types <type 'unicode'> and <type 'unicode'>, choosing description=u'Simbad script executed on 2017.10.05CEST21:24:20' [astropy.utils.metadata]\n",
      "/home/kcdage/anaconda/lib/python2.7/site-packages/astroquery/simbad/core.py:136: UserWarning: Warning: The script line number 3 raised an error (recorded in the `errors` attribute of the result table): '12:29:48.445 +8:02:00.2': No astronomical object found :\n",
      "  (error.line, error.msg))\n"
     ]
    },
    {
     "name": "stdout",
     "output_type": "stream",
     "text": [
      "<SkyCoord (ICRS): (ra, dec) in deg\n",
      "    ( 187.45185417,  8.03338889)>\n",
      "No catalog item found for this within 1 arcsecond, saving coordinates [u'12h29m48.445s'] [u'8d02m00.2s']\n"
     ]
    },
    {
     "name": "stderr",
     "output_type": "stream",
     "text": [
      "/home/kcdage/anaconda/lib/python2.7/site-packages/astroquery/simbad/core.py:136: UserWarning: Warning: The script line number 3 raised an error (recorded in the `errors` attribute of the result table): '12:29:41.42 +8:02:07.92': No astronomical object found :\n",
      "  (error.line, error.msg))\n"
     ]
    },
    {
     "name": "stdout",
     "output_type": "stream",
     "text": [
      "<SkyCoord (ICRS): (ra, dec) in deg\n",
      "    ( 187.42258333,  8.03553333)>\n",
      "No catalog item found for this within 1 arcsecond, saving coordinates [u'12h29m41.42s'] [u'8d02m07.92s']\n"
     ]
    },
    {
     "name": "stderr",
     "output_type": "stream",
     "text": [
      "/home/kcdage/anaconda/lib/python2.7/site-packages/astroquery/simbad/core.py:136: UserWarning: Warning: The script line number 3 raised an error (recorded in the `errors` attribute of the result table): '12:29:50.879 +8:02:11.45': No astronomical object found :\n",
      "  (error.line, error.msg))\n"
     ]
    },
    {
     "name": "stdout",
     "output_type": "stream",
     "text": [
      "<SkyCoord (ICRS): (ra, dec) in deg\n",
      "    ( 187.46199583,  8.03651389)>\n",
      "No catalog item found for this within 1 arcsecond, saving coordinates [u'12h29m50.879s'] [u'8d02m11.45s']\n"
     ]
    },
    {
     "name": "stderr",
     "output_type": "stream",
     "text": [
      "WARNING: MergeConflictWarning: Cannot merge meta key u'description' types <type 'unicode'> and <type 'unicode'>, choosing description=u'Simbad script executed on 2017.10.05CEST21:24:21' [astropy.utils.metadata]\n",
      "WARNING: MergeConflictWarning: Cannot merge meta key u'description' types <type 'unicode'> and <type 'unicode'>, choosing description=u'Simbad script executed on 2017.10.05CEST21:24:22' [astropy.utils.metadata]\n",
      "/home/kcdage/anaconda/lib/python2.7/site-packages/astroquery/simbad/core.py:136: UserWarning: Warning: The script line number 3 raised an error (recorded in the `errors` attribute of the result table): '12:29:56.303 +8:04:23.62': No astronomical object found :\n",
      "  (error.line, error.msg))\n"
     ]
    },
    {
     "name": "stdout",
     "output_type": "stream",
     "text": [
      "<SkyCoord (ICRS): (ra, dec) in deg\n",
      "    ( 187.48459583,  8.07322778)>\n",
      "No catalog item found for this within 1 arcsecond, saving coordinates [u'12h29m56.303s'] [u'8d04m23.62s']\n"
     ]
    },
    {
     "name": "stderr",
     "output_type": "stream",
     "text": [
      "/home/kcdage/anaconda/lib/python2.7/site-packages/astroquery/simbad/core.py:136: UserWarning: Warning: The script line number 3 raised an error (recorded in the `errors` attribute of the result table): '12:29:54.262 +8:09:19.67': No astronomical object found :\n",
      "  (error.line, error.msg))\n"
     ]
    },
    {
     "name": "stdout",
     "output_type": "stream",
     "text": [
      "<SkyCoord (ICRS): (ra, dec) in deg\n",
      "    ( 187.47609167,  8.15546389)>\n",
      "No catalog item found for this within 1 arcsecond, saving coordinates [u'12h29m54.262s'] [u'8d09m19.67s']\n"
     ]
    },
    {
     "name": "stderr",
     "output_type": "stream",
     "text": [
      "/home/kcdage/anaconda/lib/python2.7/site-packages/astroquery/simbad/core.py:136: UserWarning: Warning: The script line number 3 raised an error (recorded in the `errors` attribute of the result table): '12:29:50.987 +8:16:53.85': No astronomical object found :\n",
      "  (error.line, error.msg))\n"
     ]
    },
    {
     "name": "stdout",
     "output_type": "stream",
     "text": [
      "<SkyCoord (ICRS): (ra, dec) in deg\n",
      "    ( 187.46244583,  8.281625)>\n",
      "No catalog item found for this within 1 arcsecond, saving coordinates [u'12h29m50.987s'] [u'8d16m53.85s']\n"
     ]
    },
    {
     "name": "stderr",
     "output_type": "stream",
     "text": [
      "/home/kcdage/anaconda/lib/python2.7/site-packages/astroquery/simbad/core.py:136: UserWarning: Warning: The script line number 3 raised an error (recorded in the `errors` attribute of the result table): '12:30:04.279 +8:18:49.94': No astronomical object found :\n",
      "  (error.line, error.msg))\n"
     ]
    },
    {
     "name": "stdout",
     "output_type": "stream",
     "text": [
      "<SkyCoord (ICRS): (ra, dec) in deg\n",
      "    ( 187.51782917,  8.31387222)>\n",
      "No catalog item found for this within 1 arcsecond, saving coordinates [u'12h30m04.279s'] [u'8d18m49.94s']\n"
     ]
    },
    {
     "name": "stderr",
     "output_type": "stream",
     "text": [
      "/home/kcdage/anaconda/lib/python2.7/site-packages/astroquery/simbad/core.py:136: UserWarning: Warning: The script line number 3 raised an error (recorded in the `errors` attribute of the result table): '12:30:09.241 +8:20:46.79': No astronomical object found :\n",
      "  (error.line, error.msg))\n"
     ]
    },
    {
     "name": "stdout",
     "output_type": "stream",
     "text": [
      "<SkyCoord (ICRS): (ra, dec) in deg\n",
      "    ( 187.53850417,  8.34633056)>\n",
      "No catalog item found for this within 1 arcsecond, saving coordinates [u'12h30m09.241s'] [u'8d20m46.79s']\n"
     ]
    },
    {
     "name": "stderr",
     "output_type": "stream",
     "text": [
      "/home/kcdage/anaconda/lib/python2.7/site-packages/astroquery/simbad/core.py:136: UserWarning: Warning: The script line number 3 raised an error (recorded in the `errors` attribute of the result table): '12:29:58.65 +8:22:10.12': No astronomical object found :\n",
      "  (error.line, error.msg))\n"
     ]
    },
    {
     "name": "stdout",
     "output_type": "stream",
     "text": [
      "<SkyCoord (ICRS): (ra, dec) in deg\n",
      "    ( 187.494375,  8.36947778)>\n",
      "No catalog item found for this within 1 arcsecond, saving coordinates [u'12h29m58.65s'] [u'8d22m10.12s']\n"
     ]
    },
    {
     "name": "stderr",
     "output_type": "stream",
     "text": [
      "/home/kcdage/anaconda/lib/python2.7/site-packages/astroquery/simbad/core.py:136: UserWarning: Warning: The script line number 3 raised an error (recorded in the `errors` attribute of the result table): '12:29:39.803 +7:48:23.89': No astronomical object found :\n",
      "  (error.line, error.msg))\n"
     ]
    },
    {
     "name": "stdout",
     "output_type": "stream",
     "text": [
      "<SkyCoord (ICRS): (ra, dec) in deg\n",
      "    ( 187.41584583,  7.80663611)>\n",
      "No catalog item found for this within 1 arcsecond, saving coordinates [u'12h29m39.803s'] [u'7d48m23.89s']\n"
     ]
    },
    {
     "name": "stderr",
     "output_type": "stream",
     "text": [
      "/home/kcdage/anaconda/lib/python2.7/site-packages/astroquery/simbad/core.py:136: UserWarning: Warning: The script line number 3 raised an error (recorded in the `errors` attribute of the result table): '12:29:55.107 +7:51:16.78': No astronomical object found :\n",
      "  (error.line, error.msg))\n"
     ]
    },
    {
     "name": "stdout",
     "output_type": "stream",
     "text": [
      "<SkyCoord (ICRS): (ra, dec) in deg\n",
      "    ( 187.4796125,  7.85466111)>\n",
      "No catalog item found for this within 1 arcsecond, saving coordinates [u'12h29m55.107s'] [u'7d51m16.78s']\n"
     ]
    },
    {
     "name": "stderr",
     "output_type": "stream",
     "text": [
      "/home/kcdage/anaconda/lib/python2.7/site-packages/astroquery/simbad/core.py:136: UserWarning: Warning: The script line number 3 raised an error (recorded in the `errors` attribute of the result table): '12:29:44.991 +7:52:38.92': No astronomical object found :\n",
      "  (error.line, error.msg))\n"
     ]
    },
    {
     "name": "stdout",
     "output_type": "stream",
     "text": [
      "<SkyCoord (ICRS): (ra, dec) in deg\n",
      "    ( 187.4374625,  7.87747778)>\n",
      "No catalog item found for this within 1 arcsecond, saving coordinates [u'12h29m44.991s'] [u'7d52m38.92s']\n"
     ]
    },
    {
     "name": "stderr",
     "output_type": "stream",
     "text": [
      "/home/kcdage/anaconda/lib/python2.7/site-packages/astroquery/simbad/core.py:136: UserWarning: Warning: The script line number 3 raised an error (recorded in the `errors` attribute of the result table): '12:29:42.514 +7:54:49.8': No astronomical object found :\n",
      "  (error.line, error.msg))\n"
     ]
    },
    {
     "name": "stdout",
     "output_type": "stream",
     "text": [
      "<SkyCoord (ICRS): (ra, dec) in deg\n",
      "    ( 187.42714167,  7.91383333)>\n",
      "No catalog item found for this within 1 arcsecond, saving coordinates [u'12h29m42.514s'] [u'7d54m49.8s']\n"
     ]
    },
    {
     "name": "stderr",
     "output_type": "stream",
     "text": [
      "/home/kcdage/anaconda/lib/python2.7/site-packages/astroquery/simbad/core.py:136: UserWarning: Warning: The script line number 3 raised an error (recorded in the `errors` attribute of the result table): '12:29:38.272 +7:55:15.77': No astronomical object found :\n",
      "  (error.line, error.msg))\n"
     ]
    },
    {
     "name": "stdout",
     "output_type": "stream",
     "text": [
      "<SkyCoord (ICRS): (ra, dec) in deg\n",
      "    ( 187.40946667,  7.92104722)>\n",
      "No catalog item found for this within 1 arcsecond, saving coordinates [u'12h29m38.272s'] [u'7d55m15.77s']\n"
     ]
    },
    {
     "name": "stderr",
     "output_type": "stream",
     "text": [
      "/home/kcdage/anaconda/lib/python2.7/site-packages/astroquery/simbad/core.py:136: UserWarning: Warning: The script line number 3 raised an error (recorded in the `errors` attribute of the result table): '12:29:56.592 +7:55:31.48': No astronomical object found :\n",
      "  (error.line, error.msg))\n"
     ]
    },
    {
     "name": "stdout",
     "output_type": "stream",
     "text": [
      "<SkyCoord (ICRS): (ra, dec) in deg\n",
      "    ( 187.4858,  7.92541111)>\n",
      "No catalog item found for this within 1 arcsecond, saving coordinates [u'12h29m56.592s'] [u'7d55m31.48s']\n"
     ]
    },
    {
     "name": "stderr",
     "output_type": "stream",
     "text": [
      "/home/kcdage/anaconda/lib/python2.7/site-packages/astroquery/simbad/core.py:136: UserWarning: Warning: The script line number 3 raised an error (recorded in the `errors` attribute of the result table): '12:29:43.973 +7:55:32.94': No astronomical object found :\n",
      "  (error.line, error.msg))\n"
     ]
    },
    {
     "name": "stdout",
     "output_type": "stream",
     "text": [
      "<SkyCoord (ICRS): (ra, dec) in deg\n",
      "    ( 187.43322083,  7.92581667)>\n",
      "No catalog item found for this within 1 arcsecond, saving coordinates [u'12h29m43.973s'] [u'7d55m32.94s']\n"
     ]
    },
    {
     "name": "stderr",
     "output_type": "stream",
     "text": [
      "WARNING: MergeConflictWarning: Cannot merge meta key u'description' types <type 'unicode'> and <type 'unicode'>, choosing description=u'Simbad script executed on 2017.10.05CEST21:24:27' [astropy.utils.metadata]\n",
      "/home/kcdage/anaconda/lib/python2.7/site-packages/astroquery/simbad/core.py:136: UserWarning: Warning: The script line number 3 raised an error (recorded in the `errors` attribute of the result table): '12:29:50.063 +7:55:50.52': No astronomical object found :\n",
      "  (error.line, error.msg))\n"
     ]
    },
    {
     "name": "stdout",
     "output_type": "stream",
     "text": [
      "<SkyCoord (ICRS): (ra, dec) in deg\n",
      "    ( 187.45859583,  7.9307)>\n",
      "No catalog item found for this within 1 arcsecond, saving coordinates [u'12h29m50.063s'] [u'7d55m50.52s']\n"
     ]
    },
    {
     "name": "stderr",
     "output_type": "stream",
     "text": [
      "/home/kcdage/anaconda/lib/python2.7/site-packages/astroquery/simbad/core.py:136: UserWarning: Warning: The script line number 3 raised an error (recorded in the `errors` attribute of the result table): '12:29:54.995 +7:56:03.74': No astronomical object found :\n",
      "  (error.line, error.msg))\n"
     ]
    },
    {
     "name": "stdout",
     "output_type": "stream",
     "text": [
      "<SkyCoord (ICRS): (ra, dec) in deg\n",
      "    ( 187.47914583,  7.93437222)>\n",
      "No catalog item found for this within 1 arcsecond, saving coordinates [u'12h29m54.995s'] [u'7d56m03.74s']\n"
     ]
    },
    {
     "name": "stderr",
     "output_type": "stream",
     "text": [
      "/home/kcdage/anaconda/lib/python2.7/site-packages/astroquery/simbad/core.py:136: UserWarning: Warning: The script line number 3 raised an error (recorded in the `errors` attribute of the result table): '12:29:35.51 +7:56:04.89': No astronomical object found :\n",
      "  (error.line, error.msg))\n"
     ]
    },
    {
     "name": "stdout",
     "output_type": "stream",
     "text": [
      "<SkyCoord (ICRS): (ra, dec) in deg\n",
      "    ( 187.39795833,  7.93469167)>\n",
      "No catalog item found for this within 1 arcsecond, saving coordinates [u'12h29m35.51s'] [u'7d56m04.89s']\n"
     ]
    },
    {
     "name": "stderr",
     "output_type": "stream",
     "text": [
      "/home/kcdage/anaconda/lib/python2.7/site-packages/astroquery/simbad/core.py:136: UserWarning: Warning: The script line number 3 raised an error (recorded in the `errors` attribute of the result table): '12:29:47.323 +7:56:12.46': No astronomical object found :\n",
      "  (error.line, error.msg))\n"
     ]
    },
    {
     "name": "stdout",
     "output_type": "stream",
     "text": [
      "<SkyCoord (ICRS): (ra, dec) in deg\n",
      "    ( 187.44717917,  7.93679444)>\n",
      "No catalog item found for this within 1 arcsecond, saving coordinates [u'12h29m47.323s'] [u'7d56m12.46s']\n"
     ]
    },
    {
     "name": "stderr",
     "output_type": "stream",
     "text": [
      "/home/kcdage/anaconda/lib/python2.7/site-packages/astroquery/simbad/core.py:136: UserWarning: Warning: The script line number 3 raised an error (recorded in the `errors` attribute of the result table): '12:29:55.02 +7:56:18.51': No astronomical object found :\n",
      "  (error.line, error.msg))\n"
     ]
    },
    {
     "name": "stdout",
     "output_type": "stream",
     "text": [
      "<SkyCoord (ICRS): (ra, dec) in deg\n",
      "    ( 187.47925,  7.938475)>\n",
      "No catalog item found for this within 1 arcsecond, saving coordinates [u'12h29m55.02s'] [u'7d56m18.51s']\n"
     ]
    },
    {
     "name": "stderr",
     "output_type": "stream",
     "text": [
      "/home/kcdage/anaconda/lib/python2.7/site-packages/astroquery/simbad/core.py:136: UserWarning: Warning: The script line number 3 raised an error (recorded in the `errors` attribute of the result table): '12:30:46.233 +7:56:24.11': No astronomical object found :\n",
      "  (error.line, error.msg))\n"
     ]
    },
    {
     "name": "stdout",
     "output_type": "stream",
     "text": [
      "<SkyCoord (ICRS): (ra, dec) in deg\n",
      "    ( 187.6926375,  7.94003056)>\n",
      "No catalog item found for this within 1 arcsecond, saving coordinates [u'12h30m46.233s'] [u'7d56m24.11s']\n"
     ]
    },
    {
     "name": "stderr",
     "output_type": "stream",
     "text": [
      "/home/kcdage/anaconda/lib/python2.7/site-packages/astroquery/simbad/core.py:136: UserWarning: Warning: The script line number 3 raised an error (recorded in the `errors` attribute of the result table): '12:29:52.981 +7:56:31.04': No astronomical object found :\n",
      "  (error.line, error.msg))\n"
     ]
    },
    {
     "name": "stdout",
     "output_type": "stream",
     "text": [
      "<SkyCoord (ICRS): (ra, dec) in deg\n",
      "    ( 187.47075417,  7.94195556)>\n",
      "No catalog item found for this within 1 arcsecond, saving coordinates [u'12h29m52.981s'] [u'7d56m31.04s']\n"
     ]
    },
    {
     "name": "stderr",
     "output_type": "stream",
     "text": [
      "/home/kcdage/anaconda/lib/python2.7/site-packages/astroquery/simbad/core.py:136: UserWarning: Warning: The script line number 3 raised an error (recorded in the `errors` attribute of the result table): '12:29:29.302 +7:56:42.31': No astronomical object found :\n",
      "  (error.line, error.msg))\n"
     ]
    },
    {
     "name": "stdout",
     "output_type": "stream",
     "text": [
      "<SkyCoord (ICRS): (ra, dec) in deg\n",
      "    ( 187.37209167,  7.94508611)>\n",
      "No catalog item found for this within 1 arcsecond, saving coordinates [u'12h29m29.302s'] [u'7d56m42.31s']\n"
     ]
    },
    {
     "name": "stderr",
     "output_type": "stream",
     "text": [
      "/home/kcdage/anaconda/lib/python2.7/site-packages/astroquery/simbad/core.py:136: UserWarning: Warning: The script line number 3 raised an error (recorded in the `errors` attribute of the result table): '12:29:45.13 +7:56:51.34': No astronomical object found :\n",
      "  (error.line, error.msg))\n"
     ]
    },
    {
     "name": "stdout",
     "output_type": "stream",
     "text": [
      "<SkyCoord (ICRS): (ra, dec) in deg\n",
      "    ( 187.43804167,  7.94759444)>\n",
      "No catalog item found for this within 1 arcsecond, saving coordinates [u'12h29m45.13s'] [u'7d56m51.34s']\n"
     ]
    },
    {
     "name": "stderr",
     "output_type": "stream",
     "text": [
      "/home/kcdage/anaconda/lib/python2.7/site-packages/astroquery/simbad/core.py:136: UserWarning: Warning: The script line number 3 raised an error (recorded in the `errors` attribute of the result table): '12:29:55.555 +7:56:52.59': No astronomical object found :\n",
      "  (error.line, error.msg))\n"
     ]
    },
    {
     "name": "stdout",
     "output_type": "stream",
     "text": [
      "<SkyCoord (ICRS): (ra, dec) in deg\n",
      "    ( 187.48147917,  7.94794167)>\n",
      "No catalog item found for this within 1 arcsecond, saving coordinates [u'12h29m55.555s'] [u'7d56m52.59s']\n"
     ]
    },
    {
     "name": "stderr",
     "output_type": "stream",
     "text": [
      "/home/kcdage/anaconda/lib/python2.7/site-packages/astroquery/simbad/core.py:136: UserWarning: Warning: The script line number 3 raised an error (recorded in the `errors` attribute of the result table): '12:29:59.126 +7:56:53.47': No astronomical object found :\n",
      "  (error.line, error.msg))\n"
     ]
    },
    {
     "name": "stdout",
     "output_type": "stream",
     "text": [
      "<SkyCoord (ICRS): (ra, dec) in deg\n",
      "    ( 187.49635833,  7.94818611)>\n",
      "No catalog item found for this within 1 arcsecond, saving coordinates [u'12h29m59.126s'] [u'7d56m53.47s']\n"
     ]
    },
    {
     "name": "stderr",
     "output_type": "stream",
     "text": [
      "WARNING: MergeConflictWarning: Cannot merge meta key u'description' types <type 'unicode'> and <type 'unicode'>, choosing description=u'Simbad script executed on 2017.10.05CEST21:24:31' [astropy.utils.metadata]\n",
      "/home/kcdage/anaconda/lib/python2.7/site-packages/astroquery/simbad/core.py:136: UserWarning: Warning: The script line number 3 raised an error (recorded in the `errors` attribute of the result table): '12:29:52.802 +7:57:09.19': No astronomical object found :\n",
      "  (error.line, error.msg))\n"
     ]
    },
    {
     "name": "stdout",
     "output_type": "stream",
     "text": [
      "<SkyCoord (ICRS): (ra, dec) in deg\n",
      "    ( 187.47000833,  7.95255278)>\n",
      "No catalog item found for this within 1 arcsecond, saving coordinates [u'12h29m52.802s'] [u'7d57m09.19s']\n"
     ]
    },
    {
     "name": "stderr",
     "output_type": "stream",
     "text": [
      "/home/kcdage/anaconda/lib/python2.7/site-packages/astroquery/simbad/core.py:136: UserWarning: Warning: The script line number 3 raised an error (recorded in the `errors` attribute of the result table): '12:30:01.905 +7:57:19.03': No astronomical object found :\n",
      "  (error.line, error.msg))\n"
     ]
    },
    {
     "name": "stdout",
     "output_type": "stream",
     "text": [
      "<SkyCoord (ICRS): (ra, dec) in deg\n",
      "    ( 187.5079375,  7.95528611)>\n",
      "No catalog item found for this within 1 arcsecond, saving coordinates [u'12h30m01.905s'] [u'7d57m19.03s']\n"
     ]
    },
    {
     "name": "stderr",
     "output_type": "stream",
     "text": [
      "WARNING: MergeConflictWarning: Cannot merge meta key u'description' types <type 'unicode'> and <type 'unicode'>, choosing description=u'Simbad script executed on 2017.10.05CEST21:24:32' [astropy.utils.metadata]\n",
      "WARNING: MergeConflictWarning: Cannot merge meta key u'description' types <type 'unicode'> and <type 'unicode'>, choosing description=u'Simbad script executed on 2017.10.05CEST21:24:33' [astropy.utils.metadata]\n",
      "/home/kcdage/anaconda/lib/python2.7/site-packages/astroquery/simbad/core.py:136: UserWarning: Warning: The script line number 3 raised an error (recorded in the `errors` attribute of the result table): '12:29:43.033 +7:57:27.71': No astronomical object found :\n",
      "  (error.line, error.msg))\n"
     ]
    },
    {
     "name": "stdout",
     "output_type": "stream",
     "text": [
      "<SkyCoord (ICRS): (ra, dec) in deg\n",
      "    ( 187.42930417,  7.95769722)>\n",
      "No catalog item found for this within 1 arcsecond, saving coordinates [u'12h29m43.033s'] [u'7d57m27.71s']\n"
     ]
    },
    {
     "name": "stderr",
     "output_type": "stream",
     "text": [
      "/home/kcdage/anaconda/lib/python2.7/site-packages/astroquery/simbad/core.py:136: UserWarning: Warning: The script line number 3 raised an error (recorded in the `errors` attribute of the result table): '12:29:59.903 +7:57:30.24': No astronomical object found :\n",
      "  (error.line, error.msg))\n"
     ]
    },
    {
     "name": "stdout",
     "output_type": "stream",
     "text": [
      "<SkyCoord (ICRS): (ra, dec) in deg\n",
      "    ( 187.49959583,  7.9584)>\n",
      "No catalog item found for this within 1 arcsecond, saving coordinates [u'12h29m59.903s'] [u'7d57m30.24s']\n"
     ]
    },
    {
     "name": "stderr",
     "output_type": "stream",
     "text": [
      "/home/kcdage/anaconda/lib/python2.7/site-packages/astroquery/simbad/core.py:136: UserWarning: Warning: The script line number 3 raised an error (recorded in the `errors` attribute of the result table): '12:29:43.742 +7:57:30.65': No astronomical object found :\n",
      "  (error.line, error.msg))\n"
     ]
    },
    {
     "name": "stdout",
     "output_type": "stream",
     "text": [
      "<SkyCoord (ICRS): (ra, dec) in deg\n",
      "    ( 187.43225833,  7.95851389)>\n",
      "No catalog item found for this within 1 arcsecond, saving coordinates [u'12h29m43.742s'] [u'7d57m30.65s']\n"
     ]
    },
    {
     "name": "stderr",
     "output_type": "stream",
     "text": [
      "/home/kcdage/anaconda/lib/python2.7/site-packages/astroquery/simbad/core.py:136: UserWarning: Warning: The script line number 3 raised an error (recorded in the `errors` attribute of the result table): '12:29:41.241 +7:57:31.57': No astronomical object found :\n",
      "  (error.line, error.msg))\n"
     ]
    },
    {
     "name": "stdout",
     "output_type": "stream",
     "text": [
      "<SkyCoord (ICRS): (ra, dec) in deg\n",
      "    ( 187.4218375,  7.95876944)>\n",
      "No catalog item found for this within 1 arcsecond, saving coordinates [u'12h29m41.241s'] [u'7d57m31.57s']\n"
     ]
    },
    {
     "name": "stderr",
     "output_type": "stream",
     "text": [
      "/home/kcdage/anaconda/lib/python2.7/site-packages/astroquery/simbad/core.py:136: UserWarning: Warning: The script line number 3 raised an error (recorded in the `errors` attribute of the result table): '12:29:44.695 +7:57:32.67': No astronomical object found :\n",
      "  (error.line, error.msg))\n"
     ]
    },
    {
     "name": "stdout",
     "output_type": "stream",
     "text": [
      "<SkyCoord (ICRS): (ra, dec) in deg\n",
      "    ( 187.43622917,  7.959075)>\n",
      "No catalog item found for this within 1 arcsecond, saving coordinates [u'12h29m44.695s'] [u'7d57m32.67s']\n"
     ]
    },
    {
     "name": "stderr",
     "output_type": "stream",
     "text": [
      "/home/kcdage/anaconda/lib/python2.7/site-packages/astroquery/simbad/core.py:136: UserWarning: Warning: The script line number 3 raised an error (recorded in the `errors` attribute of the result table): '12:29:48.74 +7:57:33.28': No astronomical object found :\n",
      "  (error.line, error.msg))\n"
     ]
    },
    {
     "name": "stdout",
     "output_type": "stream",
     "text": [
      "<SkyCoord (ICRS): (ra, dec) in deg\n",
      "    ( 187.45308333,  7.95924444)>\n",
      "No catalog item found for this within 1 arcsecond, saving coordinates [u'12h29m48.74s'] [u'7d57m33.28s']\n"
     ]
    },
    {
     "name": "stderr",
     "output_type": "stream",
     "text": [
      "WARNING: MergeConflictWarning: Cannot merge meta key u'description' types <type 'unicode'> and <type 'unicode'>, choosing description=u'Simbad script executed on 2017.10.05CEST21:24:35' [astropy.utils.metadata]\n",
      "WARNING: MergeConflictWarning: Cannot merge meta key u'description' types <type 'unicode'> and <type 'unicode'>, choosing description=u'Simbad script executed on 2017.10.05CEST21:24:36' [astropy.utils.metadata]\n",
      "/home/kcdage/anaconda/lib/python2.7/site-packages/astroquery/simbad/core.py:136: UserWarning: Warning: The script line number 3 raised an error (recorded in the `errors` attribute of the result table): '12:30:00.944 +7:57:45.72': No astronomical object found :\n",
      "  (error.line, error.msg))\n"
     ]
    },
    {
     "name": "stdout",
     "output_type": "stream",
     "text": [
      "<SkyCoord (ICRS): (ra, dec) in deg\n",
      "    ( 187.50393333,  7.9627)>\n",
      "No catalog item found for this within 1 arcsecond, saving coordinates [u'12h30m00.944s'] [u'7d57m45.72s']\n"
     ]
    },
    {
     "name": "stderr",
     "output_type": "stream",
     "text": [
      "WARNING: MergeConflictWarning: Cannot merge meta key u'description' types <type 'unicode'> and <type 'unicode'>, choosing description=u'Simbad script executed on 2017.10.05CEST21:24:37' [astropy.utils.metadata]\n",
      "/home/kcdage/anaconda/lib/python2.7/site-packages/astroquery/simbad/core.py:136: UserWarning: Warning: The script line number 3 raised an error (recorded in the `errors` attribute of the result table): '12:29:43.673 +7:58:17.59': No astronomical object found :\n",
      "  (error.line, error.msg))\n"
     ]
    },
    {
     "name": "stdout",
     "output_type": "stream",
     "text": [
      "<SkyCoord (ICRS): (ra, dec) in deg\n",
      "    ( 187.43197083,  7.97155278)>\n",
      "No catalog item found for this within 1 arcsecond, saving coordinates [u'12h29m43.673s'] [u'7d58m17.59s']\n"
     ]
    },
    {
     "name": "stderr",
     "output_type": "stream",
     "text": [
      "/home/kcdage/anaconda/lib/python2.7/site-packages/astroquery/simbad/core.py:136: UserWarning: Warning: The script line number 3 raised an error (recorded in the `errors` attribute of the result table): '12:29:31.735 +7:58:29.91': No astronomical object found :\n",
      "  (error.line, error.msg))\n"
     ]
    },
    {
     "name": "stdout",
     "output_type": "stream",
     "text": [
      "<SkyCoord (ICRS): (ra, dec) in deg\n",
      "    ( 187.38222917,  7.974975)>\n",
      "No catalog item found for this within 1 arcsecond, saving coordinates [u'12h29m31.735s'] [u'7d58m29.91s']\n"
     ]
    },
    {
     "name": "stderr",
     "output_type": "stream",
     "text": [
      "WARNING: MergeConflictWarning: Cannot merge meta key u'description' types <type 'unicode'> and <type 'unicode'>, choosing description=u'Simbad script executed on 2017.10.05CEST21:24:38' [astropy.utils.metadata]\n",
      "/home/kcdage/anaconda/lib/python2.7/site-packages/astroquery/simbad/core.py:136: UserWarning: Warning: The script line number 3 raised an error (recorded in the `errors` attribute of the result table): '12:29:47.633 +7:58:43.22': No astronomical object found :\n",
      "  (error.line, error.msg))\n"
     ]
    },
    {
     "name": "stdout",
     "output_type": "stream",
     "text": [
      "<SkyCoord (ICRS): (ra, dec) in deg\n",
      "    ( 187.44847083,  7.97867222)>\n",
      "No catalog item found for this within 1 arcsecond, saving coordinates [u'12h29m47.633s'] [u'7d58m43.22s']\n"
     ]
    },
    {
     "name": "stderr",
     "output_type": "stream",
     "text": [
      "/home/kcdage/anaconda/lib/python2.7/site-packages/astroquery/simbad/core.py:136: UserWarning: Warning: The script line number 3 raised an error (recorded in the `errors` attribute of the result table): '12:29:37.754 +7:58:51.66': No astronomical object found :\n",
      "  (error.line, error.msg))\n"
     ]
    },
    {
     "name": "stdout",
     "output_type": "stream",
     "text": [
      "<SkyCoord (ICRS): (ra, dec) in deg\n",
      "    ( 187.40730833,  7.98101667)>\n",
      "No catalog item found for this within 1 arcsecond, saving coordinates [u'12h29m37.754s'] [u'7d58m51.66s']\n"
     ]
    },
    {
     "name": "stderr",
     "output_type": "stream",
     "text": [
      "/home/kcdage/anaconda/lib/python2.7/site-packages/astroquery/simbad/core.py:136: UserWarning: Warning: The script line number 3 raised an error (recorded in the `errors` attribute of the result table): '12:29:32.457 +7:58:53.92': No astronomical object found :\n",
      "  (error.line, error.msg))\n"
     ]
    },
    {
     "name": "stdout",
     "output_type": "stream",
     "text": [
      "<SkyCoord (ICRS): (ra, dec) in deg\n",
      "    ( 187.3852375,  7.98164444)>\n",
      "No catalog item found for this within 1 arcsecond, saving coordinates [u'12h29m32.457s'] [u'7d58m53.92s']\n"
     ]
    },
    {
     "name": "stderr",
     "output_type": "stream",
     "text": [
      "/home/kcdage/anaconda/lib/python2.7/site-packages/astroquery/simbad/core.py:136: UserWarning: Warning: The script line number 3 raised an error (recorded in the `errors` attribute of the result table): '12:29:56.77 +7:58:55.44': No astronomical object found :\n",
      "  (error.line, error.msg))\n"
     ]
    },
    {
     "name": "stdout",
     "output_type": "stream",
     "text": [
      "<SkyCoord (ICRS): (ra, dec) in deg\n",
      "    ( 187.48654167,  7.98206667)>\n",
      "No catalog item found for this within 1 arcsecond, saving coordinates [u'12h29m56.77s'] [u'7d58m55.44s']\n"
     ]
    },
    {
     "name": "stderr",
     "output_type": "stream",
     "text": [
      "/home/kcdage/anaconda/lib/python2.7/site-packages/astroquery/simbad/core.py:136: UserWarning: Warning: The script line number 3 raised an error (recorded in the `errors` attribute of the result table): '12:29:45.404 +7:59:16.06': No astronomical object found :\n",
      "  (error.line, error.msg))\n"
     ]
    },
    {
     "name": "stdout",
     "output_type": "stream",
     "text": [
      "<SkyCoord (ICRS): (ra, dec) in deg\n",
      "    ( 187.43918333,  7.98779444)>\n",
      "No catalog item found for this within 1 arcsecond, saving coordinates [u'12h29m45.404s'] [u'7d59m16.06s']\n"
     ]
    },
    {
     "name": "stderr",
     "output_type": "stream",
     "text": [
      "/home/kcdage/anaconda/lib/python2.7/site-packages/astroquery/simbad/core.py:136: UserWarning: Warning: The script line number 3 raised an error (recorded in the `errors` attribute of the result table): '12:29:50.487 +7:59:30.69': No astronomical object found :\n",
      "  (error.line, error.msg))\n"
     ]
    },
    {
     "name": "stdout",
     "output_type": "stream",
     "text": [
      "<SkyCoord (ICRS): (ra, dec) in deg\n",
      "    ( 187.4603625,  7.99185833)>\n",
      "No catalog item found for this within 1 arcsecond, saving coordinates [u'12h29m50.487s'] [u'7d59m30.69s']\n"
     ]
    },
    {
     "name": "stderr",
     "output_type": "stream",
     "text": [
      "WARNING: MergeConflictWarning: Cannot merge meta key u'description' types <type 'unicode'> and <type 'unicode'>, choosing description=u'Simbad script executed on 2017.10.05CEST21:24:40' [astropy.utils.metadata]\n",
      "WARNING: MergeConflictWarning: Cannot merge meta key u'description' types <type 'unicode'> and <type 'unicode'>, choosing description=u'Simbad script executed on 2017.10.05CEST21:24:41' [astropy.utils.metadata]\n",
      "/home/kcdage/anaconda/lib/python2.7/site-packages/astroquery/simbad/core.py:136: UserWarning: Warning: The script line number 3 raised an error (recorded in the `errors` attribute of the result table): '12:29:30.24 +7:59:32.87': No astronomical object found :\n",
      "  (error.line, error.msg))\n"
     ]
    },
    {
     "name": "stdout",
     "output_type": "stream",
     "text": [
      "<SkyCoord (ICRS): (ra, dec) in deg\n",
      "    ( 187.376,  7.99246389)>\n",
      "No catalog item found for this within 1 arcsecond, saving coordinates [u'12h29m30.24s'] [u'7d59m32.87s']\n"
     ]
    },
    {
     "name": "stderr",
     "output_type": "stream",
     "text": [
      "/home/kcdage/anaconda/lib/python2.7/site-packages/astroquery/simbad/core.py:136: UserWarning: Warning: The script line number 3 raised an error (recorded in the `errors` attribute of the result table): '12:29:59.438 +7:59:54.47': No astronomical object found :\n",
      "  (error.line, error.msg))\n"
     ]
    },
    {
     "name": "stdout",
     "output_type": "stream",
     "text": [
      "<SkyCoord (ICRS): (ra, dec) in deg\n",
      "    ( 187.49765833,  7.99846389)>\n",
      "No catalog item found for this within 1 arcsecond, saving coordinates [u'12h29m59.438s'] [u'7d59m54.47s']\n"
     ]
    },
    {
     "name": "stderr",
     "output_type": "stream",
     "text": [
      "/home/kcdage/anaconda/lib/python2.7/site-packages/astroquery/simbad/core.py:136: UserWarning: Warning: The script line number 3 raised an error (recorded in the `errors` attribute of the result table): '12:29:49.902 +7:59:59.18': No astronomical object found :\n",
      "  (error.line, error.msg))\n"
     ]
    },
    {
     "name": "stdout",
     "output_type": "stream",
     "text": [
      "<SkyCoord (ICRS): (ra, dec) in deg\n",
      "    ( 187.457925,  7.99977222)>\n",
      "No catalog item found for this within 1 arcsecond, saving coordinates [u'12h29m49.902s'] [u'7d59m59.18s']\n"
     ]
    },
    {
     "name": "stderr",
     "output_type": "stream",
     "text": [
      "/home/kcdage/anaconda/lib/python2.7/site-packages/astroquery/simbad/core.py:136: UserWarning: Warning: The script line number 3 raised an error (recorded in the `errors` attribute of the result table): '12:29:37.865 +8:00:04.34': No astronomical object found :\n",
      "  (error.line, error.msg))\n"
     ]
    },
    {
     "name": "stdout",
     "output_type": "stream",
     "text": [
      "<SkyCoord (ICRS): (ra, dec) in deg\n",
      "    ( 187.40777083,  8.00120556)>\n",
      "No catalog item found for this within 1 arcsecond, saving coordinates [u'12h29m37.865s'] [u'8d00m04.34s']\n"
     ]
    },
    {
     "name": "stderr",
     "output_type": "stream",
     "text": [
      "WARNING: MergeConflictWarning: Cannot merge meta key u'description' types <type 'unicode'> and <type 'unicode'>, choosing description=u'Simbad script executed on 2017.10.05CEST21:24:42' [astropy.utils.metadata]\n",
      "WARNING: MergeConflictWarning: Cannot merge meta key u'description' types <type 'unicode'> and <type 'unicode'>, choosing description=u'Simbad script executed on 2017.10.05CEST21:24:43' [astropy.utils.metadata]\n",
      "WARNING: MergeConflictWarning: Cannot merge meta key u'description' types <type 'unicode'> and <type 'unicode'>, choosing description=u'Simbad script executed on 2017.10.05CEST21:24:44' [astropy.utils.metadata]\n",
      "/home/kcdage/anaconda/lib/python2.7/site-packages/astroquery/simbad/core.py:136: UserWarning: Warning: The script line number 3 raised an error (recorded in the `errors` attribute of the result table): '12:29:48.106 +8:00:23.39': No astronomical object found :\n",
      "  (error.line, error.msg))\n"
     ]
    },
    {
     "name": "stdout",
     "output_type": "stream",
     "text": [
      "<SkyCoord (ICRS): (ra, dec) in deg\n",
      "    ( 187.45044167,  8.00649722)>\n",
      "No catalog item found for this within 1 arcsecond, saving coordinates [u'12h29m48.106s'] [u'8d00m23.39s']\n"
     ]
    },
    {
     "name": "stderr",
     "output_type": "stream",
     "text": [
      "/home/kcdage/anaconda/lib/python2.7/site-packages/astroquery/simbad/core.py:136: UserWarning: Warning: The script line number 3 raised an error (recorded in the `errors` attribute of the result table): '12:29:54.286 +8:00:27.31': No astronomical object found :\n",
      "  (error.line, error.msg))\n"
     ]
    },
    {
     "name": "stdout",
     "output_type": "stream",
     "text": [
      "<SkyCoord (ICRS): (ra, dec) in deg\n",
      "    ( 187.47619167,  8.00758611)>\n",
      "No catalog item found for this within 1 arcsecond, saving coordinates [u'12h29m54.286s'] [u'8d00m27.31s']\n"
     ]
    },
    {
     "name": "stderr",
     "output_type": "stream",
     "text": [
      "WARNING: MergeConflictWarning: Cannot merge meta key u'description' types <type 'unicode'> and <type 'unicode'>, choosing description=u'Simbad script executed on 2017.10.05CEST21:24:45' [astropy.utils.metadata]\n",
      "/home/kcdage/anaconda/lib/python2.7/site-packages/astroquery/simbad/core.py:136: UserWarning: Warning: The script line number 3 raised an error (recorded in the `errors` attribute of the result table): '12:29:56.22 +8:00:47.91': No astronomical object found :\n",
      "  (error.line, error.msg))\n"
     ]
    },
    {
     "name": "stdout",
     "output_type": "stream",
     "text": [
      "<SkyCoord (ICRS): (ra, dec) in deg\n",
      "    ( 187.48425,  8.01330833)>\n",
      "No catalog item found for this within 1 arcsecond, saving coordinates [u'12h29m56.22s'] [u'8d00m47.91s']\n"
     ]
    },
    {
     "name": "stderr",
     "output_type": "stream",
     "text": [
      "/home/kcdage/anaconda/lib/python2.7/site-packages/astroquery/simbad/core.py:136: UserWarning: Warning: The script line number 3 raised an error (recorded in the `errors` attribute of the result table): '12:29:54.39 +8:01:13.93': No astronomical object found :\n",
      "  (error.line, error.msg))\n"
     ]
    },
    {
     "name": "stdout",
     "output_type": "stream",
     "text": [
      "<SkyCoord (ICRS): (ra, dec) in deg\n",
      "    ( 187.476625,  8.02053611)>\n",
      "No catalog item found for this within 1 arcsecond, saving coordinates [u'12h29m54.39s'] [u'8d01m13.93s']\n"
     ]
    },
    {
     "name": "stderr",
     "output_type": "stream",
     "text": [
      "/home/kcdage/anaconda/lib/python2.7/site-packages/astroquery/simbad/core.py:136: UserWarning: Warning: The script line number 3 raised an error (recorded in the `errors` attribute of the result table): '12:29:46.388 +8:01:14.25': No astronomical object found :\n",
      "  (error.line, error.msg))\n"
     ]
    },
    {
     "name": "stdout",
     "output_type": "stream",
     "text": [
      "<SkyCoord (ICRS): (ra, dec) in deg\n",
      "    ( 187.44328333,  8.020625)>\n",
      "No catalog item found for this within 1 arcsecond, saving coordinates [u'12h29m46.388s'] [u'8d01m14.25s']\n"
     ]
    },
    {
     "name": "stderr",
     "output_type": "stream",
     "text": [
      "/home/kcdage/anaconda/lib/python2.7/site-packages/astroquery/simbad/core.py:136: UserWarning: Warning: The script line number 3 raised an error (recorded in the `errors` attribute of the result table): '12:29:37.549 +8:01:15.16': No astronomical object found :\n",
      "  (error.line, error.msg))\n"
     ]
    },
    {
     "name": "stdout",
     "output_type": "stream",
     "text": [
      "<SkyCoord (ICRS): (ra, dec) in deg\n",
      "    ( 187.40645417,  8.02087778)>\n",
      "No catalog item found for this within 1 arcsecond, saving coordinates [u'12h29m37.549s'] [u'8d01m15.16s']\n"
     ]
    },
    {
     "name": "stderr",
     "output_type": "stream",
     "text": [
      "/home/kcdage/anaconda/lib/python2.7/site-packages/astroquery/simbad/core.py:136: UserWarning: Warning: The script line number 3 raised an error (recorded in the `errors` attribute of the result table): '12:29:46.277 +8:01:20.96': No astronomical object found :\n",
      "  (error.line, error.msg))\n"
     ]
    },
    {
     "name": "stdout",
     "output_type": "stream",
     "text": [
      "<SkyCoord (ICRS): (ra, dec) in deg\n",
      "    ( 187.44282083,  8.02248889)>\n",
      "No catalog item found for this within 1 arcsecond, saving coordinates [u'12h29m46.277s'] [u'8d01m20.96s']\n"
     ]
    },
    {
     "name": "stderr",
     "output_type": "stream",
     "text": [
      "WARNING: MergeConflictWarning: Cannot merge meta key u'description' types <type 'unicode'> and <type 'unicode'>, choosing description=u'Simbad script executed on 2017.10.05CEST21:24:47' [astropy.utils.metadata]\n",
      "/home/kcdage/anaconda/lib/python2.7/site-packages/astroquery/simbad/core.py:136: UserWarning: Warning: The script line number 3 raised an error (recorded in the `errors` attribute of the result table): '12:29:45.07 +8:01:45.95': No astronomical object found :\n",
      "  (error.line, error.msg))\n"
     ]
    },
    {
     "name": "stdout",
     "output_type": "stream",
     "text": [
      "<SkyCoord (ICRS): (ra, dec) in deg\n",
      "    ( 187.43779167,  8.02943056)>\n",
      "No catalog item found for this within 1 arcsecond, saving coordinates [u'12h29m45.07s'] [u'8d01m45.95s']\n"
     ]
    },
    {
     "name": "stderr",
     "output_type": "stream",
     "text": [
      "/home/kcdage/anaconda/lib/python2.7/site-packages/astroquery/simbad/core.py:136: UserWarning: Warning: The script line number 3 raised an error (recorded in the `errors` attribute of the result table): '12:29:59.306 +8:01:48.38': No astronomical object found :\n",
      "  (error.line, error.msg))\n"
     ]
    },
    {
     "name": "stdout",
     "output_type": "stream",
     "text": [
      "<SkyCoord (ICRS): (ra, dec) in deg\n",
      "    ( 187.49710833,  8.03010556)>\n",
      "No catalog item found for this within 1 arcsecond, saving coordinates [u'12h29m59.306s'] [u'8d01m48.38s']\n"
     ]
    },
    {
     "name": "stderr",
     "output_type": "stream",
     "text": [
      "/home/kcdage/anaconda/lib/python2.7/site-packages/astroquery/simbad/core.py:136: UserWarning: Warning: The script line number 3 raised an error (recorded in the `errors` attribute of the result table): '12:29:47.033 +8:01:51.83': No astronomical object found :\n",
      "  (error.line, error.msg))\n"
     ]
    },
    {
     "name": "stdout",
     "output_type": "stream",
     "text": [
      "<SkyCoord (ICRS): (ra, dec) in deg\n",
      "    ( 187.44597083,  8.03106389)>\n",
      "No catalog item found for this within 1 arcsecond, saving coordinates [u'12h29m47.033s'] [u'8d01m51.83s']\n"
     ]
    },
    {
     "name": "stderr",
     "output_type": "stream",
     "text": [
      "/home/kcdage/anaconda/lib/python2.7/site-packages/astroquery/simbad/core.py:136: UserWarning: Warning: The script line number 3 raised an error (recorded in the `errors` attribute of the result table): '12:29:43.049 +8:02:17.58': No astronomical object found :\n",
      "  (error.line, error.msg))\n"
     ]
    },
    {
     "name": "stdout",
     "output_type": "stream",
     "text": [
      "<SkyCoord (ICRS): (ra, dec) in deg\n",
      "    ( 187.42937083,  8.03821667)>\n",
      "No catalog item found for this within 1 arcsecond, saving coordinates [u'12h29m43.049s'] [u'8d02m17.58s']\n"
     ]
    },
    {
     "name": "stderr",
     "output_type": "stream",
     "text": [
      "WARNING: MergeConflictWarning: Cannot merge meta key u'description' types <type 'unicode'> and <type 'unicode'>, choosing description=u'Simbad script executed on 2017.10.05CEST21:24:49' [astropy.utils.metadata]\n",
      "/home/kcdage/anaconda/lib/python2.7/site-packages/astroquery/simbad/core.py:136: UserWarning: Warning: The script line number 3 raised an error (recorded in the `errors` attribute of the result table): '12:29:44.4 +8:02:22.61': No astronomical object found :\n",
      "  (error.line, error.msg))\n"
     ]
    },
    {
     "name": "stdout",
     "output_type": "stream",
     "text": [
      "<SkyCoord (ICRS): (ra, dec) in deg\n",
      "    ( 187.435,  8.03961389)>\n",
      "No catalog item found for this within 1 arcsecond, saving coordinates [u'12h29m44.4s'] [u'8d02m22.61s']\n"
     ]
    },
    {
     "name": "stderr",
     "output_type": "stream",
     "text": [
      "/home/kcdage/anaconda/lib/python2.7/site-packages/astroquery/simbad/core.py:136: UserWarning: Warning: The script line number 3 raised an error (recorded in the `errors` attribute of the result table): '12:29:38.478 +8:02:26.47': No astronomical object found :\n",
      "  (error.line, error.msg))\n"
     ]
    },
    {
     "name": "stdout",
     "output_type": "stream",
     "text": [
      "<SkyCoord (ICRS): (ra, dec) in deg\n",
      "    ( 187.410325,  8.04068611)>\n",
      "No catalog item found for this within 1 arcsecond, saving coordinates [u'12h29m38.478s'] [u'8d02m26.47s']\n"
     ]
    },
    {
     "name": "stderr",
     "output_type": "stream",
     "text": [
      "WARNING: MergeConflictWarning: Cannot merge meta key u'description' types <type 'unicode'> and <type 'unicode'>, choosing description=u'Simbad script executed on 2017.10.05CEST21:24:50' [astropy.utils.metadata]\n",
      "/home/kcdage/anaconda/lib/python2.7/site-packages/astroquery/simbad/core.py:136: UserWarning: Warning: The script line number 3 raised an error (recorded in the `errors` attribute of the result table): '12:29:53.982 +8:02:35.69': No astronomical object found :\n",
      "  (error.line, error.msg))\n"
     ]
    },
    {
     "name": "stdout",
     "output_type": "stream",
     "text": [
      "<SkyCoord (ICRS): (ra, dec) in deg\n",
      "    ( 187.474925,  8.04324722)>\n",
      "No catalog item found for this within 1 arcsecond, saving coordinates [u'12h29m53.982s'] [u'8d02m35.69s']\n"
     ]
    },
    {
     "name": "stderr",
     "output_type": "stream",
     "text": [
      "WARNING: MergeConflictWarning: Cannot merge meta key u'description' types <type 'unicode'> and <type 'unicode'>, choosing description=u'Simbad script executed on 2017.10.05CEST21:24:51' [astropy.utils.metadata]\n",
      "/home/kcdage/anaconda/lib/python2.7/site-packages/astroquery/simbad/core.py:136: UserWarning: Warning: The script line number 3 raised an error (recorded in the `errors` attribute of the result table): '12:29:49.226 +8:03:17.56': No astronomical object found :\n",
      "  (error.line, error.msg))\n"
     ]
    },
    {
     "name": "stdout",
     "output_type": "stream",
     "text": [
      "<SkyCoord (ICRS): (ra, dec) in deg\n",
      "    ( 187.45510833,  8.05487778)>\n",
      "No catalog item found for this within 1 arcsecond, saving coordinates [u'12h29m49.226s'] [u'8d03m17.56s']\n"
     ]
    },
    {
     "name": "stderr",
     "output_type": "stream",
     "text": [
      "/home/kcdage/anaconda/lib/python2.7/site-packages/astroquery/simbad/core.py:136: UserWarning: Warning: The script line number 3 raised an error (recorded in the `errors` attribute of the result table): '12:29:35.842 +8:03:20.43': No astronomical object found :\n",
      "  (error.line, error.msg))\n"
     ]
    },
    {
     "name": "stdout",
     "output_type": "stream",
     "text": [
      "<SkyCoord (ICRS): (ra, dec) in deg\n",
      "    ( 187.39934167,  8.055675)>\n",
      "No catalog item found for this within 1 arcsecond, saving coordinates [u'12h29m35.842s'] [u'8d03m20.43s']\n"
     ]
    },
    {
     "name": "stderr",
     "output_type": "stream",
     "text": [
      "WARNING: MergeConflictWarning: Cannot merge meta key u'description' types <type 'unicode'> and <type 'unicode'>, choosing description=u'Simbad script executed on 2017.10.05CEST21:24:52' [astropy.utils.metadata]\n",
      "/home/kcdage/anaconda/lib/python2.7/site-packages/astroquery/simbad/core.py:136: UserWarning: Warning: The script line number 3 raised an error (recorded in the `errors` attribute of the result table): '12:29:43.326 +8:03:38.01': No astronomical object found :\n",
      "  (error.line, error.msg))\n"
     ]
    },
    {
     "name": "stdout",
     "output_type": "stream",
     "text": [
      "<SkyCoord (ICRS): (ra, dec) in deg\n",
      "    ( 187.430525,  8.06055833)>\n",
      "No catalog item found for this within 1 arcsecond, saving coordinates [u'12h29m43.326s'] [u'8d03m38.01s']\n"
     ]
    },
    {
     "name": "stderr",
     "output_type": "stream",
     "text": [
      "/home/kcdage/anaconda/lib/python2.7/site-packages/astroquery/simbad/core.py:136: UserWarning: Warning: The script line number 3 raised an error (recorded in the `errors` attribute of the result table): '12:29:48.836 +8:04:02.87': No astronomical object found :\n",
      "  (error.line, error.msg))\n"
     ]
    },
    {
     "name": "stdout",
     "output_type": "stream",
     "text": [
      "<SkyCoord (ICRS): (ra, dec) in deg\n",
      "    ( 187.45348333,  8.06746389)>\n",
      "No catalog item found for this within 1 arcsecond, saving coordinates [u'12h29m48.836s'] [u'8d04m02.87s']\n"
     ]
    },
    {
     "name": "stderr",
     "output_type": "stream",
     "text": [
      "/home/kcdage/anaconda/lib/python2.7/site-packages/astroquery/simbad/core.py:136: UserWarning: Warning: The script line number 3 raised an error (recorded in the `errors` attribute of the result table): '12:29:43.541 +8:04:10.45': No astronomical object found :\n",
      "  (error.line, error.msg))\n"
     ]
    },
    {
     "name": "stdout",
     "output_type": "stream",
     "text": [
      "<SkyCoord (ICRS): (ra, dec) in deg\n",
      "    ( 187.43142083,  8.06956944)>\n",
      "No catalog item found for this within 1 arcsecond, saving coordinates [u'12h29m43.541s'] [u'8d04m10.45s']\n"
     ]
    },
    {
     "name": "stderr",
     "output_type": "stream",
     "text": [
      "/home/kcdage/anaconda/lib/python2.7/site-packages/astroquery/simbad/core.py:136: UserWarning: Warning: The script line number 3 raised an error (recorded in the `errors` attribute of the result table): '12:29:54.395 +8:04:10.61': No astronomical object found :\n",
      "  (error.line, error.msg))\n"
     ]
    },
    {
     "name": "stdout",
     "output_type": "stream",
     "text": [
      "<SkyCoord (ICRS): (ra, dec) in deg\n",
      "    ( 187.47664583,  8.06961389)>\n",
      "No catalog item found for this within 1 arcsecond, saving coordinates [u'12h29m54.395s'] [u'8d04m10.61s']\n"
     ]
    },
    {
     "name": "stderr",
     "output_type": "stream",
     "text": [
      "WARNING: MergeConflictWarning: Cannot merge meta key u'description' types <type 'unicode'> and <type 'unicode'>, choosing description=u'Simbad script executed on 2017.10.05CEST21:24:53' [astropy.utils.metadata]\n",
      "/home/kcdage/anaconda/lib/python2.7/site-packages/astroquery/simbad/core.py:136: UserWarning: Warning: The script line number 3 raised an error (recorded in the `errors` attribute of the result table): '12:29:58.654 +8:04:16.32': No astronomical object found :\n",
      "  (error.line, error.msg))\n"
     ]
    },
    {
     "name": "stdout",
     "output_type": "stream",
     "text": [
      "<SkyCoord (ICRS): (ra, dec) in deg\n",
      "    ( 187.49439167,  8.0712)>\n",
      "No catalog item found for this within 1 arcsecond, saving coordinates [u'12h29m58.654s'] [u'8d04m16.32s']\n"
     ]
    },
    {
     "name": "stderr",
     "output_type": "stream",
     "text": [
      "WARNING: MergeConflictWarning: Cannot merge meta key u'description' types <type 'unicode'> and <type 'unicode'>, choosing description=u'Simbad script executed on 2017.10.05CEST21:24:54' [astropy.utils.metadata]\n",
      "/home/kcdage/anaconda/lib/python2.7/site-packages/astroquery/simbad/core.py:136: UserWarning: Warning: The script line number 3 raised an error (recorded in the `errors` attribute of the result table): '12:29:33.907 +8:05:14.58': No astronomical object found :\n",
      "  (error.line, error.msg))\n"
     ]
    },
    {
     "name": "stdout",
     "output_type": "stream",
     "text": [
      "<SkyCoord (ICRS): (ra, dec) in deg\n",
      "    ( 187.39127917,  8.08738333)>\n",
      "No catalog item found for this within 1 arcsecond, saving coordinates [u'12h29m33.907s'] [u'8d05m14.58s']\n"
     ]
    },
    {
     "name": "stderr",
     "output_type": "stream",
     "text": [
      "/home/kcdage/anaconda/lib/python2.7/site-packages/astroquery/simbad/core.py:136: UserWarning: Warning: The script line number 3 raised an error (recorded in the `errors` attribute of the result table): '12:30:08.862 +8:08:26.01': No astronomical object found :\n",
      "  (error.line, error.msg))\n"
     ]
    },
    {
     "name": "stdout",
     "output_type": "stream",
     "text": [
      "<SkyCoord (ICRS): (ra, dec) in deg\n",
      "    ( 187.536925,  8.14055833)>\n",
      "No catalog item found for this within 1 arcsecond, saving coordinates [u'12h30m08.862s'] [u'8d08m26.01s']\n"
     ]
    },
    {
     "name": "stderr",
     "output_type": "stream",
     "text": [
      "/home/kcdage/anaconda/lib/python2.7/site-packages/astroquery/simbad/core.py:136: UserWarning: Warning: The script line number 3 raised an error (recorded in the `errors` attribute of the result table): '12:29:44.473 +8:09:11.31': No astronomical object found :\n",
      "  (error.line, error.msg))\n"
     ]
    },
    {
     "name": "stdout",
     "output_type": "stream",
     "text": [
      "<SkyCoord (ICRS): (ra, dec) in deg\n",
      "    ( 187.43530417,  8.15314167)>\n",
      "No catalog item found for this within 1 arcsecond, saving coordinates [u'12h29m44.473s'] [u'8d09m11.31s']\n"
     ]
    },
    {
     "name": "stderr",
     "output_type": "stream",
     "text": [
      "/home/kcdage/anaconda/lib/python2.7/site-packages/astroquery/simbad/core.py:136: UserWarning: Warning: The script line number 3 raised an error (recorded in the `errors` attribute of the result table): '12:29:53.742 +8:16:10.86': No astronomical object found :\n",
      "  (error.line, error.msg))\n"
     ]
    },
    {
     "name": "stdout",
     "output_type": "stream",
     "text": [
      "<SkyCoord (ICRS): (ra, dec) in deg\n",
      "    ( 187.473925,  8.26968333)>\n",
      "No catalog item found for this within 1 arcsecond, saving coordinates [u'12h29m53.742s'] [u'8d16m10.86s']\n"
     ]
    },
    {
     "name": "stderr",
     "output_type": "stream",
     "text": [
      "/home/kcdage/anaconda/lib/python2.7/site-packages/astroquery/simbad/core.py:136: UserWarning: Warning: The script line number 3 raised an error (recorded in the `errors` attribute of the result table): '12:30:00.881 +8:17:48.44': No astronomical object found :\n",
      "  (error.line, error.msg))\n"
     ]
    },
    {
     "name": "stdout",
     "output_type": "stream",
     "text": [
      "<SkyCoord (ICRS): (ra, dec) in deg\n",
      "    ( 187.50367083,  8.29678889)>\n",
      "No catalog item found for this within 1 arcsecond, saving coordinates [u'12h30m00.881s'] [u'8d17m48.44s']\n"
     ]
    },
    {
     "name": "stderr",
     "output_type": "stream",
     "text": [
      "/home/kcdage/anaconda/lib/python2.7/site-packages/astroquery/simbad/core.py:136: UserWarning: Warning: The script line number 3 raised an error (recorded in the `errors` attribute of the result table): '12:29:44.896 +8:18:20.37': No astronomical object found :\n",
      "  (error.line, error.msg))\n"
     ]
    },
    {
     "name": "stdout",
     "output_type": "stream",
     "text": [
      "<SkyCoord (ICRS): (ra, dec) in deg\n",
      "    ( 187.43706667,  8.30565833)>\n",
      "No catalog item found for this within 1 arcsecond, saving coordinates [u'12h29m44.896s'] [u'8d18m20.37s']\n"
     ]
    },
    {
     "name": "stderr",
     "output_type": "stream",
     "text": [
      "/home/kcdage/anaconda/lib/python2.7/site-packages/astroquery/simbad/core.py:136: UserWarning: Warning: The script line number 3 raised an error (recorded in the `errors` attribute of the result table): '12:30:11.502 +8:19:37.2': No astronomical object found :\n",
      "  (error.line, error.msg))\n"
     ]
    },
    {
     "name": "stdout",
     "output_type": "stream",
     "text": [
      "<SkyCoord (ICRS): (ra, dec) in deg\n",
      "    ( 187.547925,  8.327)>\n",
      "No catalog item found for this within 1 arcsecond, saving coordinates [u'12h30m11.502s'] [u'8d19m37.2s']\n"
     ]
    },
    {
     "name": "stderr",
     "output_type": "stream",
     "text": [
      "/home/kcdage/anaconda/lib/python2.7/site-packages/astroquery/simbad/core.py:136: UserWarning: Warning: The script line number 3 raised an error (recorded in the `errors` attribute of the result table): '12:29:58.17 +7:46:21.58': No astronomical object found :\n",
      "  (error.line, error.msg))\n"
     ]
    },
    {
     "name": "stdout",
     "output_type": "stream",
     "text": [
      "<SkyCoord (ICRS): (ra, dec) in deg\n",
      "    ( 187.492375,  7.77266111)>\n",
      "No catalog item found for this within 1 arcsecond, saving coordinates [u'12h29m58.17s'] [u'7d46m21.58s']\n"
     ]
    },
    {
     "name": "stderr",
     "output_type": "stream",
     "text": [
      "/home/kcdage/anaconda/lib/python2.7/site-packages/astroquery/simbad/core.py:136: UserWarning: Warning: The script line number 3 raised an error (recorded in the `errors` attribute of the result table): '12:29:49.961 +7:50:14.79': No astronomical object found :\n",
      "  (error.line, error.msg))\n"
     ]
    },
    {
     "name": "stdout",
     "output_type": "stream",
     "text": [
      "<SkyCoord (ICRS): (ra, dec) in deg\n",
      "    ( 187.45817083,  7.83744167)>\n",
      "No catalog item found for this within 1 arcsecond, saving coordinates [u'12h29m49.961s'] [u'7d50m14.79s']\n"
     ]
    },
    {
     "name": "stderr",
     "output_type": "stream",
     "text": [
      "/home/kcdage/anaconda/lib/python2.7/site-packages/astroquery/simbad/core.py:136: UserWarning: Warning: The script line number 3 raised an error (recorded in the `errors` attribute of the result table): '12:29:57.402 +7:51:18.75': No astronomical object found :\n",
      "  (error.line, error.msg))\n"
     ]
    },
    {
     "name": "stdout",
     "output_type": "stream",
     "text": [
      "<SkyCoord (ICRS): (ra, dec) in deg\n",
      "    ( 187.489175,  7.85520833)>\n",
      "No catalog item found for this within 1 arcsecond, saving coordinates [u'12h29m57.402s'] [u'7d51m18.75s']\n"
     ]
    },
    {
     "name": "stderr",
     "output_type": "stream",
     "text": [
      "/home/kcdage/anaconda/lib/python2.7/site-packages/astroquery/simbad/core.py:136: UserWarning: Warning: The script line number 3 raised an error (recorded in the `errors` attribute of the result table): '12:29:50.826 +7:51:48.55': No astronomical object found :\n",
      "  (error.line, error.msg))\n"
     ]
    },
    {
     "name": "stdout",
     "output_type": "stream",
     "text": [
      "<SkyCoord (ICRS): (ra, dec) in deg\n",
      "    ( 187.461775,  7.86348611)>\n",
      "No catalog item found for this within 1 arcsecond, saving coordinates [u'12h29m50.826s'] [u'7d51m48.55s']\n"
     ]
    },
    {
     "name": "stderr",
     "output_type": "stream",
     "text": [
      "WARNING: MergeConflictWarning: Cannot merge meta key u'description' types <type 'unicode'> and <type 'unicode'>, choosing description=u'Simbad script executed on 2017.10.05CEST21:24:58' [astropy.utils.metadata]\n",
      "/home/kcdage/anaconda/lib/python2.7/site-packages/astroquery/simbad/core.py:136: UserWarning: Warning: The script line number 3 raised an error (recorded in the `errors` attribute of the result table): '12:30:37.002 +7:52:29.34': No astronomical object found :\n",
      "  (error.line, error.msg))\n"
     ]
    },
    {
     "name": "stdout",
     "output_type": "stream",
     "text": [
      "<SkyCoord (ICRS): (ra, dec) in deg\n",
      "    ( 187.654175,  7.87481667)>\n",
      "No catalog item found for this within 1 arcsecond, saving coordinates [u'12h30m37.002s'] [u'7d52m29.34s']\n"
     ]
    },
    {
     "name": "stderr",
     "output_type": "stream",
     "text": [
      "/home/kcdage/anaconda/lib/python2.7/site-packages/astroquery/simbad/core.py:136: UserWarning: Warning: The script line number 3 raised an error (recorded in the `errors` attribute of the result table): '12:30:23.402 +7:53:02.94': No astronomical object found :\n",
      "  (error.line, error.msg))\n"
     ]
    },
    {
     "name": "stdout",
     "output_type": "stream",
     "text": [
      "<SkyCoord (ICRS): (ra, dec) in deg\n",
      "    ( 187.59750833,  7.88415)>\n",
      "No catalog item found for this within 1 arcsecond, saving coordinates [u'12h30m23.402s'] [u'7d53m02.94s']\n"
     ]
    },
    {
     "name": "stderr",
     "output_type": "stream",
     "text": [
      "/home/kcdage/anaconda/lib/python2.7/site-packages/astroquery/simbad/core.py:136: UserWarning: Warning: The script line number 3 raised an error (recorded in the `errors` attribute of the result table): '12:29:35.589 +7:53:27.6': No astronomical object found :\n",
      "  (error.line, error.msg))\n"
     ]
    },
    {
     "name": "stdout",
     "output_type": "stream",
     "text": [
      "<SkyCoord (ICRS): (ra, dec) in deg\n",
      "    ( 187.3982875,  7.891)>\n",
      "No catalog item found for this within 1 arcsecond, saving coordinates [u'12h29m35.589s'] [u'7d53m27.6s']\n"
     ]
    },
    {
     "name": "stderr",
     "output_type": "stream",
     "text": [
      "/home/kcdage/anaconda/lib/python2.7/site-packages/astroquery/simbad/core.py:136: UserWarning: Warning: The script line number 3 raised an error (recorded in the `errors` attribute of the result table): '12:29:39.892 +7:53:30.71': No astronomical object found :\n",
      "  (error.line, error.msg))\n"
     ]
    },
    {
     "name": "stdout",
     "output_type": "stream",
     "text": [
      "<SkyCoord (ICRS): (ra, dec) in deg\n",
      "    ( 187.41621667,  7.89186389)>\n",
      "No catalog item found for this within 1 arcsecond, saving coordinates [u'12h29m39.892s'] [u'7d53m30.71s']\n"
     ]
    },
    {
     "name": "stderr",
     "output_type": "stream",
     "text": [
      "/home/kcdage/anaconda/lib/python2.7/site-packages/astroquery/simbad/core.py:136: UserWarning: Warning: The script line number 3 raised an error (recorded in the `errors` attribute of the result table): '12:29:39.624 +7:53:34.66': No astronomical object found :\n",
      "  (error.line, error.msg))\n"
     ]
    },
    {
     "name": "stdout",
     "output_type": "stream",
     "text": [
      "<SkyCoord (ICRS): (ra, dec) in deg\n",
      "    ( 187.4151,  7.89296111)>\n",
      "No catalog item found for this within 1 arcsecond, saving coordinates [u'12h29m39.624s'] [u'7d53m34.66s']\n"
     ]
    },
    {
     "name": "stderr",
     "output_type": "stream",
     "text": [
      "/home/kcdage/anaconda/lib/python2.7/site-packages/astroquery/simbad/core.py:136: UserWarning: Warning: The script line number 3 raised an error (recorded in the `errors` attribute of the result table): '12:29:40.894 +7:53:35.99': No astronomical object found :\n",
      "  (error.line, error.msg))\n"
     ]
    },
    {
     "name": "stdout",
     "output_type": "stream",
     "text": [
      "<SkyCoord (ICRS): (ra, dec) in deg\n",
      "    ( 187.42039167,  7.89333056)>\n",
      "No catalog item found for this within 1 arcsecond, saving coordinates [u'12h29m40.894s'] [u'7d53m35.99s']\n"
     ]
    },
    {
     "name": "stderr",
     "output_type": "stream",
     "text": [
      "/home/kcdage/anaconda/lib/python2.7/site-packages/astroquery/simbad/core.py:136: UserWarning: Warning: The script line number 3 raised an error (recorded in the `errors` attribute of the result table): '12:29:49.489 +7:54:11.69': No astronomical object found :\n",
      "  (error.line, error.msg))\n"
     ]
    },
    {
     "name": "stdout",
     "output_type": "stream",
     "text": [
      "<SkyCoord (ICRS): (ra, dec) in deg\n",
      "    ( 187.45620417,  7.90324722)>\n",
      "No catalog item found for this within 1 arcsecond, saving coordinates [u'12h29m49.489s'] [u'7d54m11.69s']\n"
     ]
    },
    {
     "name": "stderr",
     "output_type": "stream",
     "text": [
      "/home/kcdage/anaconda/lib/python2.7/site-packages/astroquery/simbad/core.py:136: UserWarning: Warning: The script line number 3 raised an error (recorded in the `errors` attribute of the result table): '12:29:50.64 +7:54:30.35': No astronomical object found :\n",
      "  (error.line, error.msg))\n"
     ]
    },
    {
     "name": "stdout",
     "output_type": "stream",
     "text": [
      "<SkyCoord (ICRS): (ra, dec) in deg\n",
      "    ( 187.461,  7.90843056)>\n",
      "No catalog item found for this within 1 arcsecond, saving coordinates [u'12h29m50.64s'] [u'7d54m30.35s']\n"
     ]
    },
    {
     "name": "stderr",
     "output_type": "stream",
     "text": [
      "/home/kcdage/anaconda/lib/python2.7/site-packages/astroquery/simbad/core.py:136: UserWarning: Warning: The script line number 3 raised an error (recorded in the `errors` attribute of the result table): '12:29:56.915 +7:54:37.66': No astronomical object found :\n",
      "  (error.line, error.msg))\n"
     ]
    },
    {
     "name": "stdout",
     "output_type": "stream",
     "text": [
      "<SkyCoord (ICRS): (ra, dec) in deg\n",
      "    ( 187.48714583,  7.91046111)>\n",
      "No catalog item found for this within 1 arcsecond, saving coordinates [u'12h29m56.915s'] [u'7d54m37.66s']\n"
     ]
    },
    {
     "name": "stderr",
     "output_type": "stream",
     "text": [
      "/home/kcdage/anaconda/lib/python2.7/site-packages/astroquery/simbad/core.py:136: UserWarning: Warning: The script line number 3 raised an error (recorded in the `errors` attribute of the result table): '12:29:46.718 +7:54:42.96': No astronomical object found :\n",
      "  (error.line, error.msg))\n"
     ]
    },
    {
     "name": "stdout",
     "output_type": "stream",
     "text": [
      "<SkyCoord (ICRS): (ra, dec) in deg\n",
      "    ( 187.44465833,  7.91193333)>\n",
      "No catalog item found for this within 1 arcsecond, saving coordinates [u'12h29m46.718s'] [u'7d54m42.96s']\n"
     ]
    },
    {
     "name": "stderr",
     "output_type": "stream",
     "text": [
      "/home/kcdage/anaconda/lib/python2.7/site-packages/astroquery/simbad/core.py:136: UserWarning: Warning: The script line number 3 raised an error (recorded in the `errors` attribute of the result table): '12:29:54.99 +7:54:52.63': No astronomical object found :\n",
      "  (error.line, error.msg))\n"
     ]
    },
    {
     "name": "stdout",
     "output_type": "stream",
     "text": [
      "<SkyCoord (ICRS): (ra, dec) in deg\n",
      "    ( 187.479125,  7.91461944)>\n",
      "No catalog item found for this within 1 arcsecond, saving coordinates [u'12h29m54.99s'] [u'7d54m52.63s']\n"
     ]
    },
    {
     "name": "stderr",
     "output_type": "stream",
     "text": [
      "/home/kcdage/anaconda/lib/python2.7/site-packages/astroquery/simbad/core.py:136: UserWarning: Warning: The script line number 3 raised an error (recorded in the `errors` attribute of the result table): '12:30:14.433 +7:54:56.11': No astronomical object found :\n",
      "  (error.line, error.msg))\n"
     ]
    },
    {
     "name": "stdout",
     "output_type": "stream",
     "text": [
      "<SkyCoord (ICRS): (ra, dec) in deg\n",
      "    ( 187.5601375,  7.91558611)>\n",
      "No catalog item found for this within 1 arcsecond, saving coordinates [u'12h30m14.433s'] [u'7d54m56.11s']\n"
     ]
    },
    {
     "name": "stderr",
     "output_type": "stream",
     "text": [
      "/home/kcdage/anaconda/lib/python2.7/site-packages/astroquery/simbad/core.py:136: UserWarning: Warning: The script line number 3 raised an error (recorded in the `errors` attribute of the result table): '12:29:59.585 +7:54:59.53': No astronomical object found :\n",
      "  (error.line, error.msg))\n"
     ]
    },
    {
     "name": "stdout",
     "output_type": "stream",
     "text": [
      "<SkyCoord (ICRS): (ra, dec) in deg\n",
      "    ( 187.49827083,  7.91653611)>\n",
      "No catalog item found for this within 1 arcsecond, saving coordinates [u'12h29m59.585s'] [u'7d54m59.53s']\n"
     ]
    },
    {
     "name": "stderr",
     "output_type": "stream",
     "text": [
      "/home/kcdage/anaconda/lib/python2.7/site-packages/astroquery/simbad/core.py:136: UserWarning: Warning: The script line number 3 raised an error (recorded in the `errors` attribute of the result table): '12:29:41.66 +7:55:08.72': No astronomical object found :\n",
      "  (error.line, error.msg))\n"
     ]
    },
    {
     "name": "stdout",
     "output_type": "stream",
     "text": [
      "<SkyCoord (ICRS): (ra, dec) in deg\n",
      "    ( 187.42358333,  7.91908889)>\n",
      "No catalog item found for this within 1 arcsecond, saving coordinates [u'12h29m41.66s'] [u'7d55m08.72s']\n"
     ]
    },
    {
     "name": "stderr",
     "output_type": "stream",
     "text": [
      "/home/kcdage/anaconda/lib/python2.7/site-packages/astroquery/simbad/core.py:136: UserWarning: Warning: The script line number 3 raised an error (recorded in the `errors` attribute of the result table): '12:29:40.874 +7:55:32.3': No astronomical object found :\n",
      "  (error.line, error.msg))\n"
     ]
    },
    {
     "name": "stdout",
     "output_type": "stream",
     "text": [
      "<SkyCoord (ICRS): (ra, dec) in deg\n",
      "    ( 187.42030833,  7.92563889)>\n",
      "No catalog item found for this within 1 arcsecond, saving coordinates [u'12h29m40.874s'] [u'7d55m32.3s']\n"
     ]
    },
    {
     "name": "stderr",
     "output_type": "stream",
     "text": [
      "WARNING: MergeConflictWarning: Cannot merge meta key u'description' types <type 'unicode'> and <type 'unicode'>, choosing description=u'Simbad script executed on 2017.10.05CEST21:25:03' [astropy.utils.metadata]\n",
      "/home/kcdage/anaconda/lib/python2.7/site-packages/astroquery/simbad/core.py:136: UserWarning: Warning: The script line number 3 raised an error (recorded in the `errors` attribute of the result table): '12:29:38.989 +7:55:39.2': No astronomical object found :\n",
      "  (error.line, error.msg))\n"
     ]
    },
    {
     "name": "stdout",
     "output_type": "stream",
     "text": [
      "<SkyCoord (ICRS): (ra, dec) in deg\n",
      "    ( 187.41245417,  7.92755556)>\n",
      "No catalog item found for this within 1 arcsecond, saving coordinates [u'12h29m38.989s'] [u'7d55m39.2s']\n"
     ]
    },
    {
     "name": "stderr",
     "output_type": "stream",
     "text": [
      "/home/kcdage/anaconda/lib/python2.7/site-packages/astroquery/simbad/core.py:136: UserWarning: Warning: The script line number 3 raised an error (recorded in the `errors` attribute of the result table): '12:29:47.723 +7:55:46.37': No astronomical object found :\n",
      "  (error.line, error.msg))\n"
     ]
    },
    {
     "name": "stdout",
     "output_type": "stream",
     "text": [
      "<SkyCoord (ICRS): (ra, dec) in deg\n",
      "    ( 187.44884583,  7.92954722)>\n",
      "No catalog item found for this within 1 arcsecond, saving coordinates [u'12h29m47.723s'] [u'7d55m46.37s']\n"
     ]
    },
    {
     "name": "stderr",
     "output_type": "stream",
     "text": [
      "/home/kcdage/anaconda/lib/python2.7/site-packages/astroquery/simbad/core.py:136: UserWarning: Warning: The script line number 3 raised an error (recorded in the `errors` attribute of the result table): '12:29:43.96 +7:56:04.49': No astronomical object found :\n",
      "  (error.line, error.msg))\n"
     ]
    },
    {
     "name": "stdout",
     "output_type": "stream",
     "text": [
      "<SkyCoord (ICRS): (ra, dec) in deg\n",
      "    ( 187.43316667,  7.93458056)>\n",
      "No catalog item found for this within 1 arcsecond, saving coordinates [u'12h29m43.96s'] [u'7d56m04.49s']\n"
     ]
    },
    {
     "name": "stderr",
     "output_type": "stream",
     "text": [
      "/home/kcdage/anaconda/lib/python2.7/site-packages/astroquery/simbad/core.py:136: UserWarning: Warning: The script line number 3 raised an error (recorded in the `errors` attribute of the result table): '12:29:55.956 +7:56:38.01': No astronomical object found :\n",
      "  (error.line, error.msg))\n"
     ]
    },
    {
     "name": "stdout",
     "output_type": "stream",
     "text": [
      "<SkyCoord (ICRS): (ra, dec) in deg\n",
      "    ( 187.48315,  7.94389167)>\n",
      "No catalog item found for this within 1 arcsecond, saving coordinates [u'12h29m55.956s'] [u'7d56m38.01s']\n"
     ]
    },
    {
     "name": "stderr",
     "output_type": "stream",
     "text": [
      "/home/kcdage/anaconda/lib/python2.7/site-packages/astroquery/simbad/core.py:136: UserWarning: Warning: The script line number 3 raised an error (recorded in the `errors` attribute of the result table): '12:29:38.158 +7:56:47.99': No astronomical object found :\n",
      "  (error.line, error.msg))\n"
     ]
    },
    {
     "name": "stdout",
     "output_type": "stream",
     "text": [
      "<SkyCoord (ICRS): (ra, dec) in deg\n",
      "    ( 187.40899167,  7.94666389)>\n",
      "No catalog item found for this within 1 arcsecond, saving coordinates [u'12h29m38.158s'] [u'7d56m47.99s']\n"
     ]
    },
    {
     "name": "stderr",
     "output_type": "stream",
     "text": [
      "/home/kcdage/anaconda/lib/python2.7/site-packages/astroquery/simbad/core.py:136: UserWarning: Warning: The script line number 3 raised an error (recorded in the `errors` attribute of the result table): '12:29:52.975 +7:56:50.36': No astronomical object found :\n",
      "  (error.line, error.msg))\n"
     ]
    },
    {
     "name": "stdout",
     "output_type": "stream",
     "text": [
      "<SkyCoord (ICRS): (ra, dec) in deg\n",
      "    ( 187.47072917,  7.94732222)>\n",
      "No catalog item found for this within 1 arcsecond, saving coordinates [u'12h29m52.975s'] [u'7d56m50.36s']\n"
     ]
    },
    {
     "name": "stderr",
     "output_type": "stream",
     "text": [
      "/home/kcdage/anaconda/lib/python2.7/site-packages/astroquery/simbad/core.py:136: UserWarning: Warning: The script line number 3 raised an error (recorded in the `errors` attribute of the result table): '12:29:49.788 +7:57:06.71': No astronomical object found :\n",
      "  (error.line, error.msg))\n"
     ]
    },
    {
     "name": "stdout",
     "output_type": "stream",
     "text": [
      "<SkyCoord (ICRS): (ra, dec) in deg\n",
      "    ( 187.45745,  7.95186389)>\n",
      "No catalog item found for this within 1 arcsecond, saving coordinates [u'12h29m49.788s'] [u'7d57m06.71s']\n"
     ]
    },
    {
     "name": "stderr",
     "output_type": "stream",
     "text": [
      "/home/kcdage/anaconda/lib/python2.7/site-packages/astroquery/simbad/core.py:136: UserWarning: Warning: The script line number 3 raised an error (recorded in the `errors` attribute of the result table): '12:30:17.965 +7:57:16.31': No astronomical object found :\n",
      "  (error.line, error.msg))\n"
     ]
    },
    {
     "name": "stdout",
     "output_type": "stream",
     "text": [
      "<SkyCoord (ICRS): (ra, dec) in deg\n",
      "    ( 187.57485417,  7.95453056)>\n",
      "No catalog item found for this within 1 arcsecond, saving coordinates [u'12h30m17.965s'] [u'7d57m16.31s']\n"
     ]
    },
    {
     "name": "stderr",
     "output_type": "stream",
     "text": [
      "WARNING: MergeConflictWarning: Cannot merge meta key u'description' types <type 'unicode'> and <type 'unicode'>, choosing description=u'Simbad script executed on 2017.10.05CEST21:25:05' [astropy.utils.metadata]\n",
      "/home/kcdage/anaconda/lib/python2.7/site-packages/astroquery/simbad/core.py:136: UserWarning: Warning: The script line number 3 raised an error (recorded in the `errors` attribute of the result table): '12:30:01.355 +7:57:54.51': No astronomical object found :\n",
      "  (error.line, error.msg))\n"
     ]
    },
    {
     "name": "stdout",
     "output_type": "stream",
     "text": [
      "<SkyCoord (ICRS): (ra, dec) in deg\n",
      "    ( 187.50564583,  7.96514167)>\n",
      "No catalog item found for this within 1 arcsecond, saving coordinates [u'12h30m01.355s'] [u'7d57m54.51s']\n"
     ]
    },
    {
     "name": "stderr",
     "output_type": "stream",
     "text": [
      "/home/kcdage/anaconda/lib/python2.7/site-packages/astroquery/simbad/core.py:136: UserWarning: Warning: The script line number 3 raised an error (recorded in the `errors` attribute of the result table): '12:30:30.599 +7:58:05.17': No astronomical object found :\n",
      "  (error.line, error.msg))\n"
     ]
    },
    {
     "name": "stdout",
     "output_type": "stream",
     "text": [
      "<SkyCoord (ICRS): (ra, dec) in deg\n",
      "    ( 187.62749583,  7.96810278)>\n",
      "No catalog item found for this within 1 arcsecond, saving coordinates [u'12h30m30.599s'] [u'7d58m05.17s']\n"
     ]
    },
    {
     "name": "stderr",
     "output_type": "stream",
     "text": [
      "/home/kcdage/anaconda/lib/python2.7/site-packages/astroquery/simbad/core.py:136: UserWarning: Warning: The script line number 3 raised an error (recorded in the `errors` attribute of the result table): '12:30:03.502 +7:58:09.86': No astronomical object found :\n",
      "  (error.line, error.msg))\n"
     ]
    },
    {
     "name": "stdout",
     "output_type": "stream",
     "text": [
      "<SkyCoord (ICRS): (ra, dec) in deg\n",
      "    ( 187.51459167,  7.96940556)>\n",
      "No catalog item found for this within 1 arcsecond, saving coordinates [u'12h30m03.502s'] [u'7d58m09.86s']\n"
     ]
    },
    {
     "name": "stderr",
     "output_type": "stream",
     "text": [
      "/home/kcdage/anaconda/lib/python2.7/site-packages/astroquery/simbad/core.py:136: UserWarning: Warning: The script line number 3 raised an error (recorded in the `errors` attribute of the result table): '12:29:36.191 +7:58:09.63': No astronomical object found :\n",
      "  (error.line, error.msg))\n"
     ]
    },
    {
     "name": "stdout",
     "output_type": "stream",
     "text": [
      "<SkyCoord (ICRS): (ra, dec) in deg\n",
      "    ( 187.40079583,  7.96934167)>\n",
      "No catalog item found for this within 1 arcsecond, saving coordinates [u'12h29m36.191s'] [u'7d58m09.63s']\n"
     ]
    },
    {
     "name": "stderr",
     "output_type": "stream",
     "text": [
      "/home/kcdage/anaconda/lib/python2.7/site-packages/astroquery/simbad/core.py:136: UserWarning: Warning: The script line number 3 raised an error (recorded in the `errors` attribute of the result table): '12:29:32.898 +7:58:13.41': No astronomical object found :\n",
      "  (error.line, error.msg))\n"
     ]
    },
    {
     "name": "stdout",
     "output_type": "stream",
     "text": [
      "<SkyCoord (ICRS): (ra, dec) in deg\n",
      "    ( 187.387075,  7.97039167)>\n",
      "No catalog item found for this within 1 arcsecond, saving coordinates [u'12h29m32.898s'] [u'7d58m13.41s']\n"
     ]
    },
    {
     "name": "stderr",
     "output_type": "stream",
     "text": [
      "/home/kcdage/anaconda/lib/python2.7/site-packages/astroquery/simbad/core.py:136: UserWarning: Warning: The script line number 3 raised an error (recorded in the `errors` attribute of the result table): '12:29:29.975 +7:58:39.87': No astronomical object found :\n",
      "  (error.line, error.msg))\n"
     ]
    },
    {
     "name": "stdout",
     "output_type": "stream",
     "text": [
      "<SkyCoord (ICRS): (ra, dec) in deg\n",
      "    ( 187.37489583,  7.97774167)>\n",
      "No catalog item found for this within 1 arcsecond, saving coordinates [u'12h29m29.975s'] [u'7d58m39.87s']\n"
     ]
    },
    {
     "name": "stderr",
     "output_type": "stream",
     "text": [
      "/home/kcdage/anaconda/lib/python2.7/site-packages/astroquery/simbad/core.py:136: UserWarning: Warning: The script line number 3 raised an error (recorded in the `errors` attribute of the result table): '12:30:18.984 +7:58:56.36': No astronomical object found :\n",
      "  (error.line, error.msg))\n"
     ]
    },
    {
     "name": "stdout",
     "output_type": "stream",
     "text": [
      "<SkyCoord (ICRS): (ra, dec) in deg\n",
      "    ( 187.5791,  7.98232222)>\n",
      "No catalog item found for this within 1 arcsecond, saving coordinates [u'12h30m18.984s'] [u'7d58m56.36s']\n"
     ]
    },
    {
     "name": "stderr",
     "output_type": "stream",
     "text": [
      "WARNING: MergeConflictWarning: Cannot merge meta key u'description' types <type 'unicode'> and <type 'unicode'>, choosing description=u'Simbad script executed on 2017.10.05CEST21:25:08' [astropy.utils.metadata]\n",
      "/home/kcdage/anaconda/lib/python2.7/site-packages/astroquery/simbad/core.py:136: UserWarning: Warning: The script line number 3 raised an error (recorded in the `errors` attribute of the result table): '12:29:35.186 +7:59:59.26': No astronomical object found :\n",
      "  (error.line, error.msg))\n"
     ]
    },
    {
     "name": "stdout",
     "output_type": "stream",
     "text": [
      "<SkyCoord (ICRS): (ra, dec) in deg\n",
      "    ( 187.39660833,  7.99979444)>\n",
      "No catalog item found for this within 1 arcsecond, saving coordinates [u'12h29m35.186s'] [u'7d59m59.26s']\n"
     ]
    },
    {
     "name": "stderr",
     "output_type": "stream",
     "text": [
      "/home/kcdage/anaconda/lib/python2.7/site-packages/astroquery/simbad/core.py:136: UserWarning: Warning: The script line number 3 raised an error (recorded in the `errors` attribute of the result table): '12:29:46.259 +8:00:24.35': No astronomical object found :\n",
      "  (error.line, error.msg))\n"
     ]
    },
    {
     "name": "stdout",
     "output_type": "stream",
     "text": [
      "<SkyCoord (ICRS): (ra, dec) in deg\n",
      "    ( 187.44274583,  8.00676389)>\n",
      "No catalog item found for this within 1 arcsecond, saving coordinates [u'12h29m46.259s'] [u'8d00m24.35s']\n"
     ]
    },
    {
     "name": "stderr",
     "output_type": "stream",
     "text": [
      "/home/kcdage/anaconda/lib/python2.7/site-packages/astroquery/simbad/core.py:136: UserWarning: Warning: The script line number 3 raised an error (recorded in the `errors` attribute of the result table): '12:29:43.239 +8:00:33.12': No astronomical object found :\n",
      "  (error.line, error.msg))\n"
     ]
    },
    {
     "name": "stdout",
     "output_type": "stream",
     "text": [
      "<SkyCoord (ICRS): (ra, dec) in deg\n",
      "    ( 187.4301625,  8.0092)>\n",
      "No catalog item found for this within 1 arcsecond, saving coordinates [u'12h29m43.239s'] [u'8d00m33.12s']\n"
     ]
    },
    {
     "name": "stderr",
     "output_type": "stream",
     "text": [
      "WARNING: MergeConflictWarning: Cannot merge meta key u'description' types <type 'unicode'> and <type 'unicode'>, choosing description=u'Simbad script executed on 2017.10.05CEST21:25:09' [astropy.utils.metadata]\n",
      "/home/kcdage/anaconda/lib/python2.7/site-packages/astroquery/simbad/core.py:136: UserWarning: Warning: The script line number 3 raised an error (recorded in the `errors` attribute of the result table): '12:29:36.005 +8:02:28.98': No astronomical object found :\n",
      "  (error.line, error.msg))\n"
     ]
    },
    {
     "name": "stdout",
     "output_type": "stream",
     "text": [
      "<SkyCoord (ICRS): (ra, dec) in deg\n",
      "    ( 187.40002083,  8.04138333)>\n",
      "No catalog item found for this within 1 arcsecond, saving coordinates [u'12h29m36.005s'] [u'8d02m28.98s']\n"
     ]
    },
    {
     "name": "stderr",
     "output_type": "stream",
     "text": [
      "WARNING: MergeConflictWarning: Cannot merge meta key u'description' types <type 'unicode'> and <type 'unicode'>, choosing description=u'Simbad script executed on 2017.10.05CEST21:25:10' [astropy.utils.metadata]\n",
      "/home/kcdage/anaconda/lib/python2.7/site-packages/astroquery/simbad/core.py:136: UserWarning: Warning: The script line number 3 raised an error (recorded in the `errors` attribute of the result table): '12:29:55.492 +8:03:00.18': No astronomical object found :\n",
      "  (error.line, error.msg))\n"
     ]
    },
    {
     "name": "stdout",
     "output_type": "stream",
     "text": [
      "<SkyCoord (ICRS): (ra, dec) in deg\n",
      "    ( 187.48121667,  8.05005)>\n",
      "No catalog item found for this within 1 arcsecond, saving coordinates [u'12h29m55.492s'] [u'8d03m00.18s']\n"
     ]
    },
    {
     "name": "stderr",
     "output_type": "stream",
     "text": [
      "/home/kcdage/anaconda/lib/python2.7/site-packages/astroquery/simbad/core.py:136: UserWarning: Warning: The script line number 3 raised an error (recorded in the `errors` attribute of the result table): '12:30:04.929 +8:03:16.36': No astronomical object found :\n",
      "  (error.line, error.msg))\n"
     ]
    },
    {
     "name": "stdout",
     "output_type": "stream",
     "text": [
      "<SkyCoord (ICRS): (ra, dec) in deg\n",
      "    ( 187.5205375,  8.05454444)>\n",
      "No catalog item found for this within 1 arcsecond, saving coordinates [u'12h30m04.929s'] [u'8d03m16.36s']\n"
     ]
    },
    {
     "name": "stderr",
     "output_type": "stream",
     "text": [
      "/home/kcdage/anaconda/lib/python2.7/site-packages/astroquery/simbad/core.py:136: UserWarning: Warning: The script line number 3 raised an error (recorded in the `errors` attribute of the result table): '12:29:44.147 +8:03:25.05': No astronomical object found :\n",
      "  (error.line, error.msg))\n"
     ]
    },
    {
     "name": "stdout",
     "output_type": "stream",
     "text": [
      "<SkyCoord (ICRS): (ra, dec) in deg\n",
      "    ( 187.43394583,  8.05695833)>\n",
      "No catalog item found for this within 1 arcsecond, saving coordinates [u'12h29m44.147s'] [u'8d03m25.05s']\n"
     ]
    },
    {
     "name": "stderr",
     "output_type": "stream",
     "text": [
      "/home/kcdage/anaconda/lib/python2.7/site-packages/astroquery/simbad/core.py:136: UserWarning: Warning: The script line number 3 raised an error (recorded in the `errors` attribute of the result table): '12:29:55.693 +8:03:55.93': No astronomical object found :\n",
      "  (error.line, error.msg))\n"
     ]
    },
    {
     "name": "stdout",
     "output_type": "stream",
     "text": [
      "<SkyCoord (ICRS): (ra, dec) in deg\n",
      "    ( 187.48205417,  8.06553611)>\n",
      "No catalog item found for this within 1 arcsecond, saving coordinates [u'12h29m55.693s'] [u'8d03m55.93s']\n"
     ]
    },
    {
     "name": "stderr",
     "output_type": "stream",
     "text": [
      "/home/kcdage/anaconda/lib/python2.7/site-packages/astroquery/simbad/core.py:136: UserWarning: Warning: The script line number 3 raised an error (recorded in the `errors` attribute of the result table): '12:29:45.558 +8:04:22.26': No astronomical object found :\n",
      "  (error.line, error.msg))\n"
     ]
    },
    {
     "name": "stdout",
     "output_type": "stream",
     "text": [
      "<SkyCoord (ICRS): (ra, dec) in deg\n",
      "    ( 187.439825,  8.07285)>\n",
      "No catalog item found for this within 1 arcsecond, saving coordinates [u'12h29m45.558s'] [u'8d04m22.26s']\n"
     ]
    },
    {
     "name": "stderr",
     "output_type": "stream",
     "text": [
      "/home/kcdage/anaconda/lib/python2.7/site-packages/astroquery/simbad/core.py:136: UserWarning: Warning: The script line number 3 raised an error (recorded in the `errors` attribute of the result table): '12:29:58.631 +8:04:29.76': No astronomical object found :\n",
      "  (error.line, error.msg))\n"
     ]
    },
    {
     "name": "stdout",
     "output_type": "stream",
     "text": [
      "<SkyCoord (ICRS): (ra, dec) in deg\n",
      "    ( 187.49429583,  8.07493333)>\n",
      "No catalog item found for this within 1 arcsecond, saving coordinates [u'12h29m58.631s'] [u'8d04m29.76s']\n"
     ]
    },
    {
     "name": "stderr",
     "output_type": "stream",
     "text": [
      "/home/kcdage/anaconda/lib/python2.7/site-packages/astroquery/simbad/core.py:136: UserWarning: Warning: The script line number 3 raised an error (recorded in the `errors` attribute of the result table): '12:29:57.738 +8:04:32.41': No astronomical object found :\n",
      "  (error.line, error.msg))\n"
     ]
    },
    {
     "name": "stdout",
     "output_type": "stream",
     "text": [
      "<SkyCoord (ICRS): (ra, dec) in deg\n",
      "    ( 187.490575,  8.07566944)>\n",
      "No catalog item found for this within 1 arcsecond, saving coordinates [u'12h29m57.738s'] [u'8d04m32.41s']\n"
     ]
    },
    {
     "name": "stderr",
     "output_type": "stream",
     "text": [
      "WARNING: MergeConflictWarning: Cannot merge meta key u'description' types <type 'unicode'> and <type 'unicode'>, choosing description=u'Simbad script executed on 2017.10.05CEST21:25:12' [astropy.utils.metadata]\n",
      "/home/kcdage/anaconda/lib/python2.7/site-packages/astroquery/simbad/core.py:136: UserWarning: Warning: The script line number 3 raised an error (recorded in the `errors` attribute of the result table): '12:29:50.327 +8:05:16.99': No astronomical object found :\n",
      "  (error.line, error.msg))\n"
     ]
    },
    {
     "name": "stdout",
     "output_type": "stream",
     "text": [
      "<SkyCoord (ICRS): (ra, dec) in deg\n",
      "    ( 187.45969583,  8.08805278)>\n",
      "No catalog item found for this within 1 arcsecond, saving coordinates [u'12h29m50.327s'] [u'8d05m16.99s']\n"
     ]
    },
    {
     "name": "stderr",
     "output_type": "stream",
     "text": [
      "/home/kcdage/anaconda/lib/python2.7/site-packages/astroquery/simbad/core.py:136: UserWarning: Warning: The script line number 3 raised an error (recorded in the `errors` attribute of the result table): '12:29:49.66 +8:05:26.73': No astronomical object found :\n",
      "  (error.line, error.msg))\n"
     ]
    },
    {
     "name": "stdout",
     "output_type": "stream",
     "text": [
      "<SkyCoord (ICRS): (ra, dec) in deg\n",
      "    ( 187.45691667,  8.09075833)>\n",
      "No catalog item found for this within 1 arcsecond, saving coordinates [u'12h29m49.66s'] [u'8d05m26.73s']\n"
     ]
    },
    {
     "name": "stderr",
     "output_type": "stream",
     "text": [
      "/home/kcdage/anaconda/lib/python2.7/site-packages/astroquery/simbad/core.py:136: UserWarning: Warning: The script line number 3 raised an error (recorded in the `errors` attribute of the result table): '12:29:47.875 +8:05:35.2': No astronomical object found :\n",
      "  (error.line, error.msg))\n"
     ]
    },
    {
     "name": "stdout",
     "output_type": "stream",
     "text": [
      "<SkyCoord (ICRS): (ra, dec) in deg\n",
      "    ( 187.44947917,  8.09311111)>\n",
      "No catalog item found for this within 1 arcsecond, saving coordinates [u'12h29m47.875s'] [u'8d05m35.2s']\n"
     ]
    },
    {
     "name": "stderr",
     "output_type": "stream",
     "text": [
      "/home/kcdage/anaconda/lib/python2.7/site-packages/astroquery/simbad/core.py:136: UserWarning: Warning: The script line number 3 raised an error (recorded in the `errors` attribute of the result table): '12:29:48.368 +8:06:38.73': No astronomical object found :\n",
      "  (error.line, error.msg))\n"
     ]
    },
    {
     "name": "stdout",
     "output_type": "stream",
     "text": [
      "<SkyCoord (ICRS): (ra, dec) in deg\n",
      "    ( 187.45153333,  8.11075833)>\n",
      "No catalog item found for this within 1 arcsecond, saving coordinates [u'12h29m48.368s'] [u'8d06m38.73s']\n"
     ]
    },
    {
     "name": "stderr",
     "output_type": "stream",
     "text": [
      "/home/kcdage/anaconda/lib/python2.7/site-packages/astroquery/simbad/core.py:136: UserWarning: Warning: The script line number 3 raised an error (recorded in the `errors` attribute of the result table): '12:29:38.613 +8:06:38.51': No astronomical object found :\n",
      "  (error.line, error.msg))\n"
     ]
    },
    {
     "name": "stdout",
     "output_type": "stream",
     "text": [
      "<SkyCoord (ICRS): (ra, dec) in deg\n",
      "    ( 187.4108875,  8.11069722)>\n",
      "No catalog item found for this within 1 arcsecond, saving coordinates [u'12h29m38.613s'] [u'8d06m38.51s']\n"
     ]
    },
    {
     "name": "stderr",
     "output_type": "stream",
     "text": [
      "/home/kcdage/anaconda/lib/python2.7/site-packages/astroquery/simbad/core.py:136: UserWarning: Warning: The script line number 3 raised an error (recorded in the `errors` attribute of the result table): '12:29:43.663 +8:06:40.23': No astronomical object found :\n",
      "  (error.line, error.msg))\n"
     ]
    },
    {
     "name": "stdout",
     "output_type": "stream",
     "text": [
      "<SkyCoord (ICRS): (ra, dec) in deg\n",
      "    ( 187.43192917,  8.111175)>\n",
      "No catalog item found for this within 1 arcsecond, saving coordinates [u'12h29m43.663s'] [u'8d06m40.23s']\n"
     ]
    },
    {
     "name": "stderr",
     "output_type": "stream",
     "text": [
      "/home/kcdage/anaconda/lib/python2.7/site-packages/astroquery/simbad/core.py:136: UserWarning: Warning: The script line number 3 raised an error (recorded in the `errors` attribute of the result table): '12:30:02.351 +8:07:19.32': No astronomical object found :\n",
      "  (error.line, error.msg))\n"
     ]
    },
    {
     "name": "stdout",
     "output_type": "stream",
     "text": [
      "<SkyCoord (ICRS): (ra, dec) in deg\n",
      "    ( 187.50979583,  8.12203333)>\n",
      "No catalog item found for this within 1 arcsecond, saving coordinates [u'12h30m02.351s'] [u'8d07m19.32s']\n"
     ]
    },
    {
     "name": "stderr",
     "output_type": "stream",
     "text": [
      "/home/kcdage/anaconda/lib/python2.7/site-packages/astroquery/simbad/core.py:136: UserWarning: Warning: The script line number 3 raised an error (recorded in the `errors` attribute of the result table): '12:29:57.592 +8:08:01.44': No astronomical object found :\n",
      "  (error.line, error.msg))\n"
     ]
    },
    {
     "name": "stdout",
     "output_type": "stream",
     "text": [
      "<SkyCoord (ICRS): (ra, dec) in deg\n",
      "    ( 187.48996667,  8.13373333)>\n",
      "No catalog item found for this within 1 arcsecond, saving coordinates [u'12h29m57.592s'] [u'8d08m01.44s']\n"
     ]
    },
    {
     "name": "stderr",
     "output_type": "stream",
     "text": [
      "/home/kcdage/anaconda/lib/python2.7/site-packages/astroquery/simbad/core.py:136: UserWarning: Warning: The script line number 3 raised an error (recorded in the `errors` attribute of the result table): '12:29:54.578 +8:08:14.6': No astronomical object found :\n",
      "  (error.line, error.msg))\n"
     ]
    },
    {
     "name": "stdout",
     "output_type": "stream",
     "text": [
      "<SkyCoord (ICRS): (ra, dec) in deg\n",
      "    ( 187.47740833,  8.13738889)>\n",
      "No catalog item found for this within 1 arcsecond, saving coordinates [u'12h29m54.578s'] [u'8d08m14.6s']\n"
     ]
    },
    {
     "name": "stderr",
     "output_type": "stream",
     "text": [
      "/home/kcdage/anaconda/lib/python2.7/site-packages/astroquery/simbad/core.py:136: UserWarning: Warning: The script line number 3 raised an error (recorded in the `errors` attribute of the result table): '12:29:54.886 +8:08:18.04': No astronomical object found :\n",
      "  (error.line, error.msg))\n"
     ]
    },
    {
     "name": "stdout",
     "output_type": "stream",
     "text": [
      "<SkyCoord (ICRS): (ra, dec) in deg\n",
      "    ( 187.47869167,  8.13834444)>\n",
      "No catalog item found for this within 1 arcsecond, saving coordinates [u'12h29m54.886s'] [u'8d08m18.04s']\n"
     ]
    },
    {
     "name": "stderr",
     "output_type": "stream",
     "text": [
      "/home/kcdage/anaconda/lib/python2.7/site-packages/astroquery/simbad/core.py:136: UserWarning: Warning: The script line number 3 raised an error (recorded in the `errors` attribute of the result table): '12:29:51.046 +8:08:23.83': No astronomical object found :\n",
      "  (error.line, error.msg))\n"
     ]
    },
    {
     "name": "stdout",
     "output_type": "stream",
     "text": [
      "<SkyCoord (ICRS): (ra, dec) in deg\n",
      "    ( 187.46269167,  8.13995278)>\n",
      "No catalog item found for this within 1 arcsecond, saving coordinates [u'12h29m51.046s'] [u'8d08m23.83s']\n"
     ]
    },
    {
     "name": "stderr",
     "output_type": "stream",
     "text": [
      "/home/kcdage/anaconda/lib/python2.7/site-packages/astroquery/simbad/core.py:136: UserWarning: Warning: The script line number 3 raised an error (recorded in the `errors` attribute of the result table): '12:29:56.714 +8:09:09.91': No astronomical object found :\n",
      "  (error.line, error.msg))\n"
     ]
    },
    {
     "name": "stdout",
     "output_type": "stream",
     "text": [
      "<SkyCoord (ICRS): (ra, dec) in deg\n",
      "    ( 187.48630833,  8.15275278)>\n",
      "No catalog item found for this within 1 arcsecond, saving coordinates [u'12h29m56.714s'] [u'8d09m09.91s']\n"
     ]
    },
    {
     "name": "stderr",
     "output_type": "stream",
     "text": [
      "/home/kcdage/anaconda/lib/python2.7/site-packages/astroquery/simbad/core.py:136: UserWarning: Warning: The script line number 3 raised an error (recorded in the `errors` attribute of the result table): '12:29:56.987 +8:09:14.26': No astronomical object found :\n",
      "  (error.line, error.msg))\n"
     ]
    },
    {
     "name": "stdout",
     "output_type": "stream",
     "text": [
      "<SkyCoord (ICRS): (ra, dec) in deg\n",
      "    ( 187.48744583,  8.15396111)>\n",
      "No catalog item found for this within 1 arcsecond, saving coordinates [u'12h29m56.987s'] [u'8d09m14.26s']\n"
     ]
    },
    {
     "name": "stderr",
     "output_type": "stream",
     "text": [
      "/home/kcdage/anaconda/lib/python2.7/site-packages/astroquery/simbad/core.py:136: UserWarning: Warning: The script line number 3 raised an error (recorded in the `errors` attribute of the result table): '12:30:11.482 +8:19:13.46': No astronomical object found :\n",
      "  (error.line, error.msg))\n"
     ]
    },
    {
     "name": "stdout",
     "output_type": "stream",
     "text": [
      "<SkyCoord (ICRS): (ra, dec) in deg\n",
      "    ( 187.54784167,  8.32040556)>\n",
      "No catalog item found for this within 1 arcsecond, saving coordinates [u'12h30m11.482s'] [u'8d19m13.46s']\n"
     ]
    },
    {
     "name": "stderr",
     "output_type": "stream",
     "text": [
      "/home/kcdage/anaconda/lib/python2.7/site-packages/astroquery/simbad/core.py:136: UserWarning: Warning: The script line number 3 raised an error (recorded in the `errors` attribute of the result table): '12:29:51.456 +8:21:39.14': No astronomical object found :\n",
      "  (error.line, error.msg))\n"
     ]
    },
    {
     "name": "stdout",
     "output_type": "stream",
     "text": [
      "<SkyCoord (ICRS): (ra, dec) in deg\n",
      "    ( 187.4644,  8.36087222)>\n",
      "No catalog item found for this within 1 arcsecond, saving coordinates [u'12h29m51.456s'] [u'8d21m39.14s']\n"
     ]
    },
    {
     "name": "stderr",
     "output_type": "stream",
     "text": [
      "/home/kcdage/anaconda/lib/python2.7/site-packages/astroquery/simbad/core.py:136: UserWarning: Warning: The script line number 3 raised an error (recorded in the `errors` attribute of the result table): '12:29:29.967 +7:48:16.38': No astronomical object found :\n",
      "  (error.line, error.msg))\n"
     ]
    },
    {
     "name": "stdout",
     "output_type": "stream",
     "text": [
      "<SkyCoord (ICRS): (ra, dec) in deg\n",
      "    ( 187.3748625,  7.80455)>\n",
      "No catalog item found for this within 1 arcsecond, saving coordinates [u'12h29m29.967s'] [u'7d48m16.38s']\n"
     ]
    },
    {
     "name": "stderr",
     "output_type": "stream",
     "text": [
      "/home/kcdage/anaconda/lib/python2.7/site-packages/astroquery/simbad/core.py:136: UserWarning: Warning: The script line number 3 raised an error (recorded in the `errors` attribute of the result table): '12:30:14.579 +7:52:05.56': No astronomical object found :\n",
      "  (error.line, error.msg))\n"
     ]
    },
    {
     "name": "stdout",
     "output_type": "stream",
     "text": [
      "<SkyCoord (ICRS): (ra, dec) in deg\n",
      "    ( 187.56074583,  7.86821111)>\n",
      "No catalog item found for this within 1 arcsecond, saving coordinates [u'12h30m14.579s'] [u'7d52m05.56s']\n"
     ]
    },
    {
     "name": "stderr",
     "output_type": "stream",
     "text": [
      "/home/kcdage/anaconda/lib/python2.7/site-packages/astroquery/simbad/core.py:136: UserWarning: Warning: The script line number 3 raised an error (recorded in the `errors` attribute of the result table): '12:29:42.718 +7:52:08.94': No astronomical object found :\n",
      "  (error.line, error.msg))\n"
     ]
    },
    {
     "name": "stdout",
     "output_type": "stream",
     "text": [
      "<SkyCoord (ICRS): (ra, dec) in deg\n",
      "    ( 187.42799167,  7.86915)>\n",
      "No catalog item found for this within 1 arcsecond, saving coordinates [u'12h29m42.718s'] [u'7d52m08.94s']\n"
     ]
    },
    {
     "name": "stderr",
     "output_type": "stream",
     "text": [
      "/home/kcdage/anaconda/lib/python2.7/site-packages/astroquery/simbad/core.py:136: UserWarning: Warning: The script line number 3 raised an error (recorded in the `errors` attribute of the result table): '12:29:32.444 +7:53:15.39': No astronomical object found :\n",
      "  (error.line, error.msg))\n"
     ]
    },
    {
     "name": "stdout",
     "output_type": "stream",
     "text": [
      "<SkyCoord (ICRS): (ra, dec) in deg\n",
      "    ( 187.38518333,  7.88760833)>\n",
      "No catalog item found for this within 1 arcsecond, saving coordinates [u'12h29m32.444s'] [u'7d53m15.39s']\n"
     ]
    },
    {
     "name": "stderr",
     "output_type": "stream",
     "text": [
      "/home/kcdage/anaconda/lib/python2.7/site-packages/astroquery/simbad/core.py:136: UserWarning: Warning: The script line number 3 raised an error (recorded in the `errors` attribute of the result table): '12:29:43.78 +7:53:18.55': No astronomical object found :\n",
      "  (error.line, error.msg))\n"
     ]
    },
    {
     "name": "stdout",
     "output_type": "stream",
     "text": [
      "<SkyCoord (ICRS): (ra, dec) in deg\n",
      "    ( 187.43241667,  7.88848611)>\n",
      "No catalog item found for this within 1 arcsecond, saving coordinates [u'12h29m43.78s'] [u'7d53m18.55s']\n"
     ]
    },
    {
     "name": "stderr",
     "output_type": "stream",
     "text": [
      "/home/kcdage/anaconda/lib/python2.7/site-packages/astroquery/simbad/core.py:136: UserWarning: Warning: The script line number 3 raised an error (recorded in the `errors` attribute of the result table): '12:29:56.654 +7:54:07.93': No astronomical object found :\n",
      "  (error.line, error.msg))\n"
     ]
    },
    {
     "name": "stdout",
     "output_type": "stream",
     "text": [
      "<SkyCoord (ICRS): (ra, dec) in deg\n",
      "    ( 187.48605833,  7.90220278)>\n",
      "No catalog item found for this within 1 arcsecond, saving coordinates [u'12h29m56.654s'] [u'7d54m07.93s']\n"
     ]
    },
    {
     "name": "stderr",
     "output_type": "stream",
     "text": [
      "WARNING: MergeConflictWarning: Cannot merge meta key u'description' types <type 'unicode'> and <type 'unicode'>, choosing description=u'Simbad script executed on 2017.10.05CEST21:25:20' [astropy.utils.metadata]\n",
      "/home/kcdage/anaconda/lib/python2.7/site-packages/astroquery/simbad/core.py:136: UserWarning: Warning: The script line number 3 raised an error (recorded in the `errors` attribute of the result table): '12:29:36.246 +7:54:23.06': No astronomical object found :\n",
      "  (error.line, error.msg))\n"
     ]
    },
    {
     "name": "stdout",
     "output_type": "stream",
     "text": [
      "<SkyCoord (ICRS): (ra, dec) in deg\n",
      "    ( 187.401025,  7.90640556)>\n",
      "No catalog item found for this within 1 arcsecond, saving coordinates [u'12h29m36.246s'] [u'7d54m23.06s']\n"
     ]
    },
    {
     "name": "stderr",
     "output_type": "stream",
     "text": [
      "/home/kcdage/anaconda/lib/python2.7/site-packages/astroquery/simbad/core.py:136: UserWarning: Warning: The script line number 3 raised an error (recorded in the `errors` attribute of the result table): '12:29:30.238 +7:56:23.77': No astronomical object found :\n",
      "  (error.line, error.msg))\n"
     ]
    },
    {
     "name": "stdout",
     "output_type": "stream",
     "text": [
      "<SkyCoord (ICRS): (ra, dec) in deg\n",
      "    ( 187.37599167,  7.93993611)>\n",
      "No catalog item found for this within 1 arcsecond, saving coordinates [u'12h29m30.238s'] [u'7d56m23.77s']\n"
     ]
    },
    {
     "name": "stderr",
     "output_type": "stream",
     "text": [
      "/home/kcdage/anaconda/lib/python2.7/site-packages/astroquery/simbad/core.py:136: UserWarning: Warning: The script line number 3 raised an error (recorded in the `errors` attribute of the result table): '12:29:36.379 +8:04:47.59': No astronomical object found :\n",
      "  (error.line, error.msg))\n"
     ]
    },
    {
     "name": "stdout",
     "output_type": "stream",
     "text": [
      "<SkyCoord (ICRS): (ra, dec) in deg\n",
      "    ( 187.40157917,  8.07988611)>\n",
      "No catalog item found for this within 1 arcsecond, saving coordinates [u'12h29m36.379s'] [u'8d04m47.59s']\n"
     ]
    },
    {
     "name": "stderr",
     "output_type": "stream",
     "text": [
      "/home/kcdage/anaconda/lib/python2.7/site-packages/astroquery/simbad/core.py:136: UserWarning: Warning: The script line number 3 raised an error (recorded in the `errors` attribute of the result table): '12:30:02.767 +8:05:03.16': No astronomical object found :\n",
      "  (error.line, error.msg))\n"
     ]
    },
    {
     "name": "stdout",
     "output_type": "stream",
     "text": [
      "<SkyCoord (ICRS): (ra, dec) in deg\n",
      "    ( 187.51152917,  8.08421111)>\n",
      "No catalog item found for this within 1 arcsecond, saving coordinates [u'12h30m02.767s'] [u'8d05m03.16s']\n"
     ]
    },
    {
     "name": "stderr",
     "output_type": "stream",
     "text": [
      "/home/kcdage/anaconda/lib/python2.7/site-packages/astroquery/simbad/core.py:136: UserWarning: Warning: The script line number 3 raised an error (recorded in the `errors` attribute of the result table): '12:29:54.144 +8:06:41.74': No astronomical object found :\n",
      "  (error.line, error.msg))\n"
     ]
    },
    {
     "name": "stdout",
     "output_type": "stream",
     "text": [
      "<SkyCoord (ICRS): (ra, dec) in deg\n",
      "    ( 187.4756,  8.11159444)>\n",
      "No catalog item found for this within 1 arcsecond, saving coordinates [u'12h29m54.144s'] [u'8d06m41.74s']\n"
     ]
    },
    {
     "name": "stderr",
     "output_type": "stream",
     "text": [
      "/home/kcdage/anaconda/lib/python2.7/site-packages/astroquery/simbad/core.py:136: UserWarning: Warning: The script line number 3 raised an error (recorded in the `errors` attribute of the result table): '12:29:52.116 +8:07:16.84': No astronomical object found :\n",
      "  (error.line, error.msg))\n"
     ]
    },
    {
     "name": "stdout",
     "output_type": "stream",
     "text": [
      "<SkyCoord (ICRS): (ra, dec) in deg\n",
      "    ( 187.46715,  8.12134444)>\n",
      "No catalog item found for this within 1 arcsecond, saving coordinates [u'12h29m52.116s'] [u'8d07m16.84s']\n"
     ]
    },
    {
     "name": "stderr",
     "output_type": "stream",
     "text": [
      "/home/kcdage/anaconda/lib/python2.7/site-packages/astroquery/simbad/core.py:136: UserWarning: Warning: The script line number 3 raised an error (recorded in the `errors` attribute of the result table): '12:30:06.867 +8:07:38.89': No astronomical object found :\n",
      "  (error.line, error.msg))\n"
     ]
    },
    {
     "name": "stdout",
     "output_type": "stream",
     "text": [
      "<SkyCoord (ICRS): (ra, dec) in deg\n",
      "    ( 187.5286125,  8.12746944)>\n",
      "No catalog item found for this within 1 arcsecond, saving coordinates [u'12h30m06.867s'] [u'8d07m38.89s']\n"
     ]
    },
    {
     "name": "stderr",
     "output_type": "stream",
     "text": [
      "/home/kcdage/anaconda/lib/python2.7/site-packages/astroquery/simbad/core.py:136: UserWarning: Warning: The script line number 3 raised an error (recorded in the `errors` attribute of the result table): '12:29:52.442 +8:08:21.13': No astronomical object found :\n",
      "  (error.line, error.msg))\n"
     ]
    },
    {
     "name": "stdout",
     "output_type": "stream",
     "text": [
      "<SkyCoord (ICRS): (ra, dec) in deg\n",
      "    ( 187.46850833,  8.13920278)>\n",
      "No catalog item found for this within 1 arcsecond, saving coordinates [u'12h29m52.442s'] [u'8d08m21.13s']\n"
     ]
    },
    {
     "name": "stderr",
     "output_type": "stream",
     "text": [
      "WARNING: MergeConflictWarning: Cannot merge meta key u'description' types <type 'unicode'> and <type 'unicode'>, choosing description=u'Simbad script executed on 2017.10.05CEST21:25:23' [astropy.utils.metadata]\n",
      "/home/kcdage/anaconda/lib/python2.7/site-packages/astroquery/simbad/core.py:136: UserWarning: Warning: The script line number 3 raised an error (recorded in the `errors` attribute of the result table): '12:29:53.845 +7:48:57.06': No astronomical object found :\n",
      "  (error.line, error.msg))\n"
     ]
    },
    {
     "name": "stdout",
     "output_type": "stream",
     "text": [
      "<SkyCoord (ICRS): (ra, dec) in deg\n",
      "    ( 187.47435417,  7.81585)>\n",
      "No catalog item found for this within 1 arcsecond, saving coordinates [u'12h29m53.845s'] [u'7d48m57.06s']\n"
     ]
    },
    {
     "name": "stderr",
     "output_type": "stream",
     "text": [
      "/home/kcdage/anaconda/lib/python2.7/site-packages/astroquery/simbad/core.py:136: UserWarning: Warning: The script line number 3 raised an error (recorded in the `errors` attribute of the result table): '12:30:34.549 +7:53:51.85': No astronomical object found :\n",
      "  (error.line, error.msg))\n"
     ]
    },
    {
     "name": "stdout",
     "output_type": "stream",
     "text": [
      "<SkyCoord (ICRS): (ra, dec) in deg\n",
      "    ( 187.64395417,  7.89773611)>\n",
      "No catalog item found for this within 1 arcsecond, saving coordinates [u'12h30m34.549s'] [u'7d53m51.85s']\n"
     ]
    },
    {
     "name": "stderr",
     "output_type": "stream",
     "text": [
      "/home/kcdage/anaconda/lib/python2.7/site-packages/astroquery/simbad/core.py:136: UserWarning: Warning: The script line number 3 raised an error (recorded in the `errors` attribute of the result table): '12:30:19.899 +7:55:42.88': No astronomical object found :\n",
      "  (error.line, error.msg))\n"
     ]
    },
    {
     "name": "stdout",
     "output_type": "stream",
     "text": [
      "<SkyCoord (ICRS): (ra, dec) in deg\n",
      "    ( 187.5829125,  7.92857778)>\n",
      "No catalog item found for this within 1 arcsecond, saving coordinates [u'12h30m19.899s'] [u'7d55m42.88s']\n"
     ]
    },
    {
     "name": "stderr",
     "output_type": "stream",
     "text": [
      "/home/kcdage/anaconda/lib/python2.7/site-packages/astroquery/simbad/core.py:136: UserWarning: Warning: The script line number 3 raised an error (recorded in the `errors` attribute of the result table): '12:30:39.918 +7:56:02.43': No astronomical object found :\n",
      "  (error.line, error.msg))\n"
     ]
    },
    {
     "name": "stdout",
     "output_type": "stream",
     "text": [
      "<SkyCoord (ICRS): (ra, dec) in deg\n",
      "    ( 187.666325,  7.93400833)>\n",
      "No catalog item found for this within 1 arcsecond, saving coordinates [u'12h30m39.918s'] [u'7d56m02.43s']\n"
     ]
    },
    {
     "name": "stderr",
     "output_type": "stream",
     "text": [
      "/home/kcdage/anaconda/lib/python2.7/site-packages/astroquery/simbad/core.py:136: UserWarning: Warning: The script line number 3 raised an error (recorded in the `errors` attribute of the result table): '12:30:20.975 +7:56:09.69': No astronomical object found :\n",
      "  (error.line, error.msg))\n"
     ]
    },
    {
     "name": "stdout",
     "output_type": "stream",
     "text": [
      "<SkyCoord (ICRS): (ra, dec) in deg\n",
      "    ( 187.58739583,  7.936025)>\n",
      "No catalog item found for this within 1 arcsecond, saving coordinates [u'12h30m20.975s'] [u'7d56m09.69s']\n"
     ]
    },
    {
     "name": "stderr",
     "output_type": "stream",
     "text": [
      "/home/kcdage/anaconda/lib/python2.7/site-packages/astroquery/simbad/core.py:136: UserWarning: Warning: The script line number 3 raised an error (recorded in the `errors` attribute of the result table): '12:29:52.303 +8:00:46.1': No astronomical object found :\n",
      "  (error.line, error.msg))\n"
     ]
    },
    {
     "name": "stdout",
     "output_type": "stream",
     "text": [
      "<SkyCoord (ICRS): (ra, dec) in deg\n",
      "    ( 187.46792917,  8.01280556)>\n",
      "No catalog item found for this within 1 arcsecond, saving coordinates [u'12h29m52.303s'] [u'8d00m46.1s']\n"
     ]
    },
    {
     "name": "stderr",
     "output_type": "stream",
     "text": [
      "/home/kcdage/anaconda/lib/python2.7/site-packages/astroquery/simbad/core.py:136: UserWarning: Warning: The script line number 3 raised an error (recorded in the `errors` attribute of the result table): '12:29:36.079 +8:08:48.18': No astronomical object found :\n",
      "  (error.line, error.msg))\n"
     ]
    },
    {
     "name": "stdout",
     "output_type": "stream",
     "text": [
      "<SkyCoord (ICRS): (ra, dec) in deg\n",
      "    ( 187.40032917,  8.14671667)>\n",
      "No catalog item found for this within 1 arcsecond, saving coordinates [u'12h29m36.079s'] [u'8d08m48.18s']\n"
     ]
    },
    {
     "name": "stderr",
     "output_type": "stream",
     "text": [
      "/home/kcdage/anaconda/lib/python2.7/site-packages/astroquery/simbad/core.py:136: UserWarning: Warning: The script line number 3 raised an error (recorded in the `errors` attribute of the result table): '12:29:35.135 +8:09:33.93': No astronomical object found :\n",
      "  (error.line, error.msg))\n"
     ]
    },
    {
     "name": "stdout",
     "output_type": "stream",
     "text": [
      "<SkyCoord (ICRS): (ra, dec) in deg\n",
      "    ( 187.39639583,  8.159425)>\n",
      "No catalog item found for this within 1 arcsecond, saving coordinates [u'12h29m35.135s'] [u'8d09m33.93s']\n"
     ]
    },
    {
     "name": "stderr",
     "output_type": "stream",
     "text": [
      "/home/kcdage/anaconda/lib/python2.7/site-packages/astroquery/simbad/core.py:136: UserWarning: Warning: The script line number 3 raised an error (recorded in the `errors` attribute of the result table): '12:30:05.967 +8:09:43.26': No astronomical object found :\n",
      "  (error.line, error.msg))\n"
     ]
    },
    {
     "name": "stdout",
     "output_type": "stream",
     "text": [
      "<SkyCoord (ICRS): (ra, dec) in deg\n",
      "    ( 187.5248625,  8.16201667)>\n",
      "No catalog item found for this within 1 arcsecond, saving coordinates [u'12h30m05.967s'] [u'8d09m43.26s']\n",
      "<SkyCoord (ICRS): (ra, dec) in deg\n",
      "    ( 187.44381667,  8.26790556)>\n",
      "No catalog item found for this within 1 arcsecond, saving coordinates [u'12h29m46.516s'] [u'8d16m04.46s']\n"
     ]
    },
    {
     "name": "stderr",
     "output_type": "stream",
     "text": [
      "/home/kcdage/anaconda/lib/python2.7/site-packages/astroquery/simbad/core.py:136: UserWarning: Warning: The script line number 3 raised an error (recorded in the `errors` attribute of the result table): '12:29:46.516 +8:16:04.46': No astronomical object found :\n",
      "  (error.line, error.msg))\n"
     ]
    }
   ],
   "source": [
    "null_ra_12888=[]\n",
    "null_dec_12888=[]\n",
    "stacked_table_12888=[]\n",
    "for i in range(len(xcor12888)):\n",
    "        item12888=customSimbad.query_region(SkyCoord(xcor12888[i],ycor12888[i], unit=(u.deg, u.deg), frame='fk5'), radius=dist)\n",
    "        if item12888 is None:\n",
    "            co12888 = SkyCoord(xcor12888[i],ycor12888[i], unit=(u.deg, u.deg))\n",
    "            print co12888\n",
    "            ra_not_found12888, dec_not_found12888 = co12888.ra.to_string(u.hour), co12888.dec.to_string(u.deg)\n",
    "            print \"No catalog item found for this within 1 arcsecond, saving coordinates\", ra_not_found12888, dec_not_found12888\n",
    "\n",
    "            if np.size(null_ra_12888)<1:\n",
    "                null_ra_12888=ra_not_found12888\n",
    "                null_dec_12888=dec_not_found12888\n",
    "            else:\n",
    "                null_ra_12888=np.vstack((null_ra_12888, ra_not_found12888))\n",
    "                null_dec_12888=np.vstack((null_dec_12888, dec_not_found12888))\n",
    "        else:\n",
    "            if len(stacked_table_12888)<1:\n",
    "                stacked_table_12888=item12888\n",
    "            else:\n",
    "                stacked_table_12888=Table.vstack([stacked_table_12888, item12888], join_type ='exact') \n",
    "                \n",
    "        \n"
   ]
  },
  {
   "cell_type": "code",
   "execution_count": 107,
   "metadata": {
    "collapsed": true
   },
   "outputs": [],
   "source": [
    "\n",
    "\n",
    "stacked_table_12888.remove_column('DEC_PREC')\n",
    "stacked_table_12888.remove_column('RA_PREC')\n",
    "stacked_table_12888.remove_column('COO_ERR_MAJA')\n",
    "stacked_table_12888.remove_column('COO_ERR_MINA')\n",
    "stacked_table_12888.remove_column('COO_ERR_ANGLE')\n",
    "stacked_table_12888.remove_column('COO_QUAL')\n",
    "\n",
    "null_coords12888= np.asarray(np.hstack((null_ra_12888, null_dec_12888)))\n",
    "\n",
    "ascii.write(null_coords12888, \"12888_no_cat_val.dat\")\n",
    "ascii.write(stacked_table_12888, 'out_12888.txt', format='csv')"
   ]
  },
  {
   "cell_type": "code",
   "execution_count": 108,
   "metadata": {
    "collapsed": false
   },
   "outputs": [
    {
     "name": "stderr",
     "output_type": "stream",
     "text": [
      "/home/kcdage/anaconda/lib/python2.7/site-packages/astroquery/simbad/core.py:136: UserWarning: Warning: The script line number 3 raised an error (recorded in the `errors` attribute of the result table): '12:29:28.444 +7:43:22.37': No astronomical object found :\n",
      "  (error.line, error.msg))\n"
     ]
    },
    {
     "name": "stdout",
     "output_type": "stream",
     "text": [
      "<SkyCoord (ICRS): (ra, dec) in deg\n",
      "    ( 187.36851667,  7.72288056)>\n",
      "No catalog item found for this within 1 arcsecond, saving coordinates [u'12h29m28.444s'] [u'7d43m22.37s']\n"
     ]
    },
    {
     "name": "stderr",
     "output_type": "stream",
     "text": [
      "/home/kcdage/anaconda/lib/python2.7/site-packages/astroquery/simbad/core.py:136: UserWarning: Warning: The script line number 3 raised an error (recorded in the `errors` attribute of the result table): '12:29:29.984 +7:47:12.62': No astronomical object found :\n",
      "  (error.line, error.msg))\n"
     ]
    },
    {
     "name": "stdout",
     "output_type": "stream",
     "text": [
      "<SkyCoord (ICRS): (ra, dec) in deg\n",
      "    ( 187.37493333,  7.78683889)>\n",
      "No catalog item found for this within 1 arcsecond, saving coordinates [u'12h29m29.984s'] [u'7d47m12.62s']\n"
     ]
    },
    {
     "name": "stderr",
     "output_type": "stream",
     "text": [
      "/home/kcdage/anaconda/lib/python2.7/site-packages/astroquery/simbad/core.py:136: UserWarning: Warning: The script line number 3 raised an error (recorded in the `errors` attribute of the result table): '12:29:52.803 +7:58:18.95': No astronomical object found :\n",
      "  (error.line, error.msg))\n"
     ]
    },
    {
     "name": "stdout",
     "output_type": "stream",
     "text": [
      "<SkyCoord (ICRS): (ra, dec) in deg\n",
      "    ( 187.4700125,  7.97193056)>\n",
      "No catalog item found for this within 1 arcsecond, saving coordinates [u'12h29m52.803s'] [u'7d58m18.95s']\n"
     ]
    },
    {
     "name": "stderr",
     "output_type": "stream",
     "text": [
      "/home/kcdage/anaconda/lib/python2.7/site-packages/astroquery/simbad/core.py:136: UserWarning: Warning: The script line number 3 raised an error (recorded in the `errors` attribute of the result table): '12:29:51.666 +7:58:23.97': No astronomical object found :\n",
      "  (error.line, error.msg))\n"
     ]
    },
    {
     "name": "stdout",
     "output_type": "stream",
     "text": [
      "<SkyCoord (ICRS): (ra, dec) in deg\n",
      "    ( 187.465275,  7.973325)>\n",
      "No catalog item found for this within 1 arcsecond, saving coordinates [u'12h29m51.666s'] [u'7d58m23.97s']\n"
     ]
    },
    {
     "name": "stderr",
     "output_type": "stream",
     "text": [
      "WARNING: MergeConflictWarning: Cannot merge meta key u'description' types <type 'unicode'> and <type 'unicode'>, choosing description=u'Simbad script executed on 2017.10.05CEST21:25:29' [astropy.utils.metadata]\n",
      "WARNING: MergeConflictWarning: Cannot merge meta key u'description' types <type 'unicode'> and <type 'unicode'>, choosing description=u'Simbad script executed on 2017.10.05CEST21:25:30' [astropy.utils.metadata]\n",
      "WARNING: MergeConflictWarning: Cannot merge meta key u'description' types <type 'unicode'> and <type 'unicode'>, choosing description=u'Simbad script executed on 2017.10.05CEST21:25:31' [astropy.utils.metadata]\n",
      "WARNING: MergeConflictWarning: Cannot merge meta key u'description' types <type 'unicode'> and <type 'unicode'>, choosing description=u'Simbad script executed on 2017.10.05CEST21:25:32' [astropy.utils.metadata]\n",
      "WARNING: MergeConflictWarning: Cannot merge meta key u'description' types <type 'unicode'> and <type 'unicode'>, choosing description=u'Simbad script executed on 2017.10.05CEST21:25:33' [astropy.utils.metadata]\n",
      "WARNING: MergeConflictWarning: Cannot merge meta key u'description' types <type 'unicode'> and <type 'unicode'>, choosing description=u'Simbad script executed on 2017.10.05CEST21:25:34' [astropy.utils.metadata]\n",
      "WARNING: MergeConflictWarning: Cannot merge meta key u'description' types <type 'unicode'> and <type 'unicode'>, choosing description=u'Simbad script executed on 2017.10.05CEST21:25:35' [astropy.utils.metadata]\n",
      "/home/kcdage/anaconda/lib/python2.7/site-packages/astroquery/simbad/core.py:136: UserWarning: Warning: The script line number 3 raised an error (recorded in the `errors` attribute of the result table): '12:29:50.57 +7:59:19.49': No astronomical object found :\n",
      "  (error.line, error.msg))\n"
     ]
    },
    {
     "name": "stdout",
     "output_type": "stream",
     "text": [
      "<SkyCoord (ICRS): (ra, dec) in deg\n",
      "    ( 187.46070833,  7.98874722)>\n",
      "No catalog item found for this within 1 arcsecond, saving coordinates [u'12h29m50.57s'] [u'7d59m19.49s']\n"
     ]
    },
    {
     "name": "stderr",
     "output_type": "stream",
     "text": [
      "WARNING: MergeConflictWarning: Cannot merge meta key u'description' types <type 'unicode'> and <type 'unicode'>, choosing description=u'Simbad script executed on 2017.10.05CEST21:25:36' [astropy.utils.metadata]\n",
      "WARNING: MergeConflictWarning: Cannot merge meta key u'description' types <type 'unicode'> and <type 'unicode'>, choosing description=u'Simbad script executed on 2017.10.05CEST21:25:37' [astropy.utils.metadata]\n",
      "/home/kcdage/anaconda/lib/python2.7/site-packages/astroquery/simbad/core.py:136: UserWarning: Warning: The script line number 3 raised an error (recorded in the `errors` attribute of the result table): '12:29:45.438 +7:59:30.2': No astronomical object found :\n",
      "  (error.line, error.msg))\n"
     ]
    },
    {
     "name": "stdout",
     "output_type": "stream",
     "text": [
      "<SkyCoord (ICRS): (ra, dec) in deg\n",
      "    ( 187.439325,  7.99172222)>\n",
      "No catalog item found for this within 1 arcsecond, saving coordinates [u'12h29m45.438s'] [u'7d59m30.2s']\n"
     ]
    },
    {
     "name": "stderr",
     "output_type": "stream",
     "text": [
      "WARNING: MergeConflictWarning: Cannot merge meta key u'description' types <type 'unicode'> and <type 'unicode'>, choosing description=u'Simbad script executed on 2017.10.05CEST21:25:38' [astropy.utils.metadata]\n",
      "/home/kcdage/anaconda/lib/python2.7/site-packages/astroquery/simbad/core.py:136: UserWarning: Warning: The script line number 3 raised an error (recorded in the `errors` attribute of the result table): '12:29:48.305 +7:59:32.2': No astronomical object found :\n",
      "  (error.line, error.msg))\n"
     ]
    },
    {
     "name": "stdout",
     "output_type": "stream",
     "text": [
      "<SkyCoord (ICRS): (ra, dec) in deg\n",
      "    ( 187.45127083,  7.99227778)>\n",
      "No catalog item found for this within 1 arcsecond, saving coordinates [u'12h29m48.305s'] [u'7d59m32.2s']\n"
     ]
    },
    {
     "name": "stderr",
     "output_type": "stream",
     "text": [
      "WARNING: MergeConflictWarning: Cannot merge meta key u'description' types <type 'unicode'> and <type 'unicode'>, choosing description=u'Simbad script executed on 2017.10.05CEST21:25:39' [astropy.utils.metadata]\n",
      "WARNING: MergeConflictWarning: Cannot merge meta key u'description' types <type 'unicode'> and <type 'unicode'>, choosing description=u'Simbad script executed on 2017.10.05CEST21:25:40' [astropy.utils.metadata]\n",
      "/home/kcdage/anaconda/lib/python2.7/site-packages/astroquery/simbad/core.py:136: UserWarning: Warning: The script line number 3 raised an error (recorded in the `errors` attribute of the result table): '12:29:48.613 +7:59:43.15': No astronomical object found :\n",
      "  (error.line, error.msg))\n"
     ]
    },
    {
     "name": "stdout",
     "output_type": "stream",
     "text": [
      "<SkyCoord (ICRS): (ra, dec) in deg\n",
      "    ( 187.45255417,  7.99531944)>\n",
      "No catalog item found for this within 1 arcsecond, saving coordinates [u'12h29m48.613s'] [u'7d59m43.15s']\n"
     ]
    },
    {
     "name": "stderr",
     "output_type": "stream",
     "text": [
      "WARNING: MergeConflictWarning: Cannot merge meta key u'description' types <type 'unicode'> and <type 'unicode'>, choosing description=u'Simbad script executed on 2017.10.05CEST21:25:41' [astropy.utils.metadata]\n",
      "WARNING: MergeConflictWarning: Cannot merge meta key u'description' types <type 'unicode'> and <type 'unicode'>, choosing description=u'Simbad script executed on 2017.10.05CEST21:25:42' [astropy.utils.metadata]\n",
      "WARNING: MergeConflictWarning: Cannot merge meta key u'description' types <type 'unicode'> and <type 'unicode'>, choosing description=u'Simbad script executed on 2017.10.05CEST21:25:43' [astropy.utils.metadata]\n",
      "/home/kcdage/anaconda/lib/python2.7/site-packages/astroquery/simbad/core.py:136: UserWarning: Warning: The script line number 3 raised an error (recorded in the `errors` attribute of the result table): '12:29:46.238 +7:59:52.71': No astronomical object found :\n",
      "  (error.line, error.msg))\n"
     ]
    },
    {
     "name": "stdout",
     "output_type": "stream",
     "text": [
      "<SkyCoord (ICRS): (ra, dec) in deg\n",
      "    ( 187.44265833,  7.997975)>\n",
      "No catalog item found for this within 1 arcsecond, saving coordinates [u'12h29m46.238s'] [u'7d59m52.71s']\n"
     ]
    },
    {
     "name": "stderr",
     "output_type": "stream",
     "text": [
      "WARNING: MergeConflictWarning: Cannot merge meta key u'description' types <type 'unicode'> and <type 'unicode'>, choosing description=u'Simbad script executed on 2017.10.05CEST21:25:44' [astropy.utils.metadata]\n",
      "WARNING: MergeConflictWarning: Cannot merge meta key u'description' types <type 'unicode'> and <type 'unicode'>, choosing description=u'Simbad script executed on 2017.10.05CEST21:25:45' [astropy.utils.metadata]\n",
      "/home/kcdage/anaconda/lib/python2.7/site-packages/astroquery/simbad/core.py:136: UserWarning: Warning: The script line number 3 raised an error (recorded in the `errors` attribute of the result table): '12:29:49.897 +7:59:58.77': No astronomical object found :\n",
      "  (error.line, error.msg))\n"
     ]
    },
    {
     "name": "stdout",
     "output_type": "stream",
     "text": [
      "<SkyCoord (ICRS): (ra, dec) in deg\n",
      "    ( 187.45790417,  7.99965833)>\n",
      "No catalog item found for this within 1 arcsecond, saving coordinates [u'12h29m49.897s'] [u'7d59m58.77s']\n"
     ]
    },
    {
     "name": "stderr",
     "output_type": "stream",
     "text": [
      "WARNING: MergeConflictWarning: Cannot merge meta key u'description' types <type 'unicode'> and <type 'unicode'>, choosing description=u'Simbad script executed on 2017.10.05CEST21:25:46' [astropy.utils.metadata]\n",
      "WARNING: MergeConflictWarning: Cannot merge meta key u'description' types <type 'unicode'> and <type 'unicode'>, choosing description=u'Simbad script executed on 2017.10.05CEST21:25:47' [astropy.utils.metadata]\n",
      "/home/kcdage/anaconda/lib/python2.7/site-packages/astroquery/simbad/core.py:136: UserWarning: Warning: The script line number 3 raised an error (recorded in the `errors` attribute of the result table): '12:29:44.844 +8:00:04.56': No astronomical object found :\n",
      "  (error.line, error.msg))\n"
     ]
    },
    {
     "name": "stdout",
     "output_type": "stream",
     "text": [
      "<SkyCoord (ICRS): (ra, dec) in deg\n",
      "    ( 187.43685,  8.00126667)>\n",
      "No catalog item found for this within 1 arcsecond, saving coordinates [u'12h29m44.844s'] [u'8d00m04.56s']\n"
     ]
    },
    {
     "name": "stderr",
     "output_type": "stream",
     "text": [
      "WARNING: MergeConflictWarning: Cannot merge meta key u'description' types <type 'unicode'> and <type 'unicode'>, choosing description=u'Simbad script executed on 2017.10.05CEST21:25:48' [astropy.utils.metadata]\n",
      "/home/kcdage/anaconda/lib/python2.7/site-packages/astroquery/simbad/core.py:136: UserWarning: Warning: The script line number 3 raised an error (recorded in the `errors` attribute of the result table): '12:29:46.764 +8:00:08.4': No astronomical object found :\n",
      "  (error.line, error.msg))\n"
     ]
    },
    {
     "name": "stdout",
     "output_type": "stream",
     "text": [
      "<SkyCoord (ICRS): (ra, dec) in deg\n",
      "    ( 187.44485,  8.00233333)>\n",
      "No catalog item found for this within 1 arcsecond, saving coordinates [u'12h29m46.764s'] [u'8d00m08.4s']\n"
     ]
    },
    {
     "name": "stderr",
     "output_type": "stream",
     "text": [
      "WARNING: MergeConflictWarning: Cannot merge meta key u'description' types <type 'unicode'> and <type 'unicode'>, choosing description=u'Simbad script executed on 2017.10.05CEST21:25:49' [astropy.utils.metadata]\n",
      "/home/kcdage/anaconda/lib/python2.7/site-packages/astroquery/simbad/core.py:136: UserWarning: Warning: The script line number 3 raised an error (recorded in the `errors` attribute of the result table): '12:29:49.318 +8:00:12.81': No astronomical object found :\n",
      "  (error.line, error.msg))\n"
     ]
    },
    {
     "name": "stdout",
     "output_type": "stream",
     "text": [
      "<SkyCoord (ICRS): (ra, dec) in deg\n",
      "    ( 187.45549167,  8.00355833)>\n",
      "No catalog item found for this within 1 arcsecond, saving coordinates [u'12h29m49.318s'] [u'8d00m12.81s']\n"
     ]
    },
    {
     "name": "stderr",
     "output_type": "stream",
     "text": [
      "WARNING: MergeConflictWarning: Cannot merge meta key u'description' types <type 'unicode'> and <type 'unicode'>, choosing description=u'Simbad script executed on 2017.10.05CEST21:25:50' [astropy.utils.metadata]\n",
      "WARNING: MergeConflictWarning: Cannot merge meta key u'description' types <type 'unicode'> and <type 'unicode'>, choosing description=u'Simbad script executed on 2017.10.05CEST21:25:51' [astropy.utils.metadata]\n",
      "/home/kcdage/anaconda/lib/python2.7/site-packages/astroquery/simbad/core.py:136: UserWarning: Warning: The script line number 3 raised an error (recorded in the `errors` attribute of the result table): '12:29:48.378 +8:00:19.79': No astronomical object found :\n",
      "  (error.line, error.msg))\n"
     ]
    },
    {
     "name": "stdout",
     "output_type": "stream",
     "text": [
      "<SkyCoord (ICRS): (ra, dec) in deg\n",
      "    ( 187.451575,  8.00549722)>\n",
      "No catalog item found for this within 1 arcsecond, saving coordinates [u'12h29m48.378s'] [u'8d00m19.79s']\n"
     ]
    },
    {
     "name": "stderr",
     "output_type": "stream",
     "text": [
      "/home/kcdage/anaconda/lib/python2.7/site-packages/astroquery/simbad/core.py:136: UserWarning: Warning: The script line number 3 raised an error (recorded in the `errors` attribute of the result table): '12:29:47.805 +8:00:19.91': No astronomical object found :\n",
      "  (error.line, error.msg))\n"
     ]
    },
    {
     "name": "stdout",
     "output_type": "stream",
     "text": [
      "<SkyCoord (ICRS): (ra, dec) in deg\n",
      "    ( 187.4491875,  8.00553056)>\n",
      "No catalog item found for this within 1 arcsecond, saving coordinates [u'12h29m47.805s'] [u'8d00m19.91s']\n"
     ]
    },
    {
     "name": "stderr",
     "output_type": "stream",
     "text": [
      "WARNING: MergeConflictWarning: Cannot merge meta key u'description' types <type 'unicode'> and <type 'unicode'>, choosing description=u'Simbad script executed on 2017.10.05CEST21:25:52' [astropy.utils.metadata]\n",
      "/home/kcdage/anaconda/lib/python2.7/site-packages/astroquery/simbad/core.py:136: UserWarning: Warning: The script line number 3 raised an error (recorded in the `errors` attribute of the result table): '12:29:45.37 +8:00:29.19': No astronomical object found :\n",
      "  (error.line, error.msg))\n"
     ]
    },
    {
     "name": "stdout",
     "output_type": "stream",
     "text": [
      "<SkyCoord (ICRS): (ra, dec) in deg\n",
      "    ( 187.43904167,  8.00810833)>\n",
      "No catalog item found for this within 1 arcsecond, saving coordinates [u'12h29m45.37s'] [u'8d00m29.19s']\n"
     ]
    },
    {
     "name": "stderr",
     "output_type": "stream",
     "text": [
      "WARNING: MergeConflictWarning: Cannot merge meta key u'description' types <type 'unicode'> and <type 'unicode'>, choosing description=u'Simbad script executed on 2017.10.05CEST21:25:53' [astropy.utils.metadata]\n",
      "WARNING: MergeConflictWarning: Cannot merge meta key u'description' types <type 'unicode'> and <type 'unicode'>, choosing description=u'Simbad script executed on 2017.10.05CEST21:25:54' [astropy.utils.metadata]\n",
      "/home/kcdage/anaconda/lib/python2.7/site-packages/astroquery/simbad/core.py:136: UserWarning: Warning: The script line number 3 raised an error (recorded in the `errors` attribute of the result table): '12:29:48.471 +8:00:36': No astronomical object found :\n",
      "  (error.line, error.msg))\n"
     ]
    },
    {
     "name": "stdout",
     "output_type": "stream",
     "text": [
      "<SkyCoord (ICRS): (ra, dec) in deg\n",
      "    ( 187.4519625,  8.01)>\n",
      "No catalog item found for this within 1 arcsecond, saving coordinates [u'12h29m48.471s'] [u'8d00m36s']\n"
     ]
    },
    {
     "name": "stderr",
     "output_type": "stream",
     "text": [
      "/home/kcdage/anaconda/lib/python2.7/site-packages/astroquery/simbad/core.py:136: UserWarning: Warning: The script line number 3 raised an error (recorded in the `errors` attribute of the result table): '12:29:47.867 +8:00:36.66': No astronomical object found :\n",
      "  (error.line, error.msg))\n"
     ]
    },
    {
     "name": "stdout",
     "output_type": "stream",
     "text": [
      "<SkyCoord (ICRS): (ra, dec) in deg\n",
      "    ( 187.44944583,  8.01018333)>\n",
      "No catalog item found for this within 1 arcsecond, saving coordinates [u'12h29m47.867s'] [u'8d00m36.66s']\n",
      "<SkyCoord (ICRS): (ra, dec) in deg\n",
      "    ( 187.437325,  8.01014722)>"
     ]
    },
    {
     "name": "stderr",
     "output_type": "stream",
     "text": [
      "/home/kcdage/anaconda/lib/python2.7/site-packages/astroquery/simbad/core.py:136: UserWarning: Warning: The script line number 3 raised an error (recorded in the `errors` attribute of the result table): '12:29:44.958 +8:00:36.53': No astronomical object found :\n",
      "  (error.line, error.msg))\n"
     ]
    },
    {
     "name": "stdout",
     "output_type": "stream",
     "text": [
      "\n",
      "No catalog item found for this within 1 arcsecond, saving coordinates [u'12h29m44.958s'] [u'8d00m36.53s']\n"
     ]
    },
    {
     "name": "stderr",
     "output_type": "stream",
     "text": [
      "/home/kcdage/anaconda/lib/python2.7/site-packages/astroquery/simbad/core.py:136: UserWarning: Warning: The script line number 3 raised an error (recorded in the `errors` attribute of the result table): '12:29:45.171 +8:00:38.27': No astronomical object found :\n",
      "  (error.line, error.msg))\n"
     ]
    },
    {
     "name": "stdout",
     "output_type": "stream",
     "text": [
      "<SkyCoord (ICRS): (ra, dec) in deg\n",
      "    ( 187.4382125,  8.01063056)>\n",
      "No catalog item found for this within 1 arcsecond, saving coordinates [u'12h29m45.171s'] [u'8d00m38.27s']\n"
     ]
    },
    {
     "name": "stderr",
     "output_type": "stream",
     "text": [
      "WARNING: MergeConflictWarning: Cannot merge meta key u'description' types <type 'unicode'> and <type 'unicode'>, choosing description=u'Simbad script executed on 2017.10.05CEST21:25:55' [astropy.utils.metadata]\n",
      "WARNING: MergeConflictWarning: Cannot merge meta key u'description' types <type 'unicode'> and <type 'unicode'>, choosing description=u'Simbad script executed on 2017.10.05CEST21:25:56' [astropy.utils.metadata]\n",
      "WARNING: MergeConflictWarning: Cannot merge meta key u'description' types <type 'unicode'> and <type 'unicode'>, choosing description=u'Simbad script executed on 2017.10.05CEST21:25:57' [astropy.utils.metadata]\n",
      "/home/kcdage/anaconda/lib/python2.7/site-packages/astroquery/simbad/core.py:136: UserWarning: Warning: The script line number 3 raised an error (recorded in the `errors` attribute of the result table): '12:29:51.439 +8:00:47.89': No astronomical object found :\n",
      "  (error.line, error.msg))\n"
     ]
    },
    {
     "name": "stdout",
     "output_type": "stream",
     "text": [
      "<SkyCoord (ICRS): (ra, dec) in deg\n",
      "    ( 187.46432917,  8.01330278)>\n",
      "No catalog item found for this within 1 arcsecond, saving coordinates [u'12h29m51.439s'] [u'8d00m47.89s']\n"
     ]
    },
    {
     "name": "stderr",
     "output_type": "stream",
     "text": [
      "/home/kcdage/anaconda/lib/python2.7/site-packages/astroquery/simbad/core.py:136: UserWarning: Warning: The script line number 3 raised an error (recorded in the `errors` attribute of the result table): '12:29:34.943 +8:00:48.45': No astronomical object found :\n",
      "  (error.line, error.msg))\n"
     ]
    },
    {
     "name": "stdout",
     "output_type": "stream",
     "text": [
      "<SkyCoord (ICRS): (ra, dec) in deg\n",
      "    ( 187.39559583,  8.01345833)>\n",
      "No catalog item found for this within 1 arcsecond, saving coordinates [u'12h29m34.943s'] [u'8d00m48.45s']\n"
     ]
    },
    {
     "name": "stderr",
     "output_type": "stream",
     "text": [
      "WARNING: MergeConflictWarning: Cannot merge meta key u'description' types <type 'unicode'> and <type 'unicode'>, choosing description=u'Simbad script executed on 2017.10.05CEST21:25:58' [astropy.utils.metadata]\n",
      "/home/kcdage/anaconda/lib/python2.7/site-packages/astroquery/simbad/core.py:136: UserWarning: Warning: The script line number 3 raised an error (recorded in the `errors` attribute of the result table): '12:29:53.382 +8:00:53.23': No astronomical object found :\n",
      "  (error.line, error.msg))\n"
     ]
    },
    {
     "name": "stdout",
     "output_type": "stream",
     "text": [
      "<SkyCoord (ICRS): (ra, dec) in deg\n",
      "    ( 187.472425,  8.01478611)>\n",
      "No catalog item found for this within 1 arcsecond, saving coordinates [u'12h29m53.382s'] [u'8d00m53.23s']\n"
     ]
    },
    {
     "name": "stderr",
     "output_type": "stream",
     "text": [
      "WARNING: MergeConflictWarning: Cannot merge meta key u'description' types <type 'unicode'> and <type 'unicode'>, choosing description=u'Simbad script executed on 2017.10.05CEST21:25:59' [astropy.utils.metadata]\n",
      "WARNING: MergeConflictWarning: Cannot merge meta key u'description' types <type 'unicode'> and <type 'unicode'>, choosing description=u'Simbad script executed on 2017.10.05CEST21:26:00' [astropy.utils.metadata]\n",
      "/home/kcdage/anaconda/lib/python2.7/site-packages/astroquery/simbad/core.py:136: UserWarning: Warning: The script line number 3 raised an error (recorded in the `errors` attribute of the result table): '12:29:41.629 +8:01:02.06': No astronomical object found :\n",
      "  (error.line, error.msg))\n"
     ]
    },
    {
     "name": "stdout",
     "output_type": "stream",
     "text": [
      "<SkyCoord (ICRS): (ra, dec) in deg\n",
      "    ( 187.42345417,  8.01723889)>\n",
      "No catalog item found for this within 1 arcsecond, saving coordinates [u'12h29m41.629s'] [u'8d01m02.06s']\n"
     ]
    },
    {
     "name": "stderr",
     "output_type": "stream",
     "text": [
      "/home/kcdage/anaconda/lib/python2.7/site-packages/astroquery/simbad/core.py:136: UserWarning: Warning: The script line number 3 raised an error (recorded in the `errors` attribute of the result table): '12:29:46.443 +8:01:07.53': No astronomical object found :\n",
      "  (error.line, error.msg))\n"
     ]
    },
    {
     "name": "stdout",
     "output_type": "stream",
     "text": [
      "<SkyCoord (ICRS): (ra, dec) in deg\n",
      "    ( 187.4435125,  8.01875833)>\n",
      "No catalog item found for this within 1 arcsecond, saving coordinates [u'12h29m46.443s'] [u'8d01m07.53s']\n"
     ]
    },
    {
     "name": "stderr",
     "output_type": "stream",
     "text": [
      "WARNING: MergeConflictWarning: Cannot merge meta key u'description' types <type 'unicode'> and <type 'unicode'>, choosing description=u'Simbad script executed on 2017.10.05CEST21:26:01' [astropy.utils.metadata]\n",
      "/home/kcdage/anaconda/lib/python2.7/site-packages/astroquery/simbad/core.py:136: UserWarning: Warning: The script line number 3 raised an error (recorded in the `errors` attribute of the result table): '12:29:59.952 +8:01:14.1': No astronomical object found :\n",
      "  (error.line, error.msg))\n"
     ]
    },
    {
     "name": "stdout",
     "output_type": "stream",
     "text": [
      "<SkyCoord (ICRS): (ra, dec) in deg\n",
      "    ( 187.4998,  8.02058333)>\n",
      "No catalog item found for this within 1 arcsecond, saving coordinates [u'12h29m59.952s'] [u'8d01m14.1s']\n"
     ]
    },
    {
     "name": "stderr",
     "output_type": "stream",
     "text": [
      "/home/kcdage/anaconda/lib/python2.7/site-packages/astroquery/simbad/core.py:136: UserWarning: Warning: The script line number 3 raised an error (recorded in the `errors` attribute of the result table): '12:29:48.754 +8:01:17.32': No astronomical object found :\n",
      "  (error.line, error.msg))\n"
     ]
    },
    {
     "name": "stdout",
     "output_type": "stream",
     "text": [
      "<SkyCoord (ICRS): (ra, dec) in deg\n",
      "    ( 187.45314167,  8.02147778)>\n",
      "No catalog item found for this within 1 arcsecond, saving coordinates [u'12h29m48.754s'] [u'8d01m17.32s']\n"
     ]
    },
    {
     "name": "stderr",
     "output_type": "stream",
     "text": [
      "/home/kcdage/anaconda/lib/python2.7/site-packages/astroquery/simbad/core.py:136: UserWarning: Warning: The script line number 3 raised an error (recorded in the `errors` attribute of the result table): '12:29:50.121 +8:01:18.7': No astronomical object found :\n",
      "  (error.line, error.msg))\n"
     ]
    },
    {
     "name": "stdout",
     "output_type": "stream",
     "text": [
      "<SkyCoord (ICRS): (ra, dec) in deg\n",
      "    ( 187.4588375,  8.02186111)>\n",
      "No catalog item found for this within 1 arcsecond, saving coordinates [u'12h29m50.121s'] [u'8d01m18.7s']\n"
     ]
    },
    {
     "name": "stderr",
     "output_type": "stream",
     "text": [
      "/home/kcdage/anaconda/lib/python2.7/site-packages/astroquery/simbad/core.py:136: UserWarning: Warning: The script line number 3 raised an error (recorded in the `errors` attribute of the result table): '12:29:46.23 +8:01:20.82': No astronomical object found :\n",
      "  (error.line, error.msg))\n"
     ]
    },
    {
     "name": "stdout",
     "output_type": "stream",
     "text": [
      "<SkyCoord (ICRS): (ra, dec) in deg\n",
      "    ( 187.442625,  8.02245)>\n",
      "No catalog item found for this within 1 arcsecond, saving coordinates [u'12h29m46.23s'] [u'8d01m20.82s']\n"
     ]
    },
    {
     "name": "stderr",
     "output_type": "stream",
     "text": [
      "WARNING: MergeConflictWarning: Cannot merge meta key u'description' types <type 'unicode'> and <type 'unicode'>, choosing description=u'Simbad script executed on 2017.10.05CEST21:26:02' [astropy.utils.metadata]\n",
      "WARNING: MergeConflictWarning: Cannot merge meta key u'description' types <type 'unicode'> and <type 'unicode'>, choosing description=u'Simbad script executed on 2017.10.05CEST21:26:03' [astropy.utils.metadata]\n",
      "WARNING: MergeConflictWarning: Cannot merge meta key u'description' types <type 'unicode'> and <type 'unicode'>, choosing description=u'Simbad script executed on 2017.10.05CEST21:26:04' [astropy.utils.metadata]\n",
      "/home/kcdage/anaconda/lib/python2.7/site-packages/astroquery/simbad/core.py:136: UserWarning: Warning: The script line number 3 raised an error (recorded in the `errors` attribute of the result table): '12:29:42.298 +8:01:30.82': No astronomical object found :\n",
      "  (error.line, error.msg))\n"
     ]
    },
    {
     "name": "stdout",
     "output_type": "stream",
     "text": [
      "<SkyCoord (ICRS): (ra, dec) in deg\n",
      "    ( 187.42624167,  8.02522778)>\n",
      "No catalog item found for this within 1 arcsecond, saving coordinates [u'12h29m42.298s'] [u'8d01m30.82s']\n"
     ]
    },
    {
     "name": "stderr",
     "output_type": "stream",
     "text": [
      "/home/kcdage/anaconda/lib/python2.7/site-packages/astroquery/simbad/core.py:136: UserWarning: Warning: The script line number 3 raised an error (recorded in the `errors` attribute of the result table): '12:29:47.671 +8:01:42.36': No astronomical object found :\n",
      "  (error.line, error.msg))\n"
     ]
    },
    {
     "name": "stdout",
     "output_type": "stream",
     "text": [
      "<SkyCoord (ICRS): (ra, dec) in deg\n",
      "    ( 187.44862917,  8.02843333)>\n",
      "No catalog item found for this within 1 arcsecond, saving coordinates [u'12h29m47.671s'] [u'8d01m42.36s']\n"
     ]
    },
    {
     "name": "stderr",
     "output_type": "stream",
     "text": [
      "WARNING: MergeConflictWarning: Cannot merge meta key u'description' types <type 'unicode'> and <type 'unicode'>, choosing description=u'Simbad script executed on 2017.10.05CEST21:26:05' [astropy.utils.metadata]\n",
      "WARNING: MergeConflictWarning: Cannot merge meta key u'description' types <type 'unicode'> and <type 'unicode'>, choosing description=u'Simbad script executed on 2017.10.05CEST21:26:06' [astropy.utils.metadata]\n",
      "/home/kcdage/anaconda/lib/python2.7/site-packages/astroquery/simbad/core.py:136: UserWarning: Warning: The script line number 3 raised an error (recorded in the `errors` attribute of the result table): '12:29:47.035 +8:01:51.95': No astronomical object found :\n",
      "  (error.line, error.msg))\n"
     ]
    },
    {
     "name": "stdout",
     "output_type": "stream",
     "text": [
      "<SkyCoord (ICRS): (ra, dec) in deg\n",
      "    ( 187.44597917,  8.03109722)>\n",
      "No catalog item found for this within 1 arcsecond, saving coordinates [u'12h29m47.035s'] [u'8d01m51.95s']\n"
     ]
    },
    {
     "name": "stderr",
     "output_type": "stream",
     "text": [
      "WARNING: MergeConflictWarning: Cannot merge meta key u'description' types <type 'unicode'> and <type 'unicode'>, choosing description=u'Simbad script executed on 2017.10.05CEST21:26:07' [astropy.utils.metadata]\n",
      "/home/kcdage/anaconda/lib/python2.7/site-packages/astroquery/simbad/core.py:136: UserWarning: Warning: The script line number 3 raised an error (recorded in the `errors` attribute of the result table): '12:29:48.447 +8:02:00.02': No astronomical object found :\n",
      "  (error.line, error.msg))\n"
     ]
    },
    {
     "name": "stdout",
     "output_type": "stream",
     "text": [
      "<SkyCoord (ICRS): (ra, dec) in deg\n",
      "    ( 187.4518625,  8.03333889)>\n",
      "No catalog item found for this within 1 arcsecond, saving coordinates [u'12h29m48.447s'] [u'8d02m00.02s']\n"
     ]
    },
    {
     "name": "stderr",
     "output_type": "stream",
     "text": [
      "WARNING: MergeConflictWarning: Cannot merge meta key u'description' types <type 'unicode'> and <type 'unicode'>, choosing description=u'Simbad script executed on 2017.10.05CEST21:26:08' [astropy.utils.metadata]\n",
      "/home/kcdage/anaconda/lib/python2.7/site-packages/astroquery/simbad/core.py:136: UserWarning: Warning: The script line number 3 raised an error (recorded in the `errors` attribute of the result table): '12:29:41.424 +8:02:08.04': No astronomical object found :\n",
      "  (error.line, error.msg))\n"
     ]
    },
    {
     "name": "stdout",
     "output_type": "stream",
     "text": [
      "<SkyCoord (ICRS): (ra, dec) in deg\n",
      "    ( 187.4226,  8.03556667)>\n",
      "No catalog item found for this within 1 arcsecond, saving coordinates [u'12h29m41.424s'] [u'8d02m08.04s']\n"
     ]
    },
    {
     "name": "stderr",
     "output_type": "stream",
     "text": [
      "/home/kcdage/anaconda/lib/python2.7/site-packages/astroquery/simbad/core.py:136: UserWarning: Warning: The script line number 3 raised an error (recorded in the `errors` attribute of the result table): '12:29:50.885 +8:02:11.17': No astronomical object found :\n",
      "  (error.line, error.msg))\n"
     ]
    },
    {
     "name": "stdout",
     "output_type": "stream",
     "text": [
      "<SkyCoord (ICRS): (ra, dec) in deg\n",
      "    ( 187.46202083,  8.03643611)>\n",
      "No catalog item found for this within 1 arcsecond, saving coordinates [u'12h29m50.885s'] [u'8d02m11.17s']\n"
     ]
    },
    {
     "name": "stderr",
     "output_type": "stream",
     "text": [
      "WARNING: MergeConflictWarning: Cannot merge meta key u'description' types <type 'unicode'> and <type 'unicode'>, choosing description=u'Simbad script executed on 2017.10.05CEST21:26:09' [astropy.utils.metadata]\n",
      "/home/kcdage/anaconda/lib/python2.7/site-packages/astroquery/simbad/core.py:136: UserWarning: Warning: The script line number 3 raised an error (recorded in the `errors` attribute of the result table): '12:29:51.792 +8:02:20.72': No astronomical object found :\n",
      "  (error.line, error.msg))\n"
     ]
    },
    {
     "name": "stdout",
     "output_type": "stream",
     "text": [
      "<SkyCoord (ICRS): (ra, dec) in deg\n",
      "    ( 187.4658,  8.03908889)>\n",
      "No catalog item found for this within 1 arcsecond, saving coordinates [u'12h29m51.792s'] [u'8d02m20.72s']\n"
     ]
    },
    {
     "name": "stderr",
     "output_type": "stream",
     "text": [
      "/home/kcdage/anaconda/lib/python2.7/site-packages/astroquery/simbad/core.py:136: UserWarning: Warning: The script line number 3 raised an error (recorded in the `errors` attribute of the result table): '12:29:50.441 +8:02:20.67': No astronomical object found :\n",
      "  (error.line, error.msg))\n"
     ]
    },
    {
     "name": "stdout",
     "output_type": "stream",
     "text": [
      "<SkyCoord (ICRS): (ra, dec) in deg\n",
      "    ( 187.46017083,  8.039075)>\n",
      "No catalog item found for this within 1 arcsecond, saving coordinates [u'12h29m50.441s'] [u'8d02m20.67s']\n"
     ]
    },
    {
     "name": "stderr",
     "output_type": "stream",
     "text": [
      "WARNING: MergeConflictWarning: Cannot merge meta key u'description' types <type 'unicode'> and <type 'unicode'>, choosing description=u'Simbad script executed on 2017.10.05CEST21:26:10' [astropy.utils.metadata]\n",
      "WARNING: MergeConflictWarning: Cannot merge meta key u'description' types <type 'unicode'> and <type 'unicode'>, choosing description=u'Simbad script executed on 2017.10.05CEST21:26:11' [astropy.utils.metadata]\n",
      "/home/kcdage/anaconda/lib/python2.7/site-packages/astroquery/simbad/core.py:136: UserWarning: Warning: The script line number 3 raised an error (recorded in the `errors` attribute of the result table): '12:29:53.994 +8:02:35.65': No astronomical object found :\n",
      "  (error.line, error.msg))\n"
     ]
    },
    {
     "name": "stdout",
     "output_type": "stream",
     "text": [
      "<SkyCoord (ICRS): (ra, dec) in deg\n",
      "    ( 187.474975,  8.04323611)>\n",
      "No catalog item found for this within 1 arcsecond, saving coordinates [u'12h29m53.994s'] [u'8d02m35.65s']\n"
     ]
    },
    {
     "name": "stderr",
     "output_type": "stream",
     "text": [
      "WARNING: MergeConflictWarning: Cannot merge meta key u'description' types <type 'unicode'> and <type 'unicode'>, choosing description=u'Simbad script executed on 2017.10.05CEST21:26:12' [astropy.utils.metadata]\n",
      "/home/kcdage/anaconda/lib/python2.7/site-packages/astroquery/simbad/core.py:136: UserWarning: Warning: The script line number 3 raised an error (recorded in the `errors` attribute of the result table): '12:29:49.213 +8:03:16.86': No astronomical object found :\n",
      "  (error.line, error.msg))\n"
     ]
    },
    {
     "name": "stdout",
     "output_type": "stream",
     "text": [
      "<SkyCoord (ICRS): (ra, dec) in deg\n",
      "    ( 187.45505417,  8.05468333)>\n",
      "No catalog item found for this within 1 arcsecond, saving coordinates [u'12h29m49.213s'] [u'8d03m16.86s']\n"
     ]
    },
    {
     "name": "stderr",
     "output_type": "stream",
     "text": [
      "WARNING: MergeConflictWarning: Cannot merge meta key u'description' types <type 'unicode'> and <type 'unicode'>, choosing description=u'Simbad script executed on 2017.10.05CEST21:26:13' [astropy.utils.metadata]\n",
      "/home/kcdage/anaconda/lib/python2.7/site-packages/astroquery/simbad/core.py:136: UserWarning: Warning: The script line number 3 raised an error (recorded in the `errors` attribute of the result table): '12:29:51.239 +8:03:27.36': No astronomical object found :\n",
      "  (error.line, error.msg))\n"
     ]
    },
    {
     "name": "stdout",
     "output_type": "stream",
     "text": [
      "<SkyCoord (ICRS): (ra, dec) in deg\n",
      "    ( 187.46349583,  8.0576)>\n",
      "No catalog item found for this within 1 arcsecond, saving coordinates [u'12h29m51.239s'] [u'8d03m27.36s']\n"
     ]
    },
    {
     "name": "stderr",
     "output_type": "stream",
     "text": [
      "/home/kcdage/anaconda/lib/python2.7/site-packages/astroquery/simbad/core.py:136: UserWarning: Warning: The script line number 3 raised an error (recorded in the `errors` attribute of the result table): '12:29:43.335 +8:03:37.63': No astronomical object found :\n",
      "  (error.line, error.msg))\n"
     ]
    },
    {
     "name": "stdout",
     "output_type": "stream",
     "text": [
      "<SkyCoord (ICRS): (ra, dec) in deg\n",
      "    ( 187.4305625,  8.06045278)>\n",
      "No catalog item found for this within 1 arcsecond, saving coordinates [u'12h29m43.335s'] [u'8d03m37.63s']\n"
     ]
    },
    {
     "name": "stderr",
     "output_type": "stream",
     "text": [
      "WARNING: MergeConflictWarning: Cannot merge meta key u'description' types <type 'unicode'> and <type 'unicode'>, choosing description=u'Simbad script executed on 2017.10.05CEST21:26:14' [astropy.utils.metadata]\n",
      "/home/kcdage/anaconda/lib/python2.7/site-packages/astroquery/simbad/core.py:136: UserWarning: Warning: The script line number 3 raised an error (recorded in the `errors` attribute of the result table): '12:29:58.657 +8:04:16.17': No astronomical object found :\n",
      "  (error.line, error.msg))\n"
     ]
    },
    {
     "name": "stdout",
     "output_type": "stream",
     "text": [
      "<SkyCoord (ICRS): (ra, dec) in deg\n",
      "    ( 187.49440417,  8.07115833)>\n",
      "No catalog item found for this within 1 arcsecond, saving coordinates [u'12h29m58.657s'] [u'8d04m16.17s']\n"
     ]
    },
    {
     "name": "stderr",
     "output_type": "stream",
     "text": [
      "/home/kcdage/anaconda/lib/python2.7/site-packages/astroquery/simbad/core.py:136: UserWarning: Warning: The script line number 3 raised an error (recorded in the `errors` attribute of the result table): '12:29:56.749 +8:09:09.81': No astronomical object found :\n",
      "  (error.line, error.msg))\n"
     ]
    },
    {
     "name": "stdout",
     "output_type": "stream",
     "text": [
      "<SkyCoord (ICRS): (ra, dec) in deg\n",
      "    ( 187.48645417,  8.152725)>\n",
      "No catalog item found for this within 1 arcsecond, saving coordinates [u'12h29m56.749s'] [u'8d09m09.81s']\n"
     ]
    },
    {
     "name": "stderr",
     "output_type": "stream",
     "text": [
      "/home/kcdage/anaconda/lib/python2.7/site-packages/astroquery/simbad/core.py:136: UserWarning: Warning: The script line number 3 raised an error (recorded in the `errors` attribute of the result table): '12:29:54.7 +8:16:52.82': No astronomical object found :\n",
      "  (error.line, error.msg))\n"
     ]
    },
    {
     "name": "stdout",
     "output_type": "stream",
     "text": [
      "<SkyCoord (ICRS): (ra, dec) in deg\n",
      "    ( 187.47791667,  8.28133889)>\n",
      "No catalog item found for this within 1 arcsecond, saving coordinates [u'12h29m54.7s'] [u'8d16m52.82s']\n"
     ]
    },
    {
     "name": "stderr",
     "output_type": "stream",
     "text": [
      "/home/kcdage/anaconda/lib/python2.7/site-packages/astroquery/simbad/core.py:136: UserWarning: Warning: The script line number 3 raised an error (recorded in the `errors` attribute of the result table): '12:30:12.657 +8:17:16.64': No astronomical object found :\n",
      "  (error.line, error.msg))\n"
     ]
    },
    {
     "name": "stdout",
     "output_type": "stream",
     "text": [
      "<SkyCoord (ICRS): (ra, dec) in deg\n",
      "    ( 187.5527375,  8.28795556)>\n",
      "No catalog item found for this within 1 arcsecond, saving coordinates [u'12h30m12.657s'] [u'8d17m16.64s']\n"
     ]
    },
    {
     "name": "stderr",
     "output_type": "stream",
     "text": [
      "/home/kcdage/anaconda/lib/python2.7/site-packages/astroquery/simbad/core.py:136: UserWarning: Warning: The script line number 3 raised an error (recorded in the `errors` attribute of the result table): '12:29:48.651 +8:20:23.14': No astronomical object found :\n",
      "  (error.line, error.msg))\n"
     ]
    },
    {
     "name": "stdout",
     "output_type": "stream",
     "text": [
      "<SkyCoord (ICRS): (ra, dec) in deg\n",
      "    ( 187.4527125,  8.33976111)>\n",
      "No catalog item found for this within 1 arcsecond, saving coordinates [u'12h29m48.651s'] [u'8d20m23.14s']\n"
     ]
    },
    {
     "name": "stderr",
     "output_type": "stream",
     "text": [
      "/home/kcdage/anaconda/lib/python2.7/site-packages/astroquery/simbad/core.py:136: UserWarning: Warning: The script line number 3 raised an error (recorded in the `errors` attribute of the result table): '12:29:43.967 +7:55:32.94': No astronomical object found :\n",
      "  (error.line, error.msg))\n"
     ]
    },
    {
     "name": "stdout",
     "output_type": "stream",
     "text": [
      "<SkyCoord (ICRS): (ra, dec) in deg\n",
      "    ( 187.43319583,  7.92581667)>\n",
      "No catalog item found for this within 1 arcsecond, saving coordinates [u'12h29m43.967s'] [u'7d55m32.94s']\n"
     ]
    },
    {
     "name": "stderr",
     "output_type": "stream",
     "text": [
      "/home/kcdage/anaconda/lib/python2.7/site-packages/astroquery/simbad/core.py:136: UserWarning: Warning: The script line number 3 raised an error (recorded in the `errors` attribute of the result table): '12:29:54.249 +7:56:13': No astronomical object found :\n",
      "  (error.line, error.msg))\n"
     ]
    },
    {
     "name": "stdout",
     "output_type": "stream",
     "text": [
      "<SkyCoord (ICRS): (ra, dec) in deg\n",
      "    ( 187.4760375,  7.93694444)>\n",
      "No catalog item found for this within 1 arcsecond, saving coordinates [u'12h29m54.249s'] [u'7d56m13s']\n"
     ]
    },
    {
     "name": "stderr",
     "output_type": "stream",
     "text": [
      "/home/kcdage/anaconda/lib/python2.7/site-packages/astroquery/simbad/core.py:136: UserWarning: Warning: The script line number 3 raised an error (recorded in the `errors` attribute of the result table): '12:29:29.423 +7:56:38.93': No astronomical object found :\n",
      "  (error.line, error.msg))\n"
     ]
    },
    {
     "name": "stdout",
     "output_type": "stream",
     "text": [
      "<SkyCoord (ICRS): (ra, dec) in deg\n",
      "    ( 187.37259583,  7.94414722)>\n",
      "No catalog item found for this within 1 arcsecond, saving coordinates [u'12h29m29.423s'] [u'7d56m38.93s']\n"
     ]
    },
    {
     "name": "stderr",
     "output_type": "stream",
     "text": [
      "WARNING: MergeConflictWarning: Cannot merge meta key u'description' types <type 'unicode'> and <type 'unicode'>, choosing description=u'Simbad script executed on 2017.10.05CEST21:26:17' [astropy.utils.metadata]\n",
      "/home/kcdage/anaconda/lib/python2.7/site-packages/astroquery/simbad/core.py:136: UserWarning: Warning: The script line number 3 raised an error (recorded in the `errors` attribute of the result table): '12:29:54.054 +7:57:18.42': No astronomical object found :\n",
      "  (error.line, error.msg))\n"
     ]
    },
    {
     "name": "stdout",
     "output_type": "stream",
     "text": [
      "<SkyCoord (ICRS): (ra, dec) in deg\n",
      "    ( 187.475225,  7.95511667)>\n",
      "No catalog item found for this within 1 arcsecond, saving coordinates [u'12h29m54.054s'] [u'7d57m18.42s']\n"
     ]
    },
    {
     "name": "stderr",
     "output_type": "stream",
     "text": [
      "WARNING: MergeConflictWarning: Cannot merge meta key u'description' types <type 'unicode'> and <type 'unicode'>, choosing description=u'Simbad script executed on 2017.10.05CEST21:26:18' [astropy.utils.metadata]\n",
      "WARNING: MergeConflictWarning: Cannot merge meta key u'description' types <type 'unicode'> and <type 'unicode'>, choosing description=u'Simbad script executed on 2017.10.05CEST21:26:19' [astropy.utils.metadata]\n",
      "/home/kcdage/anaconda/lib/python2.7/site-packages/astroquery/simbad/core.py:136: UserWarning: Warning: The script line number 3 raised an error (recorded in the `errors` attribute of the result table): '12:29:57.663 +7:57:28.91': No astronomical object found :\n",
      "  (error.line, error.msg))\n"
     ]
    },
    {
     "name": "stdout",
     "output_type": "stream",
     "text": [
      "<SkyCoord (ICRS): (ra, dec) in deg\n",
      "    ( 187.4902625,  7.95803056)>\n",
      "No catalog item found for this within 1 arcsecond, saving coordinates [u'12h29m57.663s'] [u'7d57m28.91s']\n"
     ]
    },
    {
     "name": "stderr",
     "output_type": "stream",
     "text": [
      "/home/kcdage/anaconda/lib/python2.7/site-packages/astroquery/simbad/core.py:136: UserWarning: Warning: The script line number 3 raised an error (recorded in the `errors` attribute of the result table): '12:29:56.58 +7:57:28.86': No astronomical object found :\n",
      "  (error.line, error.msg))\n"
     ]
    },
    {
     "name": "stdout",
     "output_type": "stream",
     "text": [
      "<SkyCoord (ICRS): (ra, dec) in deg\n",
      "    ( 187.48575,  7.95801667)>\n",
      "No catalog item found for this within 1 arcsecond, saving coordinates [u'12h29m56.58s'] [u'7d57m28.86s']\n"
     ]
    },
    {
     "name": "stderr",
     "output_type": "stream",
     "text": [
      "WARNING: MergeConflictWarning: Cannot merge meta key u'description' types <type 'unicode'> and <type 'unicode'>, choosing description=u'Simbad script executed on 2017.10.05CEST21:26:20' [astropy.utils.metadata]\n",
      "/home/kcdage/anaconda/lib/python2.7/site-packages/astroquery/simbad/core.py:136: UserWarning: Warning: The script line number 3 raised an error (recorded in the `errors` attribute of the result table): '12:29:45.811 +7:57:43.01': No astronomical object found :\n",
      "  (error.line, error.msg))\n"
     ]
    },
    {
     "name": "stdout",
     "output_type": "stream",
     "text": [
      "<SkyCoord (ICRS): (ra, dec) in deg\n",
      "    ( 187.44087917,  7.96194722)>\n",
      "No catalog item found for this within 1 arcsecond, saving coordinates [u'12h29m45.811s'] [u'7d57m43.01s']\n"
     ]
    },
    {
     "name": "stderr",
     "output_type": "stream",
     "text": [
      "/home/kcdage/anaconda/lib/python2.7/site-packages/astroquery/simbad/core.py:136: UserWarning: Warning: The script line number 3 raised an error (recorded in the `errors` attribute of the result table): '12:29:50.728 +7:57:50.22': No astronomical object found :\n",
      "  (error.line, error.msg))\n"
     ]
    },
    {
     "name": "stdout",
     "output_type": "stream",
     "text": [
      "<SkyCoord (ICRS): (ra, dec) in deg\n",
      "    ( 187.46136667,  7.96395)>\n",
      "No catalog item found for this within 1 arcsecond, saving coordinates [u'12h29m50.728s'] [u'7d57m50.22s']\n"
     ]
    },
    {
     "name": "stderr",
     "output_type": "stream",
     "text": [
      "/home/kcdage/anaconda/lib/python2.7/site-packages/astroquery/simbad/core.py:136: UserWarning: Warning: The script line number 3 raised an error (recorded in the `errors` attribute of the result table): '12:29:38.722 +7:57:54.73': No astronomical object found :\n",
      "  (error.line, error.msg))\n"
     ]
    },
    {
     "name": "stdout",
     "output_type": "stream",
     "text": [
      "<SkyCoord (ICRS): (ra, dec) in deg\n",
      "    ( 187.41134167,  7.96520278)>\n",
      "No catalog item found for this within 1 arcsecond, saving coordinates [u'12h29m38.722s'] [u'7d57m54.73s']\n"
     ]
    },
    {
     "name": "stderr",
     "output_type": "stream",
     "text": [
      "/home/kcdage/anaconda/lib/python2.7/site-packages/astroquery/simbad/core.py:136: UserWarning: Warning: The script line number 3 raised an error (recorded in the `errors` attribute of the result table): '12:29:38.582 +7:57:57.82': No astronomical object found :\n",
      "  (error.line, error.msg))\n"
     ]
    },
    {
     "name": "stdout",
     "output_type": "stream",
     "text": [
      "<SkyCoord (ICRS): (ra, dec) in deg\n",
      "    ( 187.41075833,  7.96606111)>\n",
      "No catalog item found for this within 1 arcsecond, saving coordinates [u'12h29m38.582s'] [u'7d57m57.82s']\n"
     ]
    },
    {
     "name": "stderr",
     "output_type": "stream",
     "text": [
      "/home/kcdage/anaconda/lib/python2.7/site-packages/astroquery/simbad/core.py:136: UserWarning: Warning: The script line number 3 raised an error (recorded in the `errors` attribute of the result table): '12:29:51.536 +7:57:59.46': No astronomical object found :\n",
      "  (error.line, error.msg))\n"
     ]
    },
    {
     "name": "stdout",
     "output_type": "stream",
     "text": [
      "<SkyCoord (ICRS): (ra, dec) in deg\n",
      "    ( 187.46473333,  7.96651667)>\n",
      "No catalog item found for this within 1 arcsecond, saving coordinates [u'12h29m51.536s'] [u'7d57m59.46s']\n"
     ]
    },
    {
     "name": "stderr",
     "output_type": "stream",
     "text": [
      "WARNING: MergeConflictWarning: Cannot merge meta key u'description' types <type 'unicode'> and <type 'unicode'>, choosing description=u'Simbad script executed on 2017.10.05CEST21:26:22' [astropy.utils.metadata]\n",
      "/home/kcdage/anaconda/lib/python2.7/site-packages/astroquery/simbad/core.py:136: UserWarning: Warning: The script line number 3 raised an error (recorded in the `errors` attribute of the result table): '12:29:50.868 +7:58:16.68': No astronomical object found :\n",
      "  (error.line, error.msg))\n"
     ]
    },
    {
     "name": "stdout",
     "output_type": "stream",
     "text": [
      "<SkyCoord (ICRS): (ra, dec) in deg\n",
      "    ( 187.46195,  7.9713)>\n",
      "No catalog item found for this within 1 arcsecond, saving coordinates [u'12h29m50.868s'] [u'7d58m16.68s']\n"
     ]
    },
    {
     "name": "stderr",
     "output_type": "stream",
     "text": [
      "WARNING: MergeConflictWarning: Cannot merge meta key u'description' types <type 'unicode'> and <type 'unicode'>, choosing description=u'Simbad script executed on 2017.10.05CEST21:26:23' [astropy.utils.metadata]\n",
      "WARNING: MergeConflictWarning: Cannot merge meta key u'description' types <type 'unicode'> and <type 'unicode'>, choosing description=u'Simbad script executed on 2017.10.05CEST21:26:24' [astropy.utils.metadata]\n",
      "/home/kcdage/anaconda/lib/python2.7/site-packages/astroquery/simbad/core.py:136: UserWarning: Warning: The script line number 3 raised an error (recorded in the `errors` attribute of the result table): '12:29:45.266 +7:58:25.76': No astronomical object found :\n",
      "  (error.line, error.msg))\n"
     ]
    },
    {
     "name": "stdout",
     "output_type": "stream",
     "text": [
      "<SkyCoord (ICRS): (ra, dec) in deg\n",
      "    ( 187.43860833,  7.97382222)>\n",
      "No catalog item found for this within 1 arcsecond, saving coordinates [u'12h29m45.266s'] [u'7d58m25.76s']\n"
     ]
    },
    {
     "name": "stderr",
     "output_type": "stream",
     "text": [
      "/home/kcdage/anaconda/lib/python2.7/site-packages/astroquery/simbad/core.py:136: UserWarning: Warning: The script line number 3 raised an error (recorded in the `errors` attribute of the result table): '12:29:51.178 +7:58:26.85': No astronomical object found :\n",
      "  (error.line, error.msg))\n"
     ]
    },
    {
     "name": "stdout",
     "output_type": "stream",
     "text": [
      "<SkyCoord (ICRS): (ra, dec) in deg\n",
      "    ( 187.46324167,  7.974125)>\n",
      "No catalog item found for this within 1 arcsecond, saving coordinates [u'12h29m51.178s'] [u'7d58m26.85s']\n"
     ]
    },
    {
     "name": "stderr",
     "output_type": "stream",
     "text": [
      "/home/kcdage/anaconda/lib/python2.7/site-packages/astroquery/simbad/core.py:136: UserWarning: Warning: The script line number 3 raised an error (recorded in the `errors` attribute of the result table): '12:29:31.717 +7:58:30.08': No astronomical object found :\n",
      "  (error.line, error.msg))\n"
     ]
    },
    {
     "name": "stdout",
     "output_type": "stream",
     "text": [
      "<SkyCoord (ICRS): (ra, dec) in deg\n",
      "    ( 187.38215417,  7.97502222)>\n",
      "No catalog item found for this within 1 arcsecond, saving coordinates [u'12h29m31.717s'] [u'7d58m30.08s']\n"
     ]
    },
    {
     "name": "stderr",
     "output_type": "stream",
     "text": [
      "WARNING: MergeConflictWarning: Cannot merge meta key u'description' types <type 'unicode'> and <type 'unicode'>, choosing description=u'Simbad script executed on 2017.10.05CEST21:26:25' [astropy.utils.metadata]\n",
      "/home/kcdage/anaconda/lib/python2.7/site-packages/astroquery/simbad/core.py:136: UserWarning: Warning: The script line number 3 raised an error (recorded in the `errors` attribute of the result table): '12:29:31.665 +7:58:32.91': No astronomical object found :\n",
      "  (error.line, error.msg))\n"
     ]
    },
    {
     "name": "stdout",
     "output_type": "stream",
     "text": [
      "<SkyCoord (ICRS): (ra, dec) in deg\n",
      "    ( 187.3819375,  7.97580833)>\n",
      "No catalog item found for this within 1 arcsecond, saving coordinates [u'12h29m31.665s'] [u'7d58m32.91s']\n"
     ]
    },
    {
     "name": "stderr",
     "output_type": "stream",
     "text": [
      "/home/kcdage/anaconda/lib/python2.7/site-packages/astroquery/simbad/core.py:136: UserWarning: Warning: The script line number 3 raised an error (recorded in the `errors` attribute of the result table): '12:29:38.204 +7:58:37': No astronomical object found :\n",
      "  (error.line, error.msg))\n"
     ]
    },
    {
     "name": "stdout",
     "output_type": "stream",
     "text": [
      "<SkyCoord (ICRS): (ra, dec) in deg\n",
      "    ( 187.40918333,  7.97694444)>\n",
      "No catalog item found for this within 1 arcsecond, saving coordinates [u'12h29m38.204s'] [u'7d58m37s']\n"
     ]
    },
    {
     "name": "stderr",
     "output_type": "stream",
     "text": [
      "WARNING: MergeConflictWarning: Cannot merge meta key u'description' types <type 'unicode'> and <type 'unicode'>, choosing description=u'Simbad script executed on 2017.10.05CEST21:26:26' [astropy.utils.metadata]\n",
      "/home/kcdage/anaconda/lib/python2.7/site-packages/astroquery/simbad/core.py:136: UserWarning: Warning: The script line number 3 raised an error (recorded in the `errors` attribute of the result table): '12:29:32.509 +7:58:51.06': No astronomical object found :\n",
      "  (error.line, error.msg))\n"
     ]
    },
    {
     "name": "stdout",
     "output_type": "stream",
     "text": [
      "<SkyCoord (ICRS): (ra, dec) in deg\n",
      "    ( 187.38545417,  7.98085)>\n",
      "No catalog item found for this within 1 arcsecond, saving coordinates [u'12h29m32.509s'] [u'7d58m51.06s']\n"
     ]
    },
    {
     "name": "stderr",
     "output_type": "stream",
     "text": [
      "WARNING: MergeConflictWarning: Cannot merge meta key u'description' types <type 'unicode'> and <type 'unicode'>, choosing description=u'Simbad script executed on 2017.10.05CEST21:26:27' [astropy.utils.metadata]\n",
      "/home/kcdage/anaconda/lib/python2.7/site-packages/astroquery/simbad/core.py:136: UserWarning: Warning: The script line number 3 raised an error (recorded in the `errors` attribute of the result table): '12:29:47.689 +7:58:58.82': No astronomical object found :\n",
      "  (error.line, error.msg))\n"
     ]
    },
    {
     "name": "stdout",
     "output_type": "stream",
     "text": [
      "<SkyCoord (ICRS): (ra, dec) in deg\n",
      "    ( 187.44870417,  7.98300556)>\n",
      "No catalog item found for this within 1 arcsecond, saving coordinates [u'12h29m47.689s'] [u'7d58m58.82s']\n"
     ]
    },
    {
     "name": "stderr",
     "output_type": "stream",
     "text": [
      "WARNING: MergeConflictWarning: Cannot merge meta key u'description' types <type 'unicode'> and <type 'unicode'>, choosing description=u'Simbad script executed on 2017.10.05CEST21:26:28' [astropy.utils.metadata]\n",
      "/home/kcdage/anaconda/lib/python2.7/site-packages/astroquery/simbad/core.py:136: UserWarning: Warning: The script line number 3 raised an error (recorded in the `errors` attribute of the result table): '12:29:49.548 +7:59:10.12': No astronomical object found :\n",
      "  (error.line, error.msg))\n"
     ]
    },
    {
     "name": "stdout",
     "output_type": "stream",
     "text": [
      "<SkyCoord (ICRS): (ra, dec) in deg\n",
      "    ( 187.45645,  7.98614444)>\n",
      "No catalog item found for this within 1 arcsecond, saving coordinates [u'12h29m49.548s'] [u'7d59m10.12s']\n"
     ]
    },
    {
     "name": "stderr",
     "output_type": "stream",
     "text": [
      "WARNING: MergeConflictWarning: Cannot merge meta key u'description' types <type 'unicode'> and <type 'unicode'>, choosing description=u'Simbad script executed on 2017.10.05CEST21:26:29' [astropy.utils.metadata]\n",
      "/home/kcdage/anaconda/lib/python2.7/site-packages/astroquery/simbad/core.py:136: UserWarning: Warning: The script line number 3 raised an error (recorded in the `errors` attribute of the result table): '12:29:45.404 +7:59:15.83': No astronomical object found :\n",
      "  (error.line, error.msg))\n"
     ]
    },
    {
     "name": "stdout",
     "output_type": "stream",
     "text": [
      "<SkyCoord (ICRS): (ra, dec) in deg\n",
      "    ( 187.43918333,  7.98773056)>\n",
      "No catalog item found for this within 1 arcsecond, saving coordinates [u'12h29m45.404s'] [u'7d59m15.83s']\n"
     ]
    },
    {
     "name": "stderr",
     "output_type": "stream",
     "text": [
      "WARNING: MergeConflictWarning: Cannot merge meta key u'description' types <type 'unicode'> and <type 'unicode'>, choosing description=u'Simbad script executed on 2017.10.05CEST21:26:30' [astropy.utils.metadata]\n",
      "/home/kcdage/anaconda/lib/python2.7/site-packages/astroquery/simbad/core.py:136: UserWarning: Warning: The script line number 3 raised an error (recorded in the `errors` attribute of the result table): '12:29:57.813 +7:59:28.18': No astronomical object found :\n",
      "  (error.line, error.msg))\n"
     ]
    },
    {
     "name": "stdout",
     "output_type": "stream",
     "text": [
      "<SkyCoord (ICRS): (ra, dec) in deg\n",
      "    ( 187.4908875,  7.99116111)>\n",
      "No catalog item found for this within 1 arcsecond, saving coordinates [u'12h29m57.813s'] [u'7d59m28.18s']\n"
     ]
    },
    {
     "name": "stderr",
     "output_type": "stream",
     "text": [
      "WARNING: MergeConflictWarning: Cannot merge meta key u'description' types <type 'unicode'> and <type 'unicode'>, choosing description=u'Simbad script executed on 2017.10.05CEST21:26:31' [astropy.utils.metadata]\n",
      "/home/kcdage/anaconda/lib/python2.7/site-packages/astroquery/simbad/core.py:136: UserWarning: Warning: The script line number 3 raised an error (recorded in the `errors` attribute of the result table): '12:29:57.633 +7:59:32.29': No astronomical object found :\n",
      "  (error.line, error.msg))\n"
     ]
    },
    {
     "name": "stdout",
     "output_type": "stream",
     "text": [
      "<SkyCoord (ICRS): (ra, dec) in deg\n",
      "    ( 187.4901375,  7.99230278)>\n",
      "No catalog item found for this within 1 arcsecond, saving coordinates [u'12h29m57.633s'] [u'7d59m32.29s']\n"
     ]
    },
    {
     "name": "stderr",
     "output_type": "stream",
     "text": [
      "WARNING: MergeConflictWarning: Cannot merge meta key u'description' types <type 'unicode'> and <type 'unicode'>, choosing description=u'Simbad script executed on 2017.10.05CEST21:26:32' [astropy.utils.metadata]\n",
      "/home/kcdage/anaconda/lib/python2.7/site-packages/astroquery/simbad/core.py:136: UserWarning: Warning: The script line number 3 raised an error (recorded in the `errors` attribute of the result table): '12:29:30.229 +7:59:36.48': No astronomical object found :\n",
      "  (error.line, error.msg))\n"
     ]
    },
    {
     "name": "stdout",
     "output_type": "stream",
     "text": [
      "<SkyCoord (ICRS): (ra, dec) in deg\n",
      "    ( 187.37595417,  7.99346667)>\n",
      "No catalog item found for this within 1 arcsecond, saving coordinates [u'12h29m30.229s'] [u'7d59m36.48s']\n"
     ]
    },
    {
     "name": "stderr",
     "output_type": "stream",
     "text": [
      "/home/kcdage/anaconda/lib/python2.7/site-packages/astroquery/simbad/core.py:136: UserWarning: Warning: The script line number 3 raised an error (recorded in the `errors` attribute of the result table): '12:29:46.467 +7:59:39.56': No astronomical object found :\n",
      "  (error.line, error.msg))\n"
     ]
    },
    {
     "name": "stdout",
     "output_type": "stream",
     "text": [
      "<SkyCoord (ICRS): (ra, dec) in deg\n",
      "    ( 187.4436125,  7.99432222)>\n",
      "No catalog item found for this within 1 arcsecond, saving coordinates [u'12h29m46.467s'] [u'7d59m39.56s']\n"
     ]
    },
    {
     "name": "stderr",
     "output_type": "stream",
     "text": [
      "WARNING: MergeConflictWarning: Cannot merge meta key u'description' types <type 'unicode'> and <type 'unicode'>, choosing description=u'Simbad script executed on 2017.10.05CEST21:26:33' [astropy.utils.metadata]\n",
      "/home/kcdage/anaconda/lib/python2.7/site-packages/astroquery/simbad/core.py:136: UserWarning: Warning: The script line number 3 raised an error (recorded in the `errors` attribute of the result table): '12:29:47.894 +7:59:43.88': No astronomical object found :\n",
      "  (error.line, error.msg))\n"
     ]
    },
    {
     "name": "stdout",
     "output_type": "stream",
     "text": [
      "<SkyCoord (ICRS): (ra, dec) in deg\n",
      "    ( 187.44955833,  7.99552222)>\n",
      "No catalog item found for this within 1 arcsecond, saving coordinates [u'12h29m47.894s'] [u'7d59m43.88s']\n"
     ]
    },
    {
     "name": "stderr",
     "output_type": "stream",
     "text": [
      "/home/kcdage/anaconda/lib/python2.7/site-packages/astroquery/simbad/core.py:136: UserWarning: Warning: The script line number 3 raised an error (recorded in the `errors` attribute of the result table): '12:29:45.884 +7:59:44.45': No astronomical object found :\n",
      "  (error.line, error.msg))\n"
     ]
    },
    {
     "name": "stdout",
     "output_type": "stream",
     "text": [
      "<SkyCoord (ICRS): (ra, dec) in deg\n",
      "    ( 187.44118333,  7.99568056)>\n",
      "No catalog item found for this within 1 arcsecond, saving coordinates [u'12h29m45.884s'] [u'7d59m44.45s']\n"
     ]
    },
    {
     "name": "stderr",
     "output_type": "stream",
     "text": [
      "WARNING: MergeConflictWarning: Cannot merge meta key u'description' types <type 'unicode'> and <type 'unicode'>, choosing description=u'Simbad script executed on 2017.10.05CEST21:26:34' [astropy.utils.metadata]\n",
      "/home/kcdage/anaconda/lib/python2.7/site-packages/astroquery/simbad/core.py:136: UserWarning: Warning: The script line number 3 raised an error (recorded in the `errors` attribute of the result table): '12:29:41.446 +7:59:48.35': No astronomical object found :\n",
      "  (error.line, error.msg))\n"
     ]
    },
    {
     "name": "stdout",
     "output_type": "stream",
     "text": [
      "<SkyCoord (ICRS): (ra, dec) in deg\n",
      "    ( 187.42269167,  7.99676389)>\n",
      "No catalog item found for this within 1 arcsecond, saving coordinates [u'12h29m41.446s'] [u'7d59m48.35s']\n"
     ]
    },
    {
     "name": "stderr",
     "output_type": "stream",
     "text": [
      "/home/kcdage/anaconda/lib/python2.7/site-packages/astroquery/simbad/core.py:136: UserWarning: Warning: The script line number 3 raised an error (recorded in the `errors` attribute of the result table): '12:29:47.864 +7:59:51.82': No astronomical object found :\n",
      "  (error.line, error.msg))\n"
     ]
    },
    {
     "name": "stdout",
     "output_type": "stream",
     "text": [
      "<SkyCoord (ICRS): (ra, dec) in deg\n",
      "    ( 187.44943333,  7.99772778)>\n",
      "No catalog item found for this within 1 arcsecond, saving coordinates [u'12h29m47.864s'] [u'7d59m51.82s']\n"
     ]
    },
    {
     "name": "stderr",
     "output_type": "stream",
     "text": [
      "WARNING: MergeConflictWarning: Cannot merge meta key u'description' types <type 'unicode'> and <type 'unicode'>, choosing description=u'Simbad script executed on 2017.10.05CEST21:26:35' [astropy.utils.metadata]\n",
      "/home/kcdage/anaconda/lib/python2.7/site-packages/astroquery/simbad/core.py:136: UserWarning: Warning: The script line number 3 raised an error (recorded in the `errors` attribute of the result table): '12:30:02.989 +8:00:18.27': No astronomical object found :\n",
      "  (error.line, error.msg))\n"
     ]
    },
    {
     "name": "stdout",
     "output_type": "stream",
     "text": [
      "<SkyCoord (ICRS): (ra, dec) in deg\n",
      "    ( 187.51245417,  8.005075)>\n",
      "No catalog item found for this within 1 arcsecond, saving coordinates [u'12h30m02.989s'] [u'8d00m18.27s']\n"
     ]
    },
    {
     "name": "stderr",
     "output_type": "stream",
     "text": [
      "WARNING: MergeConflictWarning: Cannot merge meta key u'description' types <type 'unicode'> and <type 'unicode'>, choosing description=u'Simbad script executed on 2017.10.05CEST21:26:36' [astropy.utils.metadata]\n",
      "/home/kcdage/anaconda/lib/python2.7/site-packages/astroquery/simbad/core.py:136: UserWarning: Warning: The script line number 3 raised an error (recorded in the `errors` attribute of the result table): '12:29:50.613 +8:00:23.24': No astronomical object found :\n",
      "  (error.line, error.msg))\n"
     ]
    },
    {
     "name": "stdout",
     "output_type": "stream",
     "text": [
      "<SkyCoord (ICRS): (ra, dec) in deg\n",
      "    ( 187.4608875,  8.00645556)>\n",
      "No catalog item found for this within 1 arcsecond, saving coordinates [u'12h29m50.613s'] [u'8d00m23.24s']\n"
     ]
    },
    {
     "name": "stderr",
     "output_type": "stream",
     "text": [
      "/home/kcdage/anaconda/lib/python2.7/site-packages/astroquery/simbad/core.py:136: UserWarning: Warning: The script line number 3 raised an error (recorded in the `errors` attribute of the result table): '12:29:43.094 +8:00:32.31': No astronomical object found :\n",
      "  (error.line, error.msg))\n"
     ]
    },
    {
     "name": "stdout",
     "output_type": "stream",
     "text": [
      "<SkyCoord (ICRS): (ra, dec) in deg\n",
      "    ( 187.42955833,  8.008975)>\n",
      "No catalog item found for this within 1 arcsecond, saving coordinates [u'12h29m43.094s'] [u'8d00m32.31s']\n"
     ]
    },
    {
     "name": "stderr",
     "output_type": "stream",
     "text": [
      "WARNING: MergeConflictWarning: Cannot merge meta key u'description' types <type 'unicode'> and <type 'unicode'>, choosing description=u'Simbad script executed on 2017.10.05CEST21:26:37' [astropy.utils.metadata]\n",
      "/home/kcdage/anaconda/lib/python2.7/site-packages/astroquery/simbad/core.py:136: UserWarning: Warning: The script line number 3 raised an error (recorded in the `errors` attribute of the result table): '12:29:39.453 +8:00:37.24': No astronomical object found :\n",
      "  (error.line, error.msg))\n"
     ]
    },
    {
     "name": "stdout",
     "output_type": "stream",
     "text": [
      "<SkyCoord (ICRS): (ra, dec) in deg\n",
      "    ( 187.4143875,  8.01034444)>\n",
      "No catalog item found for this within 1 arcsecond, saving coordinates [u'12h29m39.453s'] [u'8d00m37.24s']\n"
     ]
    },
    {
     "name": "stderr",
     "output_type": "stream",
     "text": [
      "/home/kcdage/anaconda/lib/python2.7/site-packages/astroquery/simbad/core.py:136: UserWarning: Warning: The script line number 3 raised an error (recorded in the `errors` attribute of the result table): '12:30:36.247 +8:00:43.29': No astronomical object found :\n",
      "  (error.line, error.msg))\n"
     ]
    },
    {
     "name": "stdout",
     "output_type": "stream",
     "text": [
      "<SkyCoord (ICRS): (ra, dec) in deg\n",
      "    ( 187.65102917,  8.012025)>\n",
      "No catalog item found for this within 1 arcsecond, saving coordinates [u'12h30m36.247s'] [u'8d00m43.29s']\n"
     ]
    },
    {
     "name": "stderr",
     "output_type": "stream",
     "text": [
      "/home/kcdage/anaconda/lib/python2.7/site-packages/astroquery/simbad/core.py:136: UserWarning: Warning: The script line number 3 raised an error (recorded in the `errors` attribute of the result table): '12:29:46.749 +8:00:45.41': No astronomical object found :\n",
      "  (error.line, error.msg))\n"
     ]
    },
    {
     "name": "stdout",
     "output_type": "stream",
     "text": [
      "<SkyCoord (ICRS): (ra, dec) in deg\n",
      "    ( 187.4447875,  8.01261389)>\n",
      "No catalog item found for this within 1 arcsecond, saving coordinates [u'12h29m46.749s'] [u'8d00m45.41s']\n"
     ]
    },
    {
     "name": "stderr",
     "output_type": "stream",
     "text": [
      "/home/kcdage/anaconda/lib/python2.7/site-packages/astroquery/simbad/core.py:136: UserWarning: Warning: The script line number 3 raised an error (recorded in the `errors` attribute of the result table): '12:29:53.05 +8:00:52.48': No astronomical object found :\n",
      "  (error.line, error.msg))\n"
     ]
    },
    {
     "name": "stdout",
     "output_type": "stream",
     "text": [
      "<SkyCoord (ICRS): (ra, dec) in deg\n",
      "    ( 187.47104167,  8.01457778)>\n",
      "No catalog item found for this within 1 arcsecond, saving coordinates [u'12h29m53.05s'] [u'8d00m52.48s']\n"
     ]
    },
    {
     "name": "stderr",
     "output_type": "stream",
     "text": [
      "/home/kcdage/anaconda/lib/python2.7/site-packages/astroquery/simbad/core.py:136: UserWarning: Warning: The script line number 3 raised an error (recorded in the `errors` attribute of the result table): '12:29:55.506 +8:00:53.17': No astronomical object found :\n",
      "  (error.line, error.msg))\n"
     ]
    },
    {
     "name": "stdout",
     "output_type": "stream",
     "text": [
      "<SkyCoord (ICRS): (ra, dec) in deg\n",
      "    ( 187.481275,  8.01476944)>\n",
      "No catalog item found for this within 1 arcsecond, saving coordinates [u'12h29m55.506s'] [u'8d00m53.17s']\n"
     ]
    },
    {
     "name": "stderr",
     "output_type": "stream",
     "text": [
      "WARNING: MergeConflictWarning: Cannot merge meta key u'description' types <type 'unicode'> and <type 'unicode'>, choosing description=u'Simbad script executed on 2017.10.05CEST21:26:39' [astropy.utils.metadata]\n",
      "/home/kcdage/anaconda/lib/python2.7/site-packages/astroquery/simbad/core.py:136: UserWarning: Warning: The script line number 3 raised an error (recorded in the `errors` attribute of the result table): '12:30:24.588 +8:01:12.15': No astronomical object found :\n",
      "  (error.line, error.msg))\n"
     ]
    },
    {
     "name": "stdout",
     "output_type": "stream",
     "text": [
      "<SkyCoord (ICRS): (ra, dec) in deg\n",
      "    ( 187.60245,  8.02004167)>\n",
      "No catalog item found for this within 1 arcsecond, saving coordinates [u'12h30m24.588s'] [u'8d01m12.15s']\n"
     ]
    },
    {
     "name": "stderr",
     "output_type": "stream",
     "text": [
      "/home/kcdage/anaconda/lib/python2.7/site-packages/astroquery/simbad/core.py:136: UserWarning: Warning: The script line number 3 raised an error (recorded in the `errors` attribute of the result table): '12:29:37.527 +8:01:15.9': No astronomical object found :\n",
      "  (error.line, error.msg))\n"
     ]
    },
    {
     "name": "stdout",
     "output_type": "stream",
     "text": [
      "<SkyCoord (ICRS): (ra, dec) in deg\n",
      "    ( 187.4063625,  8.02108333)>\n",
      "No catalog item found for this within 1 arcsecond, saving coordinates [u'12h29m37.527s'] [u'8d01m15.9s']\n"
     ]
    },
    {
     "name": "stderr",
     "output_type": "stream",
     "text": [
      "/home/kcdage/anaconda/lib/python2.7/site-packages/astroquery/simbad/core.py:136: UserWarning: Warning: The script line number 3 raised an error (recorded in the `errors` attribute of the result table): '12:29:47.664 +8:01:18.88': No astronomical object found :\n",
      "  (error.line, error.msg))\n"
     ]
    },
    {
     "name": "stdout",
     "output_type": "stream",
     "text": [
      "<SkyCoord (ICRS): (ra, dec) in deg\n",
      "    ( 187.4486,  8.02191111)>\n",
      "No catalog item found for this within 1 arcsecond, saving coordinates [u'12h29m47.664s'] [u'8d01m18.88s']\n"
     ]
    },
    {
     "name": "stderr",
     "output_type": "stream",
     "text": [
      "WARNING: MergeConflictWarning: Cannot merge meta key u'description' types <type 'unicode'> and <type 'unicode'>, choosing description=u'Simbad script executed on 2017.10.05CEST21:26:40' [astropy.utils.metadata]\n",
      "/home/kcdage/anaconda/lib/python2.7/site-packages/astroquery/simbad/core.py:136: UserWarning: Warning: The script line number 3 raised an error (recorded in the `errors` attribute of the result table): '12:30:05.05 +8:01:40.74': No astronomical object found :\n",
      "  (error.line, error.msg))\n"
     ]
    },
    {
     "name": "stdout",
     "output_type": "stream",
     "text": [
      "<SkyCoord (ICRS): (ra, dec) in deg\n",
      "    ( 187.52104167,  8.02798333)>\n",
      "No catalog item found for this within 1 arcsecond, saving coordinates [u'12h30m05.05s'] [u'8d01m40.74s']\n"
     ]
    },
    {
     "name": "stderr",
     "output_type": "stream",
     "text": [
      "/home/kcdage/anaconda/lib/python2.7/site-packages/astroquery/simbad/core.py:136: UserWarning: Warning: The script line number 3 raised an error (recorded in the `errors` attribute of the result table): '12:29:38.579 +8:01:43.12': No astronomical object found :\n",
      "  (error.line, error.msg))\n"
     ]
    },
    {
     "name": "stdout",
     "output_type": "stream",
     "text": [
      "<SkyCoord (ICRS): (ra, dec) in deg\n",
      "    ( 187.41074583,  8.02864444)>\n",
      "No catalog item found for this within 1 arcsecond, saving coordinates [u'12h29m38.579s'] [u'8d01m43.12s']\n"
     ]
    },
    {
     "name": "stderr",
     "output_type": "stream",
     "text": [
      "/home/kcdage/anaconda/lib/python2.7/site-packages/astroquery/simbad/core.py:136: UserWarning: Warning: The script line number 3 raised an error (recorded in the `errors` attribute of the result table): '12:29:59.298 +8:01:47.88': No astronomical object found :\n",
      "  (error.line, error.msg))\n"
     ]
    },
    {
     "name": "stdout",
     "output_type": "stream",
     "text": [
      "<SkyCoord (ICRS): (ra, dec) in deg\n",
      "    ( 187.497075,  8.02996667)>\n",
      "No catalog item found for this within 1 arcsecond, saving coordinates [u'12h29m59.298s'] [u'8d01m47.88s']\n"
     ]
    },
    {
     "name": "stderr",
     "output_type": "stream",
     "text": [
      "WARNING: MergeConflictWarning: Cannot merge meta key u'description' types <type 'unicode'> and <type 'unicode'>, choosing description=u'Simbad script executed on 2017.10.05CEST21:26:41' [astropy.utils.metadata]\n",
      "/home/kcdage/anaconda/lib/python2.7/site-packages/astroquery/simbad/core.py:136: UserWarning: Warning: The script line number 3 raised an error (recorded in the `errors` attribute of the result table): '12:30:03.347 +8:02:20.74': No astronomical object found :\n",
      "  (error.line, error.msg))\n"
     ]
    },
    {
     "name": "stdout",
     "output_type": "stream",
     "text": [
      "<SkyCoord (ICRS): (ra, dec) in deg\n",
      "    ( 187.51394583,  8.03909444)>\n",
      "No catalog item found for this within 1 arcsecond, saving coordinates [u'12h30m03.347s'] [u'8d02m20.74s']\n"
     ]
    },
    {
     "name": "stderr",
     "output_type": "stream",
     "text": [
      "/home/kcdage/anaconda/lib/python2.7/site-packages/astroquery/simbad/core.py:136: UserWarning: Warning: The script line number 3 raised an error (recorded in the `errors` attribute of the result table): '12:29:38.488 +8:02:26.25': No astronomical object found :\n",
      "  (error.line, error.msg))\n"
     ]
    },
    {
     "name": "stdout",
     "output_type": "stream",
     "text": [
      "<SkyCoord (ICRS): (ra, dec) in deg\n",
      "    ( 187.41036667,  8.040625)>\n",
      "No catalog item found for this within 1 arcsecond, saving coordinates [u'12h29m38.488s'] [u'8d02m26.25s']\n"
     ]
    },
    {
     "name": "stderr",
     "output_type": "stream",
     "text": [
      "WARNING: MergeConflictWarning: Cannot merge meta key u'description' types <type 'unicode'> and <type 'unicode'>, choosing description=u'Simbad script executed on 2017.10.05CEST21:26:42' [astropy.utils.metadata]\n",
      "/home/kcdage/anaconda/lib/python2.7/site-packages/astroquery/simbad/core.py:136: UserWarning: Warning: The script line number 3 raised an error (recorded in the `errors` attribute of the result table): '12:29:55.479 +8:02:59.65': No astronomical object found :\n",
      "  (error.line, error.msg))\n"
     ]
    },
    {
     "name": "stdout",
     "output_type": "stream",
     "text": [
      "<SkyCoord (ICRS): (ra, dec) in deg\n",
      "    ( 187.4811625,  8.04990278)>\n",
      "No catalog item found for this within 1 arcsecond, saving coordinates [u'12h29m55.479s'] [u'8d02m59.65s']\n"
     ]
    },
    {
     "name": "stderr",
     "output_type": "stream",
     "text": [
      "/home/kcdage/anaconda/lib/python2.7/site-packages/astroquery/simbad/core.py:136: UserWarning: Warning: The script line number 3 raised an error (recorded in the `errors` attribute of the result table): '12:29:43.885 +8:03:11.18': No astronomical object found :\n",
      "  (error.line, error.msg))\n"
     ]
    },
    {
     "name": "stdout",
     "output_type": "stream",
     "text": [
      "<SkyCoord (ICRS): (ra, dec) in deg\n",
      "    ( 187.43285417,  8.05310556)>\n",
      "No catalog item found for this within 1 arcsecond, saving coordinates [u'12h29m43.885s'] [u'8d03m11.18s']\n"
     ]
    },
    {
     "name": "stderr",
     "output_type": "stream",
     "text": [
      "/home/kcdage/anaconda/lib/python2.7/site-packages/astroquery/simbad/core.py:136: UserWarning: Warning: The script line number 3 raised an error (recorded in the `errors` attribute of the result table): '12:29:35.785 +8:03:19.44': No astronomical object found :\n",
      "  (error.line, error.msg))\n"
     ]
    },
    {
     "name": "stdout",
     "output_type": "stream",
     "text": [
      "<SkyCoord (ICRS): (ra, dec) in deg\n",
      "    ( 187.39910417,  8.0554)>\n",
      "No catalog item found for this within 1 arcsecond, saving coordinates [u'12h29m35.785s'] [u'8d03m19.44s']\n"
     ]
    },
    {
     "name": "stderr",
     "output_type": "stream",
     "text": [
      "WARNING: MergeConflictWarning: Cannot merge meta key u'description' types <type 'unicode'> and <type 'unicode'>, choosing description=u'Simbad script executed on 2017.10.05CEST21:26:44' [astropy.utils.metadata]\n",
      "/home/kcdage/anaconda/lib/python2.7/site-packages/astroquery/simbad/core.py:136: UserWarning: Warning: The script line number 3 raised an error (recorded in the `errors` attribute of the result table): '12:29:55.708 +8:03:55.57': No astronomical object found :\n",
      "  (error.line, error.msg))\n"
     ]
    },
    {
     "name": "stdout",
     "output_type": "stream",
     "text": [
      "<SkyCoord (ICRS): (ra, dec) in deg\n",
      "    ( 187.48211667,  8.06543611)>\n",
      "No catalog item found for this within 1 arcsecond, saving coordinates [u'12h29m55.708s'] [u'8d03m55.57s']\n"
     ]
    },
    {
     "name": "stderr",
     "output_type": "stream",
     "text": [
      "/home/kcdage/anaconda/lib/python2.7/site-packages/astroquery/simbad/core.py:136: UserWarning: Warning: The script line number 3 raised an error (recorded in the `errors` attribute of the result table): '12:29:48.891 +8:04:03.66': No astronomical object found :\n",
      "  (error.line, error.msg))\n"
     ]
    },
    {
     "name": "stdout",
     "output_type": "stream",
     "text": [
      "<SkyCoord (ICRS): (ra, dec) in deg\n",
      "    ( 187.4537125,  8.06768333)>\n",
      "No catalog item found for this within 1 arcsecond, saving coordinates [u'12h29m48.891s'] [u'8d04m03.66s']\n"
     ]
    },
    {
     "name": "stderr",
     "output_type": "stream",
     "text": [
      "/home/kcdage/anaconda/lib/python2.7/site-packages/astroquery/simbad/core.py:136: UserWarning: Warning: The script line number 3 raised an error (recorded in the `errors` attribute of the result table): '12:29:54.468 +8:04:11.31': No astronomical object found :\n",
      "  (error.line, error.msg))\n"
     ]
    },
    {
     "name": "stdout",
     "output_type": "stream",
     "text": [
      "<SkyCoord (ICRS): (ra, dec) in deg\n",
      "    ( 187.47695,  8.06980833)>\n",
      "No catalog item found for this within 1 arcsecond, saving coordinates [u'12h29m54.468s'] [u'8d04m11.31s']\n"
     ]
    },
    {
     "name": "stderr",
     "output_type": "stream",
     "text": [
      "/home/kcdage/anaconda/lib/python2.7/site-packages/astroquery/simbad/core.py:136: UserWarning: Warning: The script line number 3 raised an error (recorded in the `errors` attribute of the result table): '12:29:45.548 +8:04:22.77': No astronomical object found :\n",
      "  (error.line, error.msg))\n"
     ]
    },
    {
     "name": "stdout",
     "output_type": "stream",
     "text": [
      "<SkyCoord (ICRS): (ra, dec) in deg\n",
      "    ( 187.43978333,  8.07299167)>\n",
      "No catalog item found for this within 1 arcsecond, saving coordinates [u'12h29m45.548s'] [u'8d04m22.77s']\n"
     ]
    },
    {
     "name": "stderr",
     "output_type": "stream",
     "text": [
      "/home/kcdage/anaconda/lib/python2.7/site-packages/astroquery/simbad/core.py:136: UserWarning: Warning: The script line number 3 raised an error (recorded in the `errors` attribute of the result table): '12:29:56.336 +8:04:23.49': No astronomical object found :\n",
      "  (error.line, error.msg))\n"
     ]
    },
    {
     "name": "stdout",
     "output_type": "stream",
     "text": [
      "<SkyCoord (ICRS): (ra, dec) in deg\n",
      "    ( 187.48473333,  8.07319167)>\n",
      "No catalog item found for this within 1 arcsecond, saving coordinates [u'12h29m56.336s'] [u'8d04m23.49s']\n"
     ]
    },
    {
     "name": "stderr",
     "output_type": "stream",
     "text": [
      "/home/kcdage/anaconda/lib/python2.7/site-packages/astroquery/simbad/core.py:136: UserWarning: Warning: The script line number 3 raised an error (recorded in the `errors` attribute of the result table): '12:30:06.653 +8:04:26.38': No astronomical object found :\n",
      "  (error.line, error.msg))\n"
     ]
    },
    {
     "name": "stdout",
     "output_type": "stream",
     "text": [
      "<SkyCoord (ICRS): (ra, dec) in deg\n",
      "    ( 187.52772083,  8.07399444)>\n",
      "No catalog item found for this within 1 arcsecond, saving coordinates [u'12h30m06.653s'] [u'8d04m26.38s']\n"
     ]
    },
    {
     "name": "stderr",
     "output_type": "stream",
     "text": [
      "WARNING: MergeConflictWarning: Cannot merge meta key u'description' types <type 'unicode'> and <type 'unicode'>, choosing description=u'Simbad script executed on 2017.10.05CEST21:26:46' [astropy.utils.metadata]\n",
      "/home/kcdage/anaconda/lib/python2.7/site-packages/astroquery/simbad/core.py:136: UserWarning: Warning: The script line number 3 raised an error (recorded in the `errors` attribute of the result table): '12:29:58.621 +8:04:30.35': No astronomical object found :\n",
      "  (error.line, error.msg))\n"
     ]
    },
    {
     "name": "stdout",
     "output_type": "stream",
     "text": [
      "<SkyCoord (ICRS): (ra, dec) in deg\n",
      "    ( 187.49425417,  8.07509722)>\n",
      "No catalog item found for this within 1 arcsecond, saving coordinates [u'12h29m58.621s'] [u'8d04m30.35s']\n"
     ]
    },
    {
     "name": "stderr",
     "output_type": "stream",
     "text": [
      "/home/kcdage/anaconda/lib/python2.7/site-packages/astroquery/simbad/core.py:136: UserWarning: Warning: The script line number 3 raised an error (recorded in the `errors` attribute of the result table): '12:29:57.7 +8:04:30.88': No astronomical object found :\n",
      "  (error.line, error.msg))\n"
     ]
    },
    {
     "name": "stdout",
     "output_type": "stream",
     "text": [
      "<SkyCoord (ICRS): (ra, dec) in deg\n",
      "    ( 187.49041667,  8.07524444)>\n",
      "No catalog item found for this within 1 arcsecond, saving coordinates [u'12h29m57.7s'] [u'8d04m30.88s']\n"
     ]
    },
    {
     "name": "stderr",
     "output_type": "stream",
     "text": [
      "/home/kcdage/anaconda/lib/python2.7/site-packages/astroquery/simbad/core.py:136: UserWarning: Warning: The script line number 3 raised an error (recorded in the `errors` attribute of the result table): '12:29:46.804 +8:04:31.26': No astronomical object found :\n",
      "  (error.line, error.msg))\n"
     ]
    },
    {
     "name": "stdout",
     "output_type": "stream",
     "text": [
      "<SkyCoord (ICRS): (ra, dec) in deg\n",
      "    ( 187.44501667,  8.07535)>\n",
      "No catalog item found for this within 1 arcsecond, saving coordinates [u'12h29m46.804s'] [u'8d04m31.26s']\n"
     ]
    },
    {
     "name": "stderr",
     "output_type": "stream",
     "text": [
      "/home/kcdage/anaconda/lib/python2.7/site-packages/astroquery/simbad/core.py:136: UserWarning: Warning: The script line number 3 raised an error (recorded in the `errors` attribute of the result table): '12:29:41.23 +8:04:48.43': No astronomical object found :\n",
      "  (error.line, error.msg))\n"
     ]
    },
    {
     "name": "stdout",
     "output_type": "stream",
     "text": [
      "<SkyCoord (ICRS): (ra, dec) in deg\n",
      "    ( 187.42179167,  8.08011944)>\n",
      "No catalog item found for this within 1 arcsecond, saving coordinates [u'12h29m41.23s'] [u'8d04m48.43s']\n"
     ]
    },
    {
     "name": "stderr",
     "output_type": "stream",
     "text": [
      "/home/kcdage/anaconda/lib/python2.7/site-packages/astroquery/simbad/core.py:136: UserWarning: Warning: The script line number 3 raised an error (recorded in the `errors` attribute of the result table): '12:30:34.488 +8:05:26.93': No astronomical object found :\n",
      "  (error.line, error.msg))\n"
     ]
    },
    {
     "name": "stdout",
     "output_type": "stream",
     "text": [
      "<SkyCoord (ICRS): (ra, dec) in deg\n",
      "    ( 187.6437,  8.09081389)>\n",
      "No catalog item found for this within 1 arcsecond, saving coordinates [u'12h30m34.488s'] [u'8d05m26.93s']\n"
     ]
    },
    {
     "name": "stderr",
     "output_type": "stream",
     "text": [
      "/home/kcdage/anaconda/lib/python2.7/site-packages/astroquery/simbad/core.py:136: UserWarning: Warning: The script line number 3 raised an error (recorded in the `errors` attribute of the result table): '12:30:34.695 +8:05:27.42': No astronomical object found :\n",
      "  (error.line, error.msg))\n"
     ]
    },
    {
     "name": "stdout",
     "output_type": "stream",
     "text": [
      "<SkyCoord (ICRS): (ra, dec) in deg\n",
      "    ( 187.6445625,  8.09095)>\n",
      "No catalog item found for this within 1 arcsecond, saving coordinates [u'12h30m34.695s'] [u'8d05m27.42s']\n"
     ]
    },
    {
     "name": "stderr",
     "output_type": "stream",
     "text": [
      "/home/kcdage/anaconda/lib/python2.7/site-packages/astroquery/simbad/core.py:136: UserWarning: Warning: The script line number 3 raised an error (recorded in the `errors` attribute of the result table): '12:29:49.65 +8:05:27.37': No astronomical object found :\n",
      "  (error.line, error.msg))\n"
     ]
    },
    {
     "name": "stdout",
     "output_type": "stream",
     "text": [
      "<SkyCoord (ICRS): (ra, dec) in deg\n",
      "    ( 187.456875,  8.09093611)>\n",
      "No catalog item found for this within 1 arcsecond, saving coordinates [u'12h29m49.65s'] [u'8d05m27.37s']\n"
     ]
    },
    {
     "name": "stderr",
     "output_type": "stream",
     "text": [
      "WARNING: MergeConflictWarning: Cannot merge meta key u'description' types <type 'unicode'> and <type 'unicode'>, choosing description=u'Simbad script executed on 2017.10.05CEST21:26:49' [astropy.utils.metadata]\n",
      "/home/kcdage/anaconda/lib/python2.7/site-packages/astroquery/simbad/core.py:136: UserWarning: Warning: The script line number 3 raised an error (recorded in the `errors` attribute of the result table): '12:29:57.422 +8:08:00.38': No astronomical object found :\n",
      "  (error.line, error.msg))\n"
     ]
    },
    {
     "name": "stdout",
     "output_type": "stream",
     "text": [
      "<SkyCoord (ICRS): (ra, dec) in deg\n",
      "    ( 187.48925833,  8.13343889)>\n",
      "No catalog item found for this within 1 arcsecond, saving coordinates [u'12h29m57.422s'] [u'8d08m00.38s']\n"
     ]
    },
    {
     "name": "stderr",
     "output_type": "stream",
     "text": [
      "/home/kcdage/anaconda/lib/python2.7/site-packages/astroquery/simbad/core.py:136: UserWarning: Warning: The script line number 3 raised an error (recorded in the `errors` attribute of the result table): '12:29:58.385 +8:10:09.81': No astronomical object found :\n",
      "  (error.line, error.msg))\n"
     ]
    },
    {
     "name": "stdout",
     "output_type": "stream",
     "text": [
      "<SkyCoord (ICRS): (ra, dec) in deg\n",
      "    ( 187.49327083,  8.16939167)>\n",
      "No catalog item found for this within 1 arcsecond, saving coordinates [u'12h29m58.385s'] [u'8d10m09.81s']\n"
     ]
    },
    {
     "name": "stderr",
     "output_type": "stream",
     "text": [
      "/home/kcdage/anaconda/lib/python2.7/site-packages/astroquery/simbad/core.py:136: UserWarning: Warning: The script line number 3 raised an error (recorded in the `errors` attribute of the result table): '12:29:58.286 +8:20:37.33': No astronomical object found :\n",
      "  (error.line, error.msg))\n"
     ]
    },
    {
     "name": "stdout",
     "output_type": "stream",
     "text": [
      "<SkyCoord (ICRS): (ra, dec) in deg\n",
      "    ( 187.49285833,  8.34370278)>\n",
      "No catalog item found for this within 1 arcsecond, saving coordinates [u'12h29m58.286s'] [u'8d20m37.33s']\n"
     ]
    },
    {
     "name": "stderr",
     "output_type": "stream",
     "text": [
      "/home/kcdage/anaconda/lib/python2.7/site-packages/astroquery/simbad/core.py:136: UserWarning: Warning: The script line number 3 raised an error (recorded in the `errors` attribute of the result table): '12:29:50.51 +8:20:55.08': No astronomical object found :\n",
      "  (error.line, error.msg))\n"
     ]
    },
    {
     "name": "stdout",
     "output_type": "stream",
     "text": [
      "<SkyCoord (ICRS): (ra, dec) in deg\n",
      "    ( 187.46045833,  8.34863333)>\n",
      "No catalog item found for this within 1 arcsecond, saving coordinates [u'12h29m50.51s'] [u'8d20m55.08s']\n"
     ]
    },
    {
     "name": "stderr",
     "output_type": "stream",
     "text": [
      "/home/kcdage/anaconda/lib/python2.7/site-packages/astroquery/simbad/core.py:136: UserWarning: Warning: The script line number 3 raised an error (recorded in the `errors` attribute of the result table): '12:29:51.017 +7:44:31.88': No astronomical object found :\n",
      "  (error.line, error.msg))\n"
     ]
    },
    {
     "name": "stdout",
     "output_type": "stream",
     "text": [
      "<SkyCoord (ICRS): (ra, dec) in deg\n",
      "    ( 187.46257083,  7.74218889)>\n",
      "No catalog item found for this within 1 arcsecond, saving coordinates [u'12h29m51.017s'] [u'7d44m31.88s']\n"
     ]
    },
    {
     "name": "stderr",
     "output_type": "stream",
     "text": [
      "/home/kcdage/anaconda/lib/python2.7/site-packages/astroquery/simbad/core.py:136: UserWarning: Warning: The script line number 3 raised an error (recorded in the `errors` attribute of the result table): '12:29:44.876 +7:52:40.35': No astronomical object found :\n",
      "  (error.line, error.msg))\n"
     ]
    },
    {
     "name": "stdout",
     "output_type": "stream",
     "text": [
      "<SkyCoord (ICRS): (ra, dec) in deg\n",
      "    ( 187.43698333,  7.877875)>\n",
      "No catalog item found for this within 1 arcsecond, saving coordinates [u'12h29m44.876s'] [u'7d52m40.35s']\n"
     ]
    },
    {
     "name": "stderr",
     "output_type": "stream",
     "text": [
      "/home/kcdage/anaconda/lib/python2.7/site-packages/astroquery/simbad/core.py:136: UserWarning: Warning: The script line number 3 raised an error (recorded in the `errors` attribute of the result table): '12:29:35.61 +7:53:30': No astronomical object found :\n",
      "  (error.line, error.msg))\n"
     ]
    },
    {
     "name": "stdout",
     "output_type": "stream",
     "text": [
      "<SkyCoord (ICRS): (ra, dec) in deg\n",
      "    ( 187.398375,  7.89166667)>\n",
      "No catalog item found for this within 1 arcsecond, saving coordinates [u'12h29m35.61s'] [u'7d53m30s']\n"
     ]
    },
    {
     "name": "stderr",
     "output_type": "stream",
     "text": [
      "WARNING: MergeConflictWarning: Cannot merge meta key u'description' types <type 'unicode'> and <type 'unicode'>, choosing description=u'Simbad script executed on 2017.10.05CEST21:26:51' [astropy.utils.metadata]\n",
      "/home/kcdage/anaconda/lib/python2.7/site-packages/astroquery/simbad/core.py:136: UserWarning: Warning: The script line number 3 raised an error (recorded in the `errors` attribute of the result table): '12:29:42.5 +7:54:51.34': No astronomical object found :\n",
      "  (error.line, error.msg))\n"
     ]
    },
    {
     "name": "stdout",
     "output_type": "stream",
     "text": [
      "<SkyCoord (ICRS): (ra, dec) in deg\n",
      "    ( 187.42708333,  7.91426111)>\n",
      "No catalog item found for this within 1 arcsecond, saving coordinates [u'12h29m42.5s'] [u'7d54m51.34s']\n"
     ]
    },
    {
     "name": "stderr",
     "output_type": "stream",
     "text": [
      "/home/kcdage/anaconda/lib/python2.7/site-packages/astroquery/simbad/core.py:136: UserWarning: Warning: The script line number 3 raised an error (recorded in the `errors` attribute of the result table): '12:29:38.198 +7:55:17.85': No astronomical object found :\n",
      "  (error.line, error.msg))\n"
     ]
    },
    {
     "name": "stdout",
     "output_type": "stream",
     "text": [
      "<SkyCoord (ICRS): (ra, dec) in deg\n",
      "    ( 187.40915833,  7.921625)>\n",
      "No catalog item found for this within 1 arcsecond, saving coordinates [u'12h29m38.198s'] [u'7d55m17.85s']\n"
     ]
    },
    {
     "name": "stderr",
     "output_type": "stream",
     "text": [
      "/home/kcdage/anaconda/lib/python2.7/site-packages/astroquery/simbad/core.py:136: UserWarning: Warning: The script line number 3 raised an error (recorded in the `errors` attribute of the result table): '12:29:50.299 +7:55:34.14': No astronomical object found :\n",
      "  (error.line, error.msg))\n"
     ]
    },
    {
     "name": "stdout",
     "output_type": "stream",
     "text": [
      "<SkyCoord (ICRS): (ra, dec) in deg\n",
      "    ( 187.45957917,  7.92615)>\n",
      "No catalog item found for this within 1 arcsecond, saving coordinates [u'12h29m50.299s'] [u'7d55m34.14s']\n"
     ]
    },
    {
     "name": "stderr",
     "output_type": "stream",
     "text": [
      "WARNING: MergeConflictWarning: Cannot merge meta key u'description' types <type 'unicode'> and <type 'unicode'>, choosing description=u'Simbad script executed on 2017.10.05CEST21:26:53' [astropy.utils.metadata]\n",
      "/home/kcdage/anaconda/lib/python2.7/site-packages/astroquery/simbad/core.py:136: UserWarning: Warning: The script line number 3 raised an error (recorded in the `errors` attribute of the result table): '12:29:47.279 +7:56:12.96': No astronomical object found :\n",
      "  (error.line, error.msg))\n"
     ]
    },
    {
     "name": "stdout",
     "output_type": "stream",
     "text": [
      "<SkyCoord (ICRS): (ra, dec) in deg\n",
      "    ( 187.44699583,  7.93693333)>\n",
      "No catalog item found for this within 1 arcsecond, saving coordinates [u'12h29m47.279s'] [u'7d56m12.96s']\n"
     ]
    },
    {
     "name": "stderr",
     "output_type": "stream",
     "text": [
      "/home/kcdage/anaconda/lib/python2.7/site-packages/astroquery/simbad/core.py:136: UserWarning: Warning: The script line number 3 raised an error (recorded in the `errors` attribute of the result table): '12:29:55.039 +7:56:17.9': No astronomical object found :\n",
      "  (error.line, error.msg))\n"
     ]
    },
    {
     "name": "stdout",
     "output_type": "stream",
     "text": [
      "<SkyCoord (ICRS): (ra, dec) in deg\n",
      "    ( 187.47932917,  7.93830556)>\n",
      "No catalog item found for this within 1 arcsecond, saving coordinates [u'12h29m55.039s'] [u'7d56m17.9s']\n"
     ]
    },
    {
     "name": "stderr",
     "output_type": "stream",
     "text": [
      "/home/kcdage/anaconda/lib/python2.7/site-packages/astroquery/simbad/core.py:136: UserWarning: Warning: The script line number 3 raised an error (recorded in the `errors` attribute of the result table): '12:29:52.965 +7:56:30.57': No astronomical object found :\n",
      "  (error.line, error.msg))\n"
     ]
    },
    {
     "name": "stdout",
     "output_type": "stream",
     "text": [
      "<SkyCoord (ICRS): (ra, dec) in deg\n",
      "    ( 187.4706875,  7.941825)>\n",
      "No catalog item found for this within 1 arcsecond, saving coordinates [u'12h29m52.965s'] [u'7d56m30.57s']\n"
     ]
    },
    {
     "name": "stderr",
     "output_type": "stream",
     "text": [
      "WARNING: MergeConflictWarning: Cannot merge meta key u'description' types <type 'unicode'> and <type 'unicode'>, choosing description=u'Simbad script executed on 2017.10.05CEST21:26:54' [astropy.utils.metadata]\n",
      "/home/kcdage/anaconda/lib/python2.7/site-packages/astroquery/simbad/core.py:136: UserWarning: Warning: The script line number 3 raised an error (recorded in the `errors` attribute of the result table): '12:30:01.944 +7:57:18.28': No astronomical object found :\n",
      "  (error.line, error.msg))\n"
     ]
    },
    {
     "name": "stdout",
     "output_type": "stream",
     "text": [
      "<SkyCoord (ICRS): (ra, dec) in deg\n",
      "    ( 187.5081,  7.95507778)>\n",
      "No catalog item found for this within 1 arcsecond, saving coordinates [u'12h30m01.944s'] [u'7d57m18.28s']\n"
     ]
    },
    {
     "name": "stderr",
     "output_type": "stream",
     "text": [
      "WARNING: MergeConflictWarning: Cannot merge meta key u'description' types <type 'unicode'> and <type 'unicode'>, choosing description=u'Simbad script executed on 2017.10.05CEST21:26:55' [astropy.utils.metadata]\n",
      "/home/kcdage/anaconda/lib/python2.7/site-packages/astroquery/simbad/core.py:136: UserWarning: Warning: The script line number 3 raised an error (recorded in the `errors` attribute of the result table): '12:29:43.066 +7:57:26.87': No astronomical object found :\n",
      "  (error.line, error.msg))\n"
     ]
    },
    {
     "name": "stdout",
     "output_type": "stream",
     "text": [
      "<SkyCoord (ICRS): (ra, dec) in deg\n",
      "    ( 187.42944167,  7.95746389)>\n",
      "No catalog item found for this within 1 arcsecond, saving coordinates [u'12h29m43.066s'] [u'7d57m26.87s']\n"
     ]
    },
    {
     "name": "stderr",
     "output_type": "stream",
     "text": [
      "/home/kcdage/anaconda/lib/python2.7/site-packages/astroquery/simbad/core.py:136: UserWarning: Warning: The script line number 3 raised an error (recorded in the `errors` attribute of the result table): '12:29:59.907 +7:57:30.02': No astronomical object found :\n",
      "  (error.line, error.msg))\n"
     ]
    },
    {
     "name": "stdout",
     "output_type": "stream",
     "text": [
      "<SkyCoord (ICRS): (ra, dec) in deg\n",
      "    ( 187.4996125,  7.95833889)>\n",
      "No catalog item found for this within 1 arcsecond, saving coordinates [u'12h29m59.907s'] [u'7d57m30.02s']\n"
     ]
    },
    {
     "name": "stderr",
     "output_type": "stream",
     "text": [
      "/home/kcdage/anaconda/lib/python2.7/site-packages/astroquery/simbad/core.py:136: UserWarning: Warning: The script line number 3 raised an error (recorded in the `errors` attribute of the result table): '12:29:43.775 +7:57:30.55': No astronomical object found :\n",
      "  (error.line, error.msg))\n"
     ]
    },
    {
     "name": "stdout",
     "output_type": "stream",
     "text": [
      "<SkyCoord (ICRS): (ra, dec) in deg\n",
      "    ( 187.43239583,  7.95848611)>\n",
      "No catalog item found for this within 1 arcsecond, saving coordinates [u'12h29m43.775s'] [u'7d57m30.55s']\n"
     ]
    },
    {
     "name": "stderr",
     "output_type": "stream",
     "text": [
      "WARNING: MergeConflictWarning: Cannot merge meta key u'description' types <type 'unicode'> and <type 'unicode'>, choosing description=u'Simbad script executed on 2017.10.05CEST21:26:56' [astropy.utils.metadata]\n",
      "WARNING: MergeConflictWarning: Cannot merge meta key u'description' types <type 'unicode'> and <type 'unicode'>, choosing description=u'Simbad script executed on 2017.10.05CEST21:26:57' [astropy.utils.metadata]\n",
      "/home/kcdage/anaconda/lib/python2.7/site-packages/astroquery/simbad/core.py:136: UserWarning: Warning: The script line number 3 raised an error (recorded in the `errors` attribute of the result table): '12:30:01.344 +7:57:53.79': No astronomical object found :\n",
      "  (error.line, error.msg))\n"
     ]
    },
    {
     "name": "stdout",
     "output_type": "stream",
     "text": [
      "<SkyCoord (ICRS): (ra, dec) in deg\n",
      "    ( 187.5056,  7.96494167)>\n",
      "No catalog item found for this within 1 arcsecond, saving coordinates [u'12h30m01.344s'] [u'7d57m53.79s']\n"
     ]
    },
    {
     "name": "stderr",
     "output_type": "stream",
     "text": [
      "/home/kcdage/anaconda/lib/python2.7/site-packages/astroquery/simbad/core.py:136: UserWarning: Warning: The script line number 3 raised an error (recorded in the `errors` attribute of the result table): '12:29:43.849 +7:57:56.14': No astronomical object found :\n",
      "  (error.line, error.msg))\n"
     ]
    },
    {
     "name": "stdout",
     "output_type": "stream",
     "text": [
      "<SkyCoord (ICRS): (ra, dec) in deg\n",
      "    ( 187.43270417,  7.96559444)>\n",
      "No catalog item found for this within 1 arcsecond, saving coordinates [u'12h29m43.849s'] [u'7d57m56.14s']\n"
     ]
    },
    {
     "name": "stderr",
     "output_type": "stream",
     "text": [
      "WARNING: MergeConflictWarning: Cannot merge meta key u'description' types <type 'unicode'> and <type 'unicode'>, choosing description=u'Simbad script executed on 2017.10.05CEST21:26:58' [astropy.utils.metadata]\n",
      "/home/kcdage/anaconda/lib/python2.7/site-packages/astroquery/simbad/core.py:136: UserWarning: Warning: The script line number 3 raised an error (recorded in the `errors` attribute of the result table): '12:29:32.864 +7:58:14.19': No astronomical object found :\n",
      "  (error.line, error.msg))\n"
     ]
    },
    {
     "name": "stdout",
     "output_type": "stream",
     "text": [
      "<SkyCoord (ICRS): (ra, dec) in deg\n",
      "    ( 187.38693333,  7.97060833)>\n",
      "No catalog item found for this within 1 arcsecond, saving coordinates [u'12h29m32.864s'] [u'7d58m14.19s']\n"
     ]
    },
    {
     "name": "stderr",
     "output_type": "stream",
     "text": [
      "/home/kcdage/anaconda/lib/python2.7/site-packages/astroquery/simbad/core.py:136: UserWarning: Warning: The script line number 3 raised an error (recorded in the `errors` attribute of the result table): '12:29:56.218 +7:58:22.61': No astronomical object found :\n",
      "  (error.line, error.msg))\n"
     ]
    },
    {
     "name": "stdout",
     "output_type": "stream",
     "text": [
      "<SkyCoord (ICRS): (ra, dec) in deg\n",
      "    ( 187.48424167,  7.97294722)>\n",
      "No catalog item found for this within 1 arcsecond, saving coordinates [u'12h29m56.218s'] [u'7d58m22.61s']\n"
     ]
    },
    {
     "name": "stderr",
     "output_type": "stream",
     "text": [
      "/home/kcdage/anaconda/lib/python2.7/site-packages/astroquery/simbad/core.py:136: UserWarning: Warning: The script line number 3 raised an error (recorded in the `errors` attribute of the result table): '12:29:30.009 +7:58:37.48': No astronomical object found :\n",
      "  (error.line, error.msg))\n"
     ]
    },
    {
     "name": "stdout",
     "output_type": "stream",
     "text": [
      "<SkyCoord (ICRS): (ra, dec) in deg\n",
      "    ( 187.3750375,  7.97707778)>\n",
      "No catalog item found for this within 1 arcsecond, saving coordinates [u'12h29m30.009s'] [u'7d58m37.48s']\n"
     ]
    },
    {
     "name": "stderr",
     "output_type": "stream",
     "text": [
      "/home/kcdage/anaconda/lib/python2.7/site-packages/astroquery/simbad/core.py:136: UserWarning: Warning: The script line number 3 raised an error (recorded in the `errors` attribute of the result table): '12:29:41.201 +7:59:30.57': No astronomical object found :\n",
      "  (error.line, error.msg))\n"
     ]
    },
    {
     "name": "stdout",
     "output_type": "stream",
     "text": [
      "<SkyCoord (ICRS): (ra, dec) in deg\n",
      "    ( 187.42167083,  7.991825)>\n",
      "No catalog item found for this within 1 arcsecond, saving coordinates [u'12h29m41.201s'] [u'7d59m30.57s']\n"
     ]
    },
    {
     "name": "stderr",
     "output_type": "stream",
     "text": [
      "/home/kcdage/anaconda/lib/python2.7/site-packages/astroquery/simbad/core.py:136: UserWarning: Warning: The script line number 3 raised an error (recorded in the `errors` attribute of the result table): '12:29:59.412 +7:59:54.32': No astronomical object found :\n",
      "  (error.line, error.msg))\n"
     ]
    },
    {
     "name": "stdout",
     "output_type": "stream",
     "text": [
      "<SkyCoord (ICRS): (ra, dec) in deg\n",
      "    ( 187.49755,  7.99842222)>\n",
      "No catalog item found for this within 1 arcsecond, saving coordinates [u'12h29m59.412s'] [u'7d59m54.32s']\n"
     ]
    },
    {
     "name": "stderr",
     "output_type": "stream",
     "text": [
      "WARNING: MergeConflictWarning: Cannot merge meta key u'description' types <type 'unicode'> and <type 'unicode'>, choosing description=u'Simbad script executed on 2017.10.05CEST21:27:00' [astropy.utils.metadata]\n",
      "/home/kcdage/anaconda/lib/python2.7/site-packages/astroquery/simbad/core.py:136: UserWarning: Warning: The script line number 3 raised an error (recorded in the `errors` attribute of the result table): '12:30:17.032 +8:01:06.2': No astronomical object found :\n",
      "  (error.line, error.msg))\n"
     ]
    },
    {
     "name": "stdout",
     "output_type": "stream",
     "text": [
      "<SkyCoord (ICRS): (ra, dec) in deg\n",
      "    ( 187.57096667,  8.01838889)>\n",
      "No catalog item found for this within 1 arcsecond, saving coordinates [u'12h30m17.032s'] [u'8d01m06.2s']\n"
     ]
    },
    {
     "name": "stderr",
     "output_type": "stream",
     "text": [
      "WARNING: MergeConflictWarning: Cannot merge meta key u'description' types <type 'unicode'> and <type 'unicode'>, choosing description=u'Simbad script executed on 2017.10.05CEST21:27:01' [astropy.utils.metadata]\n",
      "/home/kcdage/anaconda/lib/python2.7/site-packages/astroquery/simbad/core.py:136: UserWarning: Warning: The script line number 3 raised an error (recorded in the `errors` attribute of the result table): '12:29:35.529 +8:01:23.99': No astronomical object found :\n",
      "  (error.line, error.msg))\n"
     ]
    },
    {
     "name": "stdout",
     "output_type": "stream",
     "text": [
      "<SkyCoord (ICRS): (ra, dec) in deg\n",
      "    ( 187.3980375,  8.02333056)>\n",
      "No catalog item found for this within 1 arcsecond, saving coordinates [u'12h29m35.529s'] [u'8d01m23.99s']\n"
     ]
    },
    {
     "name": "stderr",
     "output_type": "stream",
     "text": [
      "/home/kcdage/anaconda/lib/python2.7/site-packages/astroquery/simbad/core.py:136: UserWarning: Warning: The script line number 3 raised an error (recorded in the `errors` attribute of the result table): '12:30:27.549 +8:02:27.34': No astronomical object found :\n",
      "  (error.line, error.msg))\n"
     ]
    },
    {
     "name": "stdout",
     "output_type": "stream",
     "text": [
      "<SkyCoord (ICRS): (ra, dec) in deg\n",
      "    ( 187.6147875,  8.04092778)>\n",
      "No catalog item found for this within 1 arcsecond, saving coordinates [u'12h30m27.549s'] [u'8d02m27.34s']\n"
     ]
    },
    {
     "name": "stderr",
     "output_type": "stream",
     "text": [
      "/home/kcdage/anaconda/lib/python2.7/site-packages/astroquery/simbad/core.py:136: UserWarning: Warning: The script line number 3 raised an error (recorded in the `errors` attribute of the result table): '12:30:03.417 +8:02:49': No astronomical object found :\n",
      "  (error.line, error.msg))\n"
     ]
    },
    {
     "name": "stdout",
     "output_type": "stream",
     "text": [
      "<SkyCoord (ICRS): (ra, dec) in deg\n",
      "    ( 187.5142375,  8.04694444)>\n",
      "No catalog item found for this within 1 arcsecond, saving coordinates [u'12h30m03.417s'] [u'8d02m49s']\n"
     ]
    },
    {
     "name": "stderr",
     "output_type": "stream",
     "text": [
      "/home/kcdage/anaconda/lib/python2.7/site-packages/astroquery/simbad/core.py:136: UserWarning: Warning: The script line number 3 raised an error (recorded in the `errors` attribute of the result table): '12:30:04.915 +8:03:16.38': No astronomical object found :\n",
      "  (error.line, error.msg))\n"
     ]
    },
    {
     "name": "stdout",
     "output_type": "stream",
     "text": [
      "<SkyCoord (ICRS): (ra, dec) in deg\n",
      "    ( 187.52047917,  8.05455)>\n",
      "No catalog item found for this within 1 arcsecond, saving coordinates [u'12h30m04.915s'] [u'8d03m16.38s']\n"
     ]
    },
    {
     "name": "stderr",
     "output_type": "stream",
     "text": [
      "/home/kcdage/anaconda/lib/python2.7/site-packages/astroquery/simbad/core.py:136: UserWarning: Warning: The script line number 3 raised an error (recorded in the `errors` attribute of the result table): '12:29:44.143 +8:03:24.1': No astronomical object found :\n",
      "  (error.line, error.msg))\n"
     ]
    },
    {
     "name": "stdout",
     "output_type": "stream",
     "text": [
      "<SkyCoord (ICRS): (ra, dec) in deg\n",
      "    ( 187.43392917,  8.05669444)>\n",
      "No catalog item found for this within 1 arcsecond, saving coordinates [u'12h29m44.143s'] [u'8d03m24.1s']\n"
     ]
    },
    {
     "name": "stderr",
     "output_type": "stream",
     "text": [
      "/home/kcdage/anaconda/lib/python2.7/site-packages/astroquery/simbad/core.py:136: UserWarning: Warning: The script line number 3 raised an error (recorded in the `errors` attribute of the result table): '12:30:07.07 +8:03:45.6': No astronomical object found :\n",
      "  (error.line, error.msg))\n"
     ]
    },
    {
     "name": "stdout",
     "output_type": "stream",
     "text": [
      "<SkyCoord (ICRS): (ra, dec) in deg\n",
      "    ( 187.52945833,  8.06266667)>\n",
      "No catalog item found for this within 1 arcsecond, saving coordinates [u'12h30m07.07s'] [u'8d03m45.6s']\n"
     ]
    },
    {
     "name": "stderr",
     "output_type": "stream",
     "text": [
      "WARNING: MergeConflictWarning: Cannot merge meta key u'description' types <type 'unicode'> and <type 'unicode'>, choosing description=u'Simbad script executed on 2017.10.05CEST21:27:04' [astropy.utils.metadata]\n",
      "/home/kcdage/anaconda/lib/python2.7/site-packages/astroquery/simbad/core.py:136: UserWarning: Warning: The script line number 3 raised an error (recorded in the `errors` attribute of the result table): '12:30:02.839 +8:05:03.71': No astronomical object found :\n",
      "  (error.line, error.msg))\n"
     ]
    },
    {
     "name": "stdout",
     "output_type": "stream",
     "text": [
      "<SkyCoord (ICRS): (ra, dec) in deg\n",
      "    ( 187.51182917,  8.08436389)>\n",
      "No catalog item found for this within 1 arcsecond, saving coordinates [u'12h30m02.839s'] [u'8d05m03.71s']\n"
     ]
    },
    {
     "name": "stderr",
     "output_type": "stream",
     "text": [
      "/home/kcdage/anaconda/lib/python2.7/site-packages/astroquery/simbad/core.py:136: UserWarning: Warning: The script line number 3 raised an error (recorded in the `errors` attribute of the result table): '12:29:50.366 +8:05:16.27': No astronomical object found :\n",
      "  (error.line, error.msg))\n"
     ]
    },
    {
     "name": "stdout",
     "output_type": "stream",
     "text": [
      "<SkyCoord (ICRS): (ra, dec) in deg\n",
      "    ( 187.45985833,  8.08785278)>\n",
      "No catalog item found for this within 1 arcsecond, saving coordinates [u'12h29m50.366s'] [u'8d05m16.27s']\n"
     ]
    },
    {
     "name": "stderr",
     "output_type": "stream",
     "text": [
      "WARNING: MergeConflictWarning: Cannot merge meta key u'description' types <type 'unicode'> and <type 'unicode'>, choosing description=u'Simbad script executed on 2017.10.05CEST21:27:05' [astropy.utils.metadata]\n",
      "/home/kcdage/anaconda/lib/python2.7/site-packages/astroquery/simbad/core.py:136: UserWarning: Warning: The script line number 3 raised an error (recorded in the `errors` attribute of the result table): '12:29:48.335 +8:06:38.93': No astronomical object found :\n",
      "  (error.line, error.msg))\n"
     ]
    },
    {
     "name": "stdout",
     "output_type": "stream",
     "text": [
      "<SkyCoord (ICRS): (ra, dec) in deg\n",
      "    ( 187.45139583,  8.11081389)>\n",
      "No catalog item found for this within 1 arcsecond, saving coordinates [u'12h29m48.335s'] [u'8d06m38.93s']\n"
     ]
    },
    {
     "name": "stderr",
     "output_type": "stream",
     "text": [
      "/home/kcdage/anaconda/lib/python2.7/site-packages/astroquery/simbad/core.py:136: UserWarning: Warning: The script line number 3 raised an error (recorded in the `errors` attribute of the result table): '12:29:43.785 +8:06:42.13': No astronomical object found :\n",
      "  (error.line, error.msg))\n"
     ]
    },
    {
     "name": "stdout",
     "output_type": "stream",
     "text": [
      "<SkyCoord (ICRS): (ra, dec) in deg\n",
      "    ( 187.4324375,  8.11170278)>\n",
      "No catalog item found for this within 1 arcsecond, saving coordinates [u'12h29m43.785s'] [u'8d06m42.13s']\n"
     ]
    },
    {
     "name": "stderr",
     "output_type": "stream",
     "text": [
      "/home/kcdage/anaconda/lib/python2.7/site-packages/astroquery/simbad/core.py:136: UserWarning: Warning: The script line number 3 raised an error (recorded in the `errors` attribute of the result table): '12:29:54.192 +8:06:41.88': No astronomical object found :\n",
      "  (error.line, error.msg))\n"
     ]
    },
    {
     "name": "stdout",
     "output_type": "stream",
     "text": [
      "<SkyCoord (ICRS): (ra, dec) in deg\n",
      "    ( 187.4758,  8.11163333)>\n",
      "No catalog item found for this within 1 arcsecond, saving coordinates [u'12h29m54.192s'] [u'8d06m41.88s']\n"
     ]
    },
    {
     "name": "stderr",
     "output_type": "stream",
     "text": [
      "/home/kcdage/anaconda/lib/python2.7/site-packages/astroquery/simbad/core.py:136: UserWarning: Warning: The script line number 3 raised an error (recorded in the `errors` attribute of the result table): '12:29:52.035 +8:07:16.97': No astronomical object found :\n",
      "  (error.line, error.msg))\n"
     ]
    },
    {
     "name": "stdout",
     "output_type": "stream",
     "text": [
      "<SkyCoord (ICRS): (ra, dec) in deg\n",
      "    ( 187.4668125,  8.12138056)>\n",
      "No catalog item found for this within 1 arcsecond, saving coordinates [u'12h29m52.035s'] [u'8d07m16.97s']\n"
     ]
    },
    {
     "name": "stderr",
     "output_type": "stream",
     "text": [
      "/home/kcdage/anaconda/lib/python2.7/site-packages/astroquery/simbad/core.py:136: UserWarning: Warning: The script line number 3 raised an error (recorded in the `errors` attribute of the result table): '12:30:02.315 +8:07:19.47': No astronomical object found :\n",
      "  (error.line, error.msg))\n"
     ]
    },
    {
     "name": "stdout",
     "output_type": "stream",
     "text": [
      "<SkyCoord (ICRS): (ra, dec) in deg\n",
      "    ( 187.50964583,  8.122075)>\n",
      "No catalog item found for this within 1 arcsecond, saving coordinates [u'12h30m02.315s'] [u'8d07m19.47s']\n"
     ]
    },
    {
     "name": "stderr",
     "output_type": "stream",
     "text": [
      "/home/kcdage/anaconda/lib/python2.7/site-packages/astroquery/simbad/core.py:136: UserWarning: Warning: The script line number 3 raised an error (recorded in the `errors` attribute of the result table): '12:30:27.632 +8:07:30.66': No astronomical object found :\n",
      "  (error.line, error.msg))\n"
     ]
    },
    {
     "name": "stdout",
     "output_type": "stream",
     "text": [
      "<SkyCoord (ICRS): (ra, dec) in deg\n",
      "    ( 187.61513333,  8.12518333)>\n",
      "No catalog item found for this within 1 arcsecond, saving coordinates [u'12h30m27.632s'] [u'8d07m30.66s']\n"
     ]
    },
    {
     "name": "stderr",
     "output_type": "stream",
     "text": [
      "/home/kcdage/anaconda/lib/python2.7/site-packages/astroquery/simbad/core.py:136: UserWarning: Warning: The script line number 3 raised an error (recorded in the `errors` attribute of the result table): '12:30:08.062 +8:08:02.39': No astronomical object found :\n",
      "  (error.line, error.msg))\n"
     ]
    },
    {
     "name": "stdout",
     "output_type": "stream",
     "text": [
      "<SkyCoord (ICRS): (ra, dec) in deg\n",
      "    ( 187.53359167,  8.13399722)>\n",
      "No catalog item found for this within 1 arcsecond, saving coordinates [u'12h30m08.062s'] [u'8d08m02.39s']\n"
     ]
    },
    {
     "name": "stderr",
     "output_type": "stream",
     "text": [
      "/home/kcdage/anaconda/lib/python2.7/site-packages/astroquery/simbad/core.py:136: UserWarning: Warning: The script line number 3 raised an error (recorded in the `errors` attribute of the result table): '12:29:57.741 +8:08:04.97': No astronomical object found :\n",
      "  (error.line, error.msg))\n"
     ]
    },
    {
     "name": "stdout",
     "output_type": "stream",
     "text": [
      "<SkyCoord (ICRS): (ra, dec) in deg\n",
      "    ( 187.4905875,  8.13471389)>\n",
      "No catalog item found for this within 1 arcsecond, saving coordinates [u'12h29m57.741s'] [u'8d08m04.97s']\n"
     ]
    },
    {
     "name": "stderr",
     "output_type": "stream",
     "text": [
      "/home/kcdage/anaconda/lib/python2.7/site-packages/astroquery/simbad/core.py:136: UserWarning: Warning: The script line number 3 raised an error (recorded in the `errors` attribute of the result table): '12:29:54.648 +8:08:15.99': No astronomical object found :\n",
      "  (error.line, error.msg))\n"
     ]
    },
    {
     "name": "stdout",
     "output_type": "stream",
     "text": [
      "<SkyCoord (ICRS): (ra, dec) in deg\n",
      "    ( 187.4777,  8.137775)>\n",
      "No catalog item found for this within 1 arcsecond, saving coordinates [u'12h29m54.648s'] [u'8d08m15.99s']\n"
     ]
    },
    {
     "name": "stderr",
     "output_type": "stream",
     "text": [
      "/home/kcdage/anaconda/lib/python2.7/site-packages/astroquery/simbad/core.py:136: UserWarning: Warning: The script line number 3 raised an error (recorded in the `errors` attribute of the result table): '12:29:50.741 +8:08:20.75': No astronomical object found :\n",
      "  (error.line, error.msg))\n"
     ]
    },
    {
     "name": "stdout",
     "output_type": "stream",
     "text": [
      "<SkyCoord (ICRS): (ra, dec) in deg\n",
      "    ( 187.46142083,  8.13909722)>\n",
      "No catalog item found for this within 1 arcsecond, saving coordinates [u'12h29m50.741s'] [u'8d08m20.75s']\n"
     ]
    },
    {
     "name": "stderr",
     "output_type": "stream",
     "text": [
      "/home/kcdage/anaconda/lib/python2.7/site-packages/astroquery/simbad/core.py:136: UserWarning: Warning: The script line number 3 raised an error (recorded in the `errors` attribute of the result table): '12:29:52.586 +8:08:22.8': No astronomical object found :\n",
      "  (error.line, error.msg))\n"
     ]
    },
    {
     "name": "stdout",
     "output_type": "stream",
     "text": [
      "<SkyCoord (ICRS): (ra, dec) in deg\n",
      "    ( 187.46910833,  8.13966667)>\n",
      "No catalog item found for this within 1 arcsecond, saving coordinates [u'12h29m52.586s'] [u'8d08m22.8s']\n"
     ]
    },
    {
     "name": "stderr",
     "output_type": "stream",
     "text": [
      "/home/kcdage/anaconda/lib/python2.7/site-packages/astroquery/simbad/core.py:136: UserWarning: Warning: The script line number 3 raised an error (recorded in the `errors` attribute of the result table): '12:30:10.923 +8:09:49.39': No astronomical object found :\n",
      "  (error.line, error.msg))\n"
     ]
    },
    {
     "name": "stdout",
     "output_type": "stream",
     "text": [
      "<SkyCoord (ICRS): (ra, dec) in deg\n",
      "    ( 187.5455125,  8.16371944)>\n",
      "No catalog item found for this within 1 arcsecond, saving coordinates [u'12h30m10.923s'] [u'8d09m49.39s']\n"
     ]
    },
    {
     "name": "stderr",
     "output_type": "stream",
     "text": [
      "/home/kcdage/anaconda/lib/python2.7/site-packages/astroquery/simbad/core.py:136: UserWarning: Warning: The script line number 3 raised an error (recorded in the `errors` attribute of the result table): '12:29:53.189 +7:49:29.33': No astronomical object found :\n",
      "  (error.line, error.msg))\n"
     ]
    },
    {
     "name": "stdout",
     "output_type": "stream",
     "text": [
      "<SkyCoord (ICRS): (ra, dec) in deg\n",
      "    ( 187.47162083,  7.82481389)>\n",
      "No catalog item found for this within 1 arcsecond, saving coordinates [u'12h29m53.189s'] [u'7d49m29.33s']\n"
     ]
    },
    {
     "name": "stderr",
     "output_type": "stream",
     "text": [
      "/home/kcdage/anaconda/lib/python2.7/site-packages/astroquery/simbad/core.py:136: UserWarning: Warning: The script line number 3 raised an error (recorded in the `errors` attribute of the result table): '12:29:37.897 +7:49:33.88': No astronomical object found :\n",
      "  (error.line, error.msg))\n"
     ]
    },
    {
     "name": "stdout",
     "output_type": "stream",
     "text": [
      "<SkyCoord (ICRS): (ra, dec) in deg\n",
      "    ( 187.40790417,  7.82607778)>\n",
      "No catalog item found for this within 1 arcsecond, saving coordinates [u'12h29m37.897s'] [u'7d49m33.88s']\n"
     ]
    },
    {
     "name": "stderr",
     "output_type": "stream",
     "text": [
      "/home/kcdage/anaconda/lib/python2.7/site-packages/astroquery/simbad/core.py:136: UserWarning: Warning: The script line number 3 raised an error (recorded in the `errors` attribute of the result table): '12:29:50.911 +7:51:48.17': No astronomical object found :\n",
      "  (error.line, error.msg))\n"
     ]
    },
    {
     "name": "stdout",
     "output_type": "stream",
     "text": [
      "<SkyCoord (ICRS): (ra, dec) in deg\n",
      "    ( 187.46212917,  7.86338056)>\n",
      "No catalog item found for this within 1 arcsecond, saving coordinates [u'12h29m50.911s'] [u'7d51m48.17s']\n"
     ]
    },
    {
     "name": "stderr",
     "output_type": "stream",
     "text": [
      "/home/kcdage/anaconda/lib/python2.7/site-packages/astroquery/simbad/core.py:136: UserWarning: Warning: The script line number 3 raised an error (recorded in the `errors` attribute of the result table): '12:29:47.719 +7:52:01.35': No astronomical object found :\n",
      "  (error.line, error.msg))\n"
     ]
    },
    {
     "name": "stdout",
     "output_type": "stream",
     "text": [
      "<SkyCoord (ICRS): (ra, dec) in deg\n",
      "    ( 187.44882917,  7.86704167)>\n",
      "No catalog item found for this within 1 arcsecond, saving coordinates [u'12h29m47.719s'] [u'7d52m01.35s']\n"
     ]
    },
    {
     "name": "stderr",
     "output_type": "stream",
     "text": [
      "/home/kcdage/anaconda/lib/python2.7/site-packages/astroquery/simbad/core.py:136: UserWarning: Warning: The script line number 3 raised an error (recorded in the `errors` attribute of the result table): '12:29:32.537 +7:53:15.72': No astronomical object found :\n",
      "  (error.line, error.msg))\n"
     ]
    },
    {
     "name": "stdout",
     "output_type": "stream",
     "text": [
      "<SkyCoord (ICRS): (ra, dec) in deg\n",
      "    ( 187.38557083,  7.8877)>\n",
      "No catalog item found for this within 1 arcsecond, saving coordinates [u'12h29m32.537s'] [u'7d53m15.72s']\n"
     ]
    },
    {
     "name": "stderr",
     "output_type": "stream",
     "text": [
      "/home/kcdage/anaconda/lib/python2.7/site-packages/astroquery/simbad/core.py:136: UserWarning: Warning: The script line number 3 raised an error (recorded in the `errors` attribute of the result table): '12:29:40.977 +7:53:35.86': No astronomical object found :\n",
      "  (error.line, error.msg))\n"
     ]
    },
    {
     "name": "stdout",
     "output_type": "stream",
     "text": [
      "<SkyCoord (ICRS): (ra, dec) in deg\n",
      "    ( 187.4207375,  7.89329444)>\n",
      "No catalog item found for this within 1 arcsecond, saving coordinates [u'12h29m40.977s'] [u'7d53m35.86s']\n"
     ]
    },
    {
     "name": "stderr",
     "output_type": "stream",
     "text": [
      "WARNING: MergeConflictWarning: Cannot merge meta key u'description' types <type 'unicode'> and <type 'unicode'>, choosing description=u'Simbad script executed on 2017.10.05CEST21:27:11' [astropy.utils.metadata]\n",
      "/home/kcdage/anaconda/lib/python2.7/site-packages/astroquery/simbad/core.py:136: UserWarning: Warning: The script line number 3 raised an error (recorded in the `errors` attribute of the result table): '12:29:46.634 +7:54:43.37': No astronomical object found :\n",
      "  (error.line, error.msg))\n"
     ]
    },
    {
     "name": "stdout",
     "output_type": "stream",
     "text": [
      "<SkyCoord (ICRS): (ra, dec) in deg\n",
      "    ( 187.44430833,  7.91204722)>\n",
      "No catalog item found for this within 1 arcsecond, saving coordinates [u'12h29m46.634s'] [u'7d54m43.37s']\n"
     ]
    },
    {
     "name": "stderr",
     "output_type": "stream",
     "text": [
      "/home/kcdage/anaconda/lib/python2.7/site-packages/astroquery/simbad/core.py:136: UserWarning: Warning: The script line number 3 raised an error (recorded in the `errors` attribute of the result table): '12:29:54.951 +7:54:53.65': No astronomical object found :\n",
      "  (error.line, error.msg))\n"
     ]
    },
    {
     "name": "stdout",
     "output_type": "stream",
     "text": [
      "<SkyCoord (ICRS): (ra, dec) in deg\n",
      "    ( 187.4789625,  7.91490278)>\n",
      "No catalog item found for this within 1 arcsecond, saving coordinates [u'12h29m54.951s'] [u'7d54m53.65s']\n"
     ]
    },
    {
     "name": "stderr",
     "output_type": "stream",
     "text": [
      "/home/kcdage/anaconda/lib/python2.7/site-packages/astroquery/simbad/core.py:136: UserWarning: Warning: The script line number 3 raised an error (recorded in the `errors` attribute of the result table): '12:29:59.873 +7:55:30.54': No astronomical object found :\n",
      "  (error.line, error.msg))\n"
     ]
    },
    {
     "name": "stdout",
     "output_type": "stream",
     "text": [
      "<SkyCoord (ICRS): (ra, dec) in deg\n",
      "    ( 187.49947083,  7.92515)>\n",
      "No catalog item found for this within 1 arcsecond, saving coordinates [u'12h29m59.873s'] [u'7d55m30.54s']\n"
     ]
    },
    {
     "name": "stderr",
     "output_type": "stream",
     "text": [
      "/home/kcdage/anaconda/lib/python2.7/site-packages/astroquery/simbad/core.py:136: UserWarning: Warning: The script line number 3 raised an error (recorded in the `errors` attribute of the result table): '12:29:47.812 +7:55:47.18': No astronomical object found :\n",
      "  (error.line, error.msg))\n"
     ]
    },
    {
     "name": "stdout",
     "output_type": "stream",
     "text": [
      "<SkyCoord (ICRS): (ra, dec) in deg\n",
      "    ( 187.44921667,  7.92977222)>\n",
      "No catalog item found for this within 1 arcsecond, saving coordinates [u'12h29m47.812s'] [u'7d55m47.18s']\n"
     ]
    },
    {
     "name": "stderr",
     "output_type": "stream",
     "text": [
      "/home/kcdage/anaconda/lib/python2.7/site-packages/astroquery/simbad/core.py:136: UserWarning: Warning: The script line number 3 raised an error (recorded in the `errors` attribute of the result table): '12:29:35.527 +7:56:04.84': No astronomical object found :\n",
      "  (error.line, error.msg))\n"
     ]
    },
    {
     "name": "stdout",
     "output_type": "stream",
     "text": [
      "<SkyCoord (ICRS): (ra, dec) in deg\n",
      "    ( 187.39802917,  7.93467778)>\n",
      "No catalog item found for this within 1 arcsecond, saving coordinates [u'12h29m35.527s'] [u'7d56m04.84s']\n"
     ]
    },
    {
     "name": "stderr",
     "output_type": "stream",
     "text": [
      "WARNING: MergeConflictWarning: Cannot merge meta key u'description' types <type 'unicode'> and <type 'unicode'>, choosing description=u'Simbad script executed on 2017.10.05CEST21:27:13' [astropy.utils.metadata]\n",
      "/home/kcdage/anaconda/lib/python2.7/site-packages/astroquery/simbad/core.py:136: UserWarning: Warning: The script line number 3 raised an error (recorded in the `errors` attribute of the result table): '12:29:52.353 +8:00:47.34': No astronomical object found :\n",
      "  (error.line, error.msg))\n"
     ]
    },
    {
     "name": "stdout",
     "output_type": "stream",
     "text": [
      "<SkyCoord (ICRS): (ra, dec) in deg\n",
      "    ( 187.4681375,  8.01315)>\n",
      "No catalog item found for this within 1 arcsecond, saving coordinates [u'12h29m52.353s'] [u'8d00m47.34s']\n"
     ]
    },
    {
     "name": "stderr",
     "output_type": "stream",
     "text": [
      "/home/kcdage/anaconda/lib/python2.7/site-packages/astroquery/simbad/core.py:136: UserWarning: Warning: The script line number 3 raised an error (recorded in the `errors` attribute of the result table): '12:30:05.263 +8:04:23.86': No astronomical object found :\n",
      "  (error.line, error.msg))\n"
     ]
    },
    {
     "name": "stdout",
     "output_type": "stream",
     "text": [
      "<SkyCoord (ICRS): (ra, dec) in deg\n",
      "    ( 187.52192917,  8.07329444)>\n",
      "No catalog item found for this within 1 arcsecond, saving coordinates [u'12h30m05.263s'] [u'8d04m23.86s']\n"
     ]
    },
    {
     "name": "stderr",
     "output_type": "stream",
     "text": [
      "/home/kcdage/anaconda/lib/python2.7/site-packages/astroquery/simbad/core.py:136: UserWarning: Warning: The script line number 3 raised an error (recorded in the `errors` attribute of the result table): '12:30:03.099 +8:06:33.34': No astronomical object found :\n",
      "  (error.line, error.msg))\n"
     ]
    },
    {
     "name": "stdout",
     "output_type": "stream",
     "text": [
      "<SkyCoord (ICRS): (ra, dec) in deg\n",
      "    ( 187.5129125,  8.10926111)>\n",
      "No catalog item found for this within 1 arcsecond, saving coordinates [u'12h30m03.099s'] [u'8d06m33.34s']\n"
     ]
    },
    {
     "name": "stderr",
     "output_type": "stream",
     "text": [
      "WARNING: MergeConflictWarning: Cannot merge meta key u'description' types <type 'unicode'> and <type 'unicode'>, choosing description=u'Simbad script executed on 2017.10.05CEST21:27:14' [astropy.utils.metadata]\n",
      "/home/kcdage/anaconda/lib/python2.7/site-packages/astroquery/simbad/core.py:136: UserWarning: Warning: The script line number 3 raised an error (recorded in the `errors` attribute of the result table): '12:29:48.659 +8:08:05.77': No astronomical object found :\n",
      "  (error.line, error.msg))\n"
     ]
    },
    {
     "name": "stdout",
     "output_type": "stream",
     "text": [
      "<SkyCoord (ICRS): (ra, dec) in deg\n",
      "    ( 187.45274583,  8.13493611)>\n",
      "No catalog item found for this within 1 arcsecond, saving coordinates [u'12h29m48.659s'] [u'8d08m05.77s']\n"
     ]
    },
    {
     "name": "stderr",
     "output_type": "stream",
     "text": [
      "/home/kcdage/anaconda/lib/python2.7/site-packages/astroquery/simbad/core.py:136: UserWarning: Warning: The script line number 3 raised an error (recorded in the `errors` attribute of the result table): '12:29:54.12 +8:08:16.69': No astronomical object found :\n",
      "  (error.line, error.msg))\n"
     ]
    },
    {
     "name": "stdout",
     "output_type": "stream",
     "text": [
      "<SkyCoord (ICRS): (ra, dec) in deg\n",
      "    ( 187.4755,  8.13796944)>\n",
      "No catalog item found for this within 1 arcsecond, saving coordinates [u'12h29m54.12s'] [u'8d08m16.69s']\n"
     ]
    },
    {
     "name": "stderr",
     "output_type": "stream",
     "text": [
      "/home/kcdage/anaconda/lib/python2.7/site-packages/astroquery/simbad/core.py:136: UserWarning: Warning: The script line number 3 raised an error (recorded in the `errors` attribute of the result table): '12:30:05.824 +8:09:40.21': No astronomical object found :\n",
      "  (error.line, error.msg))\n"
     ]
    },
    {
     "name": "stdout",
     "output_type": "stream",
     "text": [
      "<SkyCoord (ICRS): (ra, dec) in deg\n",
      "    ( 187.52426667,  8.16116944)>\n",
      "No catalog item found for this within 1 arcsecond, saving coordinates [u'12h30m05.824s'] [u'8d09m40.21s']\n"
     ]
    },
    {
     "name": "stderr",
     "output_type": "stream",
     "text": [
      "/home/kcdage/anaconda/lib/python2.7/site-packages/astroquery/simbad/core.py:136: UserWarning: Warning: The script line number 3 raised an error (recorded in the `errors` attribute of the result table): '12:29:33.299 +7:46:53.44': No astronomical object found :\n",
      "  (error.line, error.msg))\n"
     ]
    },
    {
     "name": "stdout",
     "output_type": "stream",
     "text": [
      "<SkyCoord (ICRS): (ra, dec) in deg\n",
      "    ( 187.38874583,  7.78151111)>\n",
      "No catalog item found for this within 1 arcsecond, saving coordinates [u'12h29m33.299s'] [u'7d46m53.44s']\n"
     ]
    },
    {
     "name": "stderr",
     "output_type": "stream",
     "text": [
      "/home/kcdage/anaconda/lib/python2.7/site-packages/astroquery/simbad/core.py:136: UserWarning: Warning: The script line number 3 raised an error (recorded in the `errors` attribute of the result table): '12:29:30.087 +7:48:12.16': No astronomical object found :\n",
      "  (error.line, error.msg))\n"
     ]
    },
    {
     "name": "stdout",
     "output_type": "stream",
     "text": [
      "<SkyCoord (ICRS): (ra, dec) in deg\n",
      "    ( 187.3753625,  7.80337778)>\n",
      "No catalog item found for this within 1 arcsecond, saving coordinates [u'12h29m30.087s'] [u'7d48m12.16s']\n"
     ]
    },
    {
     "name": "stderr",
     "output_type": "stream",
     "text": [
      "/home/kcdage/anaconda/lib/python2.7/site-packages/astroquery/simbad/core.py:136: UserWarning: Warning: The script line number 3 raised an error (recorded in the `errors` attribute of the result table): '12:29:38.493 +7:54:07.39': No astronomical object found :\n",
      "  (error.line, error.msg))\n"
     ]
    },
    {
     "name": "stdout",
     "output_type": "stream",
     "text": [
      "<SkyCoord (ICRS): (ra, dec) in deg\n",
      "    ( 187.4103875,  7.90205278)>\n",
      "No catalog item found for this within 1 arcsecond, saving coordinates [u'12h29m38.493s'] [u'7d54m07.39s']\n"
     ]
    },
    {
     "name": "stderr",
     "output_type": "stream",
     "text": [
      "/home/kcdage/anaconda/lib/python2.7/site-packages/astroquery/simbad/core.py:136: UserWarning: Warning: The script line number 3 raised an error (recorded in the `errors` attribute of the result table): '12:29:50.632 +7:54:27.99': No astronomical object found :\n",
      "  (error.line, error.msg))\n"
     ]
    },
    {
     "name": "stdout",
     "output_type": "stream",
     "text": [
      "<SkyCoord (ICRS): (ra, dec) in deg\n",
      "    ( 187.46096667,  7.907775)>\n",
      "No catalog item found for this within 1 arcsecond, saving coordinates [u'12h29m50.632s'] [u'7d54m27.99s']\n"
     ]
    },
    {
     "name": "stderr",
     "output_type": "stream",
     "text": [
      "/home/kcdage/anaconda/lib/python2.7/site-packages/astroquery/simbad/core.py:136: UserWarning: Warning: The script line number 3 raised an error (recorded in the `errors` attribute of the result table): '12:30:47.48 +8:04:52.4': No astronomical object found :\n",
      "  (error.line, error.msg))\n"
     ]
    },
    {
     "name": "stdout",
     "output_type": "stream",
     "text": [
      "<SkyCoord (ICRS): (ra, dec) in deg\n",
      "    ( 187.69783333,  8.08122222)>\n",
      "No catalog item found for this within 1 arcsecond, saving coordinates [u'12h30m47.48s'] [u'8d04m52.4s']\n",
      "<SkyCoord (ICRS): (ra, dec) in deg\n",
      "    ( 187.44425417,  8.26893611)>\n",
      "No catalog item found for this within 1 arcsecond, saving coordinates [u'12h29m46.621s'] [u'8d16m08.17s']\n"
     ]
    },
    {
     "name": "stderr",
     "output_type": "stream",
     "text": [
      "/home/kcdage/anaconda/lib/python2.7/site-packages/astroquery/simbad/core.py:136: UserWarning: Warning: The script line number 3 raised an error (recorded in the `errors` attribute of the result table): '12:29:46.621 +8:16:08.17': No astronomical object found :\n",
      "  (error.line, error.msg))\n"
     ]
    }
   ],
   "source": [
    "null_ra_12889=[]\n",
    "null_dec_12889=[]\n",
    "stacked_table_12889=[]\n",
    "for i in range(len(xcor12889)):\n",
    "        item12889=customSimbad.query_region(SkyCoord(xcor12889[i],ycor12889[i], unit=(u.deg, u.deg), frame='fk5'), radius=dist)\n",
    "        if item12889 is None:\n",
    "            co12889 = SkyCoord(xcor12889[i],ycor12889[i], unit=(u.deg, u.deg))\n",
    "            print co12889\n",
    "            ra_not_found12889, dec_not_found12889 = co12889.ra.to_string(u.hour), co12889.dec.to_string(u.deg)\n",
    "            print \"No catalog item found for this within 1 arcsecond, saving coordinates\", ra_not_found12889, dec_not_found12889\n",
    "\n",
    "            if np.size(null_ra_12889)<1:\n",
    "                null_ra_12889=ra_not_found12889\n",
    "                null_dec_12889=dec_not_found12889\n",
    "            else:\n",
    "                null_ra_12889=np.vstack((null_ra_12889, ra_not_found12889))\n",
    "                null_dec_12889=np.vstack((null_dec_12889, dec_not_found12889))\n",
    "        else:\n",
    "            if len(stacked_table_12889)<1:\n",
    "                stacked_table_12889=item12889\n",
    "            else:\n",
    "                stacked_table_12889=Table.vstack([stacked_table_12889, item12889], join_type ='exact') \n",
    "                \n",
    "        \n"
   ]
  },
  {
   "cell_type": "code",
   "execution_count": 109,
   "metadata": {
    "collapsed": true
   },
   "outputs": [],
   "source": [
    "\n",
    "stacked_table_12889.remove_column('DEC_PREC')\n",
    "stacked_table_12889.remove_column('RA_PREC')\n",
    "stacked_table_12889.remove_column('COO_ERR_MAJA')\n",
    "stacked_table_12889.remove_column('COO_ERR_MINA')\n",
    "stacked_table_12889.remove_column('COO_ERR_ANGLE')\n",
    "stacked_table_12889.remove_column('COO_QUAL')\n",
    "\n",
    "null_coords12889= np.asarray(np.hstack((null_ra_12889, null_dec_12889)))\n",
    "\n",
    "ascii.write(null_coords12889, \"12889_no_cat_val.dat\")\n",
    "ascii.write(stacked_table_12889, 'out_12889.txt', format='csv')"
   ]
  },
  {
   "cell_type": "code",
   "execution_count": 110,
   "metadata": {
    "collapsed": false
   },
   "outputs": [
    {
     "name": "stderr",
     "output_type": "stream",
     "text": [
      "/home/kcdage/anaconda/lib/python2.7/site-packages/astroquery/simbad/core.py:136: UserWarning: Warning: The script line number 3 raised an error (recorded in the `errors` attribute of the result table): '12:29:44.862 +7:52:38.97': No astronomical object found :\n",
      "  (error.line, error.msg))\n"
     ]
    },
    {
     "name": "stdout",
     "output_type": "stream",
     "text": [
      "<SkyCoord (ICRS): (ra, dec) in deg\n",
      "    ( 187.436925,  7.87749167)>\n",
      "No catalog item found for this within 1 arcsecond, saving coordinates [u'12h29m44.862s'] [u'7d52m38.97s']\n"
     ]
    },
    {
     "name": "stderr",
     "output_type": "stream",
     "text": [
      "WARNING: MergeConflictWarning: Cannot merge meta key u'description' types <type 'unicode'> and <type 'unicode'>, choosing description=u'Simbad script executed on 2017.10.05CEST21:27:19' [astropy.utils.metadata]\n",
      "/home/kcdage/anaconda/lib/python2.7/site-packages/astroquery/simbad/core.py:136: UserWarning: Warning: The script line number 3 raised an error (recorded in the `errors` attribute of the result table): '12:29:23.64 +7:53:59.18': No astronomical object found :\n",
      "  (error.line, error.msg))\n"
     ]
    },
    {
     "name": "stdout",
     "output_type": "stream",
     "text": [
      "<SkyCoord (ICRS): (ra, dec) in deg\n",
      "    ( 187.3485,  7.89977222)>\n",
      "No catalog item found for this within 1 arcsecond, saving coordinates [u'12h29m23.64s'] [u'7d53m59.18s']\n"
     ]
    },
    {
     "name": "stderr",
     "output_type": "stream",
     "text": [
      "/home/kcdage/anaconda/lib/python2.7/site-packages/astroquery/simbad/core.py:136: UserWarning: Warning: The script line number 3 raised an error (recorded in the `errors` attribute of the result table): '12:29:38.502 +7:54:07.17': No astronomical object found :\n",
      "  (error.line, error.msg))\n"
     ]
    },
    {
     "name": "stdout",
     "output_type": "stream",
     "text": [
      "<SkyCoord (ICRS): (ra, dec) in deg\n",
      "    ( 187.410425,  7.90199167)>\n",
      "No catalog item found for this within 1 arcsecond, saving coordinates [u'12h29m38.502s'] [u'7d54m07.17s']\n"
     ]
    },
    {
     "name": "stderr",
     "output_type": "stream",
     "text": [
      "WARNING: MergeConflictWarning: Cannot merge meta key u'description' types <type 'unicode'> and <type 'unicode'>, choosing description=u'Simbad script executed on 2017.10.05CEST21:27:20' [astropy.utils.metadata]\n",
      "/home/kcdage/anaconda/lib/python2.7/site-packages/astroquery/simbad/core.py:136: UserWarning: Warning: The script line number 3 raised an error (recorded in the `errors` attribute of the result table): '12:29:38.44 +7:55:06.54': No astronomical object found :\n",
      "  (error.line, error.msg))\n"
     ]
    },
    {
     "name": "stdout",
     "output_type": "stream",
     "text": [
      "<SkyCoord (ICRS): (ra, dec) in deg\n",
      "    ( 187.41016667,  7.91848333)>\n",
      "No catalog item found for this within 1 arcsecond, saving coordinates [u'12h29m38.44s'] [u'7d55m06.54s']\n"
     ]
    },
    {
     "name": "stderr",
     "output_type": "stream",
     "text": [
      "/home/kcdage/anaconda/lib/python2.7/site-packages/astroquery/simbad/core.py:136: UserWarning: Warning: The script line number 3 raised an error (recorded in the `errors` attribute of the result table): '12:29:38.271 +7:55:15.35': No astronomical object found :\n",
      "  (error.line, error.msg))\n"
     ]
    },
    {
     "name": "stdout",
     "output_type": "stream",
     "text": [
      "<SkyCoord (ICRS): (ra, dec) in deg\n",
      "    ( 187.4094625,  7.92093056)>\n",
      "No catalog item found for this within 1 arcsecond, saving coordinates [u'12h29m38.271s'] [u'7d55m15.35s']\n"
     ]
    },
    {
     "name": "stderr",
     "output_type": "stream",
     "text": [
      "WARNING: MergeConflictWarning: Cannot merge meta key u'description' types <type 'unicode'> and <type 'unicode'>, choosing description=u'Simbad script executed on 2017.10.05CEST21:27:21' [astropy.utils.metadata]\n",
      "/home/kcdage/anaconda/lib/python2.7/site-packages/astroquery/simbad/core.py:136: UserWarning: Warning: The script line number 3 raised an error (recorded in the `errors` attribute of the result table): '12:29:54.291 +7:56:13.41': No astronomical object found :\n",
      "  (error.line, error.msg))\n"
     ]
    },
    {
     "name": "stdout",
     "output_type": "stream",
     "text": [
      "<SkyCoord (ICRS): (ra, dec) in deg\n",
      "    ( 187.4762125,  7.93705833)>\n",
      "No catalog item found for this within 1 arcsecond, saving coordinates [u'12h29m54.291s'] [u'7d56m13.41s']\n"
     ]
    },
    {
     "name": "stderr",
     "output_type": "stream",
     "text": [
      "/home/kcdage/anaconda/lib/python2.7/site-packages/astroquery/simbad/core.py:136: UserWarning: Warning: The script line number 3 raised an error (recorded in the `errors` attribute of the result table): '12:29:32.144 +7:57:34.86': No astronomical object found :\n",
      "  (error.line, error.msg))\n"
     ]
    },
    {
     "name": "stdout",
     "output_type": "stream",
     "text": [
      "<SkyCoord (ICRS): (ra, dec) in deg\n",
      "    ( 187.38393333,  7.95968333)>\n",
      "No catalog item found for this within 1 arcsecond, saving coordinates [u'12h29m32.144s'] [u'7d57m34.86s']\n"
     ]
    },
    {
     "name": "stderr",
     "output_type": "stream",
     "text": [
      "WARNING: MergeConflictWarning: Cannot merge meta key u'description' types <type 'unicode'> and <type 'unicode'>, choosing description=u'Simbad script executed on 2017.10.05CEST21:27:22' [astropy.utils.metadata]\n",
      "WARNING: MergeConflictWarning: Cannot merge meta key u'description' types <type 'unicode'> and <type 'unicode'>, choosing description=u'Simbad script executed on 2017.10.05CEST21:27:23' [astropy.utils.metadata]\n",
      "/home/kcdage/anaconda/lib/python2.7/site-packages/astroquery/simbad/core.py:136: UserWarning: Warning: The script line number 3 raised an error (recorded in the `errors` attribute of the result table): '12:29:46.192 +7:52:36.82': No astronomical object found :\n",
      "  (error.line, error.msg))\n"
     ]
    },
    {
     "name": "stdout",
     "output_type": "stream",
     "text": [
      "<SkyCoord (ICRS): (ra, dec) in deg\n",
      "    ( 187.44246667,  7.87689444)>\n",
      "No catalog item found for this within 1 arcsecond, saving coordinates [u'12h29m46.192s'] [u'7d52m36.82s']\n"
     ]
    },
    {
     "name": "stderr",
     "output_type": "stream",
     "text": [
      "/home/kcdage/anaconda/lib/python2.7/site-packages/astroquery/simbad/core.py:136: UserWarning: Warning: The script line number 3 raised an error (recorded in the `errors` attribute of the result table): '12:29:32.4 +7:53:15.6': No astronomical object found :\n",
      "  (error.line, error.msg))\n"
     ]
    },
    {
     "name": "stdout",
     "output_type": "stream",
     "text": [
      "<SkyCoord (ICRS): (ra, dec) in deg\n",
      "    ( 187.385,  7.88766667)>\n",
      "No catalog item found for this within 1 arcsecond, saving coordinates [u'12h29m32.4s'] [u'7d53m15.6s']\n"
     ]
    },
    {
     "name": "stderr",
     "output_type": "stream",
     "text": [
      "WARNING: MergeConflictWarning: Cannot merge meta key u'description' types <type 'unicode'> and <type 'unicode'>, choosing description=u'Simbad script executed on 2017.10.05CEST21:27:24' [astropy.utils.metadata]\n",
      "/home/kcdage/anaconda/lib/python2.7/site-packages/astroquery/simbad/core.py:136: UserWarning: Warning: The script line number 3 raised an error (recorded in the `errors` attribute of the result table): '12:29:40.959 +7:53:35.53': No astronomical object found :\n",
      "  (error.line, error.msg))\n"
     ]
    },
    {
     "name": "stdout",
     "output_type": "stream",
     "text": [
      "<SkyCoord (ICRS): (ra, dec) in deg\n",
      "    ( 187.4206625,  7.89320278)>\n",
      "No catalog item found for this within 1 arcsecond, saving coordinates [u'12h29m40.959s'] [u'7d53m35.53s']\n"
     ]
    },
    {
     "name": "stderr",
     "output_type": "stream",
     "text": [
      "WARNING: MergeConflictWarning: Cannot merge meta key u'description' types <type 'unicode'> and <type 'unicode'>, choosing description=u'Simbad script executed on 2017.10.05CEST21:27:25' [astropy.utils.metadata]\n",
      "/home/kcdage/anaconda/lib/python2.7/site-packages/astroquery/simbad/core.py:136: UserWarning: Warning: The script line number 3 raised an error (recorded in the `errors` attribute of the result table): '12:29:32.925 +7:53:46.27': No astronomical object found :\n",
      "  (error.line, error.msg))\n"
     ]
    },
    {
     "name": "stdout",
     "output_type": "stream",
     "text": [
      "<SkyCoord (ICRS): (ra, dec) in deg\n",
      "    ( 187.3871875,  7.89618611)>\n",
      "No catalog item found for this within 1 arcsecond, saving coordinates [u'12h29m32.925s'] [u'7d53m46.27s']\n"
     ]
    },
    {
     "name": "stderr",
     "output_type": "stream",
     "text": [
      "/home/kcdage/anaconda/lib/python2.7/site-packages/astroquery/simbad/core.py:136: UserWarning: Warning: The script line number 3 raised an error (recorded in the `errors` attribute of the result table): '12:29:36.195 +7:54:23.47': No astronomical object found :\n",
      "  (error.line, error.msg))\n"
     ]
    },
    {
     "name": "stdout",
     "output_type": "stream",
     "text": [
      "<SkyCoord (ICRS): (ra, dec) in deg\n",
      "    ( 187.4008125,  7.90651944)>\n",
      "No catalog item found for this within 1 arcsecond, saving coordinates [u'12h29m36.195s'] [u'7d54m23.47s']\n"
     ]
    },
    {
     "name": "stderr",
     "output_type": "stream",
     "text": [
      "/home/kcdage/anaconda/lib/python2.7/site-packages/astroquery/simbad/core.py:136: UserWarning: Warning: The script line number 3 raised an error (recorded in the `errors` attribute of the result table): '12:29:46.701 +7:54:42.99': No astronomical object found :\n",
      "  (error.line, error.msg))\n"
     ]
    },
    {
     "name": "stdout",
     "output_type": "stream",
     "text": [
      "<SkyCoord (ICRS): (ra, dec) in deg\n",
      "    ( 187.4445875,  7.91194167)>\n",
      "No catalog item found for this within 1 arcsecond, saving coordinates [u'12h29m46.701s'] [u'7d54m42.99s']\n"
     ]
    },
    {
     "name": "stderr",
     "output_type": "stream",
     "text": [
      "WARNING: MergeConflictWarning: Cannot merge meta key u'description' types <type 'unicode'> and <type 'unicode'>, choosing description=u'Simbad script executed on 2017.10.05CEST21:27:26' [astropy.utils.metadata]\n",
      "/home/kcdage/anaconda/lib/python2.7/site-packages/astroquery/simbad/core.py:136: UserWarning: Warning: The script line number 3 raised an error (recorded in the `errors` attribute of the result table): '12:29:35.512 +7:56:03.6': No astronomical object found :\n",
      "  (error.line, error.msg))\n"
     ]
    },
    {
     "name": "stdout",
     "output_type": "stream",
     "text": [
      "<SkyCoord (ICRS): (ra, dec) in deg\n",
      "    ( 187.39796667,  7.93433333)>\n",
      "No catalog item found for this within 1 arcsecond, saving coordinates [u'12h29m35.512s'] [u'7d56m03.6s']\n"
     ]
    },
    {
     "name": "stderr",
     "output_type": "stream",
     "text": [
      "/home/kcdage/anaconda/lib/python2.7/site-packages/astroquery/simbad/core.py:136: UserWarning: Warning: The script line number 3 raised an error (recorded in the `errors` attribute of the result table): '12:29:47.376 +7:56:11.53': No astronomical object found :\n",
      "  (error.line, error.msg))\n"
     ]
    },
    {
     "name": "stdout",
     "output_type": "stream",
     "text": [
      "<SkyCoord (ICRS): (ra, dec) in deg\n",
      "    ( 187.4474,  7.93653611)>\n",
      "No catalog item found for this within 1 arcsecond, saving coordinates [u'12h29m47.376s'] [u'7d56m11.53s']\n"
     ]
    },
    {
     "name": "stderr",
     "output_type": "stream",
     "text": [
      "/home/kcdage/anaconda/lib/python2.7/site-packages/astroquery/simbad/core.py:136: UserWarning: Warning: The script line number 3 raised an error (recorded in the `errors` attribute of the result table): '12:29:29.347 +7:56:40.56': No astronomical object found :\n",
      "  (error.line, error.msg))\n"
     ]
    },
    {
     "name": "stdout",
     "output_type": "stream",
     "text": [
      "<SkyCoord (ICRS): (ra, dec) in deg\n",
      "    ( 187.37227917,  7.9446)>\n",
      "No catalog item found for this within 1 arcsecond, saving coordinates [u'12h29m29.347s'] [u'7d56m40.56s']\n"
     ]
    },
    {
     "name": "stderr",
     "output_type": "stream",
     "text": [
      "/home/kcdage/anaconda/lib/python2.7/site-packages/astroquery/simbad/core.py:136: UserWarning: Warning: The script line number 3 raised an error (recorded in the `errors` attribute of the result table): '12:29:25.85 +7:57:13.29': No astronomical object found :\n",
      "  (error.line, error.msg))\n"
     ]
    },
    {
     "name": "stdout",
     "output_type": "stream",
     "text": [
      "<SkyCoord (ICRS): (ra, dec) in deg\n",
      "    ( 187.35770833,  7.95369167)>\n",
      "No catalog item found for this within 1 arcsecond, saving coordinates [u'12h29m25.85s'] [u'7d57m13.29s']\n"
     ]
    },
    {
     "name": "stderr",
     "output_type": "stream",
     "text": [
      "WARNING: MergeConflictWarning: Cannot merge meta key u'description' types <type 'unicode'> and <type 'unicode'>, choosing description=u'Simbad script executed on 2017.10.05CEST21:27:28' [astropy.utils.metadata]\n",
      "/home/kcdage/anaconda/lib/python2.7/site-packages/astroquery/simbad/core.py:136: UserWarning: Warning: The script line number 3 raised an error (recorded in the `errors` attribute of the result table): '12:28:52.623 +7:57:26.19': No astronomical object found :\n",
      "  (error.line, error.msg))\n"
     ]
    },
    {
     "name": "stdout",
     "output_type": "stream",
     "text": [
      "<SkyCoord (ICRS): (ra, dec) in deg\n",
      "    ( 187.2192625,  7.957275)>\n",
      "No catalog item found for this within 1 arcsecond, saving coordinates [u'12h28m52.623s'] [u'7d57m26.19s']\n"
     ]
    },
    {
     "name": "stderr",
     "output_type": "stream",
     "text": [
      "/home/kcdage/anaconda/lib/python2.7/site-packages/astroquery/simbad/core.py:136: UserWarning: Warning: The script line number 3 raised an error (recorded in the `errors` attribute of the result table): '12:29:42.986 +7:57:28.27': No astronomical object found :\n",
      "  (error.line, error.msg))\n"
     ]
    },
    {
     "name": "stdout",
     "output_type": "stream",
     "text": [
      "<SkyCoord (ICRS): (ra, dec) in deg\n",
      "    ( 187.42910833,  7.95785278)>\n",
      "No catalog item found for this within 1 arcsecond, saving coordinates [u'12h29m42.986s'] [u'7d57m28.27s']\n"
     ]
    },
    {
     "name": "stderr",
     "output_type": "stream",
     "text": [
      "WARNING: MergeConflictWarning: Cannot merge meta key u'description' types <type 'unicode'> and <type 'unicode'>, choosing description=u'Simbad script executed on 2017.10.05CEST21:27:29' [astropy.utils.metadata]\n",
      "WARNING: MergeConflictWarning: Cannot merge meta key u'description' types <type 'unicode'> and <type 'unicode'>, choosing description=u'Simbad script executed on 2017.10.05CEST21:27:30' [astropy.utils.metadata]\n",
      "WARNING: MergeConflictWarning: Cannot merge meta key u'description' types <type 'unicode'> and <type 'unicode'>, choosing description=u'Simbad script executed on 2017.10.05CEST21:27:31' [astropy.utils.metadata]\n",
      "WARNING: MergeConflictWarning: Cannot merge meta key u'description' types <type 'unicode'> and <type 'unicode'>, choosing description=u'Simbad script executed on 2017.10.05CEST21:27:32' [astropy.utils.metadata]\n",
      "/home/kcdage/anaconda/lib/python2.7/site-packages/astroquery/simbad/core.py:136: UserWarning: Warning: The script line number 3 raised an error (recorded in the `errors` attribute of the result table): '12:29:32.705 +7:58:57.18': No astronomical object found :\n",
      "  (error.line, error.msg))\n"
     ]
    },
    {
     "name": "stdout",
     "output_type": "stream",
     "text": [
      "<SkyCoord (ICRS): (ra, dec) in deg\n",
      "    ( 187.38627083,  7.98255)>\n",
      "No catalog item found for this within 1 arcsecond, saving coordinates [u'12h29m32.705s'] [u'7d58m57.18s']\n"
     ]
    },
    {
     "name": "stderr",
     "output_type": "stream",
     "text": [
      "WARNING: MergeConflictWarning: Cannot merge meta key u'description' types <type 'unicode'> and <type 'unicode'>, choosing description=u'Simbad script executed on 2017.10.05CEST21:27:33' [astropy.utils.metadata]\n",
      "/home/kcdage/anaconda/lib/python2.7/site-packages/astroquery/simbad/core.py:136: UserWarning: Warning: The script line number 3 raised an error (recorded in the `errors` attribute of the result table): '12:29:30.21 +7:59:27.84': No astronomical object found :\n",
      "  (error.line, error.msg))\n"
     ]
    },
    {
     "name": "stdout",
     "output_type": "stream",
     "text": [
      "<SkyCoord (ICRS): (ra, dec) in deg\n",
      "    ( 187.375875,  7.99106667)>\n",
      "No catalog item found for this within 1 arcsecond, saving coordinates [u'12h29m30.21s'] [u'7d59m27.84s']\n"
     ]
    },
    {
     "name": "stderr",
     "output_type": "stream",
     "text": [
      "WARNING: MergeConflictWarning: Cannot merge meta key u'description' types <type 'unicode'> and <type 'unicode'>, choosing description=u'Simbad script executed on 2017.10.05CEST21:27:35' [astropy.utils.metadata]\n",
      "WARNING: MergeConflictWarning: Cannot merge meta key u'description' types <type 'unicode'> and <type 'unicode'>, choosing description=u'Simbad script executed on 2017.10.05CEST21:27:36' [astropy.utils.metadata]\n",
      "/home/kcdage/anaconda/lib/python2.7/site-packages/astroquery/simbad/core.py:136: UserWarning: Warning: The script line number 3 raised an error (recorded in the `errors` attribute of the result table): '12:29:38.092 +7:49:33.55': No astronomical object found :\n",
      "  (error.line, error.msg))\n"
     ]
    },
    {
     "name": "stdout",
     "output_type": "stream",
     "text": [
      "<SkyCoord (ICRS): (ra, dec) in deg\n",
      "    ( 187.40871667,  7.82598611)>\n",
      "No catalog item found for this within 1 arcsecond, saving coordinates [u'12h29m38.092s'] [u'7d49m33.55s']\n"
     ]
    },
    {
     "name": "stderr",
     "output_type": "stream",
     "text": [
      "/home/kcdage/anaconda/lib/python2.7/site-packages/astroquery/simbad/core.py:136: UserWarning: Warning: The script line number 3 raised an error (recorded in the `errors` attribute of the result table): '12:29:50.86 +7:51:48.66': No astronomical object found :\n",
      "  (error.line, error.msg))\n"
     ]
    },
    {
     "name": "stdout",
     "output_type": "stream",
     "text": [
      "<SkyCoord (ICRS): (ra, dec) in deg\n",
      "    ( 187.46191667,  7.86351667)>\n",
      "No catalog item found for this within 1 arcsecond, saving coordinates [u'12h29m50.86s'] [u'7d51m48.66s']\n"
     ]
    },
    {
     "name": "stderr",
     "output_type": "stream",
     "text": [
      "/home/kcdage/anaconda/lib/python2.7/site-packages/astroquery/simbad/core.py:136: UserWarning: Warning: The script line number 3 raised an error (recorded in the `errors` attribute of the result table): '12:28:40.846 +7:52:05.32': No astronomical object found :\n",
      "  (error.line, error.msg))\n"
     ]
    },
    {
     "name": "stdout",
     "output_type": "stream",
     "text": [
      "<SkyCoord (ICRS): (ra, dec) in deg\n",
      "    ( 187.17019167,  7.86814444)>\n",
      "No catalog item found for this within 1 arcsecond, saving coordinates [u'12h28m40.846s'] [u'7d52m05.32s']\n"
     ]
    },
    {
     "name": "stderr",
     "output_type": "stream",
     "text": [
      "/home/kcdage/anaconda/lib/python2.7/site-packages/astroquery/simbad/core.py:136: UserWarning: Warning: The script line number 3 raised an error (recorded in the `errors` attribute of the result table): '12:29:42.577 +7:52:46.66': No astronomical object found :\n",
      "  (error.line, error.msg))\n"
     ]
    },
    {
     "name": "stdout",
     "output_type": "stream",
     "text": [
      "<SkyCoord (ICRS): (ra, dec) in deg\n",
      "    ( 187.42740417,  7.87962778)>\n",
      "No catalog item found for this within 1 arcsecond, saving coordinates [u'12h29m42.577s'] [u'7d52m46.66s']\n"
     ]
    },
    {
     "name": "stderr",
     "output_type": "stream",
     "text": [
      "WARNING: MergeConflictWarning: Cannot merge meta key u'description' types <type 'unicode'> and <type 'unicode'>, choosing description=u'Simbad script executed on 2017.10.05CEST21:27:38' [astropy.utils.metadata]\n",
      "/home/kcdage/anaconda/lib/python2.7/site-packages/astroquery/simbad/core.py:136: UserWarning: Warning: The script line number 3 raised an error (recorded in the `errors` attribute of the result table): '12:29:47.779 +7:55:46.38': No astronomical object found :\n",
      "  (error.line, error.msg))\n"
     ]
    },
    {
     "name": "stdout",
     "output_type": "stream",
     "text": [
      "<SkyCoord (ICRS): (ra, dec) in deg\n",
      "    ( 187.44907917,  7.92955)>\n",
      "No catalog item found for this within 1 arcsecond, saving coordinates [u'12h29m47.779s'] [u'7d55m46.38s']\n"
     ]
    },
    {
     "name": "stderr",
     "output_type": "stream",
     "text": [
      "/home/kcdage/anaconda/lib/python2.7/site-packages/astroquery/simbad/core.py:136: UserWarning: Warning: The script line number 3 raised an error (recorded in the `errors` attribute of the result table): '12:29:54.819 +7:56:04.67': No astronomical object found :\n",
      "  (error.line, error.msg))\n"
     ]
    },
    {
     "name": "stdout",
     "output_type": "stream",
     "text": [
      "<SkyCoord (ICRS): (ra, dec) in deg\n",
      "    ( 187.4784125,  7.93463056)>\n",
      "No catalog item found for this within 1 arcsecond, saving coordinates [u'12h29m54.819s'] [u'7d56m04.67s']\n"
     ]
    },
    {
     "name": "stderr",
     "output_type": "stream",
     "text": [
      "/home/kcdage/anaconda/lib/python2.7/site-packages/astroquery/simbad/core.py:136: UserWarning: Warning: The script line number 3 raised an error (recorded in the `errors` attribute of the result table): '12:29:55.003 +7:56:18.84': No astronomical object found :\n",
      "  (error.line, error.msg))\n"
     ]
    },
    {
     "name": "stdout",
     "output_type": "stream",
     "text": [
      "<SkyCoord (ICRS): (ra, dec) in deg\n",
      "    ( 187.47917917,  7.93856667)>\n",
      "No catalog item found for this within 1 arcsecond, saving coordinates [u'12h29m55.003s'] [u'7d56m18.84s']\n"
     ]
    },
    {
     "name": "stderr",
     "output_type": "stream",
     "text": [
      "/home/kcdage/anaconda/lib/python2.7/site-packages/astroquery/simbad/core.py:136: UserWarning: Warning: The script line number 3 raised an error (recorded in the `errors` attribute of the result table): '12:29:52.998 +7:56:31.08': No astronomical object found :\n",
      "  (error.line, error.msg))\n"
     ]
    },
    {
     "name": "stdout",
     "output_type": "stream",
     "text": [
      "<SkyCoord (ICRS): (ra, dec) in deg\n",
      "    ( 187.470825,  7.94196667)>\n",
      "No catalog item found for this within 1 arcsecond, saving coordinates [u'12h29m52.998s'] [u'7d56m31.08s']\n"
     ]
    },
    {
     "name": "stderr",
     "output_type": "stream",
     "text": [
      "/home/kcdage/anaconda/lib/python2.7/site-packages/astroquery/simbad/core.py:136: UserWarning: Warning: The script line number 3 raised an error (recorded in the `errors` attribute of the result table): '12:28:59.188 +7:56:53.27': No astronomical object found :\n",
      "  (error.line, error.msg))\n"
     ]
    },
    {
     "name": "stdout",
     "output_type": "stream",
     "text": [
      "<SkyCoord (ICRS): (ra, dec) in deg\n",
      "    ( 187.24661667,  7.94813056)>\n",
      "No catalog item found for this within 1 arcsecond, saving coordinates [u'12h28m59.188s'] [u'7d56m53.27s']\n"
     ]
    },
    {
     "name": "stderr",
     "output_type": "stream",
     "text": [
      "/home/kcdage/anaconda/lib/python2.7/site-packages/astroquery/simbad/core.py:136: UserWarning: Warning: The script line number 3 raised an error (recorded in the `errors` attribute of the result table): '12:29:09.597 +7:56:56.36': No astronomical object found :\n",
      "  (error.line, error.msg))\n"
     ]
    },
    {
     "name": "stdout",
     "output_type": "stream",
     "text": [
      "<SkyCoord (ICRS): (ra, dec) in deg\n",
      "    ( 187.2899875,  7.94898889)>\n",
      "No catalog item found for this within 1 arcsecond, saving coordinates [u'12h29m09.597s'] [u'7d56m56.36s']\n"
     ]
    },
    {
     "name": "stderr",
     "output_type": "stream",
     "text": [
      "/home/kcdage/anaconda/lib/python2.7/site-packages/astroquery/simbad/core.py:136: UserWarning: Warning: The script line number 3 raised an error (recorded in the `errors` attribute of the result table): '12:29:54.1 +7:57:18.78': No astronomical object found :\n",
      "  (error.line, error.msg))\n"
     ]
    },
    {
     "name": "stdout",
     "output_type": "stream",
     "text": [
      "<SkyCoord (ICRS): (ra, dec) in deg\n",
      "    ( 187.47541667,  7.95521667)>\n",
      "No catalog item found for this within 1 arcsecond, saving coordinates [u'12h29m54.1s'] [u'7d57m18.78s']\n"
     ]
    },
    {
     "name": "stderr",
     "output_type": "stream",
     "text": [
      "/home/kcdage/anaconda/lib/python2.7/site-packages/astroquery/simbad/core.py:136: UserWarning: Warning: The script line number 3 raised an error (recorded in the `errors` attribute of the result table): '12:29:57.652 +7:57:29.05': No astronomical object found :\n",
      "  (error.line, error.msg))\n"
     ]
    },
    {
     "name": "stdout",
     "output_type": "stream",
     "text": [
      "<SkyCoord (ICRS): (ra, dec) in deg\n",
      "    ( 187.49021667,  7.95806944)>\n",
      "No catalog item found for this within 1 arcsecond, saving coordinates [u'12h29m57.652s'] [u'7d57m29.05s']\n"
     ]
    },
    {
     "name": "stderr",
     "output_type": "stream",
     "text": [
      "/home/kcdage/anaconda/lib/python2.7/site-packages/astroquery/simbad/core.py:136: UserWarning: Warning: The script line number 3 raised an error (recorded in the `errors` attribute of the result table): '12:29:27.707 +7:57:45.29': No astronomical object found :\n",
      "  (error.line, error.msg))\n"
     ]
    },
    {
     "name": "stdout",
     "output_type": "stream",
     "text": [
      "<SkyCoord (ICRS): (ra, dec) in deg\n",
      "    ( 187.36544583,  7.96258056)>\n",
      "No catalog item found for this within 1 arcsecond, saving coordinates [u'12h29m27.707s'] [u'7d57m45.29s']\n"
     ]
    },
    {
     "name": "stderr",
     "output_type": "stream",
     "text": [
      "WARNING: MergeConflictWarning: Cannot merge meta key u'description' types <type 'unicode'> and <type 'unicode'>, choosing description=u'Simbad script executed on 2017.10.05CEST21:27:42' [astropy.utils.metadata]\n",
      "/home/kcdage/anaconda/lib/python2.7/site-packages/astroquery/simbad/core.py:136: UserWarning: Warning: The script line number 3 raised an error (recorded in the `errors` attribute of the result table): '12:29:29.947 +7:58:38.92': No astronomical object found :\n",
      "  (error.line, error.msg))\n"
     ]
    },
    {
     "name": "stdout",
     "output_type": "stream",
     "text": [
      "<SkyCoord (ICRS): (ra, dec) in deg\n",
      "    ( 187.37477917,  7.97747778)>\n",
      "No catalog item found for this within 1 arcsecond, saving coordinates [u'12h29m29.947s'] [u'7d58m38.92s']\n"
     ]
    },
    {
     "name": "stderr",
     "output_type": "stream",
     "text": [
      "WARNING: MergeConflictWarning: Cannot merge meta key u'description' types <type 'unicode'> and <type 'unicode'>, choosing description=u'Simbad script executed on 2017.10.05CEST21:27:43' [astropy.utils.metadata]\n",
      "WARNING: MergeConflictWarning: Cannot merge meta key u'description' types <type 'unicode'> and <type 'unicode'>, choosing description=u'Simbad script executed on 2017.10.05CEST21:27:44' [astropy.utils.metadata]\n",
      "/home/kcdage/anaconda/lib/python2.7/site-packages/astroquery/simbad/core.py:136: UserWarning: Warning: The script line number 3 raised an error (recorded in the `errors` attribute of the result table): '12:29:48.595 +7:59:43.55': No astronomical object found :\n",
      "  (error.line, error.msg))\n"
     ]
    },
    {
     "name": "stdout",
     "output_type": "stream",
     "text": [
      "<SkyCoord (ICRS): (ra, dec) in deg\n",
      "    ( 187.45247917,  7.99543056)>\n",
      "No catalog item found for this within 1 arcsecond, saving coordinates [u'12h29m48.595s'] [u'7d59m43.55s']\n"
     ]
    },
    {
     "name": "stderr",
     "output_type": "stream",
     "text": [
      "WARNING: MergeConflictWarning: Cannot merge meta key u'description' types <type 'unicode'> and <type 'unicode'>, choosing description=u'Simbad script executed on 2017.10.05CEST21:27:45' [astropy.utils.metadata]\n",
      "WARNING: MergeConflictWarning: Cannot merge meta key u'description' types <type 'unicode'> and <type 'unicode'>, choosing description=u'Simbad script executed on 2017.10.05CEST21:27:46' [astropy.utils.metadata]\n",
      "/home/kcdage/anaconda/lib/python2.7/site-packages/astroquery/simbad/core.py:136: UserWarning: Warning: The script line number 3 raised an error (recorded in the `errors` attribute of the result table): '12:29:49.276 +8:00:12.82': No astronomical object found :\n",
      "  (error.line, error.msg))\n"
     ]
    },
    {
     "name": "stdout",
     "output_type": "stream",
     "text": [
      "<SkyCoord (ICRS): (ra, dec) in deg\n",
      "    ( 187.45531667,  8.00356111)>\n",
      "No catalog item found for this within 1 arcsecond, saving coordinates [u'12h29m49.276s'] [u'8d00m12.82s']\n"
     ]
    },
    {
     "name": "stderr",
     "output_type": "stream",
     "text": [
      "WARNING: MergeConflictWarning: Cannot merge meta key u'description' types <type 'unicode'> and <type 'unicode'>, choosing description=u'Simbad script executed on 2017.10.05CEST21:27:47' [astropy.utils.metadata]\n",
      "/home/kcdage/anaconda/lib/python2.7/site-packages/astroquery/simbad/core.py:136: UserWarning: Warning: The script line number 3 raised an error (recorded in the `errors` attribute of the result table): '12:29:34.97 +8:00:47.97': No astronomical object found :\n",
      "  (error.line, error.msg))\n"
     ]
    },
    {
     "name": "stdout",
     "output_type": "stream",
     "text": [
      "<SkyCoord (ICRS): (ra, dec) in deg\n",
      "    ( 187.39570833,  8.013325)>\n",
      "No catalog item found for this within 1 arcsecond, saving coordinates [u'12h29m34.97s'] [u'8d00m47.97s']\n"
     ]
    },
    {
     "name": "stderr",
     "output_type": "stream",
     "text": [
      "WARNING: MergeConflictWarning: Cannot merge meta key u'description' types <type 'unicode'> and <type 'unicode'>, choosing description=u'Simbad script executed on 2017.10.05CEST21:27:48' [astropy.utils.metadata]\n",
      "/home/kcdage/anaconda/lib/python2.7/site-packages/astroquery/simbad/core.py:136: UserWarning: Warning: The script line number 3 raised an error (recorded in the `errors` attribute of the result table): '12:29:11.116 +8:03:21.82': No astronomical object found :\n",
      "  (error.line, error.msg))\n"
     ]
    },
    {
     "name": "stdout",
     "output_type": "stream",
     "text": [
      "<SkyCoord (ICRS): (ra, dec) in deg\n",
      "    ( 187.29631667,  8.05606111)>\n",
      "No catalog item found for this within 1 arcsecond, saving coordinates [u'12h29m11.116s'] [u'8d03m21.82s']\n"
     ]
    },
    {
     "name": "stderr",
     "output_type": "stream",
     "text": [
      "/home/kcdage/anaconda/lib/python2.7/site-packages/astroquery/simbad/core.py:136: UserWarning: Warning: The script line number 3 raised an error (recorded in the `errors` attribute of the result table): '12:30:14.856 +8:08:48.67': No astronomical object found :\n",
      "  (error.line, error.msg))\n"
     ]
    },
    {
     "name": "stdout",
     "output_type": "stream",
     "text": [
      "<SkyCoord (ICRS): (ra, dec) in deg\n",
      "    ( 187.5619,  8.14685278)>\n",
      "No catalog item found for this within 1 arcsecond, saving coordinates [u'12h30m14.856s'] [u'8d08m48.67s']\n"
     ]
    },
    {
     "name": "stderr",
     "output_type": "stream",
     "text": [
      "/home/kcdage/anaconda/lib/python2.7/site-packages/astroquery/simbad/core.py:136: UserWarning: Warning: The script line number 3 raised an error (recorded in the `errors` attribute of the result table): '12:29:32.678 +7:46:57.91': No astronomical object found :\n",
      "  (error.line, error.msg))\n"
     ]
    },
    {
     "name": "stdout",
     "output_type": "stream",
     "text": [
      "<SkyCoord (ICRS): (ra, dec) in deg\n",
      "    ( 187.38615833,  7.78275278)>\n",
      "No catalog item found for this within 1 arcsecond, saving coordinates [u'12h29m32.678s'] [u'7d46m57.91s']\n"
     ]
    },
    {
     "name": "stderr",
     "output_type": "stream",
     "text": [
      "WARNING: MergeConflictWarning: Cannot merge meta key u'description' types <type 'unicode'> and <type 'unicode'>, choosing description=u'Simbad script executed on 2017.10.05CEST21:27:49' [astropy.utils.metadata]\n",
      "/home/kcdage/anaconda/lib/python2.7/site-packages/astroquery/simbad/core.py:136: UserWarning: Warning: The script line number 3 raised an error (recorded in the `errors` attribute of the result table): '12:28:48.254 +7:56:03.83': No astronomical object found :\n",
      "  (error.line, error.msg))\n"
     ]
    },
    {
     "name": "stdout",
     "output_type": "stream",
     "text": [
      "<SkyCoord (ICRS): (ra, dec) in deg\n",
      "    ( 187.20105833,  7.93439722)>\n",
      "No catalog item found for this within 1 arcsecond, saving coordinates [u'12h28m48.254s'] [u'7d56m03.83s']\n"
     ]
    },
    {
     "name": "stderr",
     "output_type": "stream",
     "text": [
      "WARNING: MergeConflictWarning: Cannot merge meta key u'description' types <type 'unicode'> and <type 'unicode'>, choosing description=u'Simbad script executed on 2017.10.05CEST21:27:50' [astropy.utils.metadata]\n",
      "/home/kcdage/anaconda/lib/python2.7/site-packages/astroquery/simbad/core.py:136: UserWarning: Warning: The script line number 3 raised an error (recorded in the `errors` attribute of the result table): '12:29:12.925 +7:57:43.28': No astronomical object found :\n",
      "  (error.line, error.msg))\n"
     ]
    },
    {
     "name": "stdout",
     "output_type": "stream",
     "text": [
      "<SkyCoord (ICRS): (ra, dec) in deg\n",
      "    ( 187.30385417,  7.96202222)>\n",
      "No catalog item found for this within 1 arcsecond, saving coordinates [u'12h29m12.925s'] [u'7d57m43.28s']\n"
     ]
    },
    {
     "name": "stderr",
     "output_type": "stream",
     "text": [
      "WARNING: MergeConflictWarning: Cannot merge meta key u'description' types <type 'unicode'> and <type 'unicode'>, choosing description=u'Simbad script executed on 2017.10.05CEST21:27:51' [astropy.utils.metadata]\n",
      "/home/kcdage/anaconda/lib/python2.7/site-packages/astroquery/simbad/core.py:136: UserWarning: Warning: The script line number 3 raised an error (recorded in the `errors` attribute of the result table): '12:30:02.109 +8:00:48.78': No astronomical object found :\n",
      "  (error.line, error.msg))\n"
     ]
    },
    {
     "name": "stdout",
     "output_type": "stream",
     "text": [
      "<SkyCoord (ICRS): (ra, dec) in deg\n",
      "    ( 187.5087875,  8.01355)>\n",
      "No catalog item found for this within 1 arcsecond, saving coordinates [u'12h30m02.109s'] [u'8d00m48.78s']\n"
     ]
    },
    {
     "name": "stderr",
     "output_type": "stream",
     "text": [
      "WARNING: MergeConflictWarning: Cannot merge meta key u'description' types <type 'unicode'> and <type 'unicode'>, choosing description=u'Simbad script executed on 2017.10.05CEST21:27:52' [astropy.utils.metadata]\n",
      "/home/kcdage/anaconda/lib/python2.7/site-packages/astroquery/simbad/core.py:136: UserWarning: Warning: The script line number 3 raised an error (recorded in the `errors` attribute of the result table): '12:29:14.327 +8:02:28.15': No astronomical object found :\n",
      "  (error.line, error.msg))\n"
     ]
    },
    {
     "name": "stdout",
     "output_type": "stream",
     "text": [
      "<SkyCoord (ICRS): (ra, dec) in deg\n",
      "    ( 187.30969583,  8.04115278)>\n",
      "No catalog item found for this within 1 arcsecond, saving coordinates [u'12h29m14.327s'] [u'8d02m28.15s']\n"
     ]
    },
    {
     "name": "stderr",
     "output_type": "stream",
     "text": [
      "/home/kcdage/anaconda/lib/python2.7/site-packages/astroquery/simbad/core.py:136: UserWarning: Warning: The script line number 3 raised an error (recorded in the `errors` attribute of the result table): '12:28:58.181 +8:01:11.56': No astronomical object found :\n",
      "  (error.line, error.msg))\n"
     ]
    },
    {
     "name": "stdout",
     "output_type": "stream",
     "text": [
      "<SkyCoord (ICRS): (ra, dec) in deg\n",
      "    ( 187.24242083,  8.01987778)>\n",
      "No catalog item found for this within 1 arcsecond, saving coordinates [u'12h28m58.181s'] [u'8d01m11.56s']\n"
     ]
    },
    {
     "name": "stderr",
     "output_type": "stream",
     "text": [
      "/home/kcdage/anaconda/lib/python2.7/site-packages/astroquery/simbad/core.py:136: UserWarning: Warning: The script line number 3 raised an error (recorded in the `errors` attribute of the result table): '12:29:10.283 +8:04:48.85': No astronomical object found :\n",
      "  (error.line, error.msg))\n"
     ]
    },
    {
     "name": "stdout",
     "output_type": "stream",
     "text": [
      "<SkyCoord (ICRS): (ra, dec) in deg\n",
      "    ( 187.29284583,  8.08023611)>\n",
      "No catalog item found for this within 1 arcsecond, saving coordinates [u'12h29m10.283s'] [u'8d04m48.85s']\n",
      "<SkyCoord (ICRS): (ra, dec) in deg\n",
      "    ( 187.485625,  8.15411667)>\n",
      "No catalog item found for this within 1 arcsecond, saving coordinates [u'12h29m56.55s'] [u'8d09m14.82s']\n"
     ]
    },
    {
     "name": "stderr",
     "output_type": "stream",
     "text": [
      "/home/kcdage/anaconda/lib/python2.7/site-packages/astroquery/simbad/core.py:136: UserWarning: Warning: The script line number 3 raised an error (recorded in the `errors` attribute of the result table): '12:29:56.55 +8:09:14.82': No astronomical object found :\n",
      "  (error.line, error.msg))\n"
     ]
    }
   ],
   "source": [
    "null_ra_16260=[]\n",
    "null_dec_16260=[]\n",
    "stacked_table_16260=[]\n",
    "for i in range(len(xcor16260)):\n",
    "        item16260=customSimbad.query_region(SkyCoord(xcor16260[i],ycor16260[i], unit=(u.deg, u.deg), frame='fk5'), radius=dist)\n",
    "        if item16260 is None:\n",
    "            co16260 = SkyCoord(xcor16260[i],ycor16260[i], unit=(u.deg, u.deg))\n",
    "            print co16260\n",
    "            ra_not_found16260, dec_not_found16260 = co16260.ra.to_string(u.hour), co16260.dec.to_string(u.deg)\n",
    "            print \"No catalog item found for this within 1 arcsecond, saving coordinates\", ra_not_found16260, dec_not_found16260\n",
    "\n",
    "            if np.size(null_ra_16260)<1:\n",
    "                null_ra_16260=ra_not_found16260\n",
    "                null_dec_16260=dec_not_found16260\n",
    "            else:\n",
    "                null_ra_16260=np.vstack((null_ra_16260, ra_not_found16260))\n",
    "                null_dec_16260=np.vstack((null_dec_16260, dec_not_found16260))\n",
    "        else:\n",
    "            if len(stacked_table_16260)<1:\n",
    "                stacked_table_16260=item16260\n",
    "            else:\n",
    "                stacked_table_16260=Table.vstack([stacked_table_16260, item16260], join_type ='exact') \n",
    "                \n",
    "        \n",
    "\n"
   ]
  },
  {
   "cell_type": "code",
   "execution_count": 111,
   "metadata": {
    "collapsed": true
   },
   "outputs": [],
   "source": [
    "\n",
    "stacked_table_16260.remove_column('DEC_PREC')\n",
    "stacked_table_16260.remove_column('RA_PREC')\n",
    "stacked_table_16260.remove_column('COO_ERR_MAJA')\n",
    "stacked_table_16260.remove_column('COO_ERR_MINA')\n",
    "stacked_table_16260.remove_column('COO_ERR_ANGLE')\n",
    "stacked_table_16260.remove_column('COO_QUAL')\n",
    "\n",
    "null_coords16260= np.asarray(np.hstack((null_ra_16260, null_dec_16260)))\n",
    "\n",
    "ascii.write(null_coords16260, \"16260_no_cat_val.dat\")\n",
    "ascii.write(stacked_table_16260, 'out_16260.txt', format='csv')"
   ]
  },
  {
   "cell_type": "code",
   "execution_count": 112,
   "metadata": {
    "collapsed": false
   },
   "outputs": [
    {
     "name": "stderr",
     "output_type": "stream",
     "text": [
      "/home/kcdage/anaconda/lib/python2.7/site-packages/astroquery/simbad/core.py:136: UserWarning: Warning: The script line number 3 raised an error (recorded in the `errors` attribute of the result table): '12:29:40.958 +7:53:35.87': No astronomical object found :\n",
      "  (error.line, error.msg))\n"
     ]
    },
    {
     "name": "stdout",
     "output_type": "stream",
     "text": [
      "<SkyCoord (ICRS): (ra, dec) in deg\n",
      "    ( 187.42065833,  7.89329722)>\n",
      "No catalog item found for this within 1 arcsecond, saving coordinates [u'12h29m40.958s'] [u'7d53m35.87s']\n"
     ]
    },
    {
     "name": "stderr",
     "output_type": "stream",
     "text": [
      "/home/kcdage/anaconda/lib/python2.7/site-packages/astroquery/simbad/core.py:136: UserWarning: Warning: The script line number 3 raised an error (recorded in the `errors` attribute of the result table): '12:29:36.204 +7:54:23.39': No astronomical object found :\n",
      "  (error.line, error.msg))\n"
     ]
    },
    {
     "name": "stdout",
     "output_type": "stream",
     "text": [
      "<SkyCoord (ICRS): (ra, dec) in deg\n",
      "    ( 187.40085,  7.90649722)>\n",
      "No catalog item found for this within 1 arcsecond, saving coordinates [u'12h29m36.204s'] [u'7d54m23.39s']\n"
     ]
    },
    {
     "name": "stderr",
     "output_type": "stream",
     "text": [
      "WARNING: MergeConflictWarning: Cannot merge meta key u'description' types <type 'unicode'> and <type 'unicode'>, choosing description=u'Simbad script executed on 2017.10.05CEST21:27:55' [astropy.utils.metadata]\n",
      "/home/kcdage/anaconda/lib/python2.7/site-packages/astroquery/simbad/core.py:136: UserWarning: Warning: The script line number 3 raised an error (recorded in the `errors` attribute of the result table): '12:29:38.426 +7:55:06.28': No astronomical object found :\n",
      "  (error.line, error.msg))\n"
     ]
    },
    {
     "name": "stdout",
     "output_type": "stream",
     "text": [
      "<SkyCoord (ICRS): (ra, dec) in deg\n",
      "    ( 187.41010833,  7.91841111)>\n",
      "No catalog item found for this within 1 arcsecond, saving coordinates [u'12h29m38.426s'] [u'7d55m06.28s']\n"
     ]
    },
    {
     "name": "stderr",
     "output_type": "stream",
     "text": [
      "/home/kcdage/anaconda/lib/python2.7/site-packages/astroquery/simbad/core.py:136: UserWarning: Warning: The script line number 3 raised an error (recorded in the `errors` attribute of the result table): '12:29:41.714 +7:55:08.02': No astronomical object found :\n",
      "  (error.line, error.msg))\n"
     ]
    },
    {
     "name": "stdout",
     "output_type": "stream",
     "text": [
      "<SkyCoord (ICRS): (ra, dec) in deg\n",
      "    ( 187.42380833,  7.91889444)>\n",
      "No catalog item found for this within 1 arcsecond, saving coordinates [u'12h29m41.714s'] [u'7d55m08.02s']\n"
     ]
    },
    {
     "name": "stderr",
     "output_type": "stream",
     "text": [
      "/home/kcdage/anaconda/lib/python2.7/site-packages/astroquery/simbad/core.py:136: UserWarning: Warning: The script line number 3 raised an error (recorded in the `errors` attribute of the result table): '12:29:38.278 +7:55:15.39': No astronomical object found :\n",
      "  (error.line, error.msg))\n"
     ]
    },
    {
     "name": "stdout",
     "output_type": "stream",
     "text": [
      "<SkyCoord (ICRS): (ra, dec) in deg\n",
      "    ( 187.40949167,  7.92094167)>\n",
      "No catalog item found for this within 1 arcsecond, saving coordinates [u'12h29m38.278s'] [u'7d55m15.39s']\n"
     ]
    },
    {
     "name": "stderr",
     "output_type": "stream",
     "text": [
      "/home/kcdage/anaconda/lib/python2.7/site-packages/astroquery/simbad/core.py:136: UserWarning: Warning: The script line number 3 raised an error (recorded in the `errors` attribute of the result table): '12:29:41.578 +7:55:24.73': No astronomical object found :\n",
      "  (error.line, error.msg))\n"
     ]
    },
    {
     "name": "stdout",
     "output_type": "stream",
     "text": [
      "<SkyCoord (ICRS): (ra, dec) in deg\n",
      "    ( 187.42324167,  7.92353611)>\n",
      "No catalog item found for this within 1 arcsecond, saving coordinates [u'12h29m41.578s'] [u'7d55m24.73s']\n"
     ]
    },
    {
     "name": "stderr",
     "output_type": "stream",
     "text": [
      "/home/kcdage/anaconda/lib/python2.7/site-packages/astroquery/simbad/core.py:136: UserWarning: Warning: The script line number 3 raised an error (recorded in the `errors` attribute of the result table): '12:29:36.62 +7:55:39.72': No astronomical object found :\n",
      "  (error.line, error.msg))\n"
     ]
    },
    {
     "name": "stdout",
     "output_type": "stream",
     "text": [
      "<SkyCoord (ICRS): (ra, dec) in deg\n",
      "    ( 187.40258333,  7.9277)>\n",
      "No catalog item found for this within 1 arcsecond, saving coordinates [u'12h29m36.62s'] [u'7d55m39.72s']\n"
     ]
    },
    {
     "name": "stderr",
     "output_type": "stream",
     "text": [
      "WARNING: MergeConflictWarning: Cannot merge meta key u'description' types <type 'unicode'> and <type 'unicode'>, choosing description=u'Simbad script executed on 2017.10.05CEST21:27:57' [astropy.utils.metadata]\n",
      "/home/kcdage/anaconda/lib/python2.7/site-packages/astroquery/simbad/core.py:136: UserWarning: Warning: The script line number 3 raised an error (recorded in the `errors` attribute of the result table): '12:29:26.28 +7:50:43.95': No astronomical object found :\n",
      "  (error.line, error.msg))\n"
     ]
    },
    {
     "name": "stdout",
     "output_type": "stream",
     "text": [
      "<SkyCoord (ICRS): (ra, dec) in deg\n",
      "    ( 187.3595,  7.84554167)>\n",
      "No catalog item found for this within 1 arcsecond, saving coordinates [u'12h29m26.28s'] [u'7d50m43.95s']\n"
     ]
    },
    {
     "name": "stderr",
     "output_type": "stream",
     "text": [
      "/home/kcdage/anaconda/lib/python2.7/site-packages/astroquery/simbad/core.py:136: UserWarning: Warning: The script line number 3 raised an error (recorded in the `errors` attribute of the result table): '12:29:50.797 +7:51:48.57': No astronomical object found :\n",
      "  (error.line, error.msg))\n"
     ]
    },
    {
     "name": "stdout",
     "output_type": "stream",
     "text": [
      "<SkyCoord (ICRS): (ra, dec) in deg\n",
      "    ( 187.46165417,  7.86349167)>\n",
      "No catalog item found for this within 1 arcsecond, saving coordinates [u'12h29m50.797s'] [u'7d51m48.57s']\n"
     ]
    },
    {
     "name": "stderr",
     "output_type": "stream",
     "text": [
      "/home/kcdage/anaconda/lib/python2.7/site-packages/astroquery/simbad/core.py:136: UserWarning: Warning: The script line number 3 raised an error (recorded in the `errors` attribute of the result table): '12:29:47.747 +7:52:00.71': No astronomical object found :\n",
      "  (error.line, error.msg))\n"
     ]
    },
    {
     "name": "stdout",
     "output_type": "stream",
     "text": [
      "<SkyCoord (ICRS): (ra, dec) in deg\n",
      "    ( 187.44894583,  7.86686389)>\n",
      "No catalog item found for this within 1 arcsecond, saving coordinates [u'12h29m47.747s'] [u'7d52m00.71s']\n"
     ]
    },
    {
     "name": "stderr",
     "output_type": "stream",
     "text": [
      "/home/kcdage/anaconda/lib/python2.7/site-packages/astroquery/simbad/core.py:136: UserWarning: Warning: The script line number 3 raised an error (recorded in the `errors` attribute of the result table): '12:29:42.823 +7:52:09.79': No astronomical object found :\n",
      "  (error.line, error.msg))\n"
     ]
    },
    {
     "name": "stdout",
     "output_type": "stream",
     "text": [
      "<SkyCoord (ICRS): (ra, dec) in deg\n",
      "    ( 187.42842917,  7.86938611)>\n",
      "No catalog item found for this within 1 arcsecond, saving coordinates [u'12h29m42.823s'] [u'7d52m09.79s']\n"
     ]
    },
    {
     "name": "stderr",
     "output_type": "stream",
     "text": [
      "/home/kcdage/anaconda/lib/python2.7/site-packages/astroquery/simbad/core.py:136: UserWarning: Warning: The script line number 3 raised an error (recorded in the `errors` attribute of the result table): '12:29:47.206 +7:52:18.09': No astronomical object found :\n",
      "  (error.line, error.msg))\n"
     ]
    },
    {
     "name": "stdout",
     "output_type": "stream",
     "text": [
      "<SkyCoord (ICRS): (ra, dec) in deg\n",
      "    ( 187.44669167,  7.87169167)>\n",
      "No catalog item found for this within 1 arcsecond, saving coordinates [u'12h29m47.206s'] [u'7d52m18.09s']\n"
     ]
    },
    {
     "name": "stderr",
     "output_type": "stream",
     "text": [
      "/home/kcdage/anaconda/lib/python2.7/site-packages/astroquery/simbad/core.py:136: UserWarning: Warning: The script line number 3 raised an error (recorded in the `errors` attribute of the result table): '12:29:44.834 +7:52:38.71': No astronomical object found :\n",
      "  (error.line, error.msg))\n"
     ]
    },
    {
     "name": "stdout",
     "output_type": "stream",
     "text": [
      "<SkyCoord (ICRS): (ra, dec) in deg\n",
      "    ( 187.43680833,  7.87741944)>\n",
      "No catalog item found for this within 1 arcsecond, saving coordinates [u'12h29m44.834s'] [u'7d52m38.71s']\n"
     ]
    },
    {
     "name": "stderr",
     "output_type": "stream",
     "text": [
      "/home/kcdage/anaconda/lib/python2.7/site-packages/astroquery/simbad/core.py:136: UserWarning: Warning: The script line number 3 raised an error (recorded in the `errors` attribute of the result table): '12:29:42.645 +7:52:46.33': No astronomical object found :\n",
      "  (error.line, error.msg))\n"
     ]
    },
    {
     "name": "stdout",
     "output_type": "stream",
     "text": [
      "<SkyCoord (ICRS): (ra, dec) in deg\n",
      "    ( 187.4276875,  7.87953611)>\n",
      "No catalog item found for this within 1 arcsecond, saving coordinates [u'12h29m42.645s'] [u'7d52m46.33s']\n"
     ]
    },
    {
     "name": "stderr",
     "output_type": "stream",
     "text": [
      "/home/kcdage/anaconda/lib/python2.7/site-packages/astroquery/simbad/core.py:136: UserWarning: Warning: The script line number 3 raised an error (recorded in the `errors` attribute of the result table): '12:29:43.758 +7:53:19.87': No astronomical object found :\n",
      "  (error.line, error.msg))\n"
     ]
    },
    {
     "name": "stdout",
     "output_type": "stream",
     "text": [
      "<SkyCoord (ICRS): (ra, dec) in deg\n",
      "    ( 187.432325,  7.88885278)>\n",
      "No catalog item found for this within 1 arcsecond, saving coordinates [u'12h29m43.758s'] [u'7d53m19.87s']\n"
     ]
    },
    {
     "name": "stderr",
     "output_type": "stream",
     "text": [
      "/home/kcdage/anaconda/lib/python2.7/site-packages/astroquery/simbad/core.py:136: UserWarning: Warning: The script line number 3 raised an error (recorded in the `errors` attribute of the result table): '12:29:33.836 +7:54:06': No astronomical object found :\n",
      "  (error.line, error.msg))\n"
     ]
    },
    {
     "name": "stdout",
     "output_type": "stream",
     "text": [
      "<SkyCoord (ICRS): (ra, dec) in deg\n",
      "    ( 187.39098333,  7.90166667)>\n",
      "No catalog item found for this within 1 arcsecond, saving coordinates [u'12h29m33.836s'] [u'7d54m06s']\n"
     ]
    },
    {
     "name": "stderr",
     "output_type": "stream",
     "text": [
      "/home/kcdage/anaconda/lib/python2.7/site-packages/astroquery/simbad/core.py:136: UserWarning: Warning: The script line number 3 raised an error (recorded in the `errors` attribute of the result table): '12:29:38.519 +7:54:07.1': No astronomical object found :\n",
      "  (error.line, error.msg))\n"
     ]
    },
    {
     "name": "stdout",
     "output_type": "stream",
     "text": [
      "<SkyCoord (ICRS): (ra, dec) in deg\n",
      "    ( 187.41049583,  7.90197222)>\n",
      "No catalog item found for this within 1 arcsecond, saving coordinates [u'12h29m38.519s'] [u'7d54m07.1s']\n"
     ]
    },
    {
     "name": "stderr",
     "output_type": "stream",
     "text": [
      "/home/kcdage/anaconda/lib/python2.7/site-packages/astroquery/simbad/core.py:136: UserWarning: Warning: The script line number 3 raised an error (recorded in the `errors` attribute of the result table): '12:29:46.694 +7:54:43.42': No astronomical object found :\n",
      "  (error.line, error.msg))\n"
     ]
    },
    {
     "name": "stdout",
     "output_type": "stream",
     "text": [
      "<SkyCoord (ICRS): (ra, dec) in deg\n",
      "    ( 187.44455833,  7.91206111)>\n",
      "No catalog item found for this within 1 arcsecond, saving coordinates [u'12h29m46.694s'] [u'7d54m43.42s']\n"
     ]
    },
    {
     "name": "stderr",
     "output_type": "stream",
     "text": [
      "WARNING: MergeConflictWarning: Cannot merge meta key u'description' types <type 'unicode'> and <type 'unicode'>, choosing description=u'Simbad script executed on 2017.10.05CEST21:28:02' [astropy.utils.metadata]\n",
      "/home/kcdage/anaconda/lib/python2.7/site-packages/astroquery/simbad/core.py:136: UserWarning: Warning: The script line number 3 raised an error (recorded in the `errors` attribute of the result table): '12:29:35.54 +7:56:03.77': No astronomical object found :\n",
      "  (error.line, error.msg))\n"
     ]
    },
    {
     "name": "stdout",
     "output_type": "stream",
     "text": [
      "<SkyCoord (ICRS): (ra, dec) in deg\n",
      "    ( 187.39808333,  7.93438056)>\n",
      "No catalog item found for this within 1 arcsecond, saving coordinates [u'12h29m35.54s'] [u'7d56m03.77s']\n"
     ]
    },
    {
     "name": "stderr",
     "output_type": "stream",
     "text": [
      "/home/kcdage/anaconda/lib/python2.7/site-packages/astroquery/simbad/core.py:136: UserWarning: Warning: The script line number 3 raised an error (recorded in the `errors` attribute of the result table): '12:29:54.254 +7:56:12.23': No astronomical object found :\n",
      "  (error.line, error.msg))\n"
     ]
    },
    {
     "name": "stdout",
     "output_type": "stream",
     "text": [
      "<SkyCoord (ICRS): (ra, dec) in deg\n",
      "    ( 187.47605833,  7.93673056)>\n",
      "No catalog item found for this within 1 arcsecond, saving coordinates [u'12h29m54.254s'] [u'7d56m12.23s']\n"
     ]
    },
    {
     "name": "stderr",
     "output_type": "stream",
     "text": [
      "/home/kcdage/anaconda/lib/python2.7/site-packages/astroquery/simbad/core.py:136: UserWarning: Warning: The script line number 3 raised an error (recorded in the `errors` attribute of the result table): '12:29:54.966 +7:56:18.66': No astronomical object found :\n",
      "  (error.line, error.msg))\n"
     ]
    },
    {
     "name": "stdout",
     "output_type": "stream",
     "text": [
      "<SkyCoord (ICRS): (ra, dec) in deg\n",
      "    ( 187.479025,  7.93851667)>\n",
      "No catalog item found for this within 1 arcsecond, saving coordinates [u'12h29m54.966s'] [u'7d56m18.66s']\n"
     ]
    },
    {
     "name": "stderr",
     "output_type": "stream",
     "text": [
      "/home/kcdage/anaconda/lib/python2.7/site-packages/astroquery/simbad/core.py:136: UserWarning: Warning: The script line number 3 raised an error (recorded in the `errors` attribute of the result table): '12:29:30.14 +7:56:23.1': No astronomical object found :\n",
      "  (error.line, error.msg))\n"
     ]
    },
    {
     "name": "stdout",
     "output_type": "stream",
     "text": [
      "<SkyCoord (ICRS): (ra, dec) in deg\n",
      "    ( 187.37558333,  7.93975)>\n",
      "No catalog item found for this within 1 arcsecond, saving coordinates [u'12h29m30.14s'] [u'7d56m23.1s']\n"
     ]
    },
    {
     "name": "stderr",
     "output_type": "stream",
     "text": [
      "/home/kcdage/anaconda/lib/python2.7/site-packages/astroquery/simbad/core.py:136: UserWarning: Warning: The script line number 3 raised an error (recorded in the `errors` attribute of the result table): '12:29:29.304 +7:56:40.78': No astronomical object found :\n",
      "  (error.line, error.msg))\n"
     ]
    },
    {
     "name": "stdout",
     "output_type": "stream",
     "text": [
      "<SkyCoord (ICRS): (ra, dec) in deg\n",
      "    ( 187.3721,  7.94466111)>\n",
      "No catalog item found for this within 1 arcsecond, saving coordinates [u'12h29m29.304s'] [u'7d56m40.78s']\n"
     ]
    },
    {
     "name": "stderr",
     "output_type": "stream",
     "text": [
      "WARNING: MergeConflictWarning: Cannot merge meta key u'description' types <type 'unicode'> and <type 'unicode'>, choosing description=u'Simbad script executed on 2017.10.05CEST21:28:04' [astropy.utils.metadata]\n",
      "WARNING: MergeConflictWarning: Cannot merge meta key u'description' types <type 'unicode'> and <type 'unicode'>, choosing description=u'Simbad script executed on 2017.10.05CEST21:28:05' [astropy.utils.metadata]\n",
      "WARNING: MergeConflictWarning: Cannot merge meta key u'description' types <type 'unicode'> and <type 'unicode'>, choosing description=u'Simbad script executed on 2017.10.05CEST21:28:06' [astropy.utils.metadata]\n",
      "/home/kcdage/anaconda/lib/python2.7/site-packages/astroquery/simbad/core.py:136: UserWarning: Warning: The script line number 3 raised an error (recorded in the `errors` attribute of the result table): '12:29:31.669 +7:58:31.11': No astronomical object found :\n",
      "  (error.line, error.msg))\n"
     ]
    },
    {
     "name": "stdout",
     "output_type": "stream",
     "text": [
      "<SkyCoord (ICRS): (ra, dec) in deg\n",
      "    ( 187.38195417,  7.97530833)>\n",
      "No catalog item found for this within 1 arcsecond, saving coordinates [u'12h29m31.669s'] [u'7d58m31.11s']\n"
     ]
    },
    {
     "name": "stderr",
     "output_type": "stream",
     "text": [
      "WARNING: MergeConflictWarning: Cannot merge meta key u'description' types <type 'unicode'> and <type 'unicode'>, choosing description=u'Simbad script executed on 2017.10.05CEST21:28:07' [astropy.utils.metadata]\n",
      "WARNING: MergeConflictWarning: Cannot merge meta key u'description' types <type 'unicode'> and <type 'unicode'>, choosing description=u'Simbad script executed on 2017.10.05CEST21:28:08' [astropy.utils.metadata]\n",
      "/home/kcdage/anaconda/lib/python2.7/site-packages/astroquery/simbad/core.py:136: UserWarning: Warning: The script line number 3 raised an error (recorded in the `errors` attribute of the result table): '12:29:34.407 +7:58:51.49': No astronomical object found :\n",
      "  (error.line, error.msg))\n"
     ]
    },
    {
     "name": "stdout",
     "output_type": "stream",
     "text": [
      "<SkyCoord (ICRS): (ra, dec) in deg\n",
      "    ( 187.3933625,  7.98096944)>\n",
      "No catalog item found for this within 1 arcsecond, saving coordinates [u'12h29m34.407s'] [u'7d58m51.49s']\n"
     ]
    },
    {
     "name": "stderr",
     "output_type": "stream",
     "text": [
      "/home/kcdage/anaconda/lib/python2.7/site-packages/astroquery/simbad/core.py:136: UserWarning: Warning: The script line number 3 raised an error (recorded in the `errors` attribute of the result table): '12:29:39.198 +7:59:20.65': No astronomical object found :\n",
      "  (error.line, error.msg))\n"
     ]
    },
    {
     "name": "stdout",
     "output_type": "stream",
     "text": [
      "<SkyCoord (ICRS): (ra, dec) in deg\n",
      "    ( 187.413325,  7.98906944)>\n",
      "No catalog item found for this within 1 arcsecond, saving coordinates [u'12h29m39.198s'] [u'7d59m20.65s']\n"
     ]
    },
    {
     "name": "stderr",
     "output_type": "stream",
     "text": [
      "WARNING: MergeConflictWarning: Cannot merge meta key u'description' types <type 'unicode'> and <type 'unicode'>, choosing description=u'Simbad script executed on 2017.10.05CEST21:28:09' [astropy.utils.metadata]\n",
      "/home/kcdage/anaconda/lib/python2.7/site-packages/astroquery/simbad/core.py:136: UserWarning: Warning: The script line number 3 raised an error (recorded in the `errors` attribute of the result table): '12:29:45.255 +8:00:03.91': No astronomical object found :\n",
      "  (error.line, error.msg))\n"
     ]
    },
    {
     "name": "stdout",
     "output_type": "stream",
     "text": [
      "<SkyCoord (ICRS): (ra, dec) in deg\n",
      "    ( 187.4385625,  8.00108611)>\n",
      "No catalog item found for this within 1 arcsecond, saving coordinates [u'12h29m45.255s'] [u'8d00m03.91s']\n"
     ]
    },
    {
     "name": "stderr",
     "output_type": "stream",
     "text": [
      "/home/kcdage/anaconda/lib/python2.7/site-packages/astroquery/simbad/core.py:136: UserWarning: Warning: The script line number 3 raised an error (recorded in the `errors` attribute of the result table): '12:30:22.754 +8:02:50.34': No astronomical object found :\n",
      "  (error.line, error.msg))\n"
     ]
    },
    {
     "name": "stdout",
     "output_type": "stream",
     "text": [
      "<SkyCoord (ICRS): (ra, dec) in deg\n",
      "    ( 187.59480833,  8.04731667)>\n",
      "No catalog item found for this within 1 arcsecond, saving coordinates [u'12h30m22.754s'] [u'8d02m50.34s']\n"
     ]
    },
    {
     "name": "stderr",
     "output_type": "stream",
     "text": [
      "WARNING: MergeConflictWarning: Cannot merge meta key u'description' types <type 'unicode'> and <type 'unicode'>, choosing description=u'Simbad script executed on 2017.10.05CEST21:28:10' [astropy.utils.metadata]\n",
      "/home/kcdage/anaconda/lib/python2.7/site-packages/astroquery/simbad/core.py:136: UserWarning: Warning: The script line number 3 raised an error (recorded in the `errors` attribute of the result table): '12:29:37.975 +7:49:33.08': No astronomical object found :\n",
      "  (error.line, error.msg))\n"
     ]
    },
    {
     "name": "stdout",
     "output_type": "stream",
     "text": [
      "<SkyCoord (ICRS): (ra, dec) in deg\n",
      "    ( 187.40822917,  7.82585556)>\n",
      "No catalog item found for this within 1 arcsecond, saving coordinates [u'12h29m37.975s'] [u'7d49m33.08s']\n"
     ]
    },
    {
     "name": "stderr",
     "output_type": "stream",
     "text": [
      "/home/kcdage/anaconda/lib/python2.7/site-packages/astroquery/simbad/core.py:136: UserWarning: Warning: The script line number 3 raised an error (recorded in the `errors` attribute of the result table): '12:29:39.036 +7:50:18.54': No astronomical object found :\n",
      "  (error.line, error.msg))\n"
     ]
    },
    {
     "name": "stdout",
     "output_type": "stream",
     "text": [
      "<SkyCoord (ICRS): (ra, dec) in deg\n",
      "    ( 187.41265,  7.83848333)>\n",
      "No catalog item found for this within 1 arcsecond, saving coordinates [u'12h29m39.036s'] [u'7d50m18.54s']\n"
     ]
    },
    {
     "name": "stderr",
     "output_type": "stream",
     "text": [
      "/home/kcdage/anaconda/lib/python2.7/site-packages/astroquery/simbad/core.py:136: UserWarning: Warning: The script line number 3 raised an error (recorded in the `errors` attribute of the result table): '12:30:40.535 +7:50:56.8': No astronomical object found :\n",
      "  (error.line, error.msg))\n"
     ]
    },
    {
     "name": "stdout",
     "output_type": "stream",
     "text": [
      "<SkyCoord (ICRS): (ra, dec) in deg\n",
      "    ( 187.66889583,  7.84911111)>\n",
      "No catalog item found for this within 1 arcsecond, saving coordinates [u'12h30m40.535s'] [u'7d50m56.8s']\n"
     ]
    },
    {
     "name": "stderr",
     "output_type": "stream",
     "text": [
      "/home/kcdage/anaconda/lib/python2.7/site-packages/astroquery/simbad/core.py:136: UserWarning: Warning: The script line number 3 raised an error (recorded in the `errors` attribute of the result table): '12:29:53.315 +7:51:12.89': No astronomical object found :\n",
      "  (error.line, error.msg))\n"
     ]
    },
    {
     "name": "stdout",
     "output_type": "stream",
     "text": [
      "<SkyCoord (ICRS): (ra, dec) in deg\n",
      "    ( 187.47214583,  7.85358056)>\n",
      "No catalog item found for this within 1 arcsecond, saving coordinates [u'12h29m53.315s'] [u'7d51m12.89s']\n"
     ]
    },
    {
     "name": "stderr",
     "output_type": "stream",
     "text": [
      "/home/kcdage/anaconda/lib/python2.7/site-packages/astroquery/simbad/core.py:136: UserWarning: Warning: The script line number 3 raised an error (recorded in the `errors` attribute of the result table): '12:29:22.131 +7:53:33.96': No astronomical object found :\n",
      "  (error.line, error.msg))\n"
     ]
    },
    {
     "name": "stdout",
     "output_type": "stream",
     "text": [
      "<SkyCoord (ICRS): (ra, dec) in deg\n",
      "    ( 187.3422125,  7.89276667)>\n",
      "No catalog item found for this within 1 arcsecond, saving coordinates [u'12h29m22.131s'] [u'7d53m33.96s']\n"
     ]
    },
    {
     "name": "stderr",
     "output_type": "stream",
     "text": [
      "/home/kcdage/anaconda/lib/python2.7/site-packages/astroquery/simbad/core.py:136: UserWarning: Warning: The script line number 3 raised an error (recorded in the `errors` attribute of the result table): '12:29:32.914 +7:53:46.53': No astronomical object found :\n",
      "  (error.line, error.msg))\n"
     ]
    },
    {
     "name": "stdout",
     "output_type": "stream",
     "text": [
      "<SkyCoord (ICRS): (ra, dec) in deg\n",
      "    ( 187.38714167,  7.89625833)>\n",
      "No catalog item found for this within 1 arcsecond, saving coordinates [u'12h29m32.914s'] [u'7d53m46.53s']\n"
     ]
    },
    {
     "name": "stderr",
     "output_type": "stream",
     "text": [
      "/home/kcdage/anaconda/lib/python2.7/site-packages/astroquery/simbad/core.py:136: UserWarning: Warning: The script line number 3 raised an error (recorded in the `errors` attribute of the result table): '12:29:49.432 +7:54:11.15': No astronomical object found :\n",
      "  (error.line, error.msg))\n"
     ]
    },
    {
     "name": "stdout",
     "output_type": "stream",
     "text": [
      "<SkyCoord (ICRS): (ra, dec) in deg\n",
      "    ( 187.45596667,  7.90309722)>\n",
      "No catalog item found for this within 1 arcsecond, saving coordinates [u'12h29m49.432s'] [u'7d54m11.15s']\n"
     ]
    },
    {
     "name": "stderr",
     "output_type": "stream",
     "text": [
      "WARNING: MergeConflictWarning: Cannot merge meta key u'description' types <type 'unicode'> and <type 'unicode'>, choosing description=u'Simbad script executed on 2017.10.05CEST21:28:13' [astropy.utils.metadata]\n",
      "/home/kcdage/anaconda/lib/python2.7/site-packages/astroquery/simbad/core.py:136: UserWarning: Warning: The script line number 3 raised an error (recorded in the `errors` attribute of the result table): '12:29:54.121 +7:57:19.8': No astronomical object found :\n",
      "  (error.line, error.msg))\n"
     ]
    },
    {
     "name": "stdout",
     "output_type": "stream",
     "text": [
      "<SkyCoord (ICRS): (ra, dec) in deg\n",
      "    ( 187.47550417,  7.9555)>\n",
      "No catalog item found for this within 1 arcsecond, saving coordinates [u'12h29m54.121s'] [u'7d57m19.8s']\n"
     ]
    },
    {
     "name": "stderr",
     "output_type": "stream",
     "text": [
      "/home/kcdage/anaconda/lib/python2.7/site-packages/astroquery/simbad/core.py:136: UserWarning: Warning: The script line number 3 raised an error (recorded in the `errors` attribute of the result table): '12:29:53.178 +7:57:23.86': No astronomical object found :\n",
      "  (error.line, error.msg))\n"
     ]
    },
    {
     "name": "stdout",
     "output_type": "stream",
     "text": [
      "<SkyCoord (ICRS): (ra, dec) in deg\n",
      "    ( 187.471575,  7.95662778)>\n",
      "No catalog item found for this within 1 arcsecond, saving coordinates [u'12h29m53.178s'] [u'7d57m23.86s']\n"
     ]
    },
    {
     "name": "stderr",
     "output_type": "stream",
     "text": [
      "/home/kcdage/anaconda/lib/python2.7/site-packages/astroquery/simbad/core.py:136: UserWarning: Warning: The script line number 3 raised an error (recorded in the `errors` attribute of the result table): '12:29:27.681 +7:57:45.27': No astronomical object found :\n",
      "  (error.line, error.msg))\n"
     ]
    },
    {
     "name": "stdout",
     "output_type": "stream",
     "text": [
      "<SkyCoord (ICRS): (ra, dec) in deg\n",
      "    ( 187.3653375,  7.962575)>\n",
      "No catalog item found for this within 1 arcsecond, saving coordinates [u'12h29m27.681s'] [u'7d57m45.27s']\n"
     ]
    },
    {
     "name": "stderr",
     "output_type": "stream",
     "text": [
      "WARNING: MergeConflictWarning: Cannot merge meta key u'description' types <type 'unicode'> and <type 'unicode'>, choosing description=u'Simbad script executed on 2017.10.05CEST21:28:14' [astropy.utils.metadata]\n",
      "WARNING: MergeConflictWarning: Cannot merge meta key u'description' types <type 'unicode'> and <type 'unicode'>, choosing description=u'Simbad script executed on 2017.10.05CEST21:28:15' [astropy.utils.metadata]\n",
      "/home/kcdage/anaconda/lib/python2.7/site-packages/astroquery/simbad/core.py:136: UserWarning: Warning: The script line number 3 raised an error (recorded in the `errors` attribute of the result table): '12:29:49.067 +7:58:52.02': No astronomical object found :\n",
      "  (error.line, error.msg))\n"
     ]
    },
    {
     "name": "stdout",
     "output_type": "stream",
     "text": [
      "<SkyCoord (ICRS): (ra, dec) in deg\n",
      "    ( 187.45444583,  7.98111667)>\n",
      "No catalog item found for this within 1 arcsecond, saving coordinates [u'12h29m49.067s'] [u'7d58m52.02s']\n"
     ]
    },
    {
     "name": "stderr",
     "output_type": "stream",
     "text": [
      "/home/kcdage/anaconda/lib/python2.7/site-packages/astroquery/simbad/core.py:136: UserWarning: Warning: The script line number 3 raised an error (recorded in the `errors` attribute of the result table): '12:29:24.242 +7:58:53.15': No astronomical object found :\n",
      "  (error.line, error.msg))\n"
     ]
    },
    {
     "name": "stdout",
     "output_type": "stream",
     "text": [
      "<SkyCoord (ICRS): (ra, dec) in deg\n",
      "    ( 187.35100833,  7.98143056)>\n",
      "No catalog item found for this within 1 arcsecond, saving coordinates [u'12h29m24.242s'] [u'7d58m53.15s']\n"
     ]
    },
    {
     "name": "stderr",
     "output_type": "stream",
     "text": [
      "WARNING: MergeConflictWarning: Cannot merge meta key u'description' types <type 'unicode'> and <type 'unicode'>, choosing description=u'Simbad script executed on 2017.10.05CEST21:28:16' [astropy.utils.metadata]\n",
      "WARNING: MergeConflictWarning: Cannot merge meta key u'description' types <type 'unicode'> and <type 'unicode'>, choosing description=u'Simbad script executed on 2017.10.05CEST21:28:17' [astropy.utils.metadata]\n",
      "/home/kcdage/anaconda/lib/python2.7/site-packages/astroquery/simbad/core.py:136: UserWarning: Warning: The script line number 3 raised an error (recorded in the `errors` attribute of the result table): '12:30:12.05 +7:59:30.48': No astronomical object found :\n",
      "  (error.line, error.msg))\n"
     ]
    },
    {
     "name": "stdout",
     "output_type": "stream",
     "text": [
      "<SkyCoord (ICRS): (ra, dec) in deg\n",
      "    ( 187.55020833,  7.9918)>\n",
      "No catalog item found for this within 1 arcsecond, saving coordinates [u'12h30m12.05s'] [u'7d59m30.48s']\n"
     ]
    },
    {
     "name": "stderr",
     "output_type": "stream",
     "text": [
      "/home/kcdage/anaconda/lib/python2.7/site-packages/astroquery/simbad/core.py:136: UserWarning: Warning: The script line number 3 raised an error (recorded in the `errors` attribute of the result table): '12:29:29.091 +7:59:46.79': No astronomical object found :\n",
      "  (error.line, error.msg))\n"
     ]
    },
    {
     "name": "stdout",
     "output_type": "stream",
     "text": [
      "<SkyCoord (ICRS): (ra, dec) in deg\n",
      "    ( 187.3712125,  7.99633056)>\n",
      "No catalog item found for this within 1 arcsecond, saving coordinates [u'12h29m29.091s'] [u'7d59m46.79s']\n"
     ]
    },
    {
     "name": "stderr",
     "output_type": "stream",
     "text": [
      "WARNING: MergeConflictWarning: Cannot merge meta key u'description' types <type 'unicode'> and <type 'unicode'>, choosing description=u'Simbad script executed on 2017.10.05CEST21:28:18' [astropy.utils.metadata]\n",
      "/home/kcdage/anaconda/lib/python2.7/site-packages/astroquery/simbad/core.py:136: UserWarning: Warning: The script line number 3 raised an error (recorded in the `errors` attribute of the result table): '12:29:46.679 +8:00:02.77': No astronomical object found :\n",
      "  (error.line, error.msg))\n"
     ]
    },
    {
     "name": "stdout",
     "output_type": "stream",
     "text": [
      "<SkyCoord (ICRS): (ra, dec) in deg\n",
      "    ( 187.44449583,  8.00076944)>\n",
      "No catalog item found for this within 1 arcsecond, saving coordinates [u'12h29m46.679s'] [u'8d00m02.77s']\n"
     ]
    },
    {
     "name": "stderr",
     "output_type": "stream",
     "text": [
      "/home/kcdage/anaconda/lib/python2.7/site-packages/astroquery/simbad/core.py:136: UserWarning: Warning: The script line number 3 raised an error (recorded in the `errors` attribute of the result table): '12:29:42.262 +8:00:06.97': No astronomical object found :\n",
      "  (error.line, error.msg))\n"
     ]
    },
    {
     "name": "stdout",
     "output_type": "stream",
     "text": [
      "<SkyCoord (ICRS): (ra, dec) in deg\n",
      "    ( 187.42609167,  8.00193611)>\n",
      "No catalog item found for this within 1 arcsecond, saving coordinates [u'12h29m42.262s'] [u'8d00m06.97s']\n",
      "<SkyCoord (ICRS): (ra, dec) in deg\n",
      "    ( 187.455375,  8.0036)>\n",
      "No catalog item found for this within 1 arcsecond, saving coordinates [u'12h29m49.29s'] [u'8d00m12.96s']\n"
     ]
    },
    {
     "name": "stderr",
     "output_type": "stream",
     "text": [
      "/home/kcdage/anaconda/lib/python2.7/site-packages/astroquery/simbad/core.py:136: UserWarning: Warning: The script line number 3 raised an error (recorded in the `errors` attribute of the result table): '12:29:49.29 +8:00:12.96': No astronomical object found :\n",
      "  (error.line, error.msg))\n",
      "WARNING: MergeConflictWarning: Cannot merge meta key u'description' types <type 'unicode'> and <type 'unicode'>, choosing description=u'Simbad script executed on 2017.10.05CEST21:28:19' [astropy.utils.metadata]\n",
      "/home/kcdage/anaconda/lib/python2.7/site-packages/astroquery/simbad/core.py:136: UserWarning: Warning: The script line number 3 raised an error (recorded in the `errors` attribute of the result table): '12:29:34.459 +8:00:30.77': No astronomical object found :\n",
      "  (error.line, error.msg))\n"
     ]
    },
    {
     "name": "stdout",
     "output_type": "stream",
     "text": [
      "<SkyCoord (ICRS): (ra, dec) in deg\n",
      "    ( 187.39357917,  8.00854722)>\n",
      "No catalog item found for this within 1 arcsecond, saving coordinates [u'12h29m34.459s'] [u'8d00m30.77s']\n"
     ]
    },
    {
     "name": "stderr",
     "output_type": "stream",
     "text": [
      "/home/kcdage/anaconda/lib/python2.7/site-packages/astroquery/simbad/core.py:136: UserWarning: Warning: The script line number 3 raised an error (recorded in the `errors` attribute of the result table): '12:30:37.854 +8:00:39.43': No astronomical object found :\n",
      "  (error.line, error.msg))\n"
     ]
    },
    {
     "name": "stdout",
     "output_type": "stream",
     "text": [
      "<SkyCoord (ICRS): (ra, dec) in deg\n",
      "    ( 187.657725,  8.01095278)>\n",
      "No catalog item found for this within 1 arcsecond, saving coordinates [u'12h30m37.854s'] [u'8d00m39.43s']\n"
     ]
    },
    {
     "name": "stderr",
     "output_type": "stream",
     "text": [
      "/home/kcdage/anaconda/lib/python2.7/site-packages/astroquery/simbad/core.py:136: UserWarning: Warning: The script line number 3 raised an error (recorded in the `errors` attribute of the result table): '12:29:35.27 +7:48:52.93': No astronomical object found :\n",
      "  (error.line, error.msg))\n"
     ]
    },
    {
     "name": "stdout",
     "output_type": "stream",
     "text": [
      "<SkyCoord (ICRS): (ra, dec) in deg\n",
      "    ( 187.39695833,  7.81470278)>\n",
      "No catalog item found for this within 1 arcsecond, saving coordinates [u'12h29m35.27s'] [u'7d48m52.93s']\n"
     ]
    },
    {
     "name": "stderr",
     "output_type": "stream",
     "text": [
      "/home/kcdage/anaconda/lib/python2.7/site-packages/astroquery/simbad/core.py:136: UserWarning: Warning: The script line number 3 raised an error (recorded in the `errors` attribute of the result table): '12:29:53.248 +7:49:26.62': No astronomical object found :\n",
      "  (error.line, error.msg))\n"
     ]
    },
    {
     "name": "stdout",
     "output_type": "stream",
     "text": [
      "<SkyCoord (ICRS): (ra, dec) in deg\n",
      "    ( 187.47186667,  7.82406111)>\n",
      "No catalog item found for this within 1 arcsecond, saving coordinates [u'12h29m53.248s'] [u'7d49m26.62s']\n"
     ]
    },
    {
     "name": "stderr",
     "output_type": "stream",
     "text": [
      "/home/kcdage/anaconda/lib/python2.7/site-packages/astroquery/simbad/core.py:136: UserWarning: Warning: The script line number 3 raised an error (recorded in the `errors` attribute of the result table): '12:29:50.081 +7:50:12.46': No astronomical object found :\n",
      "  (error.line, error.msg))\n"
     ]
    },
    {
     "name": "stdout",
     "output_type": "stream",
     "text": [
      "<SkyCoord (ICRS): (ra, dec) in deg\n",
      "    ( 187.45867083,  7.83679444)>\n",
      "No catalog item found for this within 1 arcsecond, saving coordinates [u'12h29m50.081s'] [u'7d50m12.46s']\n"
     ]
    },
    {
     "name": "stderr",
     "output_type": "stream",
     "text": [
      "/home/kcdage/anaconda/lib/python2.7/site-packages/astroquery/simbad/core.py:136: UserWarning: Warning: The script line number 3 raised an error (recorded in the `errors` attribute of the result table): '12:29:23.357 +7:51:33.09': No astronomical object found :\n",
      "  (error.line, error.msg))\n"
     ]
    },
    {
     "name": "stdout",
     "output_type": "stream",
     "text": [
      "<SkyCoord (ICRS): (ra, dec) in deg\n",
      "    ( 187.34732083,  7.85919167)>\n",
      "No catalog item found for this within 1 arcsecond, saving coordinates [u'12h29m23.357s'] [u'7d51m33.09s']\n"
     ]
    },
    {
     "name": "stderr",
     "output_type": "stream",
     "text": [
      "/home/kcdage/anaconda/lib/python2.7/site-packages/astroquery/simbad/core.py:136: UserWarning: Warning: The script line number 3 raised an error (recorded in the `errors` attribute of the result table): '12:29:50.094 +7:55:50.88': No astronomical object found :\n",
      "  (error.line, error.msg))\n"
     ]
    },
    {
     "name": "stdout",
     "output_type": "stream",
     "text": [
      "<SkyCoord (ICRS): (ra, dec) in deg\n",
      "    ( 187.458725,  7.9308)>\n",
      "No catalog item found for this within 1 arcsecond, saving coordinates [u'12h29m50.094s'] [u'7d55m50.88s']\n"
     ]
    },
    {
     "name": "stderr",
     "output_type": "stream",
     "text": [
      "/home/kcdage/anaconda/lib/python2.7/site-packages/astroquery/simbad/core.py:136: UserWarning: Warning: The script line number 3 raised an error (recorded in the `errors` attribute of the result table): '12:29:51.62 +7:58:01.01': No astronomical object found :\n",
      "  (error.line, error.msg))\n"
     ]
    },
    {
     "name": "stdout",
     "output_type": "stream",
     "text": [
      "<SkyCoord (ICRS): (ra, dec) in deg\n",
      "    ( 187.46508333,  7.96694722)>\n",
      "No catalog item found for this within 1 arcsecond, saving coordinates [u'12h29m51.62s'] [u'7d58m01.01s']\n"
     ]
    },
    {
     "name": "stderr",
     "output_type": "stream",
     "text": [
      "/home/kcdage/anaconda/lib/python2.7/site-packages/astroquery/simbad/core.py:136: UserWarning: Warning: The script line number 3 raised an error (recorded in the `errors` attribute of the result table): '12:29:29.953 +7:58:38.73': No astronomical object found :\n",
      "  (error.line, error.msg))\n"
     ]
    },
    {
     "name": "stdout",
     "output_type": "stream",
     "text": [
      "<SkyCoord (ICRS): (ra, dec) in deg\n",
      "    ( 187.37480417,  7.977425)>\n",
      "No catalog item found for this within 1 arcsecond, saving coordinates [u'12h29m29.953s'] [u'7d58m38.73s']\n"
     ]
    },
    {
     "name": "stderr",
     "output_type": "stream",
     "text": [
      "WARNING: MergeConflictWarning: Cannot merge meta key u'description' types <type 'unicode'> and <type 'unicode'>, choosing description=u'Simbad script executed on 2017.10.05CEST21:28:23' [astropy.utils.metadata]\n",
      "/home/kcdage/anaconda/lib/python2.7/site-packages/astroquery/simbad/core.py:136: UserWarning: Warning: The script line number 3 raised an error (recorded in the `errors` attribute of the result table): '12:30:14.205 +8:01:14.28': No astronomical object found :\n",
      "  (error.line, error.msg))\n"
     ]
    },
    {
     "name": "stdout",
     "output_type": "stream",
     "text": [
      "<SkyCoord (ICRS): (ra, dec) in deg\n",
      "    ( 187.5591875,  8.02063333)>\n",
      "No catalog item found for this within 1 arcsecond, saving coordinates [u'12h30m14.205s'] [u'8d01m14.28s']\n"
     ]
    },
    {
     "name": "stderr",
     "output_type": "stream",
     "text": [
      "WARNING: MergeConflictWarning: Cannot merge meta key u'description' types <type 'unicode'> and <type 'unicode'>, choosing description=u'Simbad script executed on 2017.10.05CEST21:28:24' [astropy.utils.metadata]\n",
      "/home/kcdage/anaconda/lib/python2.7/site-packages/astroquery/simbad/core.py:136: UserWarning: Warning: The script line number 3 raised an error (recorded in the `errors` attribute of the result table): '12:29:36.918 +8:03:13.6': No astronomical object found :\n",
      "  (error.line, error.msg))\n"
     ]
    },
    {
     "name": "stdout",
     "output_type": "stream",
     "text": [
      "<SkyCoord (ICRS): (ra, dec) in deg\n",
      "    ( 187.403825,  8.05377778)>\n",
      "No catalog item found for this within 1 arcsecond, saving coordinates [u'12h29m36.918s'] [u'8d03m13.6s']\n"
     ]
    },
    {
     "name": "stderr",
     "output_type": "stream",
     "text": [
      "/home/kcdage/anaconda/lib/python2.7/site-packages/astroquery/simbad/core.py:136: UserWarning: Warning: The script line number 3 raised an error (recorded in the `errors` attribute of the result table): '12:29:19.232 +7:45:13.47': No astronomical object found :\n",
      "  (error.line, error.msg))\n"
     ]
    },
    {
     "name": "stdout",
     "output_type": "stream",
     "text": [
      "<SkyCoord (ICRS): (ra, dec) in deg\n",
      "    ( 187.33013333,  7.75374167)>\n",
      "No catalog item found for this within 1 arcsecond, saving coordinates [u'12h29m19.232s'] [u'7d45m13.47s']\n"
     ]
    },
    {
     "name": "stderr",
     "output_type": "stream",
     "text": [
      "/home/kcdage/anaconda/lib/python2.7/site-packages/astroquery/simbad/core.py:136: UserWarning: Warning: The script line number 3 raised an error (recorded in the `errors` attribute of the result table): '12:30:12.931 +7:49:52.13': No astronomical object found :\n",
      "  (error.line, error.msg))\n"
     ]
    },
    {
     "name": "stdout",
     "output_type": "stream",
     "text": [
      "<SkyCoord (ICRS): (ra, dec) in deg\n",
      "    ( 187.55387917,  7.83114722)>\n",
      "No catalog item found for this within 1 arcsecond, saving coordinates [u'12h30m12.931s'] [u'7d49m52.13s']\n"
     ]
    },
    {
     "name": "stderr",
     "output_type": "stream",
     "text": [
      "/home/kcdage/anaconda/lib/python2.7/site-packages/astroquery/simbad/core.py:136: UserWarning: Warning: The script line number 3 raised an error (recorded in the `errors` attribute of the result table): '12:30:17.842 +7:57:14.66': No astronomical object found :\n",
      "  (error.line, error.msg))\n"
     ]
    },
    {
     "name": "stdout",
     "output_type": "stream",
     "text": [
      "<SkyCoord (ICRS): (ra, dec) in deg\n",
      "    ( 187.57434167,  7.95407222)>\n",
      "No catalog item found for this within 1 arcsecond, saving coordinates [u'12h30m17.842s'] [u'7d57m14.66s']\n"
     ]
    },
    {
     "name": "stderr",
     "output_type": "stream",
     "text": [
      "WARNING: MergeConflictWarning: Cannot merge meta key u'description' types <type 'unicode'> and <type 'unicode'>, choosing description=u'Simbad script executed on 2017.10.05CEST21:28:26' [astropy.utils.metadata]\n"
     ]
    }
   ],
   "source": [
    "null_ra_16261=[]\n",
    "null_dec_16261=[]\n",
    "stacked_table_16261=[]\n",
    "for i in range(len(xcor16261)):\n",
    "        item16261=customSimbad.query_region(SkyCoord(xcor16261[i],ycor16261[i], unit=(u.deg, u.deg), frame='fk5'), radius=dist)\n",
    "        if item16261 is None:\n",
    "            co16261 = SkyCoord(xcor16261[i],ycor16261[i], unit=(u.deg, u.deg))\n",
    "            print co16261\n",
    "            ra_not_found16261, dec_not_found16261 = co16261.ra.to_string(u.hour), co16261.dec.to_string(u.deg)\n",
    "            print \"No catalog item found for this within 1 arcsecond, saving coordinates\", ra_not_found16261, dec_not_found16261\n",
    "\n",
    "            if np.size(null_ra_16261)<1:\n",
    "                null_ra_16261=ra_not_found16261\n",
    "                null_dec_16261=dec_not_found16261\n",
    "            else:\n",
    "                null_ra_16261=np.vstack((null_ra_16261, ra_not_found16261))\n",
    "                null_dec_16261=np.vstack((null_dec_16261, dec_not_found16261))\n",
    "        else:\n",
    "            if len(stacked_table_16261)<1:\n",
    "                stacked_table_16261=item16261\n",
    "            else:\n",
    "                stacked_table_16261=Table.vstack([stacked_table_16261, item16261], join_type ='exact') \n",
    "                \n",
    "        \n"
   ]
  },
  {
   "cell_type": "code",
   "execution_count": 113,
   "metadata": {
    "collapsed": true
   },
   "outputs": [],
   "source": [
    "\n",
    "stacked_table_16261.remove_column('DEC_PREC')\n",
    "stacked_table_16261.remove_column('RA_PREC')\n",
    "stacked_table_16261.remove_column('COO_ERR_MAJA')\n",
    "stacked_table_16261.remove_column('COO_ERR_MINA')\n",
    "stacked_table_16261.remove_column('COO_ERR_ANGLE')\n",
    "stacked_table_16261.remove_column('COO_QUAL')\n",
    "\n",
    "null_coords16261= np.asarray(np.hstack((null_ra_16261, null_dec_16261)))\n",
    "\n",
    "ascii.write(null_coords16261, \"16261_no_cat_val.dat\")\n",
    "ascii.write(stacked_table_16261, 'out_16261.txt', format='csv')"
   ]
  },
  {
   "cell_type": "code",
   "execution_count": 114,
   "metadata": {
    "collapsed": false
   },
   "outputs": [
    {
     "name": "stderr",
     "output_type": "stream",
     "text": [
      "/home/kcdage/anaconda/lib/python2.7/site-packages/astroquery/simbad/core.py:136: UserWarning: Warning: The script line number 3 raised an error (recorded in the `errors` attribute of the result table): '12:29:40.998 +7:53:35.59': No astronomical object found :\n",
      "  (error.line, error.msg))\n"
     ]
    },
    {
     "name": "stdout",
     "output_type": "stream",
     "text": [
      "<SkyCoord (ICRS): (ra, dec) in deg\n",
      "    ( 187.420825,  7.89321944)>\n",
      "No catalog item found for this within 1 arcsecond, saving coordinates [u'12h29m40.998s'] [u'7d53m35.59s']\n"
     ]
    },
    {
     "name": "stderr",
     "output_type": "stream",
     "text": [
      "/home/kcdage/anaconda/lib/python2.7/site-packages/astroquery/simbad/core.py:136: UserWarning: Warning: The script line number 3 raised an error (recorded in the `errors` attribute of the result table): '12:29:41.747 +7:55:07.6': No astronomical object found :\n",
      "  (error.line, error.msg))\n"
     ]
    },
    {
     "name": "stdout",
     "output_type": "stream",
     "text": [
      "<SkyCoord (ICRS): (ra, dec) in deg\n",
      "    ( 187.42394583,  7.91877778)>\n",
      "No catalog item found for this within 1 arcsecond, saving coordinates [u'12h29m41.747s'] [u'7d55m07.6s']\n"
     ]
    },
    {
     "name": "stderr",
     "output_type": "stream",
     "text": [
      "/home/kcdage/anaconda/lib/python2.7/site-packages/astroquery/simbad/core.py:136: UserWarning: Warning: The script line number 3 raised an error (recorded in the `errors` attribute of the result table): '12:29:38.303 +7:55:15.13': No astronomical object found :\n",
      "  (error.line, error.msg))\n"
     ]
    },
    {
     "name": "stdout",
     "output_type": "stream",
     "text": [
      "<SkyCoord (ICRS): (ra, dec) in deg\n",
      "    ( 187.40959583,  7.92086944)>\n",
      "No catalog item found for this within 1 arcsecond, saving coordinates [u'12h29m38.303s'] [u'7d55m15.13s']\n"
     ]
    },
    {
     "name": "stderr",
     "output_type": "stream",
     "text": [
      "WARNING: MergeConflictWarning: Cannot merge meta key u'description' types <type 'unicode'> and <type 'unicode'>, choosing description=u'Simbad script executed on 2017.10.05CEST21:28:28' [astropy.utils.metadata]\n",
      "/home/kcdage/anaconda/lib/python2.7/site-packages/astroquery/simbad/core.py:136: UserWarning: Warning: The script line number 3 raised an error (recorded in the `errors` attribute of the result table): '12:29:35.544 +7:56:03.52': No astronomical object found :\n",
      "  (error.line, error.msg))\n"
     ]
    },
    {
     "name": "stdout",
     "output_type": "stream",
     "text": [
      "<SkyCoord (ICRS): (ra, dec) in deg\n",
      "    ( 187.3981,  7.93431111)>\n",
      "No catalog item found for this within 1 arcsecond, saving coordinates [u'12h29m35.544s'] [u'7d56m03.52s']\n"
     ]
    },
    {
     "name": "stderr",
     "output_type": "stream",
     "text": [
      "WARNING: MergeConflictWarning: Cannot merge meta key u'description' types <type 'unicode'> and <type 'unicode'>, choosing description=u'Simbad script executed on 2017.10.05CEST21:28:29' [astropy.utils.metadata]\n",
      "WARNING: MergeConflictWarning: Cannot merge meta key u'description' types <type 'unicode'> and <type 'unicode'>, choosing description=u'Simbad script executed on 2017.10.05CEST21:28:30' [astropy.utils.metadata]\n",
      "/home/kcdage/anaconda/lib/python2.7/site-packages/astroquery/simbad/core.py:136: UserWarning: Warning: The script line number 3 raised an error (recorded in the `errors` attribute of the result table): '12:29:42.672 +7:52:46.35': No astronomical object found :\n",
      "  (error.line, error.msg))\n"
     ]
    },
    {
     "name": "stdout",
     "output_type": "stream",
     "text": [
      "<SkyCoord (ICRS): (ra, dec) in deg\n",
      "    ( 187.4278,  7.87954167)>\n",
      "No catalog item found for this within 1 arcsecond, saving coordinates [u'12h29m42.672s'] [u'7d52m46.35s']\n"
     ]
    },
    {
     "name": "stderr",
     "output_type": "stream",
     "text": [
      "WARNING: MergeConflictWarning: Cannot merge meta key u'description' types <type 'unicode'> and <type 'unicode'>, choosing description=u'Simbad script executed on 2017.10.05CEST21:28:31' [astropy.utils.metadata]\n",
      "/home/kcdage/anaconda/lib/python2.7/site-packages/astroquery/simbad/core.py:136: UserWarning: Warning: The script line number 3 raised an error (recorded in the `errors` attribute of the result table): '12:29:22.238 +7:53:32.12': No astronomical object found :\n",
      "  (error.line, error.msg))\n"
     ]
    },
    {
     "name": "stdout",
     "output_type": "stream",
     "text": [
      "<SkyCoord (ICRS): (ra, dec) in deg\n",
      "    ( 187.34265833,  7.89225556)>\n",
      "No catalog item found for this within 1 arcsecond, saving coordinates [u'12h29m22.238s'] [u'7d53m32.12s']\n"
     ]
    },
    {
     "name": "stderr",
     "output_type": "stream",
     "text": [
      "WARNING: MergeConflictWarning: Cannot merge meta key u'description' types <type 'unicode'> and <type 'unicode'>, choosing description=u'Simbad script executed on 2017.10.05CEST21:28:32' [astropy.utils.metadata]\n",
      "/home/kcdage/anaconda/lib/python2.7/site-packages/astroquery/simbad/core.py:136: UserWarning: Warning: The script line number 3 raised an error (recorded in the `errors` attribute of the result table): '12:29:32.977 +7:53:45.46': No astronomical object found :\n",
      "  (error.line, error.msg))\n"
     ]
    },
    {
     "name": "stdout",
     "output_type": "stream",
     "text": [
      "<SkyCoord (ICRS): (ra, dec) in deg\n",
      "    ( 187.38740417,  7.89596111)>\n",
      "No catalog item found for this within 1 arcsecond, saving coordinates [u'12h29m32.977s'] [u'7d53m45.46s']\n"
     ]
    },
    {
     "name": "stderr",
     "output_type": "stream",
     "text": [
      "/home/kcdage/anaconda/lib/python2.7/site-packages/astroquery/simbad/core.py:136: UserWarning: Warning: The script line number 3 raised an error (recorded in the `errors` attribute of the result table): '12:29:36.219 +7:54:23.4': No astronomical object found :\n",
      "  (error.line, error.msg))\n"
     ]
    },
    {
     "name": "stdout",
     "output_type": "stream",
     "text": [
      "<SkyCoord (ICRS): (ra, dec) in deg\n",
      "    ( 187.4009125,  7.9065)>\n",
      "No catalog item found for this within 1 arcsecond, saving coordinates [u'12h29m36.219s'] [u'7d54m23.4s']\n"
     ]
    },
    {
     "name": "stderr",
     "output_type": "stream",
     "text": [
      "/home/kcdage/anaconda/lib/python2.7/site-packages/astroquery/simbad/core.py:136: UserWarning: Warning: The script line number 3 raised an error (recorded in the `errors` attribute of the result table): '12:29:46.712 +7:54:42.67': No astronomical object found :\n",
      "  (error.line, error.msg))\n"
     ]
    },
    {
     "name": "stdout",
     "output_type": "stream",
     "text": [
      "<SkyCoord (ICRS): (ra, dec) in deg\n",
      "    ( 187.44463333,  7.91185278)>\n",
      "No catalog item found for this within 1 arcsecond, saving coordinates [u'12h29m46.712s'] [u'7d54m42.67s']\n"
     ]
    },
    {
     "name": "stderr",
     "output_type": "stream",
     "text": [
      "/home/kcdage/anaconda/lib/python2.7/site-packages/astroquery/simbad/core.py:136: UserWarning: Warning: The script line number 3 raised an error (recorded in the `errors` attribute of the result table): '12:29:40.863 +7:55:31.97': No astronomical object found :\n",
      "  (error.line, error.msg))\n"
     ]
    },
    {
     "name": "stdout",
     "output_type": "stream",
     "text": [
      "<SkyCoord (ICRS): (ra, dec) in deg\n",
      "    ( 187.4202625,  7.92554722)>\n",
      "No catalog item found for this within 1 arcsecond, saving coordinates [u'12h29m40.863s'] [u'7d55m31.97s']\n"
     ]
    },
    {
     "name": "stderr",
     "output_type": "stream",
     "text": [
      "WARNING: MergeConflictWarning: Cannot merge meta key u'description' types <type 'unicode'> and <type 'unicode'>, choosing description=u'Simbad script executed on 2017.10.05CEST21:28:33' [astropy.utils.metadata]\n",
      "/home/kcdage/anaconda/lib/python2.7/site-packages/astroquery/simbad/core.py:136: UserWarning: Warning: The script line number 3 raised an error (recorded in the `errors` attribute of the result table): '12:29:36.637 +7:55:39.76': No astronomical object found :\n",
      "  (error.line, error.msg))\n"
     ]
    },
    {
     "name": "stdout",
     "output_type": "stream",
     "text": [
      "<SkyCoord (ICRS): (ra, dec) in deg\n",
      "    ( 187.40265417,  7.92771111)>\n",
      "No catalog item found for this within 1 arcsecond, saving coordinates [u'12h29m36.637s'] [u'7d55m39.76s']\n"
     ]
    },
    {
     "name": "stderr",
     "output_type": "stream",
     "text": [
      "/home/kcdage/anaconda/lib/python2.7/site-packages/astroquery/simbad/core.py:136: UserWarning: Warning: The script line number 3 raised an error (recorded in the `errors` attribute of the result table): '12:29:54.333 +7:56:11.96': No astronomical object found :\n",
      "  (error.line, error.msg))\n"
     ]
    },
    {
     "name": "stdout",
     "output_type": "stream",
     "text": [
      "<SkyCoord (ICRS): (ra, dec) in deg\n",
      "    ( 187.4763875,  7.93665556)>\n",
      "No catalog item found for this within 1 arcsecond, saving coordinates [u'12h29m54.333s'] [u'7d56m11.96s']\n"
     ]
    },
    {
     "name": "stderr",
     "output_type": "stream",
     "text": [
      "/home/kcdage/anaconda/lib/python2.7/site-packages/astroquery/simbad/core.py:136: UserWarning: Warning: The script line number 3 raised an error (recorded in the `errors` attribute of the result table): '12:29:29.329 +7:56:40.96': No astronomical object found :\n",
      "  (error.line, error.msg))\n"
     ]
    },
    {
     "name": "stdout",
     "output_type": "stream",
     "text": [
      "<SkyCoord (ICRS): (ra, dec) in deg\n",
      "    ( 187.37220417,  7.94471111)>\n",
      "No catalog item found for this within 1 arcsecond, saving coordinates [u'12h29m29.329s'] [u'7d56m40.96s']\n"
     ]
    },
    {
     "name": "stderr",
     "output_type": "stream",
     "text": [
      "WARNING: MergeConflictWarning: Cannot merge meta key u'description' types <type 'unicode'> and <type 'unicode'>, choosing description=u'Simbad script executed on 2017.10.05CEST21:28:35' [astropy.utils.metadata]\n",
      "/home/kcdage/anaconda/lib/python2.7/site-packages/astroquery/simbad/core.py:136: UserWarning: Warning: The script line number 3 raised an error (recorded in the `errors` attribute of the result table): '12:29:45.83 +7:57:42.87': No astronomical object found :\n",
      "  (error.line, error.msg))\n"
     ]
    },
    {
     "name": "stdout",
     "output_type": "stream",
     "text": [
      "<SkyCoord (ICRS): (ra, dec) in deg\n",
      "    ( 187.44095833,  7.96190833)>\n",
      "No catalog item found for this within 1 arcsecond, saving coordinates [u'12h29m45.83s'] [u'7d57m42.87s']\n"
     ]
    },
    {
     "name": "stderr",
     "output_type": "stream",
     "text": [
      "WARNING: MergeConflictWarning: Cannot merge meta key u'description' types <type 'unicode'> and <type 'unicode'>, choosing description=u'Simbad script executed on 2017.10.05CEST21:28:36' [astropy.utils.metadata]\n",
      "WARNING: MergeConflictWarning: Cannot merge meta key u'description' types <type 'unicode'> and <type 'unicode'>, choosing description=u'Simbad script executed on 2017.10.05CEST21:28:37' [astropy.utils.metadata]\n",
      "/home/kcdage/anaconda/lib/python2.7/site-packages/astroquery/simbad/core.py:136: UserWarning: Warning: The script line number 3 raised an error (recorded in the `errors` attribute of the result table): '12:29:41.464 +7:59:03.65': No astronomical object found :\n",
      "  (error.line, error.msg))\n"
     ]
    },
    {
     "name": "stdout",
     "output_type": "stream",
     "text": [
      "<SkyCoord (ICRS): (ra, dec) in deg\n",
      "    ( 187.42276667,  7.98434722)>\n",
      "No catalog item found for this within 1 arcsecond, saving coordinates [u'12h29m41.464s'] [u'7d59m03.65s']\n"
     ]
    },
    {
     "name": "stderr",
     "output_type": "stream",
     "text": [
      "WARNING: MergeConflictWarning: Cannot merge meta key u'description' types <type 'unicode'> and <type 'unicode'>, choosing description=u'Simbad script executed on 2017.10.05CEST21:28:38' [astropy.utils.metadata]\n",
      "/home/kcdage/anaconda/lib/python2.7/site-packages/astroquery/simbad/core.py:136: UserWarning: Warning: The script line number 3 raised an error (recorded in the `errors` attribute of the result table): '12:29:47.495 +7:59:25.39': No astronomical object found :\n",
      "  (error.line, error.msg))\n"
     ]
    },
    {
     "name": "stdout",
     "output_type": "stream",
     "text": [
      "<SkyCoord (ICRS): (ra, dec) in deg\n",
      "    ( 187.44789583,  7.99038611)>\n",
      "No catalog item found for this within 1 arcsecond, saving coordinates [u'12h29m47.495s'] [u'7d59m25.39s']\n"
     ]
    },
    {
     "name": "stderr",
     "output_type": "stream",
     "text": [
      "WARNING: MergeConflictWarning: Cannot merge meta key u'description' types <type 'unicode'> and <type 'unicode'>, choosing description=u'Simbad script executed on 2017.10.05CEST21:28:39' [astropy.utils.metadata]\n",
      "/home/kcdage/anaconda/lib/python2.7/site-packages/astroquery/simbad/core.py:136: UserWarning: Warning: The script line number 3 raised an error (recorded in the `errors` attribute of the result table): '12:29:44.704 +7:59:59.98': No astronomical object found :\n",
      "  (error.line, error.msg))\n"
     ]
    },
    {
     "name": "stdout",
     "output_type": "stream",
     "text": [
      "<SkyCoord (ICRS): (ra, dec) in deg\n",
      "    ( 187.43626667,  7.99999444)>\n",
      "No catalog item found for this within 1 arcsecond, saving coordinates [u'12h29m44.704s'] [u'7d59m59.98s']\n"
     ]
    },
    {
     "name": "stderr",
     "output_type": "stream",
     "text": [
      "/home/kcdage/anaconda/lib/python2.7/site-packages/astroquery/simbad/core.py:136: UserWarning: Warning: The script line number 3 raised an error (recorded in the `errors` attribute of the result table): '12:29:49.339 +8:00:11.64': No astronomical object found :\n",
      "  (error.line, error.msg))\n"
     ]
    },
    {
     "name": "stdout",
     "output_type": "stream",
     "text": [
      "<SkyCoord (ICRS): (ra, dec) in deg\n",
      "    ( 187.45557917,  8.00323333)>\n",
      "No catalog item found for this within 1 arcsecond, saving coordinates [u'12h29m49.339s'] [u'8d00m11.64s']\n"
     ]
    },
    {
     "name": "stderr",
     "output_type": "stream",
     "text": [
      "WARNING: MergeConflictWarning: Cannot merge meta key u'description' types <type 'unicode'> and <type 'unicode'>, choosing description=u'Simbad script executed on 2017.10.05CEST21:28:40' [astropy.utils.metadata]\n",
      "/home/kcdage/anaconda/lib/python2.7/site-packages/astroquery/simbad/core.py:136: UserWarning: Warning: The script line number 3 raised an error (recorded in the `errors` attribute of the result table): '12:29:34.565 +8:00:31.32': No astronomical object found :\n",
      "  (error.line, error.msg))\n"
     ]
    },
    {
     "name": "stdout",
     "output_type": "stream",
     "text": [
      "<SkyCoord (ICRS): (ra, dec) in deg\n",
      "    ( 187.39402083,  8.0087)>\n",
      "No catalog item found for this within 1 arcsecond, saving coordinates [u'12h29m34.565s'] [u'8d00m31.32s']\n"
     ]
    },
    {
     "name": "stderr",
     "output_type": "stream",
     "text": [
      "/home/kcdage/anaconda/lib/python2.7/site-packages/astroquery/simbad/core.py:136: UserWarning: Warning: The script line number 3 raised an error (recorded in the `errors` attribute of the result table): '12:29:47.484 +8:04:44.13': No astronomical object found :\n",
      "  (error.line, error.msg))\n"
     ]
    },
    {
     "name": "stdout",
     "output_type": "stream",
     "text": [
      "<SkyCoord (ICRS): (ra, dec) in deg\n",
      "    ( 187.44785,  8.078925)>\n",
      "No catalog item found for this within 1 arcsecond, saving coordinates [u'12h29m47.484s'] [u'8d04m44.13s']\n"
     ]
    },
    {
     "name": "stderr",
     "output_type": "stream",
     "text": [
      "/home/kcdage/anaconda/lib/python2.7/site-packages/astroquery/simbad/core.py:136: UserWarning: Warning: The script line number 3 raised an error (recorded in the `errors` attribute of the result table): '12:29:19.688 +8:06:24.14': No astronomical object found :\n",
      "  (error.line, error.msg))\n",
      "/home/kcdage/anaconda/lib/python2.7/site-packages/astroquery/simbad/core.py:136: UserWarning: Warning: The script line number 3 raised an error (recorded in the `errors` attribute of the result table): '12:29:38.15 +7:49:32.66': No astronomical object found :\n",
      "  (error.line, error.msg))\n"
     ]
    },
    {
     "name": "stdout",
     "output_type": "stream",
     "text": [
      "<SkyCoord (ICRS): (ra, dec) in deg\n",
      "    ( 187.33203333,  8.10670556)>\n",
      "No catalog item found for this within 1 arcsecond, saving coordinates [u'12h29m19.688s'] [u'8d06m24.14s']\n",
      "<SkyCoord (ICRS): (ra, dec) in deg\n",
      "    ( 187.40895833,  7.82573889)>\n",
      "No catalog item found for this within 1 arcsecond, saving coordinates [u'12h29m38.15s'] [u'7d49m32.66s']\n",
      "<SkyCoord (ICRS): (ra, dec) in deg\n",
      "    ( 187.29510833,  7.85928611)>\n",
      "No catalog item found for this within 1 arcsecond, saving coordinates [u'12h29m10.826s'] [u'7d51m33.43s']\n"
     ]
    },
    {
     "name": "stderr",
     "output_type": "stream",
     "text": [
      "/home/kcdage/anaconda/lib/python2.7/site-packages/astroquery/simbad/core.py:136: UserWarning: Warning: The script line number 3 raised an error (recorded in the `errors` attribute of the result table): '12:29:10.826 +7:51:33.43': No astronomical object found :\n",
      "  (error.line, error.msg))\n",
      "WARNING: MergeConflictWarning: Cannot merge meta key u'description' types <type 'unicode'> and <type 'unicode'>, choosing description=u'Simbad script executed on 2017.10.05CEST21:28:42' [astropy.utils.metadata]\n",
      "/home/kcdage/anaconda/lib/python2.7/site-packages/astroquery/simbad/core.py:136: UserWarning: Warning: The script line number 3 raised an error (recorded in the `errors` attribute of the result table): '12:29:47.232 +7:52:18.76': No astronomical object found :\n",
      "  (error.line, error.msg))\n"
     ]
    },
    {
     "name": "stdout",
     "output_type": "stream",
     "text": [
      "<SkyCoord (ICRS): (ra, dec) in deg\n",
      "    ( 187.4468,  7.87187778)>\n",
      "No catalog item found for this within 1 arcsecond, saving coordinates [u'12h29m47.232s'] [u'7d52m18.76s']\n"
     ]
    },
    {
     "name": "stderr",
     "output_type": "stream",
     "text": [
      "/home/kcdage/anaconda/lib/python2.7/site-packages/astroquery/simbad/core.py:136: UserWarning: Warning: The script line number 3 raised an error (recorded in the `errors` attribute of the result table): '12:29:44.841 +7:52:38.3': No astronomical object found :\n",
      "  (error.line, error.msg))\n"
     ]
    },
    {
     "name": "stdout",
     "output_type": "stream",
     "text": [
      "<SkyCoord (ICRS): (ra, dec) in deg\n",
      "    ( 187.4368375,  7.87730556)>\n",
      "No catalog item found for this within 1 arcsecond, saving coordinates [u'12h29m44.841s'] [u'7d52m38.3s']\n"
     ]
    },
    {
     "name": "stderr",
     "output_type": "stream",
     "text": [
      "/home/kcdage/anaconda/lib/python2.7/site-packages/astroquery/simbad/core.py:136: UserWarning: Warning: The script line number 3 raised an error (recorded in the `errors` attribute of the result table): '12:29:33.904 +7:54:05.72': No astronomical object found :\n",
      "  (error.line, error.msg))\n"
     ]
    },
    {
     "name": "stdout",
     "output_type": "stream",
     "text": [
      "<SkyCoord (ICRS): (ra, dec) in deg\n",
      "    ( 187.39126667,  7.90158889)>\n",
      "No catalog item found for this within 1 arcsecond, saving coordinates [u'12h29m33.904s'] [u'7d54m05.72s']\n"
     ]
    },
    {
     "name": "stderr",
     "output_type": "stream",
     "text": [
      "/home/kcdage/anaconda/lib/python2.7/site-packages/astroquery/simbad/core.py:136: UserWarning: Warning: The script line number 3 raised an error (recorded in the `errors` attribute of the result table): '12:29:24.241 +7:54:12.1': No astronomical object found :\n",
      "  (error.line, error.msg))\n"
     ]
    },
    {
     "name": "stdout",
     "output_type": "stream",
     "text": [
      "<SkyCoord (ICRS): (ra, dec) in deg\n",
      "    ( 187.35100417,  7.90336111)>\n",
      "No catalog item found for this within 1 arcsecond, saving coordinates [u'12h29m24.241s'] [u'7d54m12.1s']\n"
     ]
    },
    {
     "name": "stderr",
     "output_type": "stream",
     "text": [
      "/home/kcdage/anaconda/lib/python2.7/site-packages/astroquery/simbad/core.py:136: UserWarning: Warning: The script line number 3 raised an error (recorded in the `errors` attribute of the result table): '12:28:48.488 +7:56:01.75': No astronomical object found :\n",
      "  (error.line, error.msg))\n"
     ]
    },
    {
     "name": "stdout",
     "output_type": "stream",
     "text": [
      "<SkyCoord (ICRS): (ra, dec) in deg\n",
      "    ( 187.20203333,  7.93381944)>\n",
      "No catalog item found for this within 1 arcsecond, saving coordinates [u'12h28m48.488s'] [u'7d56m01.75s']\n"
     ]
    },
    {
     "name": "stderr",
     "output_type": "stream",
     "text": [
      "WARNING: MergeConflictWarning: Cannot merge meta key u'description' types <type 'unicode'> and <type 'unicode'>, choosing description=u'Simbad script executed on 2017.10.05CEST21:28:44' [astropy.utils.metadata]\n",
      "/home/kcdage/anaconda/lib/python2.7/site-packages/astroquery/simbad/core.py:136: UserWarning: Warning: The script line number 3 raised an error (recorded in the `errors` attribute of the result table): '12:29:25.889 +7:57:13.12': No astronomical object found :\n",
      "  (error.line, error.msg))\n"
     ]
    },
    {
     "name": "stdout",
     "output_type": "stream",
     "text": [
      "<SkyCoord (ICRS): (ra, dec) in deg\n",
      "    ( 187.35787083,  7.95364444)>\n",
      "No catalog item found for this within 1 arcsecond, saving coordinates [u'12h29m25.889s'] [u'7d57m13.12s']\n"
     ]
    },
    {
     "name": "stderr",
     "output_type": "stream",
     "text": [
      "/home/kcdage/anaconda/lib/python2.7/site-packages/astroquery/simbad/core.py:136: UserWarning: Warning: The script line number 3 raised an error (recorded in the `errors` attribute of the result table): '12:29:57.649 +7:57:30.17': No astronomical object found :\n",
      "  (error.line, error.msg))\n"
     ]
    },
    {
     "name": "stdout",
     "output_type": "stream",
     "text": [
      "<SkyCoord (ICRS): (ra, dec) in deg\n",
      "    ( 187.49020417,  7.95838056)>\n",
      "No catalog item found for this within 1 arcsecond, saving coordinates [u'12h29m57.649s'] [u'7d57m30.17s']\n"
     ]
    },
    {
     "name": "stderr",
     "output_type": "stream",
     "text": [
      "/home/kcdage/anaconda/lib/python2.7/site-packages/astroquery/simbad/core.py:136: UserWarning: Warning: The script line number 3 raised an error (recorded in the `errors` attribute of the result table): '12:29:27.756 +7:57:44.75': No astronomical object found :\n",
      "  (error.line, error.msg))\n"
     ]
    },
    {
     "name": "stdout",
     "output_type": "stream",
     "text": [
      "<SkyCoord (ICRS): (ra, dec) in deg\n",
      "    ( 187.36565,  7.96243056)>\n",
      "No catalog item found for this within 1 arcsecond, saving coordinates [u'12h29m27.756s'] [u'7d57m44.75s']\n"
     ]
    },
    {
     "name": "stderr",
     "output_type": "stream",
     "text": [
      "WARNING: MergeConflictWarning: Cannot merge meta key u'description' types <type 'unicode'> and <type 'unicode'>, choosing description=u'Simbad script executed on 2017.10.05CEST21:28:45' [astropy.utils.metadata]\n",
      "/home/kcdage/anaconda/lib/python2.7/site-packages/astroquery/simbad/core.py:136: UserWarning: Warning: The script line number 3 raised an error (recorded in the `errors` attribute of the result table): '12:29:50.278 +7:58:22.63': No astronomical object found :\n",
      "  (error.line, error.msg))\n"
     ]
    },
    {
     "name": "stdout",
     "output_type": "stream",
     "text": [
      "<SkyCoord (ICRS): (ra, dec) in deg\n",
      "    ( 187.45949167,  7.97295278)>\n",
      "No catalog item found for this within 1 arcsecond, saving coordinates [u'12h29m50.278s'] [u'7d58m22.63s']\n"
     ]
    },
    {
     "name": "stderr",
     "output_type": "stream",
     "text": [
      "WARNING: MergeConflictWarning: Cannot merge meta key u'description' types <type 'unicode'> and <type 'unicode'>, choosing description=u'Simbad script executed on 2017.10.05CEST21:28:46' [astropy.utils.metadata]\n",
      "/home/kcdage/anaconda/lib/python2.7/site-packages/astroquery/simbad/core.py:136: UserWarning: Warning: The script line number 3 raised an error (recorded in the `errors` attribute of the result table): '12:29:31.737 +7:58:31.1': No astronomical object found :\n",
      "  (error.line, error.msg))\n"
     ]
    },
    {
     "name": "stdout",
     "output_type": "stream",
     "text": [
      "<SkyCoord (ICRS): (ra, dec) in deg\n",
      "    ( 187.3822375,  7.97530556)>\n",
      "No catalog item found for this within 1 arcsecond, saving coordinates [u'12h29m31.737s'] [u'7d58m31.1s']\n"
     ]
    },
    {
     "name": "stderr",
     "output_type": "stream",
     "text": [
      "WARNING: MergeConflictWarning: Cannot merge meta key u'description' types <type 'unicode'> and <type 'unicode'>, choosing description=u'Simbad script executed on 2017.10.05CEST21:28:47' [astropy.utils.metadata]\n",
      "/home/kcdage/anaconda/lib/python2.7/site-packages/astroquery/simbad/core.py:136: UserWarning: Warning: The script line number 3 raised an error (recorded in the `errors` attribute of the result table): '12:29:30.141 +7:59:34.94': No astronomical object found :\n",
      "  (error.line, error.msg))\n"
     ]
    },
    {
     "name": "stdout",
     "output_type": "stream",
     "text": [
      "<SkyCoord (ICRS): (ra, dec) in deg\n",
      "    ( 187.3755875,  7.99303889)>\n",
      "No catalog item found for this within 1 arcsecond, saving coordinates [u'12h29m30.141s'] [u'7d59m34.94s']\n"
     ]
    },
    {
     "name": "stderr",
     "output_type": "stream",
     "text": [
      "WARNING: MergeConflictWarning: Cannot merge meta key u'description' types <type 'unicode'> and <type 'unicode'>, choosing description=u'Simbad script executed on 2017.10.05CEST21:28:48' [astropy.utils.metadata]\n",
      "/home/kcdage/anaconda/lib/python2.7/site-packages/astroquery/simbad/core.py:136: UserWarning: Warning: The script line number 3 raised an error (recorded in the `errors` attribute of the result table): '12:29:44.063 +7:59:50.26': No astronomical object found :\n",
      "  (error.line, error.msg))\n"
     ]
    },
    {
     "name": "stdout",
     "output_type": "stream",
     "text": [
      "<SkyCoord (ICRS): (ra, dec) in deg\n",
      "    ( 187.43359583,  7.99729444)>\n",
      "No catalog item found for this within 1 arcsecond, saving coordinates [u'12h29m44.063s'] [u'7d59m50.26s']\n"
     ]
    },
    {
     "name": "stderr",
     "output_type": "stream",
     "text": [
      "/home/kcdage/anaconda/lib/python2.7/site-packages/astroquery/simbad/core.py:136: UserWarning: Warning: The script line number 3 raised an error (recorded in the `errors` attribute of the result table): '12:29:35.095 +8:00:01.73': No astronomical object found :\n",
      "  (error.line, error.msg))\n"
     ]
    },
    {
     "name": "stdout",
     "output_type": "stream",
     "text": [
      "<SkyCoord (ICRS): (ra, dec) in deg\n",
      "    ( 187.39622917,  8.00048056)>\n",
      "No catalog item found for this within 1 arcsecond, saving coordinates [u'12h29m35.095s'] [u'8d00m01.73s']\n"
     ]
    },
    {
     "name": "stderr",
     "output_type": "stream",
     "text": [
      "/home/kcdage/anaconda/lib/python2.7/site-packages/astroquery/simbad/core.py:136: UserWarning: Warning: The script line number 3 raised an error (recorded in the `errors` attribute of the result table): '12:29:46.758 +8:00:03.2': No astronomical object found :\n",
      "  (error.line, error.msg))\n"
     ]
    },
    {
     "name": "stdout",
     "output_type": "stream",
     "text": [
      "<SkyCoord (ICRS): (ra, dec) in deg\n",
      "    ( 187.444825,  8.00088889)>\n",
      "No catalog item found for this within 1 arcsecond, saving coordinates [u'12h29m46.758s'] [u'8d00m03.2s']\n"
     ]
    },
    {
     "name": "stderr",
     "output_type": "stream",
     "text": [
      "WARNING: MergeConflictWarning: Cannot merge meta key u'description' types <type 'unicode'> and <type 'unicode'>, choosing description=u'Simbad script executed on 2017.10.05CEST21:28:49' [astropy.utils.metadata]\n",
      "/home/kcdage/anaconda/lib/python2.7/site-packages/astroquery/simbad/core.py:136: UserWarning: Warning: The script line number 3 raised an error (recorded in the `errors` attribute of the result table): '12:29:38.374 +8:00:30.76': No astronomical object found :\n",
      "  (error.line, error.msg))\n"
     ]
    },
    {
     "name": "stdout",
     "output_type": "stream",
     "text": [
      "<SkyCoord (ICRS): (ra, dec) in deg\n",
      "    ( 187.40989167,  8.00854444)>\n",
      "No catalog item found for this within 1 arcsecond, saving coordinates [u'12h29m38.374s'] [u'8d00m30.76s']\n"
     ]
    },
    {
     "name": "stderr",
     "output_type": "stream",
     "text": [
      "/home/kcdage/anaconda/lib/python2.7/site-packages/astroquery/simbad/core.py:136: UserWarning: Warning: The script line number 3 raised an error (recorded in the `errors` attribute of the result table): '12:29:11.038 +8:03:22.8': No astronomical object found :\n",
      "  (error.line, error.msg))\n"
     ]
    },
    {
     "name": "stdout",
     "output_type": "stream",
     "text": [
      "<SkyCoord (ICRS): (ra, dec) in deg\n",
      "    ( 187.29599167,  8.05633333)>\n",
      "No catalog item found for this within 1 arcsecond, saving coordinates [u'12h29m11.038s'] [u'8d03m22.8s']\n"
     ]
    },
    {
     "name": "stderr",
     "output_type": "stream",
     "text": [
      "/home/kcdage/anaconda/lib/python2.7/site-packages/astroquery/simbad/core.py:136: UserWarning: Warning: The script line number 3 raised an error (recorded in the `errors` attribute of the result table): '12:29:52.489 +8:09:00.46': No astronomical object found :\n",
      "  (error.line, error.msg))\n"
     ]
    },
    {
     "name": "stdout",
     "output_type": "stream",
     "text": [
      "<SkyCoord (ICRS): (ra, dec) in deg\n",
      "    ( 187.46870417,  8.15012778)>\n",
      "No catalog item found for this within 1 arcsecond, saving coordinates [u'12h29m52.489s'] [u'8d09m00.46s']\n"
     ]
    },
    {
     "name": "stderr",
     "output_type": "stream",
     "text": [
      "/home/kcdage/anaconda/lib/python2.7/site-packages/astroquery/simbad/core.py:136: UserWarning: Warning: The script line number 3 raised an error (recorded in the `errors` attribute of the result table): '12:29:30.269 +7:48:14.64': No astronomical object found :\n",
      "  (error.line, error.msg))\n"
     ]
    },
    {
     "name": "stdout",
     "output_type": "stream",
     "text": [
      "<SkyCoord (ICRS): (ra, dec) in deg\n",
      "    ( 187.37612083,  7.80406667)>\n",
      "No catalog item found for this within 1 arcsecond, saving coordinates [u'12h29m30.269s'] [u'7d48m14.64s']\n"
     ]
    },
    {
     "name": "stderr",
     "output_type": "stream",
     "text": [
      "WARNING: MergeConflictWarning: Cannot merge meta key u'description' types <type 'unicode'> and <type 'unicode'>, choosing description=u'Simbad script executed on 2017.10.05CEST21:28:51' [astropy.utils.metadata]\n",
      "/home/kcdage/anaconda/lib/python2.7/site-packages/astroquery/simbad/core.py:136: UserWarning: Warning: The script line number 3 raised an error (recorded in the `errors` attribute of the result table): '12:28:59.125 +7:56:54.08': No astronomical object found :\n",
      "  (error.line, error.msg))\n"
     ]
    },
    {
     "name": "stdout",
     "output_type": "stream",
     "text": [
      "<SkyCoord (ICRS): (ra, dec) in deg\n",
      "    ( 187.24635417,  7.94835556)>\n",
      "No catalog item found for this within 1 arcsecond, saving coordinates [u'12h28m59.125s'] [u'7d56m54.08s']\n"
     ]
    },
    {
     "name": "stderr",
     "output_type": "stream",
     "text": [
      "/home/kcdage/anaconda/lib/python2.7/site-packages/astroquery/simbad/core.py:136: UserWarning: Warning: The script line number 3 raised an error (recorded in the `errors` attribute of the result table): '12:29:09.694 +7:56:55.68': No astronomical object found :\n",
      "  (error.line, error.msg))\n"
     ]
    },
    {
     "name": "stdout",
     "output_type": "stream",
     "text": [
      "<SkyCoord (ICRS): (ra, dec) in deg\n",
      "    ( 187.29039167,  7.9488)>\n",
      "No catalog item found for this within 1 arcsecond, saving coordinates [u'12h29m09.694s'] [u'7d56m55.68s']\n"
     ]
    },
    {
     "name": "stderr",
     "output_type": "stream",
     "text": [
      "/home/kcdage/anaconda/lib/python2.7/site-packages/astroquery/simbad/core.py:136: UserWarning: Warning: The script line number 3 raised an error (recorded in the `errors` attribute of the result table): '12:29:53.158 +7:57:23.69': No astronomical object found :\n",
      "  (error.line, error.msg))\n"
     ]
    },
    {
     "name": "stdout",
     "output_type": "stream",
     "text": [
      "<SkyCoord (ICRS): (ra, dec) in deg\n",
      "    ( 187.47149167,  7.95658056)>\n",
      "No catalog item found for this within 1 arcsecond, saving coordinates [u'12h29m53.158s'] [u'7d57m23.69s']\n"
     ]
    },
    {
     "name": "stderr",
     "output_type": "stream",
     "text": [
      "WARNING: MergeConflictWarning: Cannot merge meta key u'description' types <type 'unicode'> and <type 'unicode'>, choosing description=u'Simbad script executed on 2017.10.05CEST21:28:52' [astropy.utils.metadata]\n",
      "/home/kcdage/anaconda/lib/python2.7/site-packages/astroquery/simbad/core.py:136: UserWarning: Warning: The script line number 3 raised an error (recorded in the `errors` attribute of the result table): '12:29:41.631 +8:01:00.28': No astronomical object found :\n",
      "  (error.line, error.msg))\n"
     ]
    },
    {
     "name": "stdout",
     "output_type": "stream",
     "text": [
      "<SkyCoord (ICRS): (ra, dec) in deg\n",
      "    ( 187.4234625,  8.01674444)>\n",
      "No catalog item found for this within 1 arcsecond, saving coordinates [u'12h29m41.631s'] [u'8d01m00.28s']\n"
     ]
    },
    {
     "name": "stderr",
     "output_type": "stream",
     "text": [
      "/home/kcdage/anaconda/lib/python2.7/site-packages/astroquery/simbad/core.py:136: UserWarning: Warning: The script line number 3 raised an error (recorded in the `errors` attribute of the result table): '12:29:11.941 +8:01:16.94': No astronomical object found :\n",
      "  (error.line, error.msg))\n"
     ]
    },
    {
     "name": "stdout",
     "output_type": "stream",
     "text": [
      "<SkyCoord (ICRS): (ra, dec) in deg\n",
      "    ( 187.29975417,  8.02137222)>\n",
      "No catalog item found for this within 1 arcsecond, saving coordinates [u'12h29m11.941s'] [u'8d01m16.94s']\n"
     ]
    },
    {
     "name": "stderr",
     "output_type": "stream",
     "text": [
      "WARNING: MergeConflictWarning: Cannot merge meta key u'description' types <type 'unicode'> and <type 'unicode'>, choosing description=u'Simbad script executed on 2017.10.05CEST21:28:53' [astropy.utils.metadata]\n",
      "/home/kcdage/anaconda/lib/python2.7/site-packages/astroquery/simbad/core.py:136: UserWarning: Warning: The script line number 3 raised an error (recorded in the `errors` attribute of the result table): '12:30:06.318 +8:02:02.02': No astronomical object found :\n",
      "  (error.line, error.msg))\n"
     ]
    },
    {
     "name": "stdout",
     "output_type": "stream",
     "text": [
      "<SkyCoord (ICRS): (ra, dec) in deg\n",
      "    ( 187.526325,  8.03389444)>\n",
      "No catalog item found for this within 1 arcsecond, saving coordinates [u'12h30m06.318s'] [u'8d02m02.02s']\n"
     ]
    },
    {
     "name": "stderr",
     "output_type": "stream",
     "text": [
      "/home/kcdage/anaconda/lib/python2.7/site-packages/astroquery/simbad/core.py:136: UserWarning: Warning: The script line number 3 raised an error (recorded in the `errors` attribute of the result table): '12:29:51.102 +8:02:24.77': No astronomical object found :\n",
      "  (error.line, error.msg))\n"
     ]
    },
    {
     "name": "stdout",
     "output_type": "stream",
     "text": [
      "<SkyCoord (ICRS): (ra, dec) in deg\n",
      "    ( 187.462925,  8.04021389)>\n",
      "No catalog item found for this within 1 arcsecond, saving coordinates [u'12h29m51.102s'] [u'8d02m24.77s']\n"
     ]
    },
    {
     "name": "stderr",
     "output_type": "stream",
     "text": [
      "WARNING: MergeConflictWarning: Cannot merge meta key u'description' types <type 'unicode'> and <type 'unicode'>, choosing description=u'Simbad script executed on 2017.10.05CEST21:28:54' [astropy.utils.metadata]\n",
      "/home/kcdage/anaconda/lib/python2.7/site-packages/astroquery/simbad/core.py:136: UserWarning: Warning: The script line number 3 raised an error (recorded in the `errors` attribute of the result table): '12:28:56.447 +7:56:59.05': No astronomical object found :\n",
      "  (error.line, error.msg))\n"
     ]
    },
    {
     "name": "stdout",
     "output_type": "stream",
     "text": [
      "<SkyCoord (ICRS): (ra, dec) in deg\n",
      "    ( 187.23519583,  7.94973611)>\n",
      "No catalog item found for this within 1 arcsecond, saving coordinates [u'12h28m56.447s'] [u'7d56m59.05s']\n"
     ]
    },
    {
     "name": "stderr",
     "output_type": "stream",
     "text": [
      "/home/kcdage/anaconda/lib/python2.7/site-packages/astroquery/simbad/core.py:136: UserWarning: Warning: The script line number 3 raised an error (recorded in the `errors` attribute of the result table): '12:29:07.644 +8:00:24.65': No astronomical object found :\n",
      "  (error.line, error.msg))\n"
     ]
    },
    {
     "name": "stdout",
     "output_type": "stream",
     "text": [
      "<SkyCoord (ICRS): (ra, dec) in deg\n",
      "    ( 187.28185,  8.00684722)>\n",
      "No catalog item found for this within 1 arcsecond, saving coordinates [u'12h29m07.644s'] [u'8d00m24.65s']\n"
     ]
    },
    {
     "name": "stderr",
     "output_type": "stream",
     "text": [
      "/home/kcdage/anaconda/lib/python2.7/site-packages/astroquery/simbad/core.py:136: UserWarning: Warning: The script line number 3 raised an error (recorded in the `errors` attribute of the result table): '12:30:02.107 +8:00:51.14': No astronomical object found :\n",
      "  (error.line, error.msg))\n"
     ]
    },
    {
     "name": "stdout",
     "output_type": "stream",
     "text": [
      "<SkyCoord (ICRS): (ra, dec) in deg\n",
      "    ( 187.50877917,  8.01420556)>\n",
      "No catalog item found for this within 1 arcsecond, saving coordinates [u'12h30m02.107s'] [u'8d00m51.14s']\n",
      "<SkyCoord (ICRS): (ra, dec) in deg\n",
      "    ( 187.24261667,  8.01957778)>\n",
      "No catalog item found for this within 1 arcsecond, saving coordinates [u'12h28m58.228s'] [u'8d01m10.48s']\n"
     ]
    },
    {
     "name": "stderr",
     "output_type": "stream",
     "text": [
      "/home/kcdage/anaconda/lib/python2.7/site-packages/astroquery/simbad/core.py:136: UserWarning: Warning: The script line number 3 raised an error (recorded in the `errors` attribute of the result table): '12:28:58.228 +8:01:10.48': No astronomical object found :\n",
      "  (error.line, error.msg))\n"
     ]
    }
   ],
   "source": [
    "null_ra_16262=[]\n",
    "null_dec_16262=[]\n",
    "stacked_table_16262=[]\n",
    "for i in range(len(xcor16262)):\n",
    "        item16262=customSimbad.query_region(SkyCoord(xcor16262[i],ycor16262[i], unit=(u.deg, u.deg), frame='fk5'), radius=dist)\n",
    "        if item16262 is None:\n",
    "            co16262 = SkyCoord(xcor16262[i],ycor16262[i], unit=(u.deg, u.deg))\n",
    "            print co16262\n",
    "            ra_not_found16262, dec_not_found16262 = co16262.ra.to_string(u.hour), co16262.dec.to_string(u.deg)\n",
    "            print \"No catalog item found for this within 1 arcsecond, saving coordinates\", ra_not_found16262, dec_not_found16262\n",
    "\n",
    "            if np.size(null_ra_16262)<1:\n",
    "                null_ra_16262=ra_not_found16262\n",
    "                null_dec_16262=dec_not_found16262\n",
    "            else:\n",
    "                null_ra_16262=np.vstack((null_ra_16262, ra_not_found16262))\n",
    "                null_dec_16262=np.vstack((null_dec_16262, dec_not_found16262))\n",
    "        else:\n",
    "            if len(stacked_table_16262)<1:\n",
    "                stacked_table_16262=item16262\n",
    "            else:\n",
    "                stacked_table_16262=Table.vstack([stacked_table_16262, item16262], join_type ='exact') \n",
    "                \n",
    "        \n"
   ]
  },
  {
   "cell_type": "code",
   "execution_count": 115,
   "metadata": {
    "collapsed": true
   },
   "outputs": [],
   "source": [
    "\n",
    "\n",
    "stacked_table_16262.remove_column('DEC_PREC')\n",
    "stacked_table_16262.remove_column('RA_PREC')\n",
    "stacked_table_16262.remove_column('COO_ERR_MAJA')\n",
    "stacked_table_16262.remove_column('COO_ERR_MINA')\n",
    "stacked_table_16262.remove_column('COO_ERR_ANGLE')\n",
    "stacked_table_16262.remove_column('COO_QUAL')\n",
    "\n",
    "null_coords16262= np.asarray(np.hstack((null_ra_16262, null_dec_16262)))\n",
    "\n",
    "ascii.write(null_coords16262, \"16262_no_cat_val.dat\")\n",
    "ascii.write(stacked_table_16262, 'out_16262.txt', format='csv')"
   ]
  },
  {
   "cell_type": "code",
   "execution_count": null,
   "metadata": {
    "collapsed": true
   },
   "outputs": [],
   "source": []
  }
 ],
 "metadata": {
  "kernelspec": {
   "display_name": "Python 2",
   "language": "python",
   "name": "python2"
  },
  "language_info": {
   "codemirror_mode": {
    "name": "ipython",
    "version": 2
   },
   "file_extension": ".py",
   "mimetype": "text/x-python",
   "name": "python",
   "nbconvert_exporter": "python",
   "pygments_lexer": "ipython2",
   "version": "2.7.13"
  }
 },
 "nbformat": 4,
 "nbformat_minor": 0
}
